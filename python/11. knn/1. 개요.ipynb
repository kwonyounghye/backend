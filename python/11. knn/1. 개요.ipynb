{
 "cells": [
  {
   "cell_type": "code",
   "execution_count": 6,
   "metadata": {},
   "outputs": [
    {
     "name": "stdout",
     "output_type": "stream",
     "text": [
      "[0]\n",
      "[[0.66666667 0.33333333]]\n",
      "[0]\n",
      "[1]\n"
     ]
    }
   ],
   "source": [
    "#지도학습: 답 알려주고 학습 시킴\n",
    "X = [[0], [1], [2], [3]]\n",
    "y = [0, 0, 1, 1]\n",
    "from sklearn.neighbors import KNeighborsClassifier\n",
    "knn = KNeighborsClassifier(n_neighbors=3) # 가장 가까운 이웃의 수 3\n",
    "knn.fit(X, y)\n",
    "# 1.1의 분류는?\n",
    "print(knn.predict([[1.1]])) # 0으로 분류됨\n",
    "# 0.9는 0일 확률 66%, 1일 확률 33% => 0으로 분류됨\n",
    "print(knn.predict_proba([[0.9]])) # 0일 확률, 1일 확률\n",
    "print(knn.predict([[0.9]]))\n",
    "print(knn.predict([[1.9]]))"
   ]
  },
  {
   "cell_type": "code",
   "execution_count": 3,
   "metadata": {},
   "outputs": [
    {
     "name": "stdout",
     "output_type": "stream",
     "text": [
      "(array([[0.8]]), array([[2]], dtype=int64))\n"
     ]
    }
   ],
   "source": [
    "#비지도학습\n",
    "samples = [[0., 0., 0.], [0., .5, 0.], [1., 1., .2]]\n",
    "from sklearn.neighbors import NearestNeighbors\n",
    "nn = NearestNeighbors(n_neighbors=1)\n",
    "nn.fit(samples)\n",
    "# 새로운 데이터 1,1,1에 가장 가까운 데이터는? [1, 1, 0.2]\n",
    "print(nn.kneighbors([[1, 1, 1]]))\n",
    "# 세번째가 가장 가깝고 거리는 0.8"
   ]
  },
  {
   "cell_type": "code",
   "execution_count": 4,
   "metadata": {},
   "outputs": [
    {
     "name": "stdout",
     "output_type": "stream",
     "text": [
      "[32.5]\n",
      "[21.  21.  32.5 32.5]\n"
     ]
    }
   ],
   "source": [
    "# 최근접 이웃 회귀모형\n",
    "from sklearn.neighbors import KNeighborsRegressor\n",
    "X = [[40], [45], [60], [70]] # 평방미터\n",
    "y = [20, 22, 30, 35] # 월세\n",
    "neigh = KNeighborsRegressor(n_neighbors=2) # 회귀모형\n",
    "neigh.fit(X, y)\n",
    "# 65 평방미터일 때의 월세는?\n",
    "print(neigh.predict([[65]]))\n",
    "print(neigh.predict(X))"
   ]
  },
  {
   "cell_type": "code",
   "execution_count": null,
   "metadata": {},
   "outputs": [],
   "source": []
  }
 ],
 "metadata": {
  "interpreter": {
   "hash": "ff4f85d6e04298634172ac5d8264e7e9b556b95639fe52ebb9425c4d4cba0c9c"
  },
  "kernelspec": {
   "display_name": "Python 3.9.7 ('base')",
   "language": "python",
   "name": "python3"
  },
  "language_info": {
   "codemirror_mode": {
    "name": "ipython",
    "version": 3
   },
   "file_extension": ".py",
   "mimetype": "text/x-python",
   "name": "python",
   "nbconvert_exporter": "python",
   "pygments_lexer": "ipython3",
   "version": "3.9.7"
  },
  "orig_nbformat": 4
 },
 "nbformat": 4,
 "nbformat_minor": 2
}
