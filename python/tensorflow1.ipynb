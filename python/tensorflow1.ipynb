{
 "cells": [
  {
   "cell_type": "code",
   "execution_count": 9,
   "metadata": {},
   "outputs": [
    {
     "name": "stdout",
     "output_type": "stream",
     "text": [
      "3.9.7 (default, Sep 16 2021, 16:59:28) [MSC v.1916 64 bit (AMD64)]\n",
      "2.9.1\n"
     ]
    }
   ],
   "source": [
    "import tensorflow as tf\n",
    "import sys\n",
    "print(sys.version) # 파이썬 버전\n",
    "print(tf.__version__) # 텐서플로우 버전\n",
    "\n"
   ]
  },
  {
   "cell_type": "code",
   "execution_count": 2,
   "metadata": {},
   "outputs": [
    {
     "name": "stdout",
     "output_type": "stream",
     "text": [
      "WARNING:tensorflow:From c:\\anaconda3\\lib\\site-packages\\tensorflow\\python\\compat\\v2_compat.py:107: disable_resource_variables (from tensorflow.python.ops.variable_scope) is deprecated and will be removed in a future version.\n",
      "Instructions for updating:\n",
      "non-resource variables are not supported in the long term\n",
      "Tensor(\"Const:0\", shape=(), dtype=string, device=/device:CPU:0)\n",
      "Tensor(\"add:0\", shape=(), dtype=int32, device=/device:CPU:0)\n"
     ]
    }
   ],
   "source": [
    "import tensorflow.compat.v1 as tf\n",
    "tf.disable_v2_behavior()\n",
    "with tf.device('/cpu:0'):\n",
    "    # 상수 선언\n",
    "    hello = tf.constant('Hello World')\n",
    "    # ( , 이 순간에 출력되지 않음 텐서플로우 자료형 정보만 출력됨\n",
    "    # ) 그래프 형태만 출력됨\n",
    "    # Session run() method 객체를 만들고 를 호출해야 처리됨\n",
    "    # 모델 구성 단계와 실행 단계가 구분됨\n",
    "    print(hello)\n",
    "    a = tf.constant(10)\n",
    "    b = tf.constant(32)\n",
    "    #c = tf.add(a, b)\n",
    "    c = a+b\n",
    "    print(c)"
   ]
  }
 ],
 "metadata": {
  "kernelspec": {
   "display_name": "Python 3.9.7 ('base')",
   "language": "python",
   "name": "python3"
  },
  "language_info": {
   "codemirror_mode": {
    "name": "ipython",
    "version": 3
   },
   "file_extension": ".py",
   "mimetype": "text/x-python",
   "name": "python",
   "nbconvert_exporter": "python",
   "pygments_lexer": "ipython3",
   "version": "3.9.7"
  },
  "orig_nbformat": 4,
  "vscode": {
   "interpreter": {
    "hash": "ff4f85d6e04298634172ac5d8264e7e9b556b95639fe52ebb9425c4d4cba0c9c"
   }
  }
 },
 "nbformat": 4,
 "nbformat_minor": 2
}
