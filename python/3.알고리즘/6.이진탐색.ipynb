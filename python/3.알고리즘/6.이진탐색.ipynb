{
 "cells": [
  {
   "cell_type": "code",
   "execution_count": 1,
   "metadata": {},
   "outputs": [],
   "source": [
    "def binary_search(a,x):\n",
    "    start=0\n",
    "    end=len(a)-1\n",
    "    cnt=0\n",
    "    while start<=end:\n",
    "        mid=(start+end)\n",
    "        if x==a[mid]:\n",
    "            return mid, a[mid], cnt\n",
    "        elif x>a[mid]:\n",
    "            start=mid+1\n",
    "        else:\n",
    "            end=mid-1\n",
    "        cnt+=1\n",
    "    return -1"
   ]
  },
  {
   "cell_type": "code",
   "execution_count": 4,
   "metadata": {},
   "outputs": [
    {
     "name": "stdout",
     "output_type": "stream",
     "text": [
      "(5, 36, 10)\n",
      "-1\n"
     ]
    }
   ],
   "source": [
    "d = [1, 4, 9, 16, 25, 36, 49, 64, 81,95,96,97,98,99,100,101]\n",
    "d.sort()\n",
    "print(binary_search(d,36))\n",
    "print(binary_search(d,50))"
   ]
  },
  {
   "cell_type": "code",
   "execution_count": null,
   "metadata": {},
   "outputs": [],
   "source": []
  }
 ],
 "metadata": {
  "interpreter": {
   "hash": "ff4f85d6e04298634172ac5d8264e7e9b556b95639fe52ebb9425c4d4cba0c9c"
  },
  "kernelspec": {
   "display_name": "Python 3.9.7 ('base')",
   "language": "python",
   "name": "python3"
  },
  "language_info": {
   "codemirror_mode": {
    "name": "ipython",
    "version": 3
   },
   "file_extension": ".py",
   "mimetype": "text/x-python",
   "name": "python",
   "nbconvert_exporter": "python",
   "pygments_lexer": "ipython3",
   "version": "3.9.7"
  },
  "orig_nbformat": 4
 },
 "nbformat": 4,
 "nbformat_minor": 2
}
