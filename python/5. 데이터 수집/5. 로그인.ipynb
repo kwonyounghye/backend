{
 "cells": [
  {
   "cell_type": "code",
   "execution_count": 2,
   "metadata": {},
   "outputs": [
    {
     "name": "stdout",
     "output_type": "stream",
     "text": [
      "세션아이디: {'csrftoken': 'XGOGqlZVL5EFerH5olMZNRV7eHuJI54UuBgntfu5VBZFLizlaw6HU3QcIBJugigL'}\n",
      "민속촌\n",
      "민속촌\n"
     ]
    }
   ],
   "source": [
    "import requests\n",
    "from bs4 import BeautifulSoup\n",
    "params = {'username': 'kim', 'password': '1234'}\n",
    "session = requests.Session() # 세션객체 생성\n",
    "s = session.post(\"http://localhost/member/login\", params)\n",
    "print(\"세션아이디:\", s.cookies.get_dict())\n",
    "res = session.get(\"http://localhost/shop/cart_list\")\n",
    "bs = BeautifulSoup(res.text, \"html.parser\")\n",
    "carts = bs.select(\"table > tr > td > span\")\n",
    "for cart in carts:\n",
    "    a=cart.text\n",
    "    print(a)"
   ]
  },
  {
   "cell_type": "code",
   "execution_count": null,
   "metadata": {},
   "outputs": [],
   "source": []
  }
 ],
 "metadata": {
  "interpreter": {
   "hash": "ff4f85d6e04298634172ac5d8264e7e9b556b95639fe52ebb9425c4d4cba0c9c"
  },
  "kernelspec": {
   "display_name": "Python 3.9.7 ('base')",
   "language": "python",
   "name": "python3"
  },
  "language_info": {
   "codemirror_mode": {
    "name": "ipython",
    "version": 3
   },
   "file_extension": ".py",
   "mimetype": "text/x-python",
   "name": "python",
   "nbconvert_exporter": "python",
   "pygments_lexer": "ipython3",
   "version": "3.9.7"
  },
  "orig_nbformat": 4
 },
 "nbformat": 4,
 "nbformat_minor": 2
}
