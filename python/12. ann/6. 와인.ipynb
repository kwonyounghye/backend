{
 "cells": [
  {
   "cell_type": "code",
   "execution_count": 1,
   "metadata": {},
   "outputs": [
    {
     "data": {
      "text/html": [
       "<div>\n",
       "<style scoped>\n",
       "    .dataframe tbody tr th:only-of-type {\n",
       "        vertical-align: middle;\n",
       "    }\n",
       "\n",
       "    .dataframe tbody tr th {\n",
       "        vertical-align: top;\n",
       "    }\n",
       "\n",
       "    .dataframe thead th {\n",
       "        text-align: right;\n",
       "    }\n",
       "</style>\n",
       "<table border=\"1\" class=\"dataframe\">\n",
       "  <thead>\n",
       "    <tr style=\"text-align: right;\">\n",
       "      <th></th>\n",
       "      <th>fixed acidity</th>\n",
       "      <th>volatile acidity</th>\n",
       "      <th>citric acid</th>\n",
       "      <th>residual sugar</th>\n",
       "      <th>chlorides</th>\n",
       "      <th>free sulfur dioxide</th>\n",
       "      <th>total sulfur dioxide</th>\n",
       "      <th>density</th>\n",
       "      <th>pH</th>\n",
       "      <th>sulphates</th>\n",
       "      <th>alcohol</th>\n",
       "      <th>quality</th>\n",
       "      <th>class</th>\n",
       "    </tr>\n",
       "  </thead>\n",
       "  <tbody>\n",
       "    <tr>\n",
       "      <th>0</th>\n",
       "      <td>11.6</td>\n",
       "      <td>0.580</td>\n",
       "      <td>0.66</td>\n",
       "      <td>2.20</td>\n",
       "      <td>0.074</td>\n",
       "      <td>10.0</td>\n",
       "      <td>47.0</td>\n",
       "      <td>1.00080</td>\n",
       "      <td>3.25</td>\n",
       "      <td>0.57</td>\n",
       "      <td>9.0</td>\n",
       "      <td>3</td>\n",
       "      <td>0</td>\n",
       "    </tr>\n",
       "    <tr>\n",
       "      <th>1</th>\n",
       "      <td>10.4</td>\n",
       "      <td>0.610</td>\n",
       "      <td>0.49</td>\n",
       "      <td>2.10</td>\n",
       "      <td>0.200</td>\n",
       "      <td>5.0</td>\n",
       "      <td>16.0</td>\n",
       "      <td>0.99940</td>\n",
       "      <td>3.16</td>\n",
       "      <td>0.63</td>\n",
       "      <td>8.4</td>\n",
       "      <td>3</td>\n",
       "      <td>0</td>\n",
       "    </tr>\n",
       "    <tr>\n",
       "      <th>2</th>\n",
       "      <td>7.4</td>\n",
       "      <td>1.185</td>\n",
       "      <td>0.00</td>\n",
       "      <td>4.25</td>\n",
       "      <td>0.097</td>\n",
       "      <td>5.0</td>\n",
       "      <td>14.0</td>\n",
       "      <td>0.99660</td>\n",
       "      <td>3.63</td>\n",
       "      <td>0.54</td>\n",
       "      <td>10.7</td>\n",
       "      <td>3</td>\n",
       "      <td>0</td>\n",
       "    </tr>\n",
       "    <tr>\n",
       "      <th>3</th>\n",
       "      <td>10.4</td>\n",
       "      <td>0.440</td>\n",
       "      <td>0.42</td>\n",
       "      <td>1.50</td>\n",
       "      <td>0.145</td>\n",
       "      <td>34.0</td>\n",
       "      <td>48.0</td>\n",
       "      <td>0.99832</td>\n",
       "      <td>3.38</td>\n",
       "      <td>0.86</td>\n",
       "      <td>9.9</td>\n",
       "      <td>3</td>\n",
       "      <td>0</td>\n",
       "    </tr>\n",
       "    <tr>\n",
       "      <th>4</th>\n",
       "      <td>8.3</td>\n",
       "      <td>1.020</td>\n",
       "      <td>0.02</td>\n",
       "      <td>3.40</td>\n",
       "      <td>0.084</td>\n",
       "      <td>6.0</td>\n",
       "      <td>11.0</td>\n",
       "      <td>0.99892</td>\n",
       "      <td>3.48</td>\n",
       "      <td>0.49</td>\n",
       "      <td>11.0</td>\n",
       "      <td>3</td>\n",
       "      <td>0</td>\n",
       "    </tr>\n",
       "  </tbody>\n",
       "</table>\n",
       "</div>"
      ],
      "text/plain": [
       "   fixed acidity  volatile acidity  citric acid  residual sugar  chlorides  \\\n",
       "0           11.6             0.580         0.66            2.20      0.074   \n",
       "1           10.4             0.610         0.49            2.10      0.200   \n",
       "2            7.4             1.185         0.00            4.25      0.097   \n",
       "3           10.4             0.440         0.42            1.50      0.145   \n",
       "4            8.3             1.020         0.02            3.40      0.084   \n",
       "\n",
       "   free sulfur dioxide  total sulfur dioxide  density    pH  sulphates  \\\n",
       "0                 10.0                  47.0  1.00080  3.25       0.57   \n",
       "1                  5.0                  16.0  0.99940  3.16       0.63   \n",
       "2                  5.0                  14.0  0.99660  3.63       0.54   \n",
       "3                 34.0                  48.0  0.99832  3.38       0.86   \n",
       "4                  6.0                  11.0  0.99892  3.48       0.49   \n",
       "\n",
       "   alcohol  quality  class  \n",
       "0      9.0        3      0  \n",
       "1      8.4        3      0  \n",
       "2     10.7        3      0  \n",
       "3      9.9        3      0  \n",
       "4     11.0        3      0  "
      ]
     },
     "execution_count": 1,
     "metadata": {},
     "output_type": "execute_result"
    }
   ],
   "source": [
    "import pandas as pd\n",
    "# csv 파일을 로딩\n",
    "df = pd.read_csv(\"c:/data/wine/wine_new.csv\")\n",
    "df.head()\n"
   ]
  },
  {
   "cell_type": "code",
   "execution_count": 2,
   "metadata": {},
   "outputs": [
    {
     "data": {
      "text/plain": [
       "1    855\n",
       "0    744\n",
       "Name: class, dtype: int64"
      ]
     },
     "execution_count": 2,
     "metadata": {},
     "output_type": "execute_result"
    }
   ],
   "source": [
    "df[\"class\"].value_counts()"
   ]
  },
  {
   "cell_type": "code",
   "execution_count": 4,
   "metadata": {},
   "outputs": [
    {
     "name": "stdout",
     "output_type": "stream",
     "text": [
      "Index(['fixed acidity', 'volatile acidity', 'citric acid', 'residual sugar',\n",
      "       'chlorides', 'free sulfur dioxide', 'total sulfur dioxide', 'density',\n",
      "       'pH', 'sulphates', 'alcohol'],\n",
      "      dtype='object')\n"
     ]
    }
   ],
   "source": [
    "train_cols = df.columns[:11] #0~10 필드\n",
    "print(train_cols)\n",
    "X = df[train_cols] # 독립변수\n",
    "y = df[\"class\"]\n"
   ]
  },
  {
   "cell_type": "code",
   "execution_count": 5,
   "metadata": {},
   "outputs": [],
   "source": [
    "#언더샘플링\n",
    "from imblearn.under_sampling import RandomUnderSampler\n",
    "X_sample, y_sample = RandomUnderSampler(random_state=0).fit_resample(X, y)\n",
    "X_samp = pd.DataFrame(data=X_sample,columns=train_cols )\n",
    "y_samp = pd.DataFrame(data=y_sample,columns=['class'])\n",
    "df2=pd.concat([X_samp,y_samp],axis=1)\n"
   ]
  },
  {
   "cell_type": "code",
   "execution_count": 6,
   "metadata": {},
   "outputs": [
    {
     "data": {
      "text/plain": [
       "0    744\n",
       "1    744\n",
       "Name: class, dtype: int64"
      ]
     },
     "execution_count": 6,
     "metadata": {},
     "output_type": "execute_result"
    }
   ],
   "source": [
    "df2[\"class\"].value_counts()"
   ]
  },
  {
   "cell_type": "code",
   "execution_count": 7,
   "metadata": {},
   "outputs": [
    {
     "name": "stderr",
     "output_type": "stream",
     "text": [
      "c:\\anaconda3\\lib\\site-packages\\seaborn\\_decorators.py:36: FutureWarning: Pass the following variable as a keyword arg: x. From version 0.12, the only valid positional argument will be `data`, and passing other arguments without an explicit keyword will result in an error or misinterpretation.\n",
      "  warnings.warn(\n"
     ]
    },
    {
     "data": {
      "text/plain": [
       "Text(0.5, 1.0, ' \\n (0: bad, 1: good)')"
      ]
     },
     "execution_count": 7,
     "metadata": {},
     "output_type": "execute_result"
    },
    {
     "data": {
      "image/png": "[encoded data removed]",
      "text/plain": [
       "<Figure size 432x288 with 1 Axes>"
      ]
     },
     "metadata": {
      "needs_background": "light"
     },
     "output_type": "display_data"
    }
   ],
   "source": [
    "import matplotlib.pyplot as plt\n",
    "import seaborn as sns\n",
    "colors = [\"yellow\", \"red\"]\n",
    "sns.countplot('class', data=df2, palette=colors)\n",
    "plt.title(' \\n (0: bad, 1: good)', fontsize=14)"
   ]
  },
  {
   "cell_type": "code",
   "execution_count": 8,
   "metadata": {},
   "outputs": [],
   "source": [
    "train_cols = df.columns[:11] #0~10 필드\n",
    "X = X_samp[train_cols] # 독립변수\n",
    "y = y_samp[\"class\"]"
   ]
  },
  {
   "cell_type": "code",
   "execution_count": 9,
   "metadata": {},
   "outputs": [],
   "source": [
    "from sklearn.model_selection import train_test_split\n",
    "X_train, X_test, y_train, y_test = train_test_split(X, y,\n",
    "test_size=0.2, random_state=10)"
   ]
  },
  {
   "cell_type": "code",
   "execution_count": 10,
   "metadata": {},
   "outputs": [
    {
     "name": "stdout",
     "output_type": "stream",
     "text": [
      "0.7445378151260504\n",
      "0.7449664429530202\n"
     ]
    }
   ],
   "source": [
    "from sklearn.neural_network import MLPClassifier\n",
    "model = MLPClassifier(random_state=0)\n",
    "model.fit(X_train, y_train)\n",
    "print(model.score(X_train, y_train))\n",
    "print(model.score(X_test, y_test))"
   ]
  },
  {
   "cell_type": "code",
   "execution_count": 12,
   "metadata": {},
   "outputs": [
    {
     "data": {
      "text/plain": [
       "<AxesSubplot:>"
      ]
     },
     "execution_count": 12,
     "metadata": {},
     "output_type": "execute_result"
    },
    {
     "data": {
      "image/png": "[encoded data removed]",
      "text/plain": [
       "<Figure size 432x288 with 1 Axes>"
      ]
     },
     "metadata": {
      "needs_background": "light"
     },
     "output_type": "display_data"
    }
   ],
   "source": [
    "X_train.boxplot()"
   ]
  },
  {
   "cell_type": "code",
   "execution_count": 11,
   "metadata": {},
   "outputs": [
    {
     "name": "stdout",
     "output_type": "stream",
     "text": [
      "       fixed acidity  volatile acidity   citric acid  residual sugar  \\\n",
      "count   1.190000e+03      1.190000e+03  1.190000e+03    1.190000e+03   \n",
      "mean   -3.356279e-15      3.933362e-16 -4.277158e-16    3.167401e-16   \n",
      "std     1.000000e+00      1.000000e+00  1.000000e+00    1.000000e+00   \n",
      "min    -2.153707e+00     -2.293418e+00 -1.390244e+00   -1.132993e+00   \n",
      "25%    -6.907913e-01     -7.862384e-01 -9.243934e-01   -4.502770e-01   \n",
      "50%    -2.226582e-01     -6.055926e-02 -9.621486e-02   -2.454622e-01   \n",
      "75%     4.795413e-01      6.092984e-01  7.837248e-01    2.762418e-02   \n",
      "max     4.458672e+00      5.856517e+00  3.785872e+00    8.834659e+00   \n",
      "\n",
      "          chlorides  free sulfur dioxide  total sulfur dioxide       density  \\\n",
      "count  1.190000e+03         1.190000e+03          1.190000e+03  1.190000e+03   \n",
      "mean   8.116290e-15        -3.531256e-17          6.400109e-17  4.392937e-13   \n",
      "std    1.000000e+00         1.000000e+00          1.000000e+00  1.000000e+00   \n",
      "min   -1.621587e+00        -1.435017e+00         -1.250524e+00 -3.558844e+00   \n",
      "25%   -3.670513e-01        -7.725973e-01         -7.376586e-01 -6.096628e-01   \n",
      "50%   -1.756815e-01        -2.048093e-01         -2.851306e-01 -1.769321e-02   \n",
      "75%    5.821503e-02         5.522415e-01          4.992511e-01  5.636102e-01   \n",
      "max    1.109388e+01         5.283809e+00          7.287170e+00  3.704782e+00   \n",
      "\n",
      "                 pH     sulphates       alcohol  \n",
      "count  1.190000e+03  1.190000e+03  1.190000e+03  \n",
      "mean  -3.378773e-14 -1.322005e-15  2.272580e-14  \n",
      "std    1.000000e+00  1.000000e+00  1.000000e+00  \n",
      "min   -3.747601e+00 -1.982180e+00 -1.875867e+00  \n",
      "25%   -6.682333e-01 -6.274006e-01 -8.435544e-01  \n",
      "50%   -1.304864e-02 -1.963344e-01 -2.804750e-01  \n",
      "75%    5.766176e-01  4.194745e-01  5.641440e-01  \n",
      "max    4.573244e+00  8.301828e+00  4.224160e+00  \n",
      "       fixed acidity  volatile acidity  citric acid  residual sugar  \\\n",
      "count     298.000000        298.000000   298.000000      298.000000   \n",
      "mean        0.089169          0.010154    -0.001030       -0.079594   \n",
      "std         1.070819          1.033214     1.044075        0.823620   \n",
      "min        -1.919641         -1.958489    -1.390244       -0.859906   \n",
      "25%        -0.690791         -0.730417    -0.976155       -0.450277   \n",
      "50%        -0.193400         -0.060559    -0.096215       -0.245462   \n",
      "75%         0.713608          0.497655     0.822546       -0.040647   \n",
      "max         4.283122          4.460980     2.543604        8.766388   \n",
      "\n",
      "        chlorides  free sulfur dioxide  total sulfur dioxide     density  \\\n",
      "count  298.000000           298.000000            298.000000  298.000000   \n",
      "mean    -0.009856            -0.054447             -0.046010    0.029911   \n",
      "std      1.103351             0.991999              1.023371    1.002928   \n",
      "min     -0.941161            -1.245754             -1.220355   -3.169531   \n",
      "25%     -0.409578            -0.867229             -0.797996   -0.564332   \n",
      "50%     -0.196945            -0.299441             -0.315299    0.030304   \n",
      "75%      0.052899             0.457610              0.318240    0.616941   \n",
      "max     11.115140             3.675076              3.546273    3.704782   \n",
      "\n",
      "               pH   sulphates     alcohol  \n",
      "count  298.000000  298.000000  298.000000  \n",
      "mean    -0.051524    0.132441   -0.038301  \n",
      "std      1.050294    1.233859    0.960627  \n",
      "min     -2.764824   -1.427952   -1.312787  \n",
      "25%     -0.864789   -0.565820   -0.843554  \n",
      "50%     -0.013049   -0.134753   -0.280475  \n",
      "75%      0.576618    0.604217    0.564144  \n",
      "max      3.066319    8.178666    3.379541  \n"
     ]
    }
   ],
   "source": [
    "# 학습용 데이터셋의 변수들의 평균값 계산\n",
    "mean_on_train = X_train.mean(axis=0)\n",
    "# 학습용 데이터셋의 변수들의 표준편차값 계산\n",
    "std_on_train = X_train.std(axis=0)\n",
    "# 값에서 평균을 빼고 표준 편차로 나누면\n",
    "# 평균 0, 표준편차 1인 데이터로 변환됨\n",
    "X_train_scaled = (X_train - mean_on_train) / std_on_train\n",
    "# 검증용 데이터셋에도 같은 계산 적용\n",
    "X_test_scaled = (X_test - mean_on_train) / std_on_train\n",
    "print(X_train_scaled.describe())\n",
    "print(X_test_scaled.describe())"
   ]
  },
  {
   "cell_type": "code",
   "execution_count": 13,
   "metadata": {},
   "outputs": [
    {
     "data": {
      "text/plain": [
       "<AxesSubplot:>"
      ]
     },
     "execution_count": 13,
     "metadata": {},
     "output_type": "execute_result"
    },
    {
     "data": {
      "image/png": "[encoded data removed]",
      "text/plain": [
       "<Figure size 432x288 with 1 Axes>"
      ]
     },
     "metadata": {
      "needs_background": "light"
     },
     "output_type": "display_data"
    }
   ],
   "source": [
    "X_train_scaled.boxplot()"
   ]
  },
  {
   "cell_type": "code",
   "execution_count": 14,
   "metadata": {},
   "outputs": [
    {
     "name": "stdout",
     "output_type": "stream",
     "text": [
      "0.980672268907563\n",
      "0.8187919463087249\n"
     ]
    }
   ],
   "source": [
    "model = MLPClassifier(random_state=0, max_iter=5000)\n",
    "model.fit(X_train_scaled, y_train)\n",
    "print(model.score(X_train_scaled, y_train))\n",
    "print(model.score(X_test_scaled, y_test))"
   ]
  },
  {
   "cell_type": "code",
   "execution_count": 18,
   "metadata": {},
   "outputs": [
    {
     "name": "stdout",
     "output_type": "stream",
     "text": [
      "0.9512605042016806\n",
      "0.8389261744966443\n"
     ]
    }
   ],
   "source": [
    "model = MLPClassifier(random_state=0, hidden_layer_sizes=[50], max_iter=5000)\n",
    "model.fit(X_train_scaled, y_train)\n",
    "print(model.score(X_train_scaled, y_train))\n",
    "print(model.score(X_test_scaled, y_test))"
   ]
  },
  {
   "cell_type": "code",
   "execution_count": 19,
   "metadata": {},
   "outputs": [
    {
     "name": "stdout",
     "output_type": "stream",
     "text": [
      "idx: 0\n",
      " 최고정확도: 0.8187919463087249\n",
      "100 100\n"
     ]
    },
    {
     "data": {
      "image/png": "[encoded data removed]",
      "text/plain": [
       "<Figure size 432x288 with 1 Axes>"
      ]
     },
     "metadata": {
      "needs_background": "light"
     },
     "output_type": "display_data"
    }
   ],
   "source": [
    "import numpy as np\n",
    "import matplotlib.pyplot as plt\n",
    "train_rate=[]\n",
    "test_rate=[]\n",
    "for i in range(100,301,100): # 첫번째 은닉층의 노드수 100~300\n",
    "    for j in range(100,301,100): # 두번째 은닉층의 노드수 100~300\n",
    "        model=MLPClassifier(random_state=0, hidden_layer_sizes=[i,j], max_iter=1000)\n",
    "        model.fit(X_train_scaled, y_train)\n",
    "        train_rate.append(model.score(X_train_scaled, y_train))\n",
    "        test_rate.append(model.score(X_test_scaled, y_test))\n",
    "plt.rcParams['font.size']=15\n",
    "plt.plot(range(1,10),train_rate,label='Train')\n",
    "plt.plot(range(1,10),test_rate,label='Test')\n",
    "plt.ylabel('Accuracy')\n",
    "plt.xlabel('count')\n",
    "plt.legend()\n",
    "max_rate=max(test_rate) # 최대값\n",
    "idx=np.where(test_rate == max_rate)[0][0] # 최대값의 인덱스값\n",
    "print('idx:',idx)\n",
    "print('최고정확도:',max_rate) \n",
    "cnt=0\n",
    "for i in range(100,301,100):\n",
    "    for j in range(100,301,100):\n",
    "        if cnt == idx:\n",
    "            print(i,j)\n",
    "        cnt+=1"
   ]
  },
  {
   "cell_type": "markdown",
   "metadata": {},
   "source": []
  }
 ],
 "metadata": {
  "interpreter": {
   "hash": "ff4f85d6e04298634172ac5d8264e7e9b556b95639fe52ebb9425c4d4cba0c9c"
  },
  "kernelspec": {
   "display_name": "Python 3.9.7 ('base')",
   "language": "python",
   "name": "python3"
  },
  "language_info": {
   "codemirror_mode": {
    "name": "ipython",
    "version": 3
   },
   "file_extension": ".py",
   "mimetype": "text/x-python",
   "name": "python",
   "nbconvert_exporter": "python",
   "pygments_lexer": "ipython3",
   "version": "3.9.7"
  },
  "orig_nbformat": 4
 },
 "nbformat": 4,
 "nbformat_minor": 2
}
