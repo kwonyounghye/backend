{
 "cells": [
  {
   "cell_type": "code",
   "execution_count": 1,
   "metadata": {},
   "outputs": [
    {
     "name": "stdout",
     "output_type": "stream",
     "text": [
      "WARNING:tensorflow:From c:\\anaconda3\\lib\\site-packages\\tensorflow\\python\\compat\\v2_compat.py:107: disable_resource_variables (from tensorflow.python.ops.variable_scope) is deprecated and will be removed in a future version.\n",
      "Instructions for updating:\n",
      "non-resource variables are not supported in the long term\n"
     ]
    }
   ],
   "source": [
    "import tensorflow.compat.v1 as tf\n",
    "tf.disable_v2_behavior()\n",
    "# 파라미터 설정 (실험을 통해 구해야 하는 값)\n",
    "learning_rate = 0.01 # 학습률\n",
    "epochs = 1000 # 학습횟수\n",
    "step_display = 50 # 진행 상태를 출력할 단계\n"
   ]
  },
  {
   "cell_type": "code",
   "execution_count": 2,
   "metadata": {},
   "outputs": [],
   "source": [
    "# 회귀분석 : 전기생산량과 소비량\n",
    "# 월별 전기생산금액 (억원)\n",
    "x =[3.52, 2.58, 3.31, 4.07, 4.62, 3.98, 4.29, 4.83, 3.71, 4.61, 3.90, 3.20]\n",
    "# 월별 전기 사용량 (백만 kwh)\n",
    "y =[2.48, 2.27, 2.47, 2.77, 2.98, 3.05, 3.18, 3.46, 3.03, 3.25, 2.67, 2.53]\n"
   ]
  },
  {
   "cell_type": "code",
   "execution_count": 3,
   "metadata": {},
   "outputs": [],
   "source": [
    "# 가중치(weight)와 절편(bias)\n",
    "# tf.random_uniform( [1] 변수의 형태, -1.0 최소값, 1.0 최대값) 무작위수 초기화\n",
    "# -1.0 ~ 1.0 사이의 값 생성\n",
    "# name: 값의 변화를 추적하거나 살펴보기 쉽게 하기 위해 이름을 붙임\n",
    "weight = tf.Variable(tf.random_uniform([1],-1.0,1.0), name=\"weight\")\n",
    "bias=tf.Variable(tf.random_uniform([1],-1.0,1.0), name=\"bias\")"
   ]
  },
  {
   "cell_type": "code",
   "execution_count": 4,
   "metadata": {},
   "outputs": [],
   "source": [
    "# placeholder : 학습용 데이터를 담는 그릇\n",
    "# 그래프에서 x(입력값)을 저장하는 저장소\n",
    "# placeholder(dtype, shape, name) : 자료형, 행렬의 차원, placeholder의 이름\n",
    "# 그래프를 구축할 때는 메모리에 저장하지 않고 그래프를 실행할 때 피드하면서 메모리에 저장됨\n",
    "X = tf.placeholder(dtype=tf.float32, name=\"X\")\n",
    "Y = tf.placeholder(dtype=tf.float32, name=\"Y\")"
   ]
  },
  {
   "cell_type": "code",
   "execution_count": 5,
   "metadata": {},
   "outputs": [],
   "source": [
    "# X와 Y의 상관 관계를 분석하기 위한 가설 수식 작성\n",
    "# y = W * x + b\n",
    "# W와 X가 행렬이 아니므로 tf.matmul이 아니라 기본 곱셈 사용\n"
   ]
  },
  {
   "cell_type": "code",
   "execution_count": 6,
   "metadata": {},
   "outputs": [],
   "source": [
    "y_pred = tf.add(tf.multiply(weight, X), bias)\n",
    "# 손실함수(비용함수) : 예측값과 실제값의 거리를 계산하는 함수\n",
    "cost = tf.reduce_mean(tf.square(y_pred - Y))\n",
    "# 비용을 최소화시킴\n",
    "# AdamOptimizer : 현재 가장 성능이 좋은 알고리즘\n",
    "optimizer = tf.train.AdamOptimizer(learning_rate).minimize(cost)"
   ]
  },
  {
   "cell_type": "code",
   "execution_count": 7,
   "metadata": {},
   "outputs": [],
   "source": [
    "#변수 초기화\n",
    "init = tf.global_variables_initializer()\n",
    "#세션 생성 및 시작\n",
    "sess = tf.Session()\n",
    "sess.run(init)"
   ]
  },
  {
   "cell_type": "code",
   "execution_count": 8,
   "metadata": {},
   "outputs": [
    {
     "name": "stdout",
     "output_type": "stream",
     "text": [
      "Epoch:50, cost:6.691156387329102, weight:[-0.07759655], bias:[0.6299115]\n",
      "Epoch:100, cost:1.1302565336227417, weight:[0.22975376], bias:[0.93687874]\n",
      "Epoch:150, cost:0.12456444650888443, weight:[0.37693465], bias:[1.0832053]\n",
      "Epoch:200, cost:0.030640432611107826, weight:[0.42636412], bias:[1.1313747]\n",
      "Epoch:250, cost:0.026516033336520195, weight:[0.43770894], bias:[1.1411846]\n",
      "Epoch:300, cost:0.026429610326886177, weight:[0.43958977], bias:[1.1413327]\n",
      "Epoch:350, cost:0.026411935687065125, weight:[0.44007117], bias:[1.1399148]\n",
      "Epoch:400, cost:0.02639322727918625, weight:[0.44048196], bias:[1.1382726]\n",
      "Epoch:450, cost:0.026373350992798805, weight:[0.4409239], bias:[1.1365167]\n",
      "Epoch:500, cost:0.026352420449256897, weight:[0.4413941], bias:[1.1346513]\n",
      "Epoch:550, cost:0.026330476626753807, weight:[0.44189075], bias:[1.1326809]\n",
      "Epoch:600, cost:0.026307642459869385, weight:[0.44241267], bias:[1.13061]\n",
      "Epoch:650, cost:0.0262839887291193, weight:[0.44295895], bias:[1.128443]\n",
      "Epoch:700, cost:0.026259558275341988, weight:[0.4435285], bias:[1.1261833]\n",
      "Epoch:750, cost:0.026234472170472145, weight:[0.44412047], bias:[1.1238347]\n",
      "Epoch:800, cost:0.026208750903606415, weight:[0.444734], bias:[1.1214006]\n",
      "Epoch:850, cost:0.026182496920228004, weight:[0.44536832], bias:[1.118884]\n",
      "Epoch:900, cost:0.026155762374401093, weight:[0.44602254], bias:[1.1162884]\n",
      "Epoch:950, cost:0.026128634810447693, weight:[0.44669595], bias:[1.1136167]\n",
      "Epoch:1000, cost:0.02610110305249691, weight:[0.44738767], bias:[1.1108724]\n"
     ]
    }
   ],
   "source": [
    "# optimizer와 cost를 그래프에서 계산\n",
    "# 계산을 위해 필요한 값은 feed_dict을 통해 전달함\n",
    "# placeholder인 x, y에 데이터를 계속 넣어줄 자료를 작성해줍니다\n",
    "# cost 계산: 정해진 데이터셋에서 한 샘플씩 불러와서 cost를 계산\n",
    "# optimizer 계산: cost로 부터 error를 계산 후, \n",
    "# 모델에 대한 편미분을 자동으로 계산해주는 과정을 이용하여 모델W, b를 수정\n",
    "for epoch in range(epochs):\n",
    "    _, cost_val = sess.run([optimizer,cost], feed_dict={X:x, Y:y})\n",
    "    if (epoch+1) % step_display == 0:\n",
    "        print(\"Epoch:{0}, cost:{1}, weight:{2}, bias:{3}\".format(epoch+1,cost_val,sess.run(weight),sess.run(bias)))"
   ]
  },
  {
   "cell_type": "code",
   "execution_count": 9,
   "metadata": {},
   "outputs": [
    {
     "name": "stdout",
     "output_type": "stream",
     "text": [
      " 최종 cost: 0.026101103\n",
      " 정확도: 99.9738988969475\n",
      " 최종 가중치: [0.44738767]\n",
      " 최종 절편: [1.1108724]\n"
     ]
    }
   ],
   "source": [
    "training_cost = sess.run(cost, feed_dict={X:x, Y:y})\n",
    "print(\" 최종 cost:\", cost_val)\n",
    "print(\" 정확도:\", 100-cost_val)\n",
    "print(\" 최종 가중치:\", sess.run(weight))\n",
    "print(\" 최종 절편:\", sess.run(bias))"
   ]
  },
  {
   "cell_type": "code",
   "execution_count": 10,
   "metadata": {},
   "outputs": [
    {
     "name": "stdout",
     "output_type": "stream",
     "text": [
      "X: 5, Y: [3.3478107]\n",
      "X: 2.5, Y: [2.2293415]\n"
     ]
    }
   ],
   "source": [
    "# 최적화가 완료된 모델에 테스트 값을 넣고 결과가 잘 나오는지 확인\n",
    "print(\"X: 5, Y:\", sess.run(y_pred, feed_dict={X: 5}))\n",
    "print(\"X: 2.5, Y:\", sess.run(y_pred, feed_dict={X: 2.5}))"
   ]
  },
  {
   "cell_type": "code",
   "execution_count": 11,
   "metadata": {},
   "outputs": [
    {
     "data": {
      "image/png": "[encoded data removed]",
      "text/plain": [
       "<Figure size 432x288 with 1 Axes>"
      ]
     },
     "metadata": {
      "needs_background": "light"
     },
     "output_type": "display_data"
    }
   ],
   "source": [
    "import matplotlib.pyplot as plt\n",
    "from matplotlib import font_manager, rc\n",
    "#한글 처리를 위해 폰트 설정\n",
    "font_name = font_manager.FontProperties(fname=\"c:/Windows/Fonts/malgun.ttf\").get_name()\n",
    "rc('font', family=font_name)\n",
    "plt.plot(x,y,'ro') # red, o\n",
    "plt.plot(x,sess.run(weight)*x+sess.run(bias))\n",
    "plt.xlabel(\"전기생산량\")\n",
    "plt.ylabel(\"전기사용량\")\n",
    "plt.show()\n"
   ]
  },
  {
   "cell_type": "code",
   "execution_count": 12,
   "metadata": {},
   "outputs": [],
   "source": [
    "#세션 종료\n",
    "sess.close()"
   ]
  },
  {
   "cell_type": "code",
   "execution_count": null,
   "metadata": {},
   "outputs": [],
   "source": []
  }
 ],
 "metadata": {
  "kernelspec": {
   "display_name": "Python 3.9.7 ('base')",
   "language": "python",
   "name": "python3"
  },
  "language_info": {
   "codemirror_mode": {
    "name": "ipython",
    "version": 3
   },
   "file_extension": ".py",
   "mimetype": "text/x-python",
   "name": "python",
   "nbconvert_exporter": "python",
   "pygments_lexer": "ipython3",
   "version": "3.9.7"
  },
  "orig_nbformat": 4,
  "vscode": {
   "interpreter": {
    "hash": "ff4f85d6e04298634172ac5d8264e7e9b556b95639fe52ebb9425c4d4cba0c9c"
   }
  }
 },
 "nbformat": 4,
 "nbformat_minor": 2
}
