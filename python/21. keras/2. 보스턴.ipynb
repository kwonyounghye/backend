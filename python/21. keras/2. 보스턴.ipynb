{
 "cells": [
  {
   "cell_type": "code",
   "execution_count": 1,
   "metadata": {},
   "outputs": [
    {
     "data": {
      "text/plain": [
       "'2.6.0'"
      ]
     },
     "execution_count": 1,
     "metadata": {},
     "output_type": "execute_result"
    }
   ],
   "source": [
    "from tensorflow.python import keras\n",
    "# 케라스의 버전 확인\n",
    "keras.__version__ "
   ]
  },
  {
   "cell_type": "code",
   "execution_count": 2,
   "metadata": {},
   "outputs": [
    {
     "name": "stdout",
     "output_type": "stream",
     "text": [
      "Downloading data from https://storage.googleapis.com/tensorflow/tf-keras-datasets/boston_housing.npz\n",
      "57026/57026 [==============================] - 0s 0us/step\n"
     ]
    }
   ],
   "source": [
    "# 주택 가격 예측 : 회귀분석\n",
    "# 회귀분석 : 연속적인 값을 예측\n",
    "# 예) 과거 기상 데이터를 입력하여 내일의 기온을 예측\n",
    "# 보스턴 주택 가격 데이터셋\n",
    "# 1970년 중반 보스턴 외곽 지역의 범죄율, 지방세율 등의 데이터로\n",
    "# 주택 가격 예측\n",
    "# 샘플 개수 : 506개(학습용 404개, 검증용 102개)\n",
    "from tensorflow.keras.datasets import boston_housing\n",
    "# c:/사용자/본인계정/.keras/datasets 디렉토리에 다운로드됨\n",
    "(X_train, y_train), (X_test, y_test) = boston_housing.load_data()\n"
   ]
  },
  {
   "cell_type": "code",
   "execution_count": 3,
   "metadata": {},
   "outputs": [
    {
     "name": "stdout",
     "output_type": "stream",
     "text": [
      "(404, 13)\n",
      "13\n"
     ]
    }
   ],
   "source": [
    "# 학습용 404개, 검증용 102개, 13개의 변수\n",
    "print(X_train.shape)\n",
    "print(X_train.shape[1])"
   ]
  },
  {
   "cell_type": "code",
   "execution_count": 4,
   "metadata": {},
   "outputs": [
    {
     "data": {
      "text/plain": [
       "(102, 13)"
      ]
     },
     "execution_count": 4,
     "metadata": {},
     "output_type": "execute_result"
    }
   ],
   "source": [
    "X_test.shape"
   ]
  },
  {
   "cell_type": "code",
   "execution_count": 5,
   "metadata": {},
   "outputs": [
    {
     "data": {
      "text/plain": [
       "array([15.2, 42.3, 50. , 21.1, 17.7, 18.5, 11.3, 15.6, 15.6, 14.4])"
      ]
     },
     "execution_count": 5,
     "metadata": {},
     "output_type": "execute_result"
    }
   ],
   "source": [
    "# 독립 변수 목록\n",
    "# 1. Per capita crime rate.\n",
    "# 2. Proportion of residential land zoned for lots over 25,000\n",
    "# square feet.\n",
    "# 3. Proportion of non-retail business acres per town.\n",
    "# 4. Charles River dummy variable (= 1 if tract bounds river;\n",
    "# 0 otherwise).\n",
    "# 5. Nitric oxides concentration (parts per 10 million).\n",
    "# 6. Average number of rooms per dwelling.\n",
    "# 7. Proportion of owner-occupied units built prior to 1940.\n",
    "# 8. Weighted distances to five Boston employment centres.\n",
    "# 9. Index of accessibility to radial highways.\n",
    "# 10. Full-value property-tax rate per $10,000.\n",
    "# 11. Pupil-teacher ratio by town.\n",
    "# 12. 1000 * (Bk - 0.63) ** 2 where Bk is the proportion of\n",
    "# Black people by town.\n",
    "# 13. % lower status of the population.\n",
    "# 종속변수 : 주택의 가격(천달러 단위)\n",
    "# 주택가격(10000~50000달러, 1970년대 중반 가격)\n",
    "y_train[0:10]"
   ]
  },
  {
   "cell_type": "code",
   "execution_count": 13,
   "metadata": {},
   "outputs": [
    {
     "data": {
      "text/plain": [
       "<AxesSubplot:>"
      ]
     },
     "execution_count": 13,
     "metadata": {},
     "output_type": "execute_result"
    },
    {
     "data": {
      "image/png": "[encoded data removed]",
      "text/plain": [
       "<Figure size 432x288 with 1 Axes>"
      ]
     },
     "metadata": {
      "needs_background": "light"
     },
     "output_type": "display_data"
    }
   ],
   "source": [
    "import pandas as pd\n",
    "pd.DataFrame(X_train).boxplot()\n",
    "from sklearn.preprocessing import StandardScaler\n",
    "scaler=StandardScaler() # 평균 0, 표준편차 1로 만드는 스케일러\n",
    "scaler.fit(X_train)\n",
    "X_train_scaled=scaler.transform(X_train)\n",
    "X_test_scaled=scaler.transform(X_test)\n",
    "pd.DataFrame(X_train_scaled).boxplot()"
   ]
  },
  {
   "cell_type": "code",
   "execution_count": 14,
   "metadata": {},
   "outputs": [],
   "source": [
    "# 활성화 함수 : 입력데이터를 적절하게 처리하여 출력데이터를 만들어내는 함수\n",
    "# input data -> {activation function} -> output data\n",
    "# 활성화 함수의 종류 : 탄젠트(thanh) 함수, 시그모이드(sigmoid) 함수,\n",
    "# ReLU 함수\n",
    "# 탄젠트 함수나 시그모이드 함수보다 학습시간이 빨라서\n",
    "# 최근에는 ReLU(Rectified Linear Unit)가 많이 사용되고 있음\n",
    "from tensorflow.keras import models\n",
    "from tensorflow.keras import layers\n",
    "#64개의 노드를 가진 은닉층 2개의 신경망\n",
    "def build_model():\n",
    "    model = models.Sequential()\n",
    "    #relu\n",
    "    model.add(layers.Dense(64, activation='relu', input_shape=(X_train.shape[1],)))\n",
    "    model.add(layers.Dense(64, activation='relu'))\n",
    "    # 출력층(1개의 노드, 하나의 값을 예측하는 회귀분석의 경우\n",
    "    # 활성화 함수가 없는 선형층을 사용함)\n",
    "    model.add(layers.Dense(1))\n",
    "    # mse 손실 함수를 사용하여 컴파일\n",
    "    # mse : 평균 제곱 오차(mean squared error) - \n",
    "    # 예측값과 실제값의 거리의 제곱\n",
    "    # mae : 평균 절대 오차, 예측값과 실제값의 거리의 절대값\n",
    "    # metrics 평가지표, 검증용 데이터셋으로 평가하는 기준\n",
    "    model.compile(optimizer='rmsprop', loss='mse', metrics=['mae'])\n",
    "    return model"
   ]
  },
  {
   "cell_type": "code",
   "execution_count": 15,
   "metadata": {},
   "outputs": [
    {
     "name": "stdout",
     "output_type": "stream",
     "text": [
      "Epoch 1/100\n",
      "7/7 [==============================] - 1s 1ms/step - loss: 564.5696 - mae: 21.8809\n",
      "Epoch 2/100\n",
      "7/7 [==============================] - 0s 2ms/step - loss: 509.8100 - mae: 20.6033\n",
      "Epoch 3/100\n",
      "7/7 [==============================] - 0s 2ms/step - loss: 460.2806 - mae: 19.4015\n",
      "Epoch 4/100\n",
      "7/7 [==============================] - 0s 1ms/step - loss: 407.9734 - mae: 18.0935\n",
      "Epoch 5/100\n",
      "7/7 [==============================] - 0s 2ms/step - loss: 351.7406 - mae: 16.6061\n",
      "Epoch 6/100\n",
      "7/7 [==============================] - 0s 2ms/step - loss: 294.2180 - mae: 14.9405\n",
      "Epoch 7/100\n",
      "7/7 [==============================] - 0s 2ms/step - loss: 238.1127 - mae: 13.1914\n",
      "Epoch 8/100\n",
      "7/7 [==============================] - 0s 2ms/step - loss: 184.8269 - mae: 11.2877\n",
      "Epoch 9/100\n",
      "7/7 [==============================] - 0s 2ms/step - loss: 140.7495 - mae: 9.5187\n",
      "Epoch 10/100\n",
      "7/7 [==============================] - 0s 2ms/step - loss: 106.8933 - mae: 8.0216\n",
      "Epoch 11/100\n",
      "7/7 [==============================] - 0s 2ms/step - loss: 84.0197 - mae: 6.9773\n",
      "Epoch 12/100\n",
      "7/7 [==============================] - 0s 2ms/step - loss: 67.6921 - mae: 6.1947\n",
      "Epoch 13/100\n",
      "7/7 [==============================] - 0s 2ms/step - loss: 56.0101 - mae: 5.5917\n",
      "Epoch 14/100\n",
      "7/7 [==============================] - 0s 2ms/step - loss: 48.1383 - mae: 5.1257\n",
      "Epoch 15/100\n",
      "7/7 [==============================] - 0s 3ms/step - loss: 42.2603 - mae: 4.7521\n",
      "Epoch 16/100\n",
      "7/7 [==============================] - 0s 2ms/step - loss: 37.1795 - mae: 4.4429\n",
      "Epoch 17/100\n",
      "7/7 [==============================] - 0s 2ms/step - loss: 33.2180 - mae: 4.1973\n",
      "Epoch 18/100\n",
      "7/7 [==============================] - 0s 2ms/step - loss: 30.0535 - mae: 3.9756\n",
      "Epoch 19/100\n",
      "7/7 [==============================] - 0s 2ms/step - loss: 27.6427 - mae: 3.7751\n",
      "Epoch 20/100\n",
      "7/7 [==============================] - 0s 1ms/step - loss: 25.5721 - mae: 3.6508\n",
      "Epoch 21/100\n",
      "7/7 [==============================] - 0s 2ms/step - loss: 24.1287 - mae: 3.5059\n",
      "Epoch 22/100\n",
      "7/7 [==============================] - 0s 2ms/step - loss: 22.6339 - mae: 3.3918\n",
      "Epoch 23/100\n",
      "7/7 [==============================] - 0s 2ms/step - loss: 21.7269 - mae: 3.3136\n",
      "Epoch 24/100\n",
      "7/7 [==============================] - 0s 2ms/step - loss: 20.4355 - mae: 3.1997\n",
      "Epoch 25/100\n",
      "7/7 [==============================] - 0s 1ms/step - loss: 19.5954 - mae: 3.1238\n",
      "Epoch 26/100\n",
      "7/7 [==============================] - 0s 2ms/step - loss: 18.7487 - mae: 3.0516\n",
      "Epoch 27/100\n",
      "7/7 [==============================] - 0s 2ms/step - loss: 18.1018 - mae: 3.0119\n",
      "Epoch 28/100\n",
      "7/7 [==============================] - 0s 3ms/step - loss: 17.1675 - mae: 2.8897\n",
      "Epoch 29/100\n",
      "7/7 [==============================] - 0s 2ms/step - loss: 16.4451 - mae: 2.8530\n",
      "Epoch 30/100\n",
      "7/7 [==============================] - 0s 2ms/step - loss: 15.9151 - mae: 2.7893\n",
      "Epoch 31/100\n",
      "7/7 [==============================] - 0s 2ms/step - loss: 15.1024 - mae: 2.7132\n",
      "Epoch 32/100\n",
      "7/7 [==============================] - 0s 2ms/step - loss: 14.7923 - mae: 2.6777\n",
      "Epoch 33/100\n",
      "7/7 [==============================] - 0s 2ms/step - loss: 13.9591 - mae: 2.6300\n",
      "Epoch 34/100\n",
      "7/7 [==============================] - 0s 2ms/step - loss: 13.6420 - mae: 2.5944\n",
      "Epoch 35/100\n",
      "7/7 [==============================] - 0s 2ms/step - loss: 13.3462 - mae: 2.5680\n",
      "Epoch 36/100\n",
      "7/7 [==============================] - 0s 2ms/step - loss: 12.8452 - mae: 2.5198\n",
      "Epoch 37/100\n",
      "7/7 [==============================] - 0s 2ms/step - loss: 12.3288 - mae: 2.4310\n",
      "Epoch 38/100\n",
      "7/7 [==============================] - 0s 2ms/step - loss: 12.2052 - mae: 2.4832\n",
      "Epoch 39/100\n",
      "7/7 [==============================] - 0s 2ms/step - loss: 12.2006 - mae: 2.4613\n",
      "Epoch 40/100\n",
      "7/7 [==============================] - 0s 2ms/step - loss: 11.5311 - mae: 2.3768\n",
      "Epoch 41/100\n",
      "7/7 [==============================] - 0s 2ms/step - loss: 11.2435 - mae: 2.3517\n",
      "Epoch 42/100\n",
      "7/7 [==============================] - 0s 2ms/step - loss: 11.1615 - mae: 2.3948\n",
      "Epoch 43/100\n",
      "7/7 [==============================] - 0s 2ms/step - loss: 10.8573 - mae: 2.3464\n",
      "Epoch 44/100\n",
      "7/7 [==============================] - 0s 2ms/step - loss: 10.7273 - mae: 2.3011\n",
      "Epoch 45/100\n",
      "7/7 [==============================] - 0s 2ms/step - loss: 10.5465 - mae: 2.2577\n",
      "Epoch 46/100\n",
      "7/7 [==============================] - 0s 2ms/step - loss: 10.3267 - mae: 2.2647\n",
      "Epoch 47/100\n",
      "7/7 [==============================] - 0s 3ms/step - loss: 10.2738 - mae: 2.2509\n",
      "Epoch 48/100\n",
      "7/7 [==============================] - 0s 2ms/step - loss: 10.2202 - mae: 2.2638\n",
      "Epoch 49/100\n",
      "7/7 [==============================] - 0s 2ms/step - loss: 9.9857 - mae: 2.2332\n",
      "Epoch 50/100\n",
      "7/7 [==============================] - 0s 2ms/step - loss: 9.8242 - mae: 2.2193\n",
      "Epoch 51/100\n",
      "7/7 [==============================] - 0s 2ms/step - loss: 9.6834 - mae: 2.1901\n",
      "Epoch 52/100\n",
      "7/7 [==============================] - 0s 2ms/step - loss: 9.6647 - mae: 2.1978\n",
      "Epoch 53/100\n",
      "7/7 [==============================] - 0s 2ms/step - loss: 9.6996 - mae: 2.2223\n",
      "Epoch 54/100\n",
      "7/7 [==============================] - 0s 2ms/step - loss: 9.5054 - mae: 2.1530\n",
      "Epoch 55/100\n",
      "7/7 [==============================] - 0s 2ms/step - loss: 9.4437 - mae: 2.1872\n",
      "Epoch 56/100\n",
      "7/7 [==============================] - 0s 2ms/step - loss: 9.1331 - mae: 2.1209\n",
      "Epoch 57/100\n",
      "7/7 [==============================] - 0s 2ms/step - loss: 9.0817 - mae: 2.1369\n",
      "Epoch 58/100\n",
      "7/7 [==============================] - 0s 2ms/step - loss: 9.2004 - mae: 2.1128\n",
      "Epoch 59/100\n",
      "7/7 [==============================] - 0s 2ms/step - loss: 9.0471 - mae: 2.1172\n",
      "Epoch 60/100\n",
      "7/7 [==============================] - 0s 2ms/step - loss: 8.8432 - mae: 2.1390\n",
      "Epoch 61/100\n",
      "7/7 [==============================] - 0s 2ms/step - loss: 8.8573 - mae: 2.0846\n",
      "Epoch 62/100\n",
      "7/7 [==============================] - 0s 2ms/step - loss: 8.5617 - mae: 2.1223\n",
      "Epoch 63/100\n",
      "7/7 [==============================] - 0s 2ms/step - loss: 8.6172 - mae: 2.0667\n",
      "Epoch 64/100\n",
      "7/7 [==============================] - 0s 2ms/step - loss: 8.6657 - mae: 2.1009\n",
      "Epoch 65/100\n",
      "7/7 [==============================] - 0s 2ms/step - loss: 8.5958 - mae: 2.0722\n",
      "Epoch 66/100\n",
      "7/7 [==============================] - 0s 2ms/step - loss: 8.4377 - mae: 2.0797\n",
      "Epoch 67/100\n",
      "7/7 [==============================] - 0s 1ms/step - loss: 8.5874 - mae: 2.0737\n",
      "Epoch 68/100\n",
      "7/7 [==============================] - 0s 4ms/step - loss: 8.2289 - mae: 2.0349\n",
      "Epoch 69/100\n",
      "7/7 [==============================] - 0s 2ms/step - loss: 8.3488 - mae: 2.0451\n",
      "Epoch 70/100\n",
      "7/7 [==============================] - 0s 2ms/step - loss: 8.2303 - mae: 2.0618\n",
      "Epoch 71/100\n",
      "7/7 [==============================] - 0s 2ms/step - loss: 8.1821 - mae: 2.0253\n",
      "Epoch 72/100\n",
      "7/7 [==============================] - 0s 2ms/step - loss: 8.1658 - mae: 2.0309\n",
      "Epoch 73/100\n",
      "7/7 [==============================] - 0s 1ms/step - loss: 8.1622 - mae: 2.0240\n",
      "Epoch 74/100\n",
      "7/7 [==============================] - 0s 2ms/step - loss: 8.0515 - mae: 2.0039\n",
      "Epoch 75/100\n",
      "7/7 [==============================] - 0s 2ms/step - loss: 7.9515 - mae: 2.0271\n",
      "Epoch 76/100\n",
      "7/7 [==============================] - 0s 1ms/step - loss: 7.9009 - mae: 2.0298\n",
      "Epoch 77/100\n",
      "7/7 [==============================] - 0s 2ms/step - loss: 7.8753 - mae: 1.9941\n",
      "Epoch 78/100\n",
      "7/7 [==============================] - 0s 2ms/step - loss: 7.9074 - mae: 2.0278\n",
      "Epoch 79/100\n",
      "7/7 [==============================] - 0s 2ms/step - loss: 7.7071 - mae: 1.9606\n",
      "Epoch 80/100\n",
      "7/7 [==============================] - 0s 2ms/step - loss: 7.8936 - mae: 1.9744\n",
      "Epoch 81/100\n",
      "7/7 [==============================] - 0s 2ms/step - loss: 7.6889 - mae: 1.9683\n",
      "Epoch 82/100\n",
      "7/7 [==============================] - 0s 2ms/step - loss: 7.6072 - mae: 1.9678\n",
      "Epoch 83/100\n",
      "7/7 [==============================] - 0s 2ms/step - loss: 7.6279 - mae: 1.9534\n",
      "Epoch 84/100\n",
      "7/7 [==============================] - 0s 2ms/step - loss: 7.4462 - mae: 1.9161\n",
      "Epoch 85/100\n",
      "7/7 [==============================] - 0s 1ms/step - loss: 7.5433 - mae: 1.9688\n",
      "Epoch 86/100\n",
      "7/7 [==============================] - 0s 2ms/step - loss: 7.4340 - mae: 1.9344\n",
      "Epoch 87/100\n",
      "7/7 [==============================] - 0s 2ms/step - loss: 7.3583 - mae: 1.9242\n",
      "Epoch 88/100\n",
      "7/7 [==============================] - 0s 2ms/step - loss: 7.5119 - mae: 1.9721\n",
      "Epoch 89/100\n",
      "7/7 [==============================] - 0s 1ms/step - loss: 7.3107 - mae: 1.9345\n",
      "Epoch 90/100\n",
      "7/7 [==============================] - 0s 2ms/step - loss: 7.2161 - mae: 1.8906\n",
      "Epoch 91/100\n",
      "7/7 [==============================] - 0s 2ms/step - loss: 7.3496 - mae: 1.9216\n",
      "Epoch 92/100\n",
      "7/7 [==============================] - 0s 2ms/step - loss: 7.1385 - mae: 1.9081\n",
      "Epoch 93/100\n",
      "7/7 [==============================] - 0s 2ms/step - loss: 7.3763 - mae: 1.9488\n",
      "Epoch 94/100\n",
      "7/7 [==============================] - 0s 2ms/step - loss: 7.1289 - mae: 1.9053\n",
      "Epoch 95/100\n",
      "7/7 [==============================] - 0s 2ms/step - loss: 7.0784 - mae: 1.8963\n",
      "Epoch 96/100\n",
      "7/7 [==============================] - 0s 2ms/step - loss: 7.0338 - mae: 1.9214\n",
      "Epoch 97/100\n",
      "7/7 [==============================] - 0s 2ms/step - loss: 7.0455 - mae: 1.8887\n",
      "Epoch 98/100\n",
      "7/7 [==============================] - 0s 1ms/step - loss: 7.0564 - mae: 1.8835\n",
      "Epoch 99/100\n",
      "7/7 [==============================] - 0s 1ms/step - loss: 6.9584 - mae: 1.8824\n",
      "Epoch 100/100\n",
      "7/7 [==============================] - 0s 1ms/step - loss: 7.0495 - mae: 1.8805\n"
     ]
    }
   ],
   "source": [
    "model = build_model()\n",
    "# 모델 학습\n",
    "hist=model.fit(X_train_scaled, y_train, epochs=100, batch_size=64, verbose=1)"
   ]
  },
  {
   "cell_type": "code",
   "execution_count": 16,
   "metadata": {},
   "outputs": [
    {
     "name": "stdout",
     "output_type": "stream",
     "text": [
      "4/4 [==============================] - 0s 2ms/step - loss: 18.6965 - mae: 2.7522\n",
      "18.69654655456543\n",
      "2.7522406578063965\n"
     ]
    }
   ],
   "source": [
    "# 검증용 데이터로 모델 평가\n",
    "mse, mae = model.evaluate(X_test_scaled, y_test, verbose=1)\n",
    "print(mse)\n",
    "print(mae) # 2615 달러 정도 차이가 남\n"
   ]
  },
  {
   "cell_type": "code",
   "execution_count": 17,
   "metadata": {},
   "outputs": [
    {
     "data": {
      "image/png": "[encoded data removed]",
      "text/plain": [
       "<Figure size 432x288 with 1 Axes>"
      ]
     },
     "metadata": {
      "needs_background": "light"
     },
     "output_type": "display_data"
    }
   ],
   "source": [
    "import matplotlib.pyplot as plt\n",
    "plt.plot(hist.history[\"mae\"])\n",
    "plt.ylabel(\"mae\")\n",
    "plt.xlabel(\"epoch\")\n",
    "plt.show()"
   ]
  },
  {
   "cell_type": "code",
   "execution_count": 18,
   "metadata": {},
   "outputs": [
    {
     "name": "stdout",
     "output_type": "stream",
     "text": [
      "Model: \"sequential_1\"\n",
      "_________________________________________________________________\n",
      " Layer (type)                Output Shape              Param #   \n",
      "=================================================================\n",
      " dense_3 (Dense)             (None, 64)                896       \n",
      "                                                                 \n",
      " dense_4 (Dense)             (None, 64)                4160      \n",
      "                                                                 \n",
      " dense_5 (Dense)             (None, 1)                 65        \n",
      "                                                                 \n",
      "=================================================================\n",
      "Total params: 5,121\n",
      "Trainable params: 5,121\n",
      "Non-trainable params: 0\n",
      "_________________________________________________________________\n"
     ]
    }
   ],
   "source": [
    "model.summary()"
   ]
  }
 ],
 "metadata": {
  "kernelspec": {
   "display_name": "Python 3.9.7 ('base')",
   "language": "python",
   "name": "python3"
  },
  "language_info": {
   "codemirror_mode": {
    "name": "ipython",
    "version": 3
   },
   "file_extension": ".py",
   "mimetype": "text/x-python",
   "name": "python",
   "nbconvert_exporter": "python",
   "pygments_lexer": "ipython3",
   "version": "3.9.7"
  },
  "orig_nbformat": 4,
  "vscode": {
   "interpreter": {
    "hash": "ff4f85d6e04298634172ac5d8264e7e9b556b95639fe52ebb9425c4d4cba0c9c"
   }
  }
 },
 "nbformat": 4,
 "nbformat_minor": 2
}
