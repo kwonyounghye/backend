{
 "cells": [
  {
   "cell_type": "code",
   "execution_count": 1,
   "metadata": {},
   "outputs": [
    {
     "data": {
      "text/plain": [
       "'2.9.0'"
      ]
     },
     "execution_count": 1,
     "metadata": {},
     "output_type": "execute_result"
    }
   ],
   "source": [
    "#케라스 로딩\n",
    "import keras\n",
    "keras.__version__\n"
   ]
  },
  {
   "cell_type": "code",
   "execution_count": 2,
   "metadata": {},
   "outputs": [],
   "source": [
    "# 뉴스 기사 분류: 다중 분류 문제\n",
    "# 로이터 뉴스를 46개의 토픽으로 분류하는 신경망(다중분류)\n",
    "## 로이터 데이터셋\n",
    "#1986년에 로이터에서 공개한 짧은 뉴스 기사와 토픽의 집합인 데이터셋 (케라스 내장 데이터셋)\n",
    "# 텍스트 분류를 위해 널리 사용되는 간단한 데이터셋\n",
    "# 46개의 토픽\n",
    "# 각 토픽은 최소 10개의 샘플이 있음\n",
    "# 데이터 다운로드\n",
    "from keras.datasets import reuters\n",
    "# 자주 등장하는 단어 10,000개로 제한\n",
    "(train_data, train_labels), (test_data, test_labels) = reuters.load_data(num_words=10000)"
   ]
  },
  {
   "cell_type": "code",
   "execution_count": 3,
   "metadata": {},
   "outputs": [
    {
     "data": {
      "text/plain": [
       "8982"
      ]
     },
     "execution_count": 3,
     "metadata": {},
     "output_type": "execute_result"
    }
   ],
   "source": [
    "# 8,982개의 학습용 샘플과 2,246개의 검증용 샘플\n",
    "len(train_data)"
   ]
  },
  {
   "cell_type": "code",
   "execution_count": 4,
   "metadata": {},
   "outputs": [
    {
     "data": {
      "text/plain": [
       "2246"
      ]
     },
     "execution_count": 4,
     "metadata": {},
     "output_type": "execute_result"
    }
   ],
   "source": [
    "len(test_data)"
   ]
  },
  {
   "cell_type": "code",
   "execution_count": 5,
   "metadata": {},
   "outputs": [
    {
     "data": {
      "text/plain": [
       "[1, 2, 2, 8, 43, 10, 447, 5, 25, 207]"
      ]
     },
     "execution_count": 5,
     "metadata": {},
     "output_type": "execute_result"
    }
   ],
   "source": [
    "#각 샘플은 정수 리스트\n",
    "train_data[0][:10]"
   ]
  },
  {
   "cell_type": "code",
   "execution_count": 23,
   "metadata": {},
   "outputs": [
    {
     "name": "stdout",
     "output_type": "stream",
     "text": [
      "[('mdbl', 10996), ('fawc', 16260), ('degussa', 12089), ('woods', 8803), ('hanging', 13796), ('localized', 20672), ('sation', 20673), ('chanthaburi', 20675), ('refunding', 10997), ('hermann', 8804)]\n",
      "[(10996, 'mdbl'), (16260, 'fawc'), (12089, 'degussa'), (8803, 'woods'), (13796, 'hanging'), (20672, 'localized'), (20673, 'sation'), (20675, 'chanthaburi'), (10997, 'refunding'), (8804, 'hermann')]\n"
     ]
    }
   ],
   "source": [
    "#단어 디코딩 예\n",
    "#단어 인덱스 다운로드\n",
    "word_index = reuters.get_word_index()\n",
    "print(list(word_index.items())[:10])\n",
    "reverse_word_index = dict([(value, key) for (key, value) in\n",
    "word_index.items()])\n",
    "print(list(reverse_word_index.items())[:10])"
   ]
  },
  {
   "cell_type": "code",
   "execution_count": 7,
   "metadata": {},
   "outputs": [
    {
     "data": {
      "text/plain": [
       "3"
      ]
     },
     "execution_count": 7,
     "metadata": {},
     "output_type": "execute_result"
    }
   ],
   "source": [
    "# 레이블은 토픽의 인덱스로 0과 45사이의 정수\n",
    "train_labels[10]"
   ]
  },
  {
   "cell_type": "code",
   "execution_count": 8,
   "metadata": {},
   "outputs": [],
   "source": [
    "## 데이터 준비\n",
    "#데이터를 벡터로 변환\n",
    "import numpy as np\n",
    "# 랜덤시드 고정\n",
    "np.random.seed(5)\n",
    "def vectorize_sequences(sequences, dimension=10000):\n",
    "    results = np.zeros((len(sequences), dimension))\n",
    "    for i, sequence in enumerate(sequences):\n",
    "        results[i, sequence] = 1.\n",
    "    return results\n",
    "# 학습용 데이터 벡터 변환\n",
    "x_train = vectorize_sequences(train_data)\n",
    "# 검증용 데이터 벡터 변환\n",
    "x_test = vectorize_sequences(test_data)"
   ]
  },
  {
   "cell_type": "code",
   "execution_count": 9,
   "metadata": {},
   "outputs": [],
   "source": [
    "# one hot encoding : 범주형 데이터에 널리 사용되는 방법\n",
    "# 각 레이블의 인덱스 자리는 1이고 나머지는 모두 0인 벡터\n",
    "def to_one_hot(labels, dimension=46):\n",
    "    results = np.zeros((len(labels), dimension))\n",
    "    for i, label in enumerate(labels):\n",
    "        results[i, label] = 1.\n",
    "    return results\n",
    "# 훈련 레이블 벡터 변환\n",
    "one_hot_train_labels = to_one_hot(train_labels)\n",
    "# 테스트 레이블 벡터 변환\n",
    "one_hot_test_labels = to_one_hot(test_labels)"
   ]
  },
  {
   "cell_type": "code",
   "execution_count": 10,
   "metadata": {},
   "outputs": [],
   "source": [
    "from keras.utils.np_utils import to_categorical\n",
    "one_hot_train_labels = to_categorical(train_labels)\n",
    "one_hot_test_labels = to_categorical(test_labels)\n"
   ]
  },
  {
   "cell_type": "code",
   "execution_count": 24,
   "metadata": {},
   "outputs": [],
   "source": [
    "from keras import models\n",
    "from keras import layers\n",
    "model = models.Sequential()\n",
    "# 입력층, 노드 64개\n",
    "model.add(layers.Dense(64, activation='relu', input_shape=(10000,)))\n",
    "# 은닉층, 노드 64개\n",
    "model.add(layers.Dense(64, activation='relu'))\n",
    "# 출력층, 노드 46개(소프트맥스, 각 출력 클래스에 대한 확률 분포 출력, 46개의 값을 모두 더하면 1이 됨)\n",
    "model.add(layers.Dense(46, activation='softmax'))"
   ]
  },
  {
   "cell_type": "code",
   "execution_count": 12,
   "metadata": {},
   "outputs": [],
   "source": [
    "# softmax 활성화 함수 - 각 입력 샘플마다 46개의 출력 클래스에 대한 확률 분포 출력(두 확률 분포의 사이의 거리를 측정)\n",
    "# 신경망이 출력한 확률 분포와 실제 레이블의 분포 사이의 거리\n",
    "# 두 분포 사이의 거리를 최소화하면 실제 레이블에 가능한 가까운 출력을 내도록 모델을 훈련하게 됨\n",
    "# 46차원의 출력 벡터를 만들며 output[i]는 어떤 샘플이 클래스 i에 속할 확률\n",
    "# 46개의 값을 모두 더하면 1이 됨\n",
    "model.compile(optimizer='rmsprop',\n",
    "loss='categorical_crossentropy',\n",
    "metrics=['accuracy'])\n"
   ]
  },
  {
   "cell_type": "code",
   "execution_count": 13,
   "metadata": {},
   "outputs": [],
   "source": [
    "#Train,Validation 구분\n",
    "x_val = x_train[:1000]\n",
    "partial_x_train = x_train[1000:]\n",
    "y_val = one_hot_train_labels[:1000]\n",
    "partial_y_train = one_hot_train_labels[1000:]"
   ]
  },
  {
   "cell_type": "code",
   "execution_count": 14,
   "metadata": {},
   "outputs": [
    {
     "name": "stdout",
     "output_type": "stream",
     "text": [
      "Epoch 1/5\n",
      "16/16 [==============================] - 2s 35ms/step - loss: 2.5522 - accuracy: 0.5252 - val_loss: 1.6758 - val_accuracy: 0.6600\n",
      "Epoch 2/5\n",
      "16/16 [==============================] - 0s 17ms/step - loss: 1.3684 - accuracy: 0.7151 - val_loss: 1.2717 - val_accuracy: 0.7330\n",
      "Epoch 3/5\n",
      "16/16 [==============================] - 0s 16ms/step - loss: 1.0177 - accuracy: 0.7794 - val_loss: 1.1253 - val_accuracy: 0.7650\n",
      "Epoch 4/5\n",
      "16/16 [==============================] - 0s 18ms/step - loss: 0.8026 - accuracy: 0.8301 - val_loss: 1.0220 - val_accuracy: 0.7760\n",
      "Epoch 5/5\n",
      "16/16 [==============================] - 0s 16ms/step - loss: 0.6328 - accuracy: 0.8683 - val_loss: 0.9707 - val_accuracy: 0.8000\n",
      "71/71 [==============================] - 0s 4ms/step - loss: 1.0157 - accuracy: 0.7765\n"
     ]
    }
   ],
   "source": [
    "history = model.fit(partial_x_train,\n",
    "partial_y_train,\n",
    "epochs=5,\n",
    "batch_size=512,\n",
    "validation_data=(x_val, y_val))\n",
    "results = model.evaluate(x_test, one_hot_test_labels)\n"
   ]
  },
  {
   "cell_type": "code",
   "execution_count": 15,
   "metadata": {},
   "outputs": [
    {
     "data": {
      "image/png": "[encoded data removed]",
      "text/plain": [
       "<Figure size 432x288 with 1 Axes>"
      ]
     },
     "metadata": {
      "needs_background": "light"
     },
     "output_type": "display_data"
    }
   ],
   "source": [
    "import matplotlib.pyplot as plt\n",
    "\n",
    "loss = history.history['loss']\n",
    "val_loss = history.history['val_loss']\n",
    "epochs = range(1, len(loss) + 1)\n",
    "plt.plot(epochs, loss, 'bo', label='Training loss')\n",
    "plt.plot(epochs, val_loss, 'b', label='Validation loss')\n",
    "plt.title('Training and validation loss')\n",
    "plt.xlabel('Epochs')\n",
    "plt.ylabel('Loss')\n",
    "plt.legend()\n",
    "plt.show()"
   ]
  },
  {
   "cell_type": "code",
   "execution_count": 16,
   "metadata": {},
   "outputs": [
    {
     "data": {
      "image/png": "[encoded data removed]",
      "text/plain": [
       "<Figure size 432x288 with 1 Axes>"
      ]
     },
     "metadata": {
      "needs_background": "light"
     },
     "output_type": "display_data"
    }
   ],
   "source": [
    "plt.clf() # 그래프 초기화\n",
    "acc = history.history['accuracy']\n",
    "val_acc = history.history['val_accuracy']\n",
    "plt.plot(epochs, acc, 'bo', label='Training acc')\n",
    "plt.plot(epochs, val_acc, 'b', label='Validation acc')\n",
    "plt.title('Training and validation accuracy')\n",
    "plt.xlabel('Epochs')\n",
    "plt.ylabel('Accuracy')\n",
    "plt.legend()\n",
    "plt.show()"
   ]
  },
  {
   "cell_type": "code",
   "execution_count": 17,
   "metadata": {},
   "outputs": [
    {
     "data": {
      "text/plain": [
       "[1.0156875848770142, 0.7764915227890015]"
      ]
     },
     "execution_count": 17,
     "metadata": {},
     "output_type": "execute_result"
    }
   ],
   "source": [
    "# 정확도\n",
    "results\n"
   ]
  },
  {
   "cell_type": "code",
   "execution_count": 18,
   "metadata": {},
   "outputs": [
    {
     "name": "stdout",
     "output_type": "stream",
     "text": [
      "71/71 [==============================] - 0s 2ms/step\n"
     ]
    }
   ],
   "source": [
    "predictions = model.predict(x_test)"
   ]
  },
  {
   "cell_type": "code",
   "execution_count": 19,
   "metadata": {},
   "outputs": [
    {
     "data": {
      "text/plain": [
       "(46,)"
      ]
     },
     "execution_count": 19,
     "metadata": {},
     "output_type": "execute_result"
    }
   ],
   "source": [
    "# 길이가 46인 벡터\n",
    "predictions[0].shape"
   ]
  },
  {
   "cell_type": "code",
   "execution_count": 20,
   "metadata": {},
   "outputs": [
    {
     "data": {
      "text/plain": [
       "array([4.3231819e-04, 5.9241122e-03, 5.6071492e-04, 6.8453050e-01,\n",
       "       2.5911671e-01, 8.3870102e-05, 2.7679891e-04, 5.5585097e-05,\n",
       "       2.1123546e-03, 9.9129255e-05, 6.5506401e-04, 5.5743507e-03,\n",
       "       8.1300235e-04, 1.5049888e-03, 1.8945210e-04, 8.3836509e-05,\n",
       "       1.6396590e-02, 1.0944614e-03, 1.4260556e-03, 2.7777036e-03,\n",
       "       5.3993207e-03, 2.3946259e-03, 6.2208142e-05, 1.2392078e-03,\n",
       "       3.3494416e-05, 6.7286723e-04, 7.6001765e-05, 9.1048030e-05,\n",
       "       2.4549072e-04, 1.9579616e-04, 1.4266417e-04, 4.8481885e-04,\n",
       "       5.9795380e-05, 3.5402129e-05, 1.7406004e-03, 1.1407040e-04,\n",
       "       1.0945125e-03, 3.6561425e-04, 6.2460080e-05, 3.8734238e-04,\n",
       "       6.3612807e-04, 1.0008601e-04, 1.3813468e-05, 1.5643032e-04,\n",
       "       4.5950079e-04, 2.9000903e-05], dtype=float32)"
      ]
     },
     "execution_count": 20,
     "metadata": {},
     "output_type": "execute_result"
    }
   ],
   "source": [
    "# 46개의 숫자를 모두 더하면 1이 됨\n",
    "predictions[0]"
   ]
  },
  {
   "cell_type": "code",
   "execution_count": 21,
   "metadata": {},
   "outputs": [
    {
     "data": {
      "text/plain": [
       "0.9999999"
      ]
     },
     "execution_count": 21,
     "metadata": {},
     "output_type": "execute_result"
    }
   ],
   "source": [
    "# 이 벡터의 원소 합은 1\n",
    "np.sum(predictions[0])"
   ]
  },
  {
   "cell_type": "code",
   "execution_count": 22,
   "metadata": {},
   "outputs": [
    {
     "data": {
      "text/plain": [
       "3"
      ]
     },
     "execution_count": 22,
     "metadata": {},
     "output_type": "execute_result"
    }
   ],
   "source": [
    "#가장 확률이 높은 클래스\n",
    "np.argmax(predictions[0])"
   ]
  },
  {
   "cell_type": "code",
   "execution_count": null,
   "metadata": {},
   "outputs": [],
   "source": []
  },
  {
   "cell_type": "code",
   "execution_count": null,
   "metadata": {},
   "outputs": [],
   "source": []
  }
 ],
 "metadata": {
  "kernelspec": {
   "display_name": "Python 3.9.7 ('base')",
   "language": "python",
   "name": "python3"
  },
  "language_info": {
   "codemirror_mode": {
    "name": "ipython",
    "version": 3
   },
   "file_extension": ".py",
   "mimetype": "text/x-python",
   "name": "python",
   "nbconvert_exporter": "python",
   "pygments_lexer": "ipython3",
   "version": "3.9.7"
  },
  "orig_nbformat": 4,
  "vscode": {
   "interpreter": {
    "hash": "ff4f85d6e04298634172ac5d8264e7e9b556b95639fe52ebb9425c4d4cba0c9c"
   }
  }
 },
 "nbformat": 4,
 "nbformat_minor": 2
}
