{
 "cells": [
  {
   "cell_type": "code",
   "execution_count": 1,
   "metadata": {},
   "outputs": [
    {
     "name": "stdout",
     "output_type": "stream",
     "text": [
      "[[0. 0. 0. 0. 0. 1. 0. 0. 0. 0.]\n",
      " [1. 0. 0. 0. 0. 0. 0. 0. 0. 0.]\n",
      " [0. 0. 0. 0. 1. 0. 0. 0. 0. 0.]\n",
      " [0. 1. 0. 0. 0. 0. 0. 0. 0. 0.]\n",
      " [0. 0. 0. 0. 0. 0. 0. 0. 0. 1.]]\n"
     ]
    }
   ],
   "source": [
    "from keras.datasets import mnist\n",
    "from keras.utils import np_utils\n",
    "from keras.models import Sequential\n",
    "from keras.layers import Dense\n",
    "# 1. 데이터셋 생성\n",
    "# 학습용과 검증용 분리\n",
    "(x_train, y_train), (x_test, y_test) = mnist.load_data()\n",
    "# 데이터 전처리\n",
    "x_train = x_train.reshape(60000, 784).astype('float32') / 255.0\n",
    "x_test = x_test.reshape(10000, 784).astype('float32') / 255.0\n",
    "# 원핫인코딩(one-hot encoding) 처리\n",
    "y_train = np_utils.to_categorical(y_train)\n",
    "y_test = np_utils.to_categorical(y_test)\n",
    "print(y_train[:5])\n",
    "# 학습용 데이터셋의 일부를 validation set으로 분리\n",
    "# (train, validation, test)\n",
    "# 인공신경망의 파라미터를 튜닝하고 학습중지점을 설정하는 용도로 사용\n",
    "x_val = x_train[:12600]\n",
    "x_train = x_train[12600:]\n",
    "y_val = y_train[:12600]\n",
    "y_train = y_train[12600:]\n",
    "# 2. 모델 구성\n",
    "model = Sequential()\n",
    "#은닉층: 입력노드28*28=784, 출력노드 512, 활성화함수 relu\n",
    "model.add(Dense(units=512, input_dim=28*28, activation='relu'))\n",
    "#출력층: 입력노드 512, 출력노드 10, 활성화함수 softmax(다분류)\n",
    "model.add(Dense(units=10, activation='softmax'))\n",
    "# 3. 모델 학습과정 설정\n",
    "model.compile(loss='categorical_crossentropy', optimizer='sgd', metrics=['accuracy'])"
   ]
  },
  {
   "cell_type": "code",
   "execution_count": 2,
   "metadata": {},
   "outputs": [
    {
     "name": "stdout",
     "output_type": "stream",
     "text": [
      "Epoch 1/20\n",
      "1482/1482 [==============================] - 7s 4ms/step - loss: 0.6644 - accuracy: 0.8404 - val_loss: 0.3814 - val_accuracy: 0.8979\n",
      "Epoch 2/20\n",
      "1482/1482 [==============================] - 7s 4ms/step - loss: 0.3477 - accuracy: 0.9046 - val_loss: 0.3133 - val_accuracy: 0.9133\n",
      "Epoch 3/20\n",
      "1482/1482 [==============================] - 7s 5ms/step - loss: 0.2975 - accuracy: 0.9174 - val_loss: 0.2756 - val_accuracy: 0.9245\n",
      "Epoch 4/20\n",
      "1482/1482 [==============================] - 7s 5ms/step - loss: 0.2669 - accuracy: 0.9249 - val_loss: 0.2543 - val_accuracy: 0.9276\n",
      "Epoch 5/20\n",
      "1482/1482 [==============================] - 7s 5ms/step - loss: 0.2439 - accuracy: 0.9329 - val_loss: 0.2389 - val_accuracy: 0.9344\n",
      "Epoch 6/20\n",
      "1482/1482 [==============================] - 7s 5ms/step - loss: 0.2248 - accuracy: 0.9382 - val_loss: 0.2198 - val_accuracy: 0.9389\n",
      "Epoch 7/20\n",
      "1482/1482 [==============================] - 7s 5ms/step - loss: 0.2087 - accuracy: 0.9429 - val_loss: 0.2069 - val_accuracy: 0.9421\n",
      "Epoch 8/20\n",
      "1482/1482 [==============================] - 7s 4ms/step - loss: 0.1944 - accuracy: 0.9468 - val_loss: 0.1971 - val_accuracy: 0.9445\n",
      "Epoch 9/20\n",
      "1482/1482 [==============================] - 7s 5ms/step - loss: 0.1823 - accuracy: 0.9500 - val_loss: 0.1847 - val_accuracy: 0.9470\n",
      "Epoch 10/20\n",
      "1482/1482 [==============================] - 7s 5ms/step - loss: 0.1715 - accuracy: 0.9526 - val_loss: 0.1787 - val_accuracy: 0.9490\n",
      "Epoch 11/20\n",
      "1482/1482 [==============================] - 7s 5ms/step - loss: 0.1618 - accuracy: 0.9553 - val_loss: 0.1699 - val_accuracy: 0.9518\n",
      "Epoch 12/20\n",
      "1482/1482 [==============================] - 7s 5ms/step - loss: 0.1527 - accuracy: 0.9587 - val_loss: 0.1618 - val_accuracy: 0.9539\n",
      "Epoch 13/20\n",
      "1482/1482 [==============================] - 7s 5ms/step - loss: 0.1452 - accuracy: 0.9605 - val_loss: 0.1555 - val_accuracy: 0.9566\n",
      "Epoch 14/20\n",
      "1482/1482 [==============================] - 7s 5ms/step - loss: 0.1380 - accuracy: 0.9627 - val_loss: 0.1497 - val_accuracy: 0.9589\n",
      "Epoch 15/20\n",
      "1482/1482 [==============================] - 7s 5ms/step - loss: 0.1314 - accuracy: 0.9645 - val_loss: 0.1465 - val_accuracy: 0.9581\n",
      "Epoch 16/20\n",
      "1482/1482 [==============================] - 7s 5ms/step - loss: 0.1254 - accuracy: 0.9666 - val_loss: 0.1407 - val_accuracy: 0.9607\n",
      "Epoch 17/20\n",
      "1482/1482 [==============================] - 7s 5ms/step - loss: 0.1199 - accuracy: 0.9672 - val_loss: 0.1358 - val_accuracy: 0.9615\n",
      "Epoch 18/20\n",
      "1482/1482 [==============================] - 7s 5ms/step - loss: 0.1147 - accuracy: 0.9693 - val_loss: 0.1316 - val_accuracy: 0.9627\n",
      "Epoch 19/20\n",
      "1482/1482 [==============================] - 7s 5ms/step - loss: 0.1100 - accuracy: 0.9709 - val_loss: 0.1285 - val_accuracy: 0.9630\n",
      "Epoch 20/20\n",
      "1482/1482 [==============================] - 7s 5ms/step - loss: 0.1057 - accuracy: 0.9722 - val_loss: 0.1254 - val_accuracy: 0.9640\n"
     ]
    }
   ],
   "source": [
    "# 4. 모델 학습\n",
    "hist=model.fit(x_train, y_train, epochs=20, batch_size=32, validation_data=(x_val, y_val))"
   ]
  },
  {
   "cell_type": "code",
   "execution_count": 12,
   "metadata": {},
   "outputs": [
    {
     "name": "stdout",
     "output_type": "stream",
     "text": [
      "Epoch 1/50\n",
      "1482/1482 [==============================] - 6s 4ms/step - loss: 0.1012 - accuracy: 0.9734 - val_loss: 0.1230 - val_accuracy: 0.9656\n",
      "Epoch 2/50\n",
      "1482/1482 [==============================] - 6s 4ms/step - loss: 0.0979 - accuracy: 0.9745 - val_loss: 0.1198 - val_accuracy: 0.9656\n",
      "Epoch 3/50\n",
      "1482/1482 [==============================] - 6s 4ms/step - loss: 0.0944 - accuracy: 0.9753 - val_loss: 0.1169 - val_accuracy: 0.9663\n",
      "Epoch 4/50\n",
      "1482/1482 [==============================] - 6s 4ms/step - loss: 0.0910 - accuracy: 0.9765 - val_loss: 0.1151 - val_accuracy: 0.9659\n",
      "Epoch 5/50\n",
      "1482/1482 [==============================] - 5s 4ms/step - loss: 0.0877 - accuracy: 0.9769 - val_loss: 0.1122 - val_accuracy: 0.9674\n",
      "Epoch 6/50\n",
      "1482/1482 [==============================] - 6s 4ms/step - loss: 0.0848 - accuracy: 0.9783 - val_loss: 0.1113 - val_accuracy: 0.9671\n",
      "Epoch 7/50\n",
      "1482/1482 [==============================] - 5s 4ms/step - loss: 0.0820 - accuracy: 0.9787 - val_loss: 0.1087 - val_accuracy: 0.9685\n",
      "Epoch 8/50\n",
      "1482/1482 [==============================] - 7s 5ms/step - loss: 0.0796 - accuracy: 0.9796 - val_loss: 0.1067 - val_accuracy: 0.9679\n",
      "Epoch 9/50\n",
      "1482/1482 [==============================] - 7s 5ms/step - loss: 0.0769 - accuracy: 0.9804 - val_loss: 0.1053 - val_accuracy: 0.9690\n",
      "Epoch 10/50\n",
      "1482/1482 [==============================] - 7s 5ms/step - loss: 0.0747 - accuracy: 0.9806 - val_loss: 0.1033 - val_accuracy: 0.9698\n",
      "Epoch 11/50\n",
      "1482/1482 [==============================] - 7s 5ms/step - loss: 0.0722 - accuracy: 0.9815 - val_loss: 0.1013 - val_accuracy: 0.9698\n",
      "Epoch 12/50\n",
      "1482/1482 [==============================] - 7s 5ms/step - loss: 0.0701 - accuracy: 0.9823 - val_loss: 0.1001 - val_accuracy: 0.9708\n",
      "Epoch 13/50\n",
      "1482/1482 [==============================] - 7s 5ms/step - loss: 0.0679 - accuracy: 0.9834 - val_loss: 0.0980 - val_accuracy: 0.9707\n",
      "Epoch 14/50\n",
      "1482/1482 [==============================] - 7s 5ms/step - loss: 0.0660 - accuracy: 0.9836 - val_loss: 0.0969 - val_accuracy: 0.9707\n",
      "Epoch 15/50\n",
      "1482/1482 [==============================] - 7s 5ms/step - loss: 0.0643 - accuracy: 0.9835 - val_loss: 0.0960 - val_accuracy: 0.9706\n",
      "Epoch 16/50\n",
      "1482/1482 [==============================] - 7s 5ms/step - loss: 0.0624 - accuracy: 0.9839 - val_loss: 0.0945 - val_accuracy: 0.9717\n",
      "Epoch 17/50\n",
      "1482/1482 [==============================] - 7s 5ms/step - loss: 0.0606 - accuracy: 0.9849 - val_loss: 0.0940 - val_accuracy: 0.9719\n",
      "Epoch 18/50\n",
      "1482/1482 [==============================] - 7s 5ms/step - loss: 0.0589 - accuracy: 0.9856 - val_loss: 0.0927 - val_accuracy: 0.9717\n",
      "Epoch 19/50\n",
      "1482/1482 [==============================] - 7s 5ms/step - loss: 0.0573 - accuracy: 0.9857 - val_loss: 0.0923 - val_accuracy: 0.9714\n",
      "Epoch 20/50\n",
      "1482/1482 [==============================] - 7s 5ms/step - loss: 0.0559 - accuracy: 0.9862 - val_loss: 0.0917 - val_accuracy: 0.9721\n",
      "Epoch 21/50\n",
      "1482/1482 [==============================] - 7s 5ms/step - loss: 0.0545 - accuracy: 0.9862 - val_loss: 0.0899 - val_accuracy: 0.9728\n",
      "Epoch 22/50\n",
      "1482/1482 [==============================] - 7s 5ms/step - loss: 0.0530 - accuracy: 0.9872 - val_loss: 0.0889 - val_accuracy: 0.9747\n",
      "Epoch 23/50\n",
      "1482/1482 [==============================] - 7s 5ms/step - loss: 0.0517 - accuracy: 0.9875 - val_loss: 0.0882 - val_accuracy: 0.9736\n",
      "Epoch 24/50\n",
      "1482/1482 [==============================] - 7s 5ms/step - loss: 0.0503 - accuracy: 0.9878 - val_loss: 0.0883 - val_accuracy: 0.9737\n",
      "Epoch 25/50\n",
      "1482/1482 [==============================] - 7s 5ms/step - loss: 0.0491 - accuracy: 0.9882 - val_loss: 0.0871 - val_accuracy: 0.9737\n",
      "Epoch 26/50\n",
      "1482/1482 [==============================] - 7s 5ms/step - loss: 0.0479 - accuracy: 0.9887 - val_loss: 0.0875 - val_accuracy: 0.9740\n",
      "Epoch 27/50\n",
      "1482/1482 [==============================] - 7s 5ms/step - loss: 0.0467 - accuracy: 0.9891 - val_loss: 0.0853 - val_accuracy: 0.9748\n",
      "Epoch 28/50\n",
      "1482/1482 [==============================] - 7s 5ms/step - loss: 0.0456 - accuracy: 0.9896 - val_loss: 0.0851 - val_accuracy: 0.9748\n",
      "Epoch 29/50\n",
      "1482/1482 [==============================] - 7s 5ms/step - loss: 0.0445 - accuracy: 0.9895 - val_loss: 0.0845 - val_accuracy: 0.9748\n",
      "Epoch 30/50\n",
      "1482/1482 [==============================] - 7s 5ms/step - loss: 0.0434 - accuracy: 0.9901 - val_loss: 0.0837 - val_accuracy: 0.9746\n",
      "Epoch 31/50\n",
      "1482/1482 [==============================] - 7s 5ms/step - loss: 0.0424 - accuracy: 0.9902 - val_loss: 0.0827 - val_accuracy: 0.9755\n",
      "Epoch 32/50\n",
      "1482/1482 [==============================] - 7s 5ms/step - loss: 0.0413 - accuracy: 0.9908 - val_loss: 0.0828 - val_accuracy: 0.9755\n",
      "Epoch 33/50\n",
      "1482/1482 [==============================] - 7s 5ms/step - loss: 0.0405 - accuracy: 0.9906 - val_loss: 0.0824 - val_accuracy: 0.9754\n",
      "Epoch 34/50\n",
      "1482/1482 [==============================] - 7s 5ms/step - loss: 0.0396 - accuracy: 0.9912 - val_loss: 0.0818 - val_accuracy: 0.9750\n",
      "Epoch 35/50\n",
      "1482/1482 [==============================] - 12s 8ms/step - loss: 0.0387 - accuracy: 0.9913 - val_loss: 0.0806 - val_accuracy: 0.9756\n",
      "Epoch 36/50\n",
      "1482/1482 [==============================] - 7s 5ms/step - loss: 0.0378 - accuracy: 0.9917 - val_loss: 0.0802 - val_accuracy: 0.9755\n",
      "Epoch 37/50\n",
      "1482/1482 [==============================] - 7s 5ms/step - loss: 0.0369 - accuracy: 0.9919 - val_loss: 0.0814 - val_accuracy: 0.9757\n",
      "Epoch 38/50\n",
      "1482/1482 [==============================] - 7s 5ms/step - loss: 0.0362 - accuracy: 0.9921 - val_loss: 0.0798 - val_accuracy: 0.9760\n",
      "Epoch 39/50\n",
      "1482/1482 [==============================] - 7s 5ms/step - loss: 0.0354 - accuracy: 0.9924 - val_loss: 0.0795 - val_accuracy: 0.9755\n",
      "Epoch 40/50\n",
      "1482/1482 [==============================] - 7s 5ms/step - loss: 0.0346 - accuracy: 0.9927 - val_loss: 0.0784 - val_accuracy: 0.9762\n",
      "Epoch 41/50\n",
      "1482/1482 [==============================] - 7s 5ms/step - loss: 0.0339 - accuracy: 0.9930 - val_loss: 0.0790 - val_accuracy: 0.9760\n",
      "Epoch 42/50\n",
      "1482/1482 [==============================] - 7s 5ms/step - loss: 0.0331 - accuracy: 0.9930 - val_loss: 0.0779 - val_accuracy: 0.9763\n",
      "Epoch 43/50\n",
      "1482/1482 [==============================] - 7s 5ms/step - loss: 0.0325 - accuracy: 0.9932 - val_loss: 0.0781 - val_accuracy: 0.9760\n",
      "Epoch 44/50\n",
      "1482/1482 [==============================] - 7s 5ms/step - loss: 0.0318 - accuracy: 0.9933 - val_loss: 0.0779 - val_accuracy: 0.9762\n",
      "Epoch 45/50\n",
      "1482/1482 [==============================] - 7s 5ms/step - loss: 0.0311 - accuracy: 0.9938 - val_loss: 0.0769 - val_accuracy: 0.9766\n",
      "Epoch 46/50\n",
      "1482/1482 [==============================] - 7s 5ms/step - loss: 0.0305 - accuracy: 0.9939 - val_loss: 0.0774 - val_accuracy: 0.9767\n",
      "Epoch 47/50\n",
      "1482/1482 [==============================] - 7s 5ms/step - loss: 0.0299 - accuracy: 0.9939 - val_loss: 0.0772 - val_accuracy: 0.9760\n",
      "Epoch 48/50\n",
      "1482/1482 [==============================] - 7s 5ms/step - loss: 0.0293 - accuracy: 0.9942 - val_loss: 0.0760 - val_accuracy: 0.9767\n",
      "Epoch 49/50\n",
      "1482/1482 [==============================] - 7s 5ms/step - loss: 0.0287 - accuracy: 0.9946 - val_loss: 0.0764 - val_accuracy: 0.9762\n",
      "Epoch 50/50\n",
      "1482/1482 [==============================] - 7s 5ms/step - loss: 0.0281 - accuracy: 0.9944 - val_loss: 0.0757 - val_accuracy: 0.9769\n"
     ]
    }
   ],
   "source": [
    "# 조기 학습 종료 조건 설정\n",
    "from keras.callbacks import EarlyStopping\n",
    "# 3회 이상 성능이 개선되지 않으면 학습 종료\n",
    "early_stopping=EarlyStopping(patience=3)\n",
    "hist=model.fit(x_train, y_train, epochs=50, batch_size=32, validation_data=(x_val, y_val), callbacks=[early_stopping])"
   ]
  },
  {
   "cell_type": "code",
   "execution_count": 4,
   "metadata": {},
   "outputs": [
    {
     "name": "stdout",
     "output_type": "stream",
     "text": [
      "Model: \"sequential\"\n",
      "_________________________________________________________________\n",
      " Layer (type)                Output Shape              Param #   \n",
      "=================================================================\n",
      " dense (Dense)               (None, 512)               401920    \n",
      "                                                                 \n",
      " dense_1 (Dense)             (None, 10)                5130      \n",
      "                                                                 \n",
      "=================================================================\n",
      "Total params: 407,050\n",
      "Trainable params: 407,050\n",
      "Non-trainable params: 0\n",
      "_________________________________________________________________\n"
     ]
    }
   ],
   "source": [
    "model.summary()"
   ]
  },
  {
   "cell_type": "code",
   "execution_count": 5,
   "metadata": {},
   "outputs": [
    {
     "data": {
      "image/png": "[encoded data removed]",
      "text/plain": [
       "<IPython.core.display.Image object>"
      ]
     },
     "execution_count": 5,
     "metadata": {},
     "output_type": "execute_result"
    }
   ],
   "source": [
    "from keras.utils.vis_utils import plot_model\n",
    "plot_model(model, show_shapes=True, show_layer_names=True)"
   ]
  },
  {
   "cell_type": "code",
   "execution_count": 6,
   "metadata": {},
   "outputs": [
    {
     "name": "stdout",
     "output_type": "stream",
     "text": [
      "loss_and_metrics : [0.11438152194023132, 0.9666000008583069]\n",
      "INFO:tensorflow:Assets written to: c:/data/mnist\\assets\n"
     ]
    }
   ],
   "source": [
    "import numpy as np\n",
    "# 5. 모델 평가\n",
    "loss_and_metrics = model.evaluate(x_test, y_test, batch_size=32, verbose=0)\n",
    "print('loss_and_metrics : ' + str(loss_and_metrics))\n",
    "# 6. 모델 저장(지정한 디렉토리 하위에 assets, variables 디렉토리가 생성됨)\n",
    "model.save('c:/data/mnist')"
   ]
  },
  {
   "cell_type": "code",
   "execution_count": 7,
   "metadata": {},
   "outputs": [
    {
     "data": {
      "image/png": "[encoded data removed]",
      "text/plain": [
       "<Figure size 432x288 with 2 Axes>"
      ]
     },
     "metadata": {
      "needs_background": "light"
     },
     "output_type": "display_data"
    }
   ],
   "source": [
    "import matplotlib.pyplot as plt\n",
    "# 5. 모델 학습 과정 표시\n",
    "fig, loss_ax = plt.subplots()\n",
    "# 서로 다른 y축을 가진 2개의 x데이터를 사용하여 동일한 플롯에 그래프 출력\n",
    "acc_ax = loss_ax.twinx() # x축에 2개의 요소 사용\n",
    "loss_ax.plot(hist.history['loss'], 'y', label='train loss')\n",
    "# val: validation\n",
    "loss_ax.plot(hist.history['val_loss'], 'r', label='valloss')\n",
    "acc_ax.plot(hist.history['accuracy'], 'b', label='trainacc')\n",
    "acc_ax.plot(hist.history['val_accuracy'], 'g', label='valacc')\n",
    "loss_ax.set_xlabel('epoch')\n",
    "loss_ax.set_ylabel('loss')\n",
    "acc_ax.set_ylabel('accuracy')\n",
    "loss_ax.legend()\n",
    "acc_ax.legend()\n",
    "plt.show()"
   ]
  },
  {
   "cell_type": "code",
   "execution_count": 9,
   "metadata": {},
   "outputs": [
    {
     "name": "stdout",
     "output_type": "stream",
     "text": [
      "2/2 [==============================] - 0s 4ms/step\n",
      " 실제값: 1 , 예측값: 1\n",
      " 실제값: 5 , 예측값: 5\n",
      " 실제값: 1 , 예측값: 1\n",
      " 실제값: 1 , 예측값: 1\n",
      " 실제값: 3 , 예측값: 3\n",
      " 실제값: 7 , 예측값: 7\n",
      " 실제값: 6 , 예측값: 6\n",
      " 실제값: 1 , 예측값: 1\n",
      " 실제값: 9 , 예측값: 9\n",
      " 실제값: 2 , 예측값: 6\n"
     ]
    }
   ],
   "source": [
    "from keras.models import load_model\n",
    "from numpy import argmax\n",
    "# 전체 샘플 중에서 50개 샘플 선택\n",
    "xhat_idx=np.random.choice(x_test.shape[0],50)\n",
    "xhat=x_test[xhat_idx]\n",
    "# 모형이 저장된 디렉토리 지정\n",
    "model=load_model('c:/data/mnist') # keras 신경망 모형\n",
    "yhat=model.predict(xhat)\n",
    "for i in range(10):\n",
    "    print(' 실제값:',argmax(y_test[xhat_idx[i]]), ', 예측값:',np.argmax(yhat[i])) "
   ]
  },
  {
   "cell_type": "code",
   "execution_count": 10,
   "metadata": {},
   "outputs": [
    {
     "data": {
      "text/plain": [
       "array([6.2302079e-06, 9.9694747e-01, 6.4073171e-04, 2.1876283e-04,\n",
       "       8.5749678e-05, 4.2011194e-05, 1.0350272e-04, 9.6500368e-04,\n",
       "       9.2200493e-04, 6.8608766e-05], dtype=float32)"
      ]
     },
     "execution_count": 10,
     "metadata": {},
     "output_type": "execute_result"
    }
   ],
   "source": [
    "yhat[0]"
   ]
  },
  {
   "cell_type": "code",
   "execution_count": 11,
   "metadata": {},
   "outputs": [
    {
     "data": {
      "image/png": "[encoded data removed]",
      "text/plain": [
       "<Figure size 432x288 with 10 Axes>"
      ]
     },
     "metadata": {},
     "output_type": "display_data"
    }
   ],
   "source": [
    "import matplotlib.pyplot as plt\n",
    "fig=plt.figure()\n",
    "for i in range(10):\n",
    "    subplot=fig.add_subplot(2, 5, i+1)\n",
    "    subplot.set_xticks([])\n",
    "    subplot.set_yticks([])\n",
    "    subplot.imshow(x_test[i].reshape((28, 28)), cmap=plt.cm.gray_r)\n",
    "plt.show()"
   ]
  },
  {
   "cell_type": "code",
   "execution_count": null,
   "metadata": {},
   "outputs": [],
   "source": []
  }
 ],
 "metadata": {
  "kernelspec": {
   "display_name": "Python 3.9.7 ('base')",
   "language": "python",
   "name": "python3"
  },
  "language_info": {
   "codemirror_mode": {
    "name": "ipython",
    "version": 3
   },
   "file_extension": ".py",
   "mimetype": "text/x-python",
   "name": "python",
   "nbconvert_exporter": "python",
   "pygments_lexer": "ipython3",
   "version": "3.9.7"
  },
  "orig_nbformat": 4,
  "vscode": {
   "interpreter": {
    "hash": "ff4f85d6e04298634172ac5d8264e7e9b556b95639fe52ebb9425c4d4cba0c9c"
   }
  }
 },
 "nbformat": 4,
 "nbformat_minor": 2
}
