{
 "cells": [
  {
   "cell_type": "code",
   "execution_count": 5,
   "metadata": {},
   "outputs": [
    {
     "name": "stdout",
     "output_type": "stream",
     "text": [
      "<class 'range'>\n",
      "range(10, 51, 10)\n",
      "[10, 20, 30, 40, 50]\n",
      "<class 'numpy.ndarray'>\n",
      "[10 20 30 40 50]\n",
      "(5,)\n"
     ]
    }
   ],
   "source": [
    "import numpy as np\n",
    "items=range(10,51,10) #10~50, step 10\n",
    "print(type(items)) #자료형\n",
    "print(items)\n",
    "print(list(items))\n",
    "\n",
    "#넘파이배열 생성/ 위보다 사용이 편함\n",
    "arr=np.array(items) # 넘파이배열로 변환\n",
    "print(type(arr)) # darray\n",
    "print(arr)\n",
    "print(arr.shape)#차원 (5,) "
   ]
  },
  {
   "cell_type": "code",
   "execution_count": 2,
   "metadata": {},
   "outputs": [
    {
     "name": "stdout",
     "output_type": "stream",
     "text": [
      "[[ 1  2  3  4  5]\n",
      " [10 20 30 40 50]]\n",
      "(2, 5)\n"
     ]
    }
   ],
   "source": [
    "#2차원 넘파이배열\n",
    "items2=[range(1,6), range(10,51,10)] #[첫번째 자료, 두번째 자료]\n",
    "arr2=np.array(items2)\n",
    "print(arr2)\n",
    "#2행5열의 2차원배열\n",
    "print(arr2.shape) #2행 5열의 2차원 배열"
   ]
  },
  {
   "cell_type": "code",
   "execution_count": 7,
   "metadata": {},
   "outputs": [
    {
     "name": "stdout",
     "output_type": "stream",
     "text": [
      "[[120 140]\n",
      " [265 265]]\n",
      "[[ 20  20]\n",
      " [125 105]]\n",
      "[[ 3500  4800]\n",
      " [13650 14800]]\n",
      "[[1.4        1.33333333]\n",
      " [2.78571429 2.3125    ]]\n",
      "[[1 1]\n",
      " [2 2]]\n"
     ]
    }
   ],
   "source": [
    "#numpy 배열의 연산\n",
    "arr1=np.array([[70,80],[195,185]]) #2차원 배열\n",
    "arr2=np.array([[50,60],[70,80]])\n",
    "# arr1=[[70,80],[195,185]]\n",
    "# arr2=[[50,60],[70,80]]\n",
    "print(arr1+arr2) #배열의 같은 인덱스끼리 연산\n",
    "print(arr1-arr2)\n",
    "print(arr1*arr2)\n",
    "print(arr1/arr2) #실수몫(소수점 다 나옴)\n",
    "print(arr1//arr2) # 정수몫"
   ]
  },
  {
   "cell_type": "code",
   "execution_count": 13,
   "metadata": {},
   "outputs": [
    {
     "name": "stdout",
     "output_type": "stream",
     "text": [
      "[[60 70 80]\n",
      " [77 88 99]]\n",
      "(2, 3)\n"
     ]
    }
   ],
   "source": [
    "student1=[60,70,80] # 1번학생\n",
    "student2=[77,88,99] # 2번학생\n",
    "points=np.array([student1,student2]) # 1차원 배열을 2차원 배열로 결합\n",
    "print(points)\n",
    "print(points.shape)"
   ]
  },
  {
   "cell_type": "code",
   "execution_count": 9,
   "metadata": {},
   "outputs": [
    {
     "name": "stdout",
     "output_type": "stream",
     "text": [
      "474\n",
      "[137 158 179]\n",
      "[210 264]\n",
      "79.0\n",
      "[68.5 79.  89.5]\n",
      "[70. 88.]\n"
     ]
    }
   ],
   "source": [
    "print(points.sum()) # 전체합계\n",
    "print(points.sum(axis=0)) # 열의합계(세로방향)\n",
    "print(points.sum(axis=1))#행의합계(가로방향)\n",
    "print(points.mean())#전체평균\n",
    "print(points.mean(axis=0))#열의평균\n",
    "print(points.mean(axis=1))#행의평균"
   ]
  },
  {
   "cell_type": "code",
   "execution_count": 10,
   "metadata": {},
   "outputs": [
    {
     "name": "stdout",
     "output_type": "stream",
     "text": [
      "[77 88 99]\n",
      "264\n",
      "88.0\n"
     ]
    }
   ],
   "source": [
    "# 각 요소 중 큰 값을 뽑아서 새로운 배열을 생성함\n",
    "arr=np.maximum(student1, student2) # 최대값만 선택된 1차원 배열\n",
    "print(arr)\n",
    "print(arr.sum())#합계\n",
    "print(arr.mean())#평균"
   ]
  },
  {
   "cell_type": "code",
   "execution_count": 14,
   "metadata": {},
   "outputs": [
    {
     "name": "stdout",
     "output_type": "stream",
     "text": [
      "[77, 88, 99]\n",
      "[99, 88, 77]\n"
     ]
    }
   ],
   "source": [
    "a=[99, 88, 77]\n",
    "a.sort() # 정렬(오름차순)\n",
    "print(a)\n",
    "a.reverse() # 오름차순 정렬 후 내림차순 정렬\n",
    "print(a)"
   ]
  },
  {
   "cell_type": "code",
   "execution_count": 15,
   "metadata": {},
   "outputs": [
    {
     "name": "stdout",
     "output_type": "stream",
     "text": [
      "[77 88 99]\n",
      "[99 88 77]\n"
     ]
    }
   ],
   "source": [
    "print(np.sort(arr)) # 오름차순\n",
    "#start:stop:step\n",
    "print(np.sort(arr)[::-1]) # 내림차순"
   ]
  },
  {
   "cell_type": "code",
   "execution_count": 12,
   "metadata": {},
   "outputs": [
    {
     "name": "stdout",
     "output_type": "stream",
     "text": [
      "['김철수' '윤동주' '이승호' '이영희' '홍상현']\n",
      "[20 28 29 30 31 33 35 40 45]\n"
     ]
    }
   ],
   "source": [
    "names = np.array(['김철수','이승호','김철수','김철수','홍상현','이영희','윤동주'])\n",
    "ages=np.array([20,35,30,33,28,29,30,31,30,40,45])\n",
    "#중복값을 제거한 결과값\n",
    "print(np.unique(names)) # 중복값 제거한 리스트 함수\n",
    "print(np.unique(ages))"
   ]
  },
  {
   "cell_type": "code",
   "execution_count": null,
   "metadata": {},
   "outputs": [],
   "source": []
  }
 ],
 "metadata": {
  "interpreter": {
   "hash": "ff4f85d6e04298634172ac5d8264e7e9b556b95639fe52ebb9425c4d4cba0c9c"
  },
  "kernelspec": {
   "display_name": "Python 3.9.7 ('base')",
   "language": "python",
   "name": "python3"
  },
  "language_info": {
   "codemirror_mode": {
    "name": "ipython",
    "version": 3
   },
   "file_extension": ".py",
   "mimetype": "text/x-python",
   "name": "python",
   "nbconvert_exporter": "python",
   "pygments_lexer": "ipython3",
   "version": "3.9.7"
  },
  "orig_nbformat": 4
 },
 "nbformat": 4,
 "nbformat_minor": 2
}
