{
 "cells": [
  {
   "cell_type": "code",
   "execution_count": 1,
   "metadata": {},
   "outputs": [
    {
     "data": {
      "text/html": [
       "<div>\n",
       "<style scoped>\n",
       "    .dataframe tbody tr th:only-of-type {\n",
       "        vertical-align: middle;\n",
       "    }\n",
       "\n",
       "    .dataframe tbody tr th {\n",
       "        vertical-align: top;\n",
       "    }\n",
       "\n",
       "    .dataframe thead th {\n",
       "        text-align: right;\n",
       "    }\n",
       "</style>\n",
       "<table border=\"1\" class=\"dataframe\">\n",
       "  <thead>\n",
       "    <tr style=\"text-align: right;\">\n",
       "      <th></th>\n",
       "      <th>Benzene</th>\n",
       "      <th>CS2</th>\n",
       "      <th>Ozone</th>\n",
       "      <th>SO2</th>\n",
       "      <th>Toluene</th>\n",
       "      <th>Xylene</th>\n",
       "      <th>Wind Direction</th>\n",
       "      <th>Wind Speed</th>\n",
       "    </tr>\n",
       "  </thead>\n",
       "  <tbody>\n",
       "    <tr>\n",
       "      <th>count</th>\n",
       "      <td>31642.000000</td>\n",
       "      <td>31642.0</td>\n",
       "      <td>31642.000000</td>\n",
       "      <td>31642.000000</td>\n",
       "      <td>31642.000000</td>\n",
       "      <td>31642.000000</td>\n",
       "      <td>31621.000000</td>\n",
       "      <td>31621.000000</td>\n",
       "    </tr>\n",
       "    <tr>\n",
       "      <th>mean</th>\n",
       "      <td>2.501436</td>\n",
       "      <td>2.5</td>\n",
       "      <td>27.279164</td>\n",
       "      <td>3.546245</td>\n",
       "      <td>2.820468</td>\n",
       "      <td>2.554937</td>\n",
       "      <td>172.248031</td>\n",
       "      <td>6.724582</td>\n",
       "    </tr>\n",
       "    <tr>\n",
       "      <th>std</th>\n",
       "      <td>0.078137</td>\n",
       "      <td>0.0</td>\n",
       "      <td>12.095794</td>\n",
       "      <td>6.921460</td>\n",
       "      <td>6.276938</td>\n",
       "      <td>2.181794</td>\n",
       "      <td>76.077180</td>\n",
       "      <td>3.245453</td>\n",
       "    </tr>\n",
       "    <tr>\n",
       "      <th>min</th>\n",
       "      <td>2.500000</td>\n",
       "      <td>2.5</td>\n",
       "      <td>2.500000</td>\n",
       "      <td>2.500000</td>\n",
       "      <td>2.500000</td>\n",
       "      <td>2.500000</td>\n",
       "      <td>0.000000</td>\n",
       "      <td>1.000000</td>\n",
       "    </tr>\n",
       "    <tr>\n",
       "      <th>25%</th>\n",
       "      <td>2.500000</td>\n",
       "      <td>2.5</td>\n",
       "      <td>18.750000</td>\n",
       "      <td>2.500000</td>\n",
       "      <td>2.500000</td>\n",
       "      <td>2.500000</td>\n",
       "      <td>140.000000</td>\n",
       "      <td>4.000000</td>\n",
       "    </tr>\n",
       "    <tr>\n",
       "      <th>50%</th>\n",
       "      <td>2.500000</td>\n",
       "      <td>2.5</td>\n",
       "      <td>26.040000</td>\n",
       "      <td>2.500000</td>\n",
       "      <td>2.500000</td>\n",
       "      <td>2.500000</td>\n",
       "      <td>163.000000</td>\n",
       "      <td>6.000000</td>\n",
       "    </tr>\n",
       "    <tr>\n",
       "      <th>75%</th>\n",
       "      <td>2.500000</td>\n",
       "      <td>2.5</td>\n",
       "      <td>34.320000</td>\n",
       "      <td>2.500000</td>\n",
       "      <td>2.500000</td>\n",
       "      <td>2.500000</td>\n",
       "      <td>207.000000</td>\n",
       "      <td>9.000000</td>\n",
       "    </tr>\n",
       "    <tr>\n",
       "      <th>max</th>\n",
       "      <td>9.950000</td>\n",
       "      <td>2.5</td>\n",
       "      <td>396.670000</td>\n",
       "      <td>313.310000</td>\n",
       "      <td>573.360000</td>\n",
       "      <td>220.610000</td>\n",
       "      <td>359.000000</td>\n",
       "      <td>26.000000</td>\n",
       "    </tr>\n",
       "  </tbody>\n",
       "</table>\n",
       "</div>"
      ],
      "text/plain": [
       "            Benzene      CS2         Ozone           SO2       Toluene  \\\n",
       "count  31642.000000  31642.0  31642.000000  31642.000000  31642.000000   \n",
       "mean       2.501436      2.5     27.279164      3.546245      2.820468   \n",
       "std        0.078137      0.0     12.095794      6.921460      6.276938   \n",
       "min        2.500000      2.5      2.500000      2.500000      2.500000   \n",
       "25%        2.500000      2.5     18.750000      2.500000      2.500000   \n",
       "50%        2.500000      2.5     26.040000      2.500000      2.500000   \n",
       "75%        2.500000      2.5     34.320000      2.500000      2.500000   \n",
       "max        9.950000      2.5    396.670000    313.310000    573.360000   \n",
       "\n",
       "             Xylene  Wind Direction    Wind Speed  \n",
       "count  31642.000000    31621.000000  31621.000000  \n",
       "mean       2.554937      172.248031      6.724582  \n",
       "std        2.181794       76.077180      3.245453  \n",
       "min        2.500000        0.000000      1.000000  \n",
       "25%        2.500000      140.000000      4.000000  \n",
       "50%        2.500000      163.000000      6.000000  \n",
       "75%        2.500000      207.000000      9.000000  \n",
       "max      220.610000      359.000000     26.000000  "
      ]
     },
     "execution_count": 1,
     "metadata": {},
     "output_type": "execute_result"
    }
   ],
   "source": [
    "import pandas as pd\n",
    "df = pd.read_csv('c:/data/air/data.csv')\n",
    "df.head()\n",
    "df.describe()"
   ]
  },
  {
   "cell_type": "code",
   "execution_count": 8,
   "metadata": {},
   "outputs": [
    {
     "name": "stdout",
     "output_type": "stream",
     "text": [
      "0    2.5\n",
      "1    2.5\n",
      "2    2.5\n",
      "3    2.5\n",
      "4    2.5\n",
      "Name: Ozone, dtype: float64\n",
      "31637    20.87\n",
      "31638    20.67\n",
      "31639    20.61\n",
      "31640    20.59\n",
      "31641    20.47\n",
      "Name: Ozone, dtype: float64\n",
      "0    6.0\n",
      "1    7.0\n",
      "2    5.0\n",
      "3    8.0\n",
      "4    5.0\n",
      "Name: Wind Speed, dtype: float64\n",
      "31637    2.0\n",
      "31638    1.0\n",
      "31639    2.0\n",
      "31640    2.0\n",
      "31641    2.0\n",
      "Name: Wind Speed, dtype: float64\n"
     ]
    }
   ],
   "source": [
    "sr_ozone=pd.Series(df['Ozone'])\n",
    "print(sr_ozone.head())\n",
    "print(sr_ozone.tail())\n",
    "sr_speed=pd.Series(df['Wind Speed'])\n",
    "print(sr_speed.head())\n",
    "print(sr_speed.tail())"
   ]
  },
  {
   "cell_type": "code",
   "execution_count": 9,
   "metadata": {},
   "outputs": [
    {
     "data": {
      "text/plain": [
       "[<matplotlib.lines.Line2D at 0x2012e290e20>]"
      ]
     },
     "execution_count": 9,
     "metadata": {},
     "output_type": "execute_result"
    },
    {
     "data": {
      "image/png": "[encoded data removed]",
      "text/plain": [
       "<Figure size 432x288 with 1 Axes>"
      ]
     },
     "metadata": {
      "needs_background": "light"
     },
     "output_type": "display_data"
    }
   ],
   "source": [
    "import matplotlib.pyplot as plt\n",
    "import numpy as np\n",
    "X=np.array([1,2,3,4,5])\n",
    "y=X*5\n",
    "#x축 index, y축 value\n",
    "#plt.figure(figsize=(12,3))\n",
    "plt.scatter(X,y)\n",
    "plt.plot(X,y)\n"
   ]
  },
  {
   "cell_type": "code",
   "execution_count": 11,
   "metadata": {},
   "outputs": [
    {
     "data": {
      "text/html": [
       "<div>\n",
       "<style scoped>\n",
       "    .dataframe tbody tr th:only-of-type {\n",
       "        vertical-align: middle;\n",
       "    }\n",
       "\n",
       "    .dataframe tbody tr th {\n",
       "        vertical-align: top;\n",
       "    }\n",
       "\n",
       "    .dataframe thead th {\n",
       "        text-align: right;\n",
       "    }\n",
       "</style>\n",
       "<table border=\"1\" class=\"dataframe\">\n",
       "  <thead>\n",
       "    <tr style=\"text-align: right;\">\n",
       "      <th></th>\n",
       "      <th>Ozone</th>\n",
       "      <th>Wind Speed</th>\n",
       "    </tr>\n",
       "  </thead>\n",
       "  <tbody>\n",
       "    <tr>\n",
       "      <th>10</th>\n",
       "      <td>358.28</td>\n",
       "      <td>5.0</td>\n",
       "    </tr>\n",
       "    <tr>\n",
       "      <th>11</th>\n",
       "      <td>262.24</td>\n",
       "      <td>5.0</td>\n",
       "    </tr>\n",
       "    <tr>\n",
       "      <th>12</th>\n",
       "      <td>356.12</td>\n",
       "      <td>7.0</td>\n",
       "    </tr>\n",
       "    <tr>\n",
       "      <th>13</th>\n",
       "      <td>194.02</td>\n",
       "      <td>7.0</td>\n",
       "    </tr>\n",
       "    <tr>\n",
       "      <th>14</th>\n",
       "      <td>200.55</td>\n",
       "      <td>7.0</td>\n",
       "    </tr>\n",
       "  </tbody>\n",
       "</table>\n",
       "</div>"
      ],
      "text/plain": [
       "     Ozone  Wind Speed\n",
       "10  358.28         5.0\n",
       "11  262.24         5.0\n",
       "12  356.12         7.0\n",
       "13  194.02         7.0\n",
       "14  200.55         7.0"
      ]
     },
     "execution_count": 11,
     "metadata": {},
     "output_type": "execute_result"
    }
   ],
   "source": [
    "df2=df.loc[10:29,['Ozone','Wind Speed']]\n",
    "df2.head()"
   ]
  },
  {
   "cell_type": "code",
   "execution_count": 17,
   "metadata": {},
   "outputs": [
    {
     "data": {
      "text/plain": [
       "21"
      ]
     },
     "execution_count": 17,
     "metadata": {},
     "output_type": "execute_result"
    }
   ],
   "source": [
    "len(df2)+1"
   ]
  },
  {
   "cell_type": "code",
   "execution_count": 14,
   "metadata": {},
   "outputs": [
    {
     "data": {
      "image/png": "[encoded data removed]",
      "text/plain": [
       "<Figure size 432x288 with 1 Axes>"
      ]
     },
     "metadata": {
      "needs_background": "light"
     },
     "output_type": "display_data"
    }
   ],
   "source": [
    "plt.bar(range(1,len(df2)+1),df2['Ozone'])\n",
    "#x축의눈금\n",
    "plt.xticks(range(1,len(df2)+1))\n",
    "plt.show()"
   ]
  },
  {
   "cell_type": "code",
   "execution_count": 15,
   "metadata": {},
   "outputs": [
    {
     "data": {
      "image/png": "[encoded data removed]",
      "text/plain": [
       "<Figure size 432x288 with 1 Axes>"
      ]
     },
     "metadata": {
      "needs_background": "light"
     },
     "output_type": "display_data"
    }
   ],
   "source": [
    "#barh: 가로 막대그래프(x,y축 바뀜)\n",
    "plt.barh(range(1,len(df2)+1),df2['Ozone']) #가로막대그래프\n",
    "plt.yticks(range(1,len(df2)+1)) #y축의 눈금 설정\n",
    "plt.show()"
   ]
  },
  {
   "cell_type": "code",
   "execution_count": 18,
   "metadata": {},
   "outputs": [
    {
     "name": "stdout",
     "output_type": "stream",
     "text": [
      "     Ozone  Wind Speed\n",
      "10     NaN         5.0\n",
      "11  262.24         5.0\n",
      "12  356.12         7.0\n",
      "13  194.02         7.0\n",
      "14  200.55         7.0\n"
     ]
    }
   ],
   "source": [
    "# loc 필드명 사용가능, iloc 숫자 인덱스만 사용 가능\n",
    "df2.iloc[0,0]=None #0행 ㅇ열\n",
    "print(df2.head())"
   ]
  },
  {
   "cell_type": "code",
   "execution_count": 19,
   "metadata": {},
   "outputs": [
    {
     "name": "stdout",
     "output_type": "stream",
     "text": [
      "     Ozone  Wind Speed\n",
      "10     NaN         5.0\n",
      "11  262.24         5.0\n",
      "12  356.12         7.0\n",
      "13  194.02         7.0\n",
      "14  200.55         7.0\n",
      "     Ozone  Wind Speed\n",
      "11  262.24         5.0\n",
      "12  356.12         7.0\n",
      "13  194.02         7.0\n",
      "14  200.55         7.0\n",
      "15  233.17         6.0\n"
     ]
    }
   ],
   "source": [
    "# 결측값이 있는 행을 제거/ axis(축)\n",
    "#df3 : 복사본\n",
    "df3=df2.dropna(axis=0) # axis=0 가로방향(행)\n",
    "print(df2.head())\n",
    "print(df3.head())"
   ]
  },
  {
   "cell_type": "code",
   "execution_count": 23,
   "metadata": {},
   "outputs": [
    {
     "data": {
      "text/html": [
       "<div>\n",
       "<style scoped>\n",
       "    .dataframe tbody tr th:only-of-type {\n",
       "        vertical-align: middle;\n",
       "    }\n",
       "\n",
       "    .dataframe tbody tr th {\n",
       "        vertical-align: top;\n",
       "    }\n",
       "\n",
       "    .dataframe thead th {\n",
       "        text-align: right;\n",
       "    }\n",
       "</style>\n",
       "<table border=\"1\" class=\"dataframe\">\n",
       "  <thead>\n",
       "    <tr style=\"text-align: right;\">\n",
       "      <th></th>\n",
       "      <th>Ozone</th>\n",
       "      <th>Wind Speed</th>\n",
       "    </tr>\n",
       "  </thead>\n",
       "  <tbody>\n",
       "    <tr>\n",
       "      <th>10</th>\n",
       "      <td>0.00</td>\n",
       "      <td>5.0</td>\n",
       "    </tr>\n",
       "    <tr>\n",
       "      <th>11</th>\n",
       "      <td>262.24</td>\n",
       "      <td>5.0</td>\n",
       "    </tr>\n",
       "    <tr>\n",
       "      <th>12</th>\n",
       "      <td>356.12</td>\n",
       "      <td>7.0</td>\n",
       "    </tr>\n",
       "    <tr>\n",
       "      <th>13</th>\n",
       "      <td>194.02</td>\n",
       "      <td>7.0</td>\n",
       "    </tr>\n",
       "    <tr>\n",
       "      <th>14</th>\n",
       "      <td>200.55</td>\n",
       "      <td>7.0</td>\n",
       "    </tr>\n",
       "  </tbody>\n",
       "</table>\n",
       "</div>"
      ],
      "text/plain": [
       "     Ozone  Wind Speed\n",
       "10    0.00         5.0\n",
       "11  262.24         5.0\n",
       "12  356.12         7.0\n",
       "13  194.02         7.0\n",
       "14  200.55         7.0"
      ]
     },
     "execution_count": 23,
     "metadata": {},
     "output_type": "execute_result"
    }
   ],
   "source": [
    "# 결측값을 대체\n",
    "df3=df2.fillna(0) # 결측값에 0을 채움\n",
    "df3.head()"
   ]
  },
  {
   "cell_type": "code",
   "execution_count": 27,
   "metadata": {},
   "outputs": [
    {
     "data": {
      "image/png": "[encoded data removed]",
      "text/plain": [
       "<Figure size 720x720 with 1 Axes>"
      ]
     },
     "metadata": {},
     "output_type": "display_data"
    }
   ],
   "source": [
    "# 한글 폰드 설정 방법\n",
    "from matplotlib import font_manager, rc\n",
    "font_name=font_manager.FontProperties(\n",
    "    fname=\"c:/Windows/Fonts/malgun.ttf\").get_name()\n",
    "rc('font',family=font_name)\n",
    "items=['사이다','콜라','커피','쥬스','팥빙수'] # label\n",
    "values=[40,30,70,20,15]\n",
    "plt.figure(figsize=(10,10)) # 그래프의 가로, 세로 사이즈 설정(인치 단위)\n",
    "plt.pie(values,labels=items) #파이차트(X,Y축 없음)\n",
    "plt.legend() #범례\n",
    "plt.show() #설명 안나오게 함"
   ]
  },
  {
   "cell_type": "code",
   "execution_count": null,
   "metadata": {},
   "outputs": [],
   "source": []
  }
 ],
 "metadata": {
  "interpreter": {
   "hash": "ff4f85d6e04298634172ac5d8264e7e9b556b95639fe52ebb9425c4d4cba0c9c"
  },
  "kernelspec": {
   "display_name": "Python 3.9.7 ('base')",
   "language": "python",
   "name": "python3"
  },
  "language_info": {
   "codemirror_mode": {
    "name": "ipython",
    "version": 3
   },
   "file_extension": ".py",
   "mimetype": "text/x-python",
   "name": "python",
   "nbconvert_exporter": "python",
   "pygments_lexer": "ipython3",
   "version": "3.9.7"
  },
  "orig_nbformat": 4
 },
 "nbformat": 4,
 "nbformat_minor": 2
}
