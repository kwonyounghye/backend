{
 "cells": [
  {
   "cell_type": "code",
   "execution_count": 1,
   "metadata": {},
   "outputs": [
    {
     "name": "stdout",
     "output_type": "stream",
     "text": [
      "['1', '151', '시청(1)', '9478426', '44701', '1367861', '1114504', '1380702', '1432476', '1460584', '1334755', '1387544']\n",
      "1,151,시청(1),9478426,44701,1367861,1114504,1380702,1432476,1460584,1334755,1387544\n"
     ]
    }
   ],
   "source": [
    "a='1,151,시청(1),9478426,44701,1367861,1114504,1380702,1432476,1460584,1334755,1387544'\n",
    "b=a.split(',')\n",
    "print(b)\n",
    "# 구분자.join(리스트) 리스트 원소 사이에 구분자 삽입\n",
    "print(','.join(b))"
   ]
  },
  {
   "cell_type": "code",
   "execution_count": 2,
   "metadata": {},
   "outputs": [
    {
     "name": "stdout",
     "output_type": "stream",
     "text": [
      "['10', '20', '30', '40', '50']\n",
      "[10, 20, 30, 40, 50]\n"
     ]
    }
   ],
   "source": [
    "a=[10,'20',30,'40',50]\n",
    "# map(함수,데이터)\n",
    "print(list(map(str,a)))\n",
    "print(list(map(int,a)))"
   ]
  },
  {
   "cell_type": "code",
   "execution_count": 3,
   "metadata": {},
   "outputs": [
    {
     "name": "stdout",
     "output_type": "stream",
     "text": [
      "완료되었습니다.\n"
     ]
    }
   ],
   "source": [
    "input_file='c:/data/traffic/data.csv'\n",
    "output_file='c:/data/traffic/output1.csv'\n",
    "#파일 오픈\n",
    "# with: close 안해도 자동 close / newline='' 개행문자를 무시하고 읽음, 이 옵션이 없으면 빈 라인이 추가됨\n",
    "with open(input_file, 'r', newline='', encoding='ms949') as reader:\n",
    "    with open(output_file, 'w', newline='', encoding='ms949') as writer:\n",
    "        header=reader.readline() # 한 줄 읽기\n",
    "        #strip():문자열 좌우의 공백, 탭, 개행문자 제거\n",
    "        header=header.strip()\n",
    "        header_list=header.split(',') # 컴머로 구분\n",
    "        #print(header_list)\n",
    "        #print(str)\n",
    "        #header_list의 각 요소를 스트링으로 변환\n",
    "        #print(map(str,header_list))\n",
    "        #header행의 문자열\n",
    "        #print(','.join(map(str,header_list))+'\\n')\n",
    "        writer.write(','.join(map(str,header_list))+'\\n') # header\n",
    "        for row in reader:\n",
    "            row=row.strip()\n",
    "            row_list=row.split(',')\n",
    "            writer.write(','.join(map(str,row_list))+'\\n') # body\n",
    "print('완료되었습니다.')"
   ]
  },
  {
   "cell_type": "code",
   "execution_count": 4,
   "metadata": {},
   "outputs": [],
   "source": [
    "import pandas as pd\n",
    "input_file='c:/data/traffic/data.csv'\n",
    "output_file='c:/data/traffic/output2.csv'\n",
    "#csv파일을 읽어서 데이터 프레임 형식으로 저장\n",
    "df=pd.read_csv(input_file,encoding='ms949')\n",
    "#print(df)\n",
    "#데이터 프레임 데이터를 csv로 저장\n",
    "df.to_csv(output_file,index=False) #index: 번호"
   ]
  },
  {
   "cell_type": "code",
   "execution_count": 5,
   "metadata": {},
   "outputs": [
    {
     "name": "stdout",
     "output_type": "stream",
     "text": [
      "완료되었습니다.\n"
     ]
    }
   ],
   "source": [
    "import csv\n",
    "in_file='c:/data/traffic/data.csv'\n",
    "out_file='c:/data/traffic/output4.csv'\n",
    "with open(in_file, 'r', newline='', encoding='ms949') as f1:\n",
    "    with open(out_file, 'w', newline='', encoding='ms949') as f2:\n",
    "        reader=csv.reader(f1) # csv 파일을 읽기 위한 객체\n",
    "        writer=csv.writer(f2) # csv 파일에 쓰기 위한 객체\n",
    "        # 한 라인을 읽음(첫라인)\n",
    "        header=next(reader)\n",
    "        # 한 라인을 저장(첫라인)\n",
    "        writer.writerow(header)\n",
    "        for row in reader:\n",
    "            value=str(row[4]).strip() # 2월\n",
    "            if int(value)>=100000: # 조건에 맞는 행만 저장\n",
    "                writer.writerow(row)\n",
    "print('완료되었습니다.')"
   ]
  },
  {
   "cell_type": "code",
   "execution_count": 7,
   "metadata": {},
   "outputs": [
    {
     "name": "stdout",
     "output_type": "stream",
     "text": [
      "완료되었습니다.\n"
     ]
    }
   ],
   "source": [
    "\n",
    "out_file='c:/data/traffic/output5.csv'\n",
    "df=pd.read_csv(in_file, encoding='ms949')\n",
    "result=df.loc[(df['1월']>1000000) & (df['2월']>1000000),:] # loc: 문자, 숫자 모두 가능\n",
    "#csv에 결과 저장\n",
    "#index를 내보내고 싶지 않은 경우 index=False\n",
    "result.to_csv(out_file, index=False, encoding='ms949')\n",
    "print('완료되었습니다.')"
   ]
  },
  {
   "cell_type": "code",
   "execution_count": 8,
   "metadata": {},
   "outputs": [
    {
     "name": "stdout",
     "output_type": "stream",
     "text": [
      "완료되었습니다.\n"
     ]
    }
   ],
   "source": [
    "in_file='c:/data/traffic/data.csv'\n",
    "df=pd.read_csv(in_file,encoding='ms949')\n",
    "# iloc(행 인덱스 범위, 열 인덱스 범위)인덱스 기반으로 검색\n",
    "# 모든행, 컬럼 인덱스 0번과 3번만을 선택\n",
    "result=df.iloc[:,[0,3]] #iloc: 문자x, 숫자만 가능\n",
    "result.to_csv(out_file, index=False, encoding='ms949')\n",
    "print('완료되었습니다.')"
   ]
  },
  {
   "cell_type": "code",
   "execution_count": 9,
   "metadata": {},
   "outputs": [
    {
     "name": "stdout",
     "output_type": "stream",
     "text": [
      "완료되었습니다.\n"
     ]
    }
   ],
   "source": [
    "out_file='c:/data/traffic/output7.csv'\n",
    "df=pd.read_csv(in_file, encoding='ms949')\n",
    "# loc(행범위,열범위)\n",
    "# 컬럼이름으로선택\n",
    "result=df.loc[:, ['1월', '2월']] # 모든 행, 1월/2월 열\n",
    "result.to_csv(out_file,index=False,encoding='ms949')\n",
    "print('완료되었습니다.')"
   ]
  },
  {
   "cell_type": "code",
   "execution_count": null,
   "metadata": {},
   "outputs": [],
   "source": []
  }
 ],
 "metadata": {
  "interpreter": {
   "hash": "ff4f85d6e04298634172ac5d8264e7e9b556b95639fe52ebb9425c4d4cba0c9c"
  },
  "kernelspec": {
   "display_name": "Python 3.9.7 ('base')",
   "language": "python",
   "name": "python3"
  },
  "language_info": {
   "codemirror_mode": {
    "name": "ipython",
    "version": 3
   },
   "file_extension": ".py",
   "mimetype": "text/x-python",
   "name": "python",
   "nbconvert_exporter": "python",
   "pygments_lexer": "ipython3",
   "version": "3.9.7"
  },
  "orig_nbformat": 4
 },
 "nbformat": 4,
 "nbformat_minor": 2
}
