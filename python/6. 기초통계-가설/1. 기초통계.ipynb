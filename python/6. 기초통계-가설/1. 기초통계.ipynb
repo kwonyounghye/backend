{
 "cells": [
  {
   "cell_type": "code",
   "execution_count": 1,
   "metadata": {},
   "outputs": [
    {
     "name": "stdout",
     "output_type": "stream",
     "text": [
      "4.333333333333333\n"
     ]
    }
   ],
   "source": [
    "import numpy as np\n",
    "from scipy import stats\n",
    "data=np.array([4,5,1,2,7,2,6,9,3])\n",
    "#평균\n",
    "a=np.mean(data)\n",
    "print(a)"
   ]
  },
  {
   "cell_type": "code",
   "execution_count": 2,
   "metadata": {},
   "outputs": [
    {
     "name": "stdout",
     "output_type": "stream",
     "text": [
      "4.0\n"
     ]
    }
   ],
   "source": [
    "#중위수(오름차순 정렬했을 때 가운데)\n",
    "b=np.median(data)\n",
    "print(b)"
   ]
  },
  {
   "cell_type": "code",
   "execution_count": 12,
   "metadata": {},
   "outputs": [
    {
     "name": "stdout",
     "output_type": "stream",
     "text": [
      "ModeResult(mode=array([2]), count=array([2]))\n",
      "2\n"
     ]
    }
   ],
   "source": [
    "#최빈값\n",
    "c=stats.mode(data)\n",
    "print(c)\n",
    "print(c[0][0])"
   ]
  },
  {
   "cell_type": "code",
   "execution_count": 4,
   "metadata": {},
   "outputs": [
    {
     "name": "stdout",
     "output_type": "stream",
     "text": [
      "374\n"
     ]
    }
   ],
   "source": [
    "from statistics import variance,stdev\n",
    "points=np.array([20,80,90,95,87,89,95,99,97,100,60,70,77,\n",
    "88,89,89,90])\n",
    "#분산\n",
    "a=variance(points)\n",
    "print(a)\n"
   ]
  },
  {
   "cell_type": "code",
   "execution_count": 5,
   "metadata": {},
   "outputs": [
    {
     "name": "stdout",
     "output_type": "stream",
     "text": [
      "19.339079605813716\n"
     ]
    }
   ],
   "source": [
    "#표준편차\n",
    "b=stdev(points)\n",
    "print(b)"
   ]
  },
  {
   "cell_type": "code",
   "execution_count": 6,
   "metadata": {},
   "outputs": [
    {
     "name": "stdout",
     "output_type": "stream",
     "text": [
      "80\n"
     ]
    }
   ],
   "source": [
    "#범위\n",
    "c=np.max(points) - np.min(points)\n",
    "print(c)"
   ]
  },
  {
   "cell_type": "code",
   "execution_count": 7,
   "metadata": {},
   "outputs": [
    {
     "name": "stdout",
     "output_type": "stream",
     "text": [
      "100\n",
      "20\n",
      "80\n"
     ]
    }
   ],
   "source": [
    "# , 최대 최소값\n",
    "a=np.max(points)\n",
    "b=np.min(points)\n",
    "c=a-b\n",
    "print(a)\n",
    "print(b)\n",
    "print(c)"
   ]
  },
  {
   "cell_type": "code",
   "execution_count": 10,
   "metadata": {},
   "outputs": [
    {
     "name": "stdout",
     "output_type": "stream",
     "text": [
      "20% 77.6\n",
      "80% 95.0\n",
      "100% 100.0\n"
     ]
    }
   ],
   "source": [
    "# 백분위\n",
    "for val in [20,80,100]:\n",
    "    d=np.percentile(points,val)\n",
    "    print(str(val)+\"%\", d)\n"
   ]
  },
  {
   "cell_type": "code",
   "execution_count": 11,
   "metadata": {},
   "outputs": [
    {
     "name": "stdout",
     "output_type": "stream",
     "text": [
      "80.0\n",
      "89.0\n",
      "95.0\n",
      "15.0\n"
     ]
    }
   ],
   "source": [
    "#사분위수\n",
    "a,b,c=np.percentile(points,[25,50,75])\n",
    "print(a) #1사분위수\n",
    "print(b) #2 ( ) 사분위수 중위수\n",
    "print(c) #3사분위수\n",
    "print(c-a) #IQR(InterQuartile Range)"
   ]
  },
  {
   "cell_type": "code",
   "execution_count": null,
   "metadata": {},
   "outputs": [],
   "source": []
  }
 ],
 "metadata": {
  "interpreter": {
   "hash": "ff4f85d6e04298634172ac5d8264e7e9b556b95639fe52ebb9425c4d4cba0c9c"
  },
  "kernelspec": {
   "display_name": "Python 3.9.7 ('base')",
   "language": "python",
   "name": "python3"
  },
  "language_info": {
   "codemirror_mode": {
    "name": "ipython",
    "version": 3
   },
   "file_extension": ".py",
   "mimetype": "text/x-python",
   "name": "python",
   "nbconvert_exporter": "python",
   "pygments_lexer": "ipython3",
   "version": "3.9.7"
  },
  "orig_nbformat": 4
 },
 "nbformat": 4,
 "nbformat_minor": 2
}
