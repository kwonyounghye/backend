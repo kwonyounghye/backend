{
 "cells": [
  {
   "cell_type": "code",
   "execution_count": 3,
   "metadata": {},
   "outputs": [
    {
     "name": "stdout",
     "output_type": "stream",
     "text": [
      "[[0, 0], [1, 0], [0, 1], [1, 1]]  의 예측 결과:  [0 0 0 1]\n",
      " 정답률=  1.0\n"
     ]
    }
   ],
   "source": [
    "from sklearn.svm import LinearSVC\n",
    "from sklearn.metrics import accuracy_score\n",
    "import numpy as np\n",
    "# and 학습용 데이터와 답\n",
    "learn_data = np.array([[0,0], [1,0], [0,1], [1,1]])\n",
    "learn_label = np.array([0, 0, 0, 1]) #and\n",
    "# learn_label = np.array([0, 1, 1, 1]) #or\n",
    "# learn_label = np.array([0, 1, 1, 0]) #xor\n",
    "svm = LinearSVC() # 선형 svm 모형\n",
    "svm.fit(learn_data, learn_label)\n",
    "# 모형의 예측값\n",
    "X_test = np.array([[0,0], [1,0], [0,1], [1,1]])\n",
    "pred = svm.predict(X_test)\n",
    "# 모형 평가\n",
    "print(X_test , \" 의 예측 결과: \" , pred) \n",
    "print(\" 정답률= \" , accuracy_score([0, 0, 0, 1], pred))"
   ]
  },
  {
   "cell_type": "code",
   "execution_count": 4,
   "metadata": {},
   "outputs": [
    {
     "data": {
      "text/plain": [
       "[<matplotlib.lines.Line2D at 0x1a76b179280>,\n",
       " <matplotlib.lines.Line2D at 0x1a76b179580>]"
      ]
     },
     "execution_count": 4,
     "metadata": {},
     "output_type": "execute_result"
    },
    {
     "data": {
      "image/png": "[encoded data removed]",
      "text/plain": [
       "<Figure size 432x288 with 1 Axes>"
      ]
     },
     "metadata": {
      "needs_background": "light"
     },
     "output_type": "display_data"
    }
   ],
   "source": [
    "import mglearn \n",
    "mglearn.discrete_scatter(learn_data[:, 0], learn_data[:, 1], learn_label)"
   ]
  },
  {
   "cell_type": "code",
   "execution_count": 5,
   "metadata": {},
   "outputs": [
    {
     "name": "stdout",
     "output_type": "stream",
     "text": [
      "[[0 0]\n",
      " [1 0]\n",
      " [0 1]\n",
      " [1 1]]  의 예측 결과:  [0 0 0 1]\n",
      " 정답률=  1.0\n"
     ]
    }
   ],
   "source": [
    "from sklearn.svm import SVC\n",
    "from sklearn.metrics import accuracy_score\n",
    "import numpy as np\n",
    "# and 학습용 데이터와 답\n",
    "learn_data = np.array([[0,0], [1,0], [0,1], [1,1]])\n",
    "learn_label = np.array([0, 0, 0, 1]) #and\n",
    "# learn_label = np.array([0, 1, 1, 1]) #or\n",
    "# learn_label = np.array([0, 1, 1, 0]) #xor\n",
    "svm = SVC() # 선형 svm 모형\n",
    "svm.fit(learn_data, learn_label)\n",
    "# 모형의 예측값\n",
    "X_test = np.array([[0,0], [1,0], [0,1], [1,1]])\n",
    "pred = svm.predict(X_test)\n",
    "# 모형 평가\n",
    "print(X_test , \" 의 예측 결과: \" , pred) \n",
    "print(\" 정답률= \" , accuracy_score([0, 0, 0, 1], pred))"
   ]
  },
  {
   "cell_type": "code",
   "execution_count": null,
   "metadata": {},
   "outputs": [],
   "source": []
  }
 ],
 "metadata": {
  "interpreter": {
   "hash": "ff4f85d6e04298634172ac5d8264e7e9b556b95639fe52ebb9425c4d4cba0c9c"
  },
  "kernelspec": {
   "display_name": "Python 3.9.7 ('base')",
   "language": "python",
   "name": "python3"
  },
  "language_info": {
   "codemirror_mode": {
    "name": "ipython",
    "version": 3
   },
   "file_extension": ".py",
   "mimetype": "text/x-python",
   "name": "python",
   "nbconvert_exporter": "python",
   "pygments_lexer": "ipython3",
   "version": "3.9.7"
  },
  "orig_nbformat": 4
 },
 "nbformat": 4,
 "nbformat_minor": 2
}
