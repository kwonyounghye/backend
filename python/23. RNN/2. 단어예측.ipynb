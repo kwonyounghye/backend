{
 "cells": [
  {
   "cell_type": "code",
   "execution_count": 2,
   "metadata": {},
   "outputs": [],
   "source": [
    "text=\"\"\"\n",
    "경마장에 있는 말이 뛰고 있다\\n\n",
    "그의 말이 법이다\\n\n",
    "가는 말이 고와야 오는 말이 곱다\\n\n",
    "그런 식으로 하면 말이 안된다\\n\n",
    "새로 태어난 말이 배가 고프다\\n\n",
    "\"\"\"\n"
   ]
  },
  {
   "cell_type": "code",
   "execution_count": 3,
   "metadata": {},
   "outputs": [
    {
     "name": "stdout",
     "output_type": "stream",
     "text": [
      " 단어 집합의 크기 : 20\n"
     ]
    }
   ],
   "source": [
    "from tensorflow.keras.preprocessing.text import Tokenizer\n",
    "\n",
    "# 단어 집합을 만들고 단어에 고유한 숫자 인덱스를 부여(1부터 시작)\n",
    "t = Tokenizer()\n",
    "t.fit_on_texts([text])\n",
    "# 원핫인코딩에서는 0부터 시작하므로 미리 1을 더함\n",
    "vocab_size = len(t.word_index) + 1\n",
    "print(' 단어 집합의 크기 : %d' % vocab_size) "
   ]
  },
  {
   "cell_type": "code",
   "execution_count": 4,
   "metadata": {},
   "outputs": [
    {
     "name": "stdout",
     "output_type": "stream",
     "text": [
      "{'말이': 1, '경마장에': 2, '있는': 3, '뛰고': 4, '있다': 5, '그의': 6, '법이다': 7, '가는': 8, '고와야': 9, '오는': 10, '곱다': 11, '그런': 12, '식으로': 13, '하면': 14, '안된다': 15, '새로': 16, '태어난': 17, '배가': 18, '고프다': 19}\n"
     ]
    }
   ],
   "source": [
    "print(t.word_index)"
   ]
  },
  {
   "cell_type": "code",
   "execution_count": 5,
   "metadata": {},
   "outputs": [
    {
     "name": "stdout",
     "output_type": "stream",
     "text": [
      " 학습에 사용할 샘플의 개수 : 19\n"
     ]
    }
   ],
   "source": [
    "sequences = list()\n",
    "for line in text.split('\\n'): # 문장별로 나누기\n",
    "    # 단어의 인덱스로만 구성된 새로운 리스트\n",
    "    encoded = t.texts_to_sequences([line])[0] # 문장을 숫자로 변환\n",
    "    for i in range(1, len(encoded)):\n",
    "        sequence = encoded[:i+1]\n",
    "        sequences.append(sequence)\n",
    "print(' 학습에 사용할 샘플의 개수 : %d' % len(sequences))"
   ]
  },
  {
   "cell_type": "code",
   "execution_count": 7,
   "metadata": {},
   "outputs": [
    {
     "name": "stdout",
     "output_type": "stream",
     "text": [
      "[[2, 3], [2, 3, 1], [2, 3, 1, 4], [2, 3, 1, 4, 5], [6, 1], [6, 1, 7], [8, 1], [8, 1, 9], [8, 1, 9, 10], [8, 1, 9, 10, 1], [8, 1, 9, 10, 1, 11], [12, 13], [12, 13, 14], [12, 13, 14, 1], [12, 13, 14, 1, 15], [16, 17], [16, 17, 1], [16, 17, 1, 18], [16, 17, 1, 18, 19]]\n"
     ]
    }
   ],
   "source": [
    "print(sequences)"
   ]
  },
  {
   "cell_type": "code",
   "execution_count": 8,
   "metadata": {},
   "outputs": [
    {
     "name": "stdout",
     "output_type": "stream",
     "text": [
      " 샘플의 최대 길이 : 6\n"
     ]
    }
   ],
   "source": [
    "max_len=max(len(l) for l in sequences) # 모든 샘플에서 길이가 가장 긴 샘플의 길이 출력\n",
    "print(' 샘플의 최대 길이 : {}'.format(max_len))"
   ]
  },
  {
   "cell_type": "code",
   "execution_count": 9,
   "metadata": {},
   "outputs": [
    {
     "name": "stdout",
     "output_type": "stream",
     "text": [
      "[[1, 2, 3], [4, 5], [6, 7, 8, 9]]\n",
      "[[0 1 2 3]\n",
      " [0 0 4 5]\n",
      " [6 7 8 9]]\n",
      "[[1 2 3 0]\n",
      " [4 5 0 0]\n",
      " [6 7 8 9]]\n",
      "[[1 2 3 1]\n",
      " [4 5 1 1]\n",
      " [6 7 8 9]]\n",
      "[[1 2 3]\n",
      " [4 5 0]\n",
      " [7 8 9]]\n",
      "[[1 2 3]\n",
      " [4 5 0]\n",
      " [6 7 8]]\n"
     ]
    }
   ],
   "source": [
    "from tensorflow.keras.preprocessing.sequence import pad_sequences\n",
    "a=[[1,2,3],[4,5],[6,7,8,9]]\n",
    "print(a)\n",
    "# 같은 길이로 맞추고 길이가 부족한 경우 왼쪽에 공백을 채움\n",
    "b=pad_sequences(a)\n",
    "print(b)\n",
    "# 오른쪽에 공백을 채움\n",
    "c=pad_sequences(a,padding='post')\n",
    "print(c)\n",
    "# 오른쪽에 1을 채움\n",
    "d=pad_sequences(a,padding='post',value=1)\n",
    "print(d)\n",
    "# 최대 길이를 3으로 설정 (왼쪽이 잘림, truncating='pre') \n",
    "e=pad_sequences(a,padding='post',maxlen=3)\n",
    "print(e)\n",
    "# 최대 길이를 3으로 설정 (오른쪽이 잘림)\n",
    "f=pad_sequences(a,padding='post',maxlen=3,truncating='post')\n",
    "print(f)\n"
   ]
  },
  {
   "cell_type": "code",
   "execution_count": 10,
   "metadata": {},
   "outputs": [],
   "source": [
    "# 최대 사이즈에 맞추어 빈칸에 0으로 채움                우측정렬\n",
    "sequences = pad_sequences(sequences, maxlen=max_len, padding='pre')"
   ]
  },
  {
   "cell_type": "code",
   "execution_count": 11,
   "metadata": {},
   "outputs": [
    {
     "name": "stdout",
     "output_type": "stream",
     "text": [
      "[[ 0  0  0  0  2  3]\n",
      " [ 0  0  0  2  3  1]\n",
      " [ 0  0  2  3  1  4]\n",
      " [ 0  2  3  1  4  5]\n",
      " [ 0  0  0  0  6  1]\n",
      " [ 0  0  0  6  1  7]\n",
      " [ 0  0  0  0  8  1]\n",
      " [ 0  0  0  8  1  9]\n",
      " [ 0  0  8  1  9 10]\n",
      " [ 0  8  1  9 10  1]\n",
      " [ 8  1  9 10  1 11]\n",
      " [ 0  0  0  0 12 13]\n",
      " [ 0  0  0 12 13 14]\n",
      " [ 0  0 12 13 14  1]\n",
      " [ 0 12 13 14  1 15]\n",
      " [ 0  0  0  0 16 17]\n",
      " [ 0  0  0 16 17  1]\n",
      " [ 0  0 16 17  1 18]\n",
      " [ 0 16 17  1 18 19]]\n"
     ]
    }
   ],
   "source": [
    "print(sequences)"
   ]
  },
  {
   "cell_type": "code",
   "execution_count": 12,
   "metadata": {},
   "outputs": [],
   "source": [
    "import numpy as np\n",
    "sequences = np.array(sequences)\n",
    "# 리스트의 마지막 값을 제외하고 저장\n",
    "X = sequences[:,:-1]\n",
    "# 리스트의 마지막 값만 저장\n",
    "y = sequences[:,-1]"
   ]
  },
  {
   "cell_type": "code",
   "execution_count": 13,
   "metadata": {},
   "outputs": [
    {
     "name": "stdout",
     "output_type": "stream",
     "text": [
      "[[ 0  0  0  0  2]\n",
      " [ 0  0  0  2  3]\n",
      " [ 0  0  2  3  1]\n",
      " [ 0  2  3  1  4]\n",
      " [ 0  0  0  0  6]\n",
      " [ 0  0  0  6  1]\n",
      " [ 0  0  0  0  8]\n",
      " [ 0  0  0  8  1]\n",
      " [ 0  0  8  1  9]\n",
      " [ 0  8  1  9 10]\n",
      " [ 8  1  9 10  1]\n",
      " [ 0  0  0  0 12]\n",
      " [ 0  0  0 12 13]\n",
      " [ 0  0 12 13 14]\n",
      " [ 0 12 13 14  1]\n",
      " [ 0  0  0  0 16]\n",
      " [ 0  0  0 16 17]\n",
      " [ 0  0 16 17  1]\n",
      " [ 0 16 17  1 18]]\n"
     ]
    }
   ],
   "source": [
    "print(X)"
   ]
  },
  {
   "cell_type": "code",
   "execution_count": 14,
   "metadata": {},
   "outputs": [
    {
     "name": "stdout",
     "output_type": "stream",
     "text": [
      "[ 3  1  4  5  1  7  1  9 10  1 11 13 14  1 15 17  1 18 19]\n"
     ]
    }
   ],
   "source": [
    "print(y) # 모든 샘플에 대한 레이블 출력\n"
   ]
  },
  {
   "cell_type": "code",
   "execution_count": 15,
   "metadata": {},
   "outputs": [],
   "source": [
    "from keras.utils import np_utils\n",
    "#원핫인코딩\n",
    "y = np_utils.to_categorical(y, num_classes=vocab_size)"
   ]
  },
  {
   "cell_type": "code",
   "execution_count": 16,
   "metadata": {},
   "outputs": [
    {
     "name": "stdout",
     "output_type": "stream",
     "text": [
      "[[0. 0. 0. 1. 0. 0. 0. 0. 0. 0. 0. 0. 0. 0. 0. 0. 0. 0. 0. 0.]\n",
      " [0. 1. 0. 0. 0. 0. 0. 0. 0. 0. 0. 0. 0. 0. 0. 0. 0. 0. 0. 0.]\n",
      " [0. 0. 0. 0. 1. 0. 0. 0. 0. 0. 0. 0. 0. 0. 0. 0. 0. 0. 0. 0.]\n",
      " [0. 0. 0. 0. 0. 1. 0. 0. 0. 0. 0. 0. 0. 0. 0. 0. 0. 0. 0. 0.]\n",
      " [0. 1. 0. 0. 0. 0. 0. 0. 0. 0. 0. 0. 0. 0. 0. 0. 0. 0. 0. 0.]\n",
      " [0. 0. 0. 0. 0. 0. 0. 1. 0. 0. 0. 0. 0. 0. 0. 0. 0. 0. 0. 0.]\n",
      " [0. 1. 0. 0. 0. 0. 0. 0. 0. 0. 0. 0. 0. 0. 0. 0. 0. 0. 0. 0.]\n",
      " [0. 0. 0. 0. 0. 0. 0. 0. 0. 1. 0. 0. 0. 0. 0. 0. 0. 0. 0. 0.]\n",
      " [0. 0. 0. 0. 0. 0. 0. 0. 0. 0. 1. 0. 0. 0. 0. 0. 0. 0. 0. 0.]\n",
      " [0. 1. 0. 0. 0. 0. 0. 0. 0. 0. 0. 0. 0. 0. 0. 0. 0. 0. 0. 0.]\n",
      " [0. 0. 0. 0. 0. 0. 0. 0. 0. 0. 0. 1. 0. 0. 0. 0. 0. 0. 0. 0.]\n",
      " [0. 0. 0. 0. 0. 0. 0. 0. 0. 0. 0. 0. 0. 1. 0. 0. 0. 0. 0. 0.]\n",
      " [0. 0. 0. 0. 0. 0. 0. 0. 0. 0. 0. 0. 0. 0. 1. 0. 0. 0. 0. 0.]\n",
      " [0. 1. 0. 0. 0. 0. 0. 0. 0. 0. 0. 0. 0. 0. 0. 0. 0. 0. 0. 0.]\n",
      " [0. 0. 0. 0. 0. 0. 0. 0. 0. 0. 0. 0. 0. 0. 0. 1. 0. 0. 0. 0.]\n",
      " [0. 0. 0. 0. 0. 0. 0. 0. 0. 0. 0. 0. 0. 0. 0. 0. 0. 1. 0. 0.]\n",
      " [0. 1. 0. 0. 0. 0. 0. 0. 0. 0. 0. 0. 0. 0. 0. 0. 0. 0. 0. 0.]\n",
      " [0. 0. 0. 0. 0. 0. 0. 0. 0. 0. 0. 0. 0. 0. 0. 0. 0. 0. 1. 0.]\n",
      " [0. 0. 0. 0. 0. 0. 0. 0. 0. 0. 0. 0. 0. 0. 0. 0. 0. 0. 0. 1.]]\n"
     ]
    }
   ],
   "source": [
    "print(y)\n"
   ]
  },
  {
   "cell_type": "code",
   "execution_count": 17,
   "metadata": {},
   "outputs": [
    {
     "data": {
      "text/plain": [
       "6"
      ]
     },
     "execution_count": 17,
     "metadata": {},
     "output_type": "execute_result"
    }
   ],
   "source": [
    "max_len"
   ]
  },
  {
   "cell_type": "code",
   "execution_count": 19,
   "metadata": {},
   "outputs": [
    {
     "name": "stdout",
     "output_type": "stream",
     "text": [
      "{'I': array([0.00465784], dtype=float32), 'am': array([0.03207755], dtype=float32), 'a': array([-0.00689923], dtype=float32), 'boy': array([0.03530315], dtype=float32)}\n",
      "[0.03530315]\n"
     ]
    }
   ],
   "source": [
    "from tensorflow.keras.models import Sequential\n",
    "from keras.layers import Embedding\n",
    "# Embedding\n",
    "model = Sequential()\n",
    "# Embedding(단어의개수, 벡터크기, 입력사이즈)\n",
    "# 각 단어에 대한 정수 인코딩\n",
    "words={'I':0, 'am':1, 'a':2, 'boy':3}\n",
    "# Embedding(단어개수, 벡터크기, 입력사이즈(최대단어개수))\n",
    "# keras 신경망에 word2vec벡터를 입력하는 방법\n",
    "model.add(Embedding(5, 1, input_length=1))\n",
    "# model.compile(loss='binary_crossentropy', optimizer='adam', metrics=['accuracy'])\n",
    "\n",
    "# 가중치값\n",
    "embeddings = model.layers[0].get_weights()[0]\n",
    "words_embeddings = {w:embeddings[idx] for w, idx in words.items()}\n",
    "print(words_embeddings)\n",
    "print(words_embeddings['boy'])"
   ]
  },
  {
   "cell_type": "code",
   "execution_count": 20,
   "metadata": {},
   "outputs": [],
   "source": [
    "from tensorflow.keras.models import Sequential\n",
    "from keras.layers import Dense, Embedding, SimpleRNN\n",
    "model = Sequential()\n",
    "# y를 분리하였으므로 X의 길이는 5\n",
    "# Embedding(단어개수, 벡터크기, 입력사이즈(최대단어개수))\n",
    "model.add(Embedding(vocab_size, 10, input_length=max_len-1))\n",
    "model.add(SimpleRNN(32)) # 출력노드 32개\n",
    "model.add(Dense(vocab_size, activation='softmax'))\n",
    "model.compile(loss='categorical_crossentropy', optimizer='adam', metrics=['accuracy'])"
   ]
  },
  {
   "cell_type": "code",
   "execution_count": 21,
   "metadata": {},
   "outputs": [
    {
     "name": "stdout",
     "output_type": "stream",
     "text": [
      "Model: \"sequential_1\"\n",
      "_________________________________________________________________\n",
      " Layer (type)                Output Shape              Param #   \n",
      "=================================================================\n",
      " embedding_1 (Embedding)     (None, 5, 10)             200       \n",
      "                                                                 \n",
      " simple_rnn (SimpleRNN)      (None, 32)                1376      \n",
      "                                                                 \n",
      " dense (Dense)               (None, 20)                660       \n",
      "                                                                 \n",
      "=================================================================\n",
      "Total params: 2,236\n",
      "Trainable params: 2,236\n",
      "Non-trainable params: 0\n",
      "_________________________________________________________________\n"
     ]
    }
   ],
   "source": [
    "model.summary()"
   ]
  },
  {
   "cell_type": "code",
   "execution_count": 22,
   "metadata": {},
   "outputs": [
    {
     "name": "stdout",
     "output_type": "stream",
     "text": [
      "Epoch 1/200\n",
      "1/1 - 2s - loss: 2.9948 - accuracy: 0.0526 - 2s/epoch - 2s/step\n",
      "Epoch 2/200\n",
      "1/1 - 0s - loss: 2.9850 - accuracy: 0.0526 - 20ms/epoch - 20ms/step\n",
      "Epoch 3/200\n",
      "1/1 - 0s - loss: 2.9752 - accuracy: 0.2105 - 24ms/epoch - 24ms/step\n",
      "Epoch 4/200\n",
      "1/1 - 0s - loss: 2.9655 - accuracy: 0.2105 - 22ms/epoch - 22ms/step\n",
      "Epoch 5/200\n",
      "1/1 - 0s - loss: 2.9556 - accuracy: 0.2632 - 19ms/epoch - 19ms/step\n",
      "Epoch 6/200\n",
      "1/1 - 0s - loss: 2.9455 - accuracy: 0.3158 - 20ms/epoch - 20ms/step\n",
      "Epoch 7/200\n",
      "1/1 - 0s - loss: 2.9351 - accuracy: 0.3158 - 17ms/epoch - 17ms/step\n",
      "Epoch 8/200\n",
      "1/1 - 0s - loss: 2.9244 - accuracy: 0.3158 - 20ms/epoch - 20ms/step\n",
      "Epoch 9/200\n",
      "1/1 - 0s - loss: 2.9131 - accuracy: 0.3158 - 18ms/epoch - 18ms/step\n",
      "Epoch 10/200\n",
      "1/1 - 0s - loss: 2.9014 - accuracy: 0.3158 - 18ms/epoch - 18ms/step\n",
      "Epoch 11/200\n",
      "1/1 - 0s - loss: 2.8890 - accuracy: 0.3158 - 16ms/epoch - 16ms/step\n",
      "Epoch 12/200\n",
      "1/1 - 0s - loss: 2.8760 - accuracy: 0.3158 - 19ms/epoch - 19ms/step\n",
      "Epoch 13/200\n",
      "1/1 - 0s - loss: 2.8622 - accuracy: 0.3158 - 17ms/epoch - 17ms/step\n",
      "Epoch 14/200\n",
      "1/1 - 0s - loss: 2.8477 - accuracy: 0.3158 - 18ms/epoch - 18ms/step\n",
      "Epoch 15/200\n",
      "1/1 - 0s - loss: 2.8322 - accuracy: 0.3158 - 18ms/epoch - 18ms/step\n",
      "Epoch 16/200\n",
      "1/1 - 0s - loss: 2.8159 - accuracy: 0.3158 - 19ms/epoch - 19ms/step\n",
      "Epoch 17/200\n",
      "1/1 - 0s - loss: 2.7986 - accuracy: 0.3158 - 18ms/epoch - 18ms/step\n",
      "Epoch 18/200\n",
      "1/1 - 0s - loss: 2.7803 - accuracy: 0.3158 - 20ms/epoch - 20ms/step\n",
      "Epoch 19/200\n",
      "1/1 - 0s - loss: 2.7610 - accuracy: 0.3158 - 17ms/epoch - 17ms/step\n",
      "Epoch 20/200\n",
      "1/1 - 0s - loss: 2.7406 - accuracy: 0.3158 - 17ms/epoch - 17ms/step\n",
      "Epoch 21/200\n",
      "1/1 - 0s - loss: 2.7192 - accuracy: 0.3158 - 18ms/epoch - 18ms/step\n",
      "Epoch 22/200\n",
      "1/1 - 0s - loss: 2.6969 - accuracy: 0.3158 - 19ms/epoch - 19ms/step\n",
      "Epoch 23/200\n",
      "1/1 - 0s - loss: 2.6738 - accuracy: 0.3158 - 16ms/epoch - 16ms/step\n",
      "Epoch 24/200\n",
      "1/1 - 0s - loss: 2.6499 - accuracy: 0.3158 - 20ms/epoch - 20ms/step\n",
      "Epoch 25/200\n",
      "1/1 - 0s - loss: 2.6256 - accuracy: 0.3158 - 18ms/epoch - 18ms/step\n",
      "Epoch 26/200\n",
      "1/1 - 0s - loss: 2.6009 - accuracy: 0.3158 - 17ms/epoch - 17ms/step\n",
      "Epoch 27/200\n",
      "1/1 - 0s - loss: 2.5763 - accuracy: 0.3158 - 18ms/epoch - 18ms/step\n",
      "Epoch 28/200\n",
      "1/1 - 0s - loss: 2.5522 - accuracy: 0.3158 - 18ms/epoch - 18ms/step\n",
      "Epoch 29/200\n",
      "1/1 - 0s - loss: 2.5288 - accuracy: 0.3158 - 16ms/epoch - 16ms/step\n",
      "Epoch 30/200\n",
      "1/1 - 0s - loss: 2.5066 - accuracy: 0.3158 - 20ms/epoch - 20ms/step\n",
      "Epoch 31/200\n",
      "1/1 - 0s - loss: 2.4860 - accuracy: 0.3158 - 16ms/epoch - 16ms/step\n",
      "Epoch 32/200\n",
      "1/1 - 0s - loss: 2.4672 - accuracy: 0.3158 - 16ms/epoch - 16ms/step\n",
      "Epoch 33/200\n",
      "1/1 - 0s - loss: 2.4503 - accuracy: 0.3158 - 14ms/epoch - 14ms/step\n",
      "Epoch 34/200\n",
      "1/1 - 0s - loss: 2.4352 - accuracy: 0.3158 - 19ms/epoch - 19ms/step\n",
      "Epoch 35/200\n",
      "1/1 - 0s - loss: 2.4215 - accuracy: 0.3158 - 30ms/epoch - 30ms/step\n",
      "Epoch 36/200\n",
      "1/1 - 0s - loss: 2.4088 - accuracy: 0.3158 - 15ms/epoch - 15ms/step\n",
      "Epoch 37/200\n",
      "1/1 - 0s - loss: 2.3963 - accuracy: 0.3158 - 94ms/epoch - 94ms/step\n",
      "Epoch 38/200\n",
      "1/1 - 0s - loss: 2.3837 - accuracy: 0.3158 - 32ms/epoch - 32ms/step\n",
      "Epoch 39/200\n",
      "1/1 - 0s - loss: 2.3704 - accuracy: 0.3158 - 17ms/epoch - 17ms/step\n",
      "Epoch 40/200\n",
      "1/1 - 0s - loss: 2.3564 - accuracy: 0.3158 - 19ms/epoch - 19ms/step\n",
      "Epoch 41/200\n",
      "1/1 - 0s - loss: 2.3415 - accuracy: 0.3158 - 17ms/epoch - 17ms/step\n",
      "Epoch 42/200\n",
      "1/1 - 0s - loss: 2.3259 - accuracy: 0.3158 - 19ms/epoch - 19ms/step\n",
      "Epoch 43/200\n",
      "1/1 - 0s - loss: 2.3099 - accuracy: 0.3158 - 18ms/epoch - 18ms/step\n",
      "Epoch 44/200\n",
      "1/1 - 0s - loss: 2.2935 - accuracy: 0.3158 - 16ms/epoch - 16ms/step\n",
      "Epoch 45/200\n",
      "1/1 - 0s - loss: 2.2772 - accuracy: 0.3158 - 20ms/epoch - 20ms/step\n",
      "Epoch 46/200\n",
      "1/1 - 0s - loss: 2.2611 - accuracy: 0.3158 - 17ms/epoch - 17ms/step\n",
      "Epoch 47/200\n",
      "1/1 - 0s - loss: 2.2452 - accuracy: 0.3158 - 14ms/epoch - 14ms/step\n",
      "Epoch 48/200\n",
      "1/1 - 0s - loss: 2.2297 - accuracy: 0.3158 - 14ms/epoch - 14ms/step\n",
      "Epoch 49/200\n",
      "1/1 - 0s - loss: 2.2143 - accuracy: 0.3158 - 18ms/epoch - 18ms/step\n",
      "Epoch 50/200\n",
      "1/1 - 0s - loss: 2.1990 - accuracy: 0.3158 - 17ms/epoch - 17ms/step\n",
      "Epoch 51/200\n",
      "1/1 - 0s - loss: 2.1837 - accuracy: 0.3158 - 17ms/epoch - 17ms/step\n",
      "Epoch 52/200\n",
      "1/1 - 0s - loss: 2.1681 - accuracy: 0.3684 - 21ms/epoch - 21ms/step\n",
      "Epoch 53/200\n",
      "1/1 - 0s - loss: 2.1522 - accuracy: 0.3684 - 21ms/epoch - 21ms/step\n",
      "Epoch 54/200\n",
      "1/1 - 0s - loss: 2.1358 - accuracy: 0.3684 - 20ms/epoch - 20ms/step\n",
      "Epoch 55/200\n",
      "1/1 - 0s - loss: 2.1190 - accuracy: 0.3684 - 18ms/epoch - 18ms/step\n",
      "Epoch 56/200\n",
      "1/1 - 0s - loss: 2.1017 - accuracy: 0.4211 - 15ms/epoch - 15ms/step\n",
      "Epoch 57/200\n",
      "1/1 - 0s - loss: 2.0839 - accuracy: 0.4211 - 21ms/epoch - 21ms/step\n",
      "Epoch 58/200\n",
      "1/1 - 0s - loss: 2.0658 - accuracy: 0.4211 - 16ms/epoch - 16ms/step\n",
      "Epoch 59/200\n",
      "1/1 - 0s - loss: 2.0473 - accuracy: 0.4211 - 18ms/epoch - 18ms/step\n",
      "Epoch 60/200\n",
      "1/1 - 0s - loss: 2.0286 - accuracy: 0.4211 - 18ms/epoch - 18ms/step\n",
      "Epoch 61/200\n",
      "1/1 - 0s - loss: 2.0096 - accuracy: 0.4211 - 18ms/epoch - 18ms/step\n",
      "Epoch 62/200\n",
      "1/1 - 0s - loss: 1.9905 - accuracy: 0.4211 - 13ms/epoch - 13ms/step\n",
      "Epoch 63/200\n",
      "1/1 - 0s - loss: 1.9712 - accuracy: 0.4211 - 17ms/epoch - 17ms/step\n",
      "Epoch 64/200\n",
      "1/1 - 0s - loss: 1.9517 - accuracy: 0.4211 - 17ms/epoch - 17ms/step\n",
      "Epoch 65/200\n",
      "1/1 - 0s - loss: 1.9320 - accuracy: 0.4211 - 14ms/epoch - 14ms/step\n",
      "Epoch 66/200\n",
      "1/1 - 0s - loss: 1.9121 - accuracy: 0.4211 - 14ms/epoch - 14ms/step\n",
      "Epoch 67/200\n",
      "1/1 - 0s - loss: 1.8920 - accuracy: 0.4211 - 18ms/epoch - 18ms/step\n",
      "Epoch 68/200\n",
      "1/1 - 0s - loss: 1.8715 - accuracy: 0.4737 - 16ms/epoch - 16ms/step\n",
      "Epoch 69/200\n",
      "1/1 - 0s - loss: 1.8509 - accuracy: 0.4737 - 19ms/epoch - 19ms/step\n",
      "Epoch 70/200\n",
      "1/1 - 0s - loss: 1.8300 - accuracy: 0.4737 - 18ms/epoch - 18ms/step\n",
      "Epoch 71/200\n",
      "1/1 - 0s - loss: 1.8090 - accuracy: 0.5263 - 16ms/epoch - 16ms/step\n",
      "Epoch 72/200\n",
      "1/1 - 0s - loss: 1.7878 - accuracy: 0.5263 - 17ms/epoch - 17ms/step\n",
      "Epoch 73/200\n",
      "1/1 - 0s - loss: 1.7666 - accuracy: 0.5263 - 18ms/epoch - 18ms/step\n",
      "Epoch 74/200\n",
      "1/1 - 0s - loss: 1.7453 - accuracy: 0.5263 - 18ms/epoch - 18ms/step\n",
      "Epoch 75/200\n",
      "1/1 - 0s - loss: 1.7240 - accuracy: 0.5263 - 17ms/epoch - 17ms/step\n",
      "Epoch 76/200\n",
      "1/1 - 0s - loss: 1.7027 - accuracy: 0.5263 - 16ms/epoch - 16ms/step\n",
      "Epoch 77/200\n",
      "1/1 - 0s - loss: 1.6815 - accuracy: 0.5789 - 16ms/epoch - 16ms/step\n",
      "Epoch 78/200\n",
      "1/1 - 0s - loss: 1.6603 - accuracy: 0.5789 - 16ms/epoch - 16ms/step\n",
      "Epoch 79/200\n",
      "1/1 - 0s - loss: 1.6391 - accuracy: 0.5789 - 18ms/epoch - 18ms/step\n",
      "Epoch 80/200\n",
      "1/1 - 0s - loss: 1.6180 - accuracy: 0.5789 - 18ms/epoch - 18ms/step\n",
      "Epoch 81/200\n",
      "1/1 - 0s - loss: 1.5971 - accuracy: 0.5789 - 18ms/epoch - 18ms/step\n",
      "Epoch 82/200\n",
      "1/1 - 0s - loss: 1.5762 - accuracy: 0.5789 - 16ms/epoch - 16ms/step\n",
      "Epoch 83/200\n",
      "1/1 - 0s - loss: 1.5554 - accuracy: 0.5789 - 14ms/epoch - 14ms/step\n",
      "Epoch 84/200\n",
      "1/1 - 0s - loss: 1.5348 - accuracy: 0.5789 - 17ms/epoch - 17ms/step\n",
      "Epoch 85/200\n",
      "1/1 - 0s - loss: 1.5144 - accuracy: 0.5789 - 16ms/epoch - 16ms/step\n",
      "Epoch 86/200\n",
      "1/1 - 0s - loss: 1.4942 - accuracy: 0.5789 - 15ms/epoch - 15ms/step\n",
      "Epoch 87/200\n",
      "1/1 - 0s - loss: 1.4742 - accuracy: 0.5789 - 18ms/epoch - 18ms/step\n",
      "Epoch 88/200\n",
      "1/1 - 0s - loss: 1.4544 - accuracy: 0.5789 - 15ms/epoch - 15ms/step\n",
      "Epoch 89/200\n",
      "1/1 - 0s - loss: 1.4348 - accuracy: 0.5789 - 18ms/epoch - 18ms/step\n",
      "Epoch 90/200\n",
      "1/1 - 0s - loss: 1.4154 - accuracy: 0.5789 - 16ms/epoch - 16ms/step\n",
      "Epoch 91/200\n",
      "1/1 - 0s - loss: 1.3962 - accuracy: 0.6316 - 22ms/epoch - 22ms/step\n",
      "Epoch 92/200\n",
      "1/1 - 0s - loss: 1.3773 - accuracy: 0.6316 - 17ms/epoch - 17ms/step\n",
      "Epoch 93/200\n",
      "1/1 - 0s - loss: 1.3586 - accuracy: 0.6316 - 16ms/epoch - 16ms/step\n",
      "Epoch 94/200\n",
      "1/1 - 0s - loss: 1.3400 - accuracy: 0.6316 - 17ms/epoch - 17ms/step\n",
      "Epoch 95/200\n",
      "1/1 - 0s - loss: 1.3217 - accuracy: 0.6316 - 15ms/epoch - 15ms/step\n",
      "Epoch 96/200\n",
      "1/1 - 0s - loss: 1.3036 - accuracy: 0.6842 - 18ms/epoch - 18ms/step\n",
      "Epoch 97/200\n",
      "1/1 - 0s - loss: 1.2858 - accuracy: 0.6842 - 17ms/epoch - 17ms/step\n",
      "Epoch 98/200\n",
      "1/1 - 0s - loss: 1.2681 - accuracy: 0.6842 - 15ms/epoch - 15ms/step\n",
      "Epoch 99/200\n",
      "1/1 - 0s - loss: 1.2506 - accuracy: 0.6842 - 16ms/epoch - 16ms/step\n",
      "Epoch 100/200\n",
      "1/1 - 0s - loss: 1.2334 - accuracy: 0.6842 - 15ms/epoch - 15ms/step\n",
      "Epoch 101/200\n",
      "1/1 - 0s - loss: 1.2163 - accuracy: 0.6842 - 17ms/epoch - 17ms/step\n",
      "Epoch 102/200\n",
      "1/1 - 0s - loss: 1.1994 - accuracy: 0.6842 - 18ms/epoch - 18ms/step\n",
      "Epoch 103/200\n",
      "1/1 - 0s - loss: 1.1827 - accuracy: 0.6842 - 17ms/epoch - 17ms/step\n",
      "Epoch 104/200\n",
      "1/1 - 0s - loss: 1.1662 - accuracy: 0.6842 - 15ms/epoch - 15ms/step\n",
      "Epoch 105/200\n",
      "1/1 - 0s - loss: 1.1499 - accuracy: 0.6842 - 18ms/epoch - 18ms/step\n",
      "Epoch 106/200\n",
      "1/1 - 0s - loss: 1.1338 - accuracy: 0.6842 - 15ms/epoch - 15ms/step\n",
      "Epoch 107/200\n",
      "1/1 - 0s - loss: 1.1179 - accuracy: 0.6842 - 17ms/epoch - 17ms/step\n",
      "Epoch 108/200\n",
      "1/1 - 0s - loss: 1.1022 - accuracy: 0.6842 - 17ms/epoch - 17ms/step\n",
      "Epoch 109/200\n",
      "1/1 - 0s - loss: 1.0866 - accuracy: 0.6842 - 18ms/epoch - 18ms/step\n",
      "Epoch 110/200\n",
      "1/1 - 0s - loss: 1.0713 - accuracy: 0.6842 - 17ms/epoch - 17ms/step\n",
      "Epoch 111/200\n",
      "1/1 - 0s - loss: 1.0561 - accuracy: 0.6842 - 16ms/epoch - 16ms/step\n",
      "Epoch 112/200\n",
      "1/1 - 0s - loss: 1.0411 - accuracy: 0.6842 - 17ms/epoch - 17ms/step\n",
      "Epoch 113/200\n",
      "1/1 - 0s - loss: 1.0263 - accuracy: 0.6842 - 18ms/epoch - 18ms/step\n",
      "Epoch 114/200\n",
      "1/1 - 0s - loss: 1.0117 - accuracy: 0.7895 - 15ms/epoch - 15ms/step\n",
      "Epoch 115/200\n",
      "1/1 - 0s - loss: 0.9972 - accuracy: 0.7895 - 16ms/epoch - 16ms/step\n",
      "Epoch 116/200\n",
      "1/1 - 0s - loss: 0.9830 - accuracy: 0.7895 - 16ms/epoch - 16ms/step\n",
      "Epoch 117/200\n",
      "1/1 - 0s - loss: 0.9688 - accuracy: 0.7895 - 15ms/epoch - 15ms/step\n",
      "Epoch 118/200\n",
      "1/1 - 0s - loss: 0.9549 - accuracy: 0.7895 - 15ms/epoch - 15ms/step\n",
      "Epoch 119/200\n",
      "1/1 - 0s - loss: 0.9412 - accuracy: 0.7895 - 14ms/epoch - 14ms/step\n",
      "Epoch 120/200\n",
      "1/1 - 0s - loss: 0.9276 - accuracy: 0.7895 - 17ms/epoch - 17ms/step\n",
      "Epoch 121/200\n",
      "1/1 - 0s - loss: 0.9141 - accuracy: 0.7895 - 13ms/epoch - 13ms/step\n",
      "Epoch 122/200\n",
      "1/1 - 0s - loss: 0.9009 - accuracy: 0.7895 - 18ms/epoch - 18ms/step\n",
      "Epoch 123/200\n",
      "1/1 - 0s - loss: 0.8878 - accuracy: 0.7895 - 18ms/epoch - 18ms/step\n",
      "Epoch 124/200\n",
      "1/1 - 0s - loss: 0.8748 - accuracy: 0.7895 - 16ms/epoch - 16ms/step\n",
      "Epoch 125/200\n",
      "1/1 - 0s - loss: 0.8620 - accuracy: 0.7895 - 15ms/epoch - 15ms/step\n",
      "Epoch 126/200\n",
      "1/1 - 0s - loss: 0.8494 - accuracy: 0.7895 - 17ms/epoch - 17ms/step\n",
      "Epoch 127/200\n",
      "1/1 - 0s - loss: 0.8369 - accuracy: 0.8421 - 15ms/epoch - 15ms/step\n",
      "Epoch 128/200\n",
      "1/1 - 0s - loss: 0.8246 - accuracy: 0.8421 - 16ms/epoch - 16ms/step\n",
      "Epoch 129/200\n",
      "1/1 - 0s - loss: 0.8124 - accuracy: 0.8421 - 16ms/epoch - 16ms/step\n",
      "Epoch 130/200\n",
      "1/1 - 0s - loss: 0.8004 - accuracy: 0.8421 - 19ms/epoch - 19ms/step\n",
      "Epoch 131/200\n",
      "1/1 - 0s - loss: 0.7886 - accuracy: 0.8421 - 15ms/epoch - 15ms/step\n",
      "Epoch 132/200\n",
      "1/1 - 0s - loss: 0.7769 - accuracy: 0.8421 - 16ms/epoch - 16ms/step\n",
      "Epoch 133/200\n",
      "1/1 - 0s - loss: 0.7653 - accuracy: 0.8421 - 17ms/epoch - 17ms/step\n",
      "Epoch 134/200\n",
      "1/1 - 0s - loss: 0.7539 - accuracy: 0.8421 - 16ms/epoch - 16ms/step\n",
      "Epoch 135/200\n",
      "1/1 - 0s - loss: 0.7427 - accuracy: 0.8421 - 17ms/epoch - 17ms/step\n",
      "Epoch 136/200\n",
      "1/1 - 0s - loss: 0.7316 - accuracy: 0.8421 - 17ms/epoch - 17ms/step\n",
      "Epoch 137/200\n",
      "1/1 - 0s - loss: 0.7206 - accuracy: 0.8421 - 18ms/epoch - 18ms/step\n",
      "Epoch 138/200\n",
      "1/1 - 0s - loss: 0.7098 - accuracy: 0.8421 - 24ms/epoch - 24ms/step\n",
      "Epoch 139/200\n",
      "1/1 - 0s - loss: 0.6991 - accuracy: 0.8421 - 15ms/epoch - 15ms/step\n",
      "Epoch 140/200\n",
      "1/1 - 0s - loss: 0.6886 - accuracy: 0.8421 - 23ms/epoch - 23ms/step\n",
      "Epoch 141/200\n",
      "1/1 - 0s - loss: 0.6783 - accuracy: 0.8421 - 16ms/epoch - 16ms/step\n",
      "Epoch 142/200\n",
      "1/1 - 0s - loss: 0.6681 - accuracy: 0.8421 - 16ms/epoch - 16ms/step\n",
      "Epoch 143/200\n",
      "1/1 - 0s - loss: 0.6580 - accuracy: 0.8421 - 15ms/epoch - 15ms/step\n",
      "Epoch 144/200\n",
      "1/1 - 0s - loss: 0.6481 - accuracy: 0.8421 - 17ms/epoch - 17ms/step\n",
      "Epoch 145/200\n",
      "1/1 - 0s - loss: 0.6383 - accuracy: 0.8421 - 17ms/epoch - 17ms/step\n",
      "Epoch 146/200\n",
      "1/1 - 0s - loss: 0.6287 - accuracy: 0.8421 - 17ms/epoch - 17ms/step\n",
      "Epoch 147/200\n",
      "1/1 - 0s - loss: 0.6192 - accuracy: 0.8421 - 16ms/epoch - 16ms/step\n",
      "Epoch 148/200\n",
      "1/1 - 0s - loss: 0.6099 - accuracy: 0.8421 - 18ms/epoch - 18ms/step\n",
      "Epoch 149/200\n",
      "1/1 - 0s - loss: 0.6007 - accuracy: 0.8421 - 17ms/epoch - 17ms/step\n",
      "Epoch 150/200\n",
      "1/1 - 0s - loss: 0.5916 - accuracy: 0.8421 - 17ms/epoch - 17ms/step\n",
      "Epoch 151/200\n",
      "1/1 - 0s - loss: 0.5827 - accuracy: 0.8421 - 19ms/epoch - 19ms/step\n",
      "Epoch 152/200\n",
      "1/1 - 0s - loss: 0.5739 - accuracy: 0.8421 - 17ms/epoch - 17ms/step\n",
      "Epoch 153/200\n",
      "1/1 - 0s - loss: 0.5652 - accuracy: 0.8421 - 17ms/epoch - 17ms/step\n",
      "Epoch 154/200\n",
      "1/1 - 0s - loss: 0.5567 - accuracy: 0.8421 - 18ms/epoch - 18ms/step\n",
      "Epoch 155/200\n",
      "1/1 - 0s - loss: 0.5483 - accuracy: 0.8421 - 19ms/epoch - 19ms/step\n",
      "Epoch 156/200\n",
      "1/1 - 0s - loss: 0.5400 - accuracy: 0.8947 - 17ms/epoch - 17ms/step\n",
      "Epoch 157/200\n",
      "1/1 - 0s - loss: 0.5319 - accuracy: 0.8947 - 18ms/epoch - 18ms/step\n",
      "Epoch 158/200\n",
      "1/1 - 0s - loss: 0.5239 - accuracy: 0.8947 - 17ms/epoch - 17ms/step\n",
      "Epoch 159/200\n",
      "1/1 - 0s - loss: 0.5160 - accuracy: 0.8947 - 17ms/epoch - 17ms/step\n",
      "Epoch 160/200\n",
      "1/1 - 0s - loss: 0.5082 - accuracy: 0.8947 - 16ms/epoch - 16ms/step\n",
      "Epoch 161/200\n",
      "1/1 - 0s - loss: 0.5005 - accuracy: 0.8947 - 17ms/epoch - 17ms/step\n",
      "Epoch 162/200\n",
      "1/1 - 0s - loss: 0.4930 - accuracy: 0.8947 - 16ms/epoch - 16ms/step\n",
      "Epoch 163/200\n",
      "1/1 - 0s - loss: 0.4856 - accuracy: 0.8947 - 15ms/epoch - 15ms/step\n",
      "Epoch 164/200\n",
      "1/1 - 0s - loss: 0.4783 - accuracy: 0.9474 - 18ms/epoch - 18ms/step\n",
      "Epoch 165/200\n",
      "1/1 - 0s - loss: 0.4711 - accuracy: 0.9474 - 17ms/epoch - 17ms/step\n",
      "Epoch 166/200\n",
      "1/1 - 0s - loss: 0.4640 - accuracy: 0.9474 - 18ms/epoch - 18ms/step\n",
      "Epoch 167/200\n",
      "1/1 - 0s - loss: 0.4570 - accuracy: 0.9474 - 17ms/epoch - 17ms/step\n",
      "Epoch 168/200\n",
      "1/1 - 0s - loss: 0.4502 - accuracy: 1.0000 - 16ms/epoch - 16ms/step\n",
      "Epoch 169/200\n",
      "1/1 - 0s - loss: 0.4434 - accuracy: 1.0000 - 17ms/epoch - 17ms/step\n",
      "Epoch 170/200\n",
      "1/1 - 0s - loss: 0.4367 - accuracy: 1.0000 - 18ms/epoch - 18ms/step\n",
      "Epoch 171/200\n",
      "1/1 - 0s - loss: 0.4302 - accuracy: 1.0000 - 16ms/epoch - 16ms/step\n",
      "Epoch 172/200\n",
      "1/1 - 0s - loss: 0.4237 - accuracy: 1.0000 - 17ms/epoch - 17ms/step\n",
      "Epoch 173/200\n",
      "1/1 - 0s - loss: 0.4174 - accuracy: 1.0000 - 16ms/epoch - 16ms/step\n",
      "Epoch 174/200\n",
      "1/1 - 0s - loss: 0.4111 - accuracy: 1.0000 - 17ms/epoch - 17ms/step\n",
      "Epoch 175/200\n",
      "1/1 - 0s - loss: 0.4050 - accuracy: 1.0000 - 18ms/epoch - 18ms/step\n",
      "Epoch 176/200\n",
      "1/1 - 0s - loss: 0.3989 - accuracy: 1.0000 - 16ms/epoch - 16ms/step\n",
      "Epoch 177/200\n",
      "1/1 - 0s - loss: 0.3929 - accuracy: 1.0000 - 16ms/epoch - 16ms/step\n",
      "Epoch 178/200\n",
      "1/1 - 0s - loss: 0.3870 - accuracy: 1.0000 - 16ms/epoch - 16ms/step\n",
      "Epoch 179/200\n",
      "1/1 - 0s - loss: 0.3812 - accuracy: 1.0000 - 16ms/epoch - 16ms/step\n",
      "Epoch 180/200\n",
      "1/1 - 0s - loss: 0.3755 - accuracy: 1.0000 - 16ms/epoch - 16ms/step\n",
      "Epoch 181/200\n",
      "1/1 - 0s - loss: 0.3699 - accuracy: 1.0000 - 17ms/epoch - 17ms/step\n",
      "Epoch 182/200\n",
      "1/1 - 0s - loss: 0.3643 - accuracy: 1.0000 - 18ms/epoch - 18ms/step\n",
      "Epoch 183/200\n",
      "1/1 - 0s - loss: 0.3589 - accuracy: 1.0000 - 17ms/epoch - 17ms/step\n",
      "Epoch 184/200\n",
      "1/1 - 0s - loss: 0.3535 - accuracy: 1.0000 - 13ms/epoch - 13ms/step\n",
      "Epoch 185/200\n",
      "1/1 - 0s - loss: 0.3482 - accuracy: 1.0000 - 16ms/epoch - 16ms/step\n",
      "Epoch 186/200\n",
      "1/1 - 0s - loss: 0.3430 - accuracy: 1.0000 - 15ms/epoch - 15ms/step\n",
      "Epoch 187/200\n",
      "1/1 - 0s - loss: 0.3379 - accuracy: 1.0000 - 16ms/epoch - 16ms/step\n",
      "Epoch 188/200\n",
      "1/1 - 0s - loss: 0.3329 - accuracy: 1.0000 - 16ms/epoch - 16ms/step\n",
      "Epoch 189/200\n",
      "1/1 - 0s - loss: 0.3279 - accuracy: 1.0000 - 15ms/epoch - 15ms/step\n",
      "Epoch 190/200\n",
      "1/1 - 0s - loss: 0.3230 - accuracy: 1.0000 - 17ms/epoch - 17ms/step\n",
      "Epoch 191/200\n",
      "1/1 - 0s - loss: 0.3182 - accuracy: 1.0000 - 19ms/epoch - 19ms/step\n",
      "Epoch 192/200\n",
      "1/1 - 0s - loss: 0.3134 - accuracy: 1.0000 - 18ms/epoch - 18ms/step\n",
      "Epoch 193/200\n",
      "1/1 - 0s - loss: 0.3087 - accuracy: 1.0000 - 15ms/epoch - 15ms/step\n",
      "Epoch 194/200\n",
      "1/1 - 0s - loss: 0.3041 - accuracy: 1.0000 - 18ms/epoch - 18ms/step\n",
      "Epoch 195/200\n",
      "1/1 - 0s - loss: 0.2996 - accuracy: 1.0000 - 17ms/epoch - 17ms/step\n",
      "Epoch 196/200\n",
      "1/1 - 0s - loss: 0.2952 - accuracy: 1.0000 - 67ms/epoch - 67ms/step\n",
      "Epoch 197/200\n",
      "1/1 - 0s - loss: 0.2908 - accuracy: 1.0000 - 19ms/epoch - 19ms/step\n",
      "Epoch 198/200\n",
      "1/1 - 0s - loss: 0.2864 - accuracy: 1.0000 - 18ms/epoch - 18ms/step\n",
      "Epoch 199/200\n",
      "1/1 - 0s - loss: 0.2822 - accuracy: 1.0000 - 19ms/epoch - 19ms/step\n",
      "Epoch 200/200\n",
      "1/1 - 0s - loss: 0.2780 - accuracy: 1.0000 - 20ms/epoch - 20ms/step\n"
     ]
    },
    {
     "data": {
      "text/plain": [
       "<keras.callbacks.History at 0x20b99afaa00>"
      ]
     },
     "execution_count": 22,
     "metadata": {},
     "output_type": "execute_result"
    }
   ],
   "source": [
    "model.fit(X, y, epochs=200, verbose=2)"
   ]
  },
  {
   "cell_type": "code",
   "execution_count": 1,
   "metadata": {},
   "outputs": [],
   "source": [
    "# 모델, 토크나이저, 현재 단어, 반복할 횟수\n",
    "def sentence_generation(model, t, current_word, n):\n",
    "    # 처음 들어온 단어도 마지막에 같이 출력하기 위해 저장\n",
    "    init_word = current_word\n",
    "    sentence = ''\n",
    "    for _ in range(n): # n번 반복\n",
    "        # 현재 단어에 대한 정수 인코딩\n",
    "        encoded = t.texts_to_sequences([current_word])[0]\n",
    "        encoded = pad_sequences([encoded], maxlen=max_len-1, padding='pre') # 데이터에 대한 패딩\n",
    "        # 입력한 X(현재 단어)에 대해서 y를 예측하고 y(예측한 단어)를 result에 저장.\n",
    "        pred=model.predict(encoded)\n",
    "        result=np.argmax(pred,axis=1)\n",
    "        for word, index in t.word_index.items():\n",
    "            # 만약 예측한 단어와 인덱스와 동일한 단어가 있다면\n",
    "            if index == result: \n",
    "                break # 해당 단어가 예측 단어이므로 break\n",
    "        # 현재 단어 + ' ' + 예측 단어를 현재 단어로 변경\n",
    "        current_word = current_word + ' ' + word # 단어 누적\n",
    "        sentence = sentence + ' ' + word # 예측 단어를 문장에 저장\n",
    "    sentence = init_word + sentence\n",
    "    return sentence\n"
   ]
  },
  {
   "cell_type": "code",
   "execution_count": 2,
   "metadata": {},
   "outputs": [
    {
     "ename": "NameError",
     "evalue": "name 'model' is not defined",
     "output_type": "error",
     "traceback": [
      "\u001b[1;31m---------------------------------------------------------------------------\u001b[0m",
      "\u001b[1;31mNameError\u001b[0m                                 Traceback (most recent call last)",
      "\u001b[1;32m~\\AppData\\Local\\Temp/ipykernel_2272/992738311.py\u001b[0m in \u001b[0;36m<module>\u001b[1;34m\u001b[0m\n\u001b[1;32m----> 1\u001b[1;33m \u001b[0mprint\u001b[0m\u001b[1;33m(\u001b[0m\u001b[0msentence_generation\u001b[0m\u001b[1;33m(\u001b[0m\u001b[0mmodel\u001b[0m\u001b[1;33m,\u001b[0m \u001b[0mt\u001b[0m\u001b[1;33m,\u001b[0m \u001b[1;34m'경마장에'\u001b[0m\u001b[1;33m,\u001b[0m \u001b[1;36m4\u001b[0m\u001b[1;33m)\u001b[0m\u001b[1;33m)\u001b[0m\u001b[1;33m\u001b[0m\u001b[1;33m\u001b[0m\u001b[0m\n\u001b[0m\u001b[0;32m      2\u001b[0m \u001b[1;31m# '경마장에'라는 단어 뒤에는 총 4개의 단어가 있으므로 4번 예측\u001b[0m\u001b[1;33m\u001b[0m\u001b[1;33m\u001b[0m\u001b[0m\n",
      "\u001b[1;31mNameError\u001b[0m: name 'model' is not defined"
     ]
    }
   ],
   "source": [
    "print(sentence_generation(model, t, '경마장에', 4)) \n",
    "# '경마장에'라는 단어 뒤에는 총 4개의 단어가 있으므로 4번 예측"
   ]
  },
  {
   "cell_type": "code",
   "execution_count": 26,
   "metadata": {},
   "outputs": [
    {
     "name": "stdout",
     "output_type": "stream",
     "text": [
      "1/1 [==============================] - 0s 22ms/step\n",
      "1/1 [==============================] - 0s 34ms/step\n",
      "그의 말이 법이다\n"
     ]
    }
   ],
   "source": [
    "print(sentence_generation(model, t, '그의', 2)) # 2번 예측"
   ]
  },
  {
   "cell_type": "code",
   "execution_count": 27,
   "metadata": {},
   "outputs": [
    {
     "name": "stdout",
     "output_type": "stream",
     "text": [
      "1/1 [==============================] - 0s 23ms/step\n",
      "1/1 [==============================] - 0s 34ms/step\n",
      "1/1 [==============================] - 0s 21ms/step\n",
      "1/1 [==============================] - 0s 20ms/step\n",
      "1/1 [==============================] - 0s 20ms/step\n",
      "가는 말이 고와야 오는 말이 곱다\n"
     ]
    }
   ],
   "source": [
    "print(sentence_generation(model, t, '가는', 5)) # 5번 예측\n"
   ]
  },
  {
   "cell_type": "code",
   "execution_count": 29,
   "metadata": {},
   "outputs": [
    {
     "name": "stdout",
     "output_type": "stream",
     "text": [
      "1/1 [==============================] - 0s 22ms/step\n",
      "1/1 [==============================] - 0s 24ms/step\n",
      "1/1 [==============================] - 0s 27ms/step\n",
      "1/1 [==============================] - 0s 22ms/step\n",
      "그런 식으로 하면 말이 안된다\n"
     ]
    }
   ],
   "source": [
    "print(sentence_generation(model, t, '그런', 4)) # 4번 예측\n"
   ]
  },
  {
   "cell_type": "code",
   "execution_count": 28,
   "metadata": {},
   "outputs": [
    {
     "name": "stdout",
     "output_type": "stream",
     "text": [
      "1/1 [==============================] - 0s 20ms/step\n",
      "1/1 [==============================] - 0s 22ms/step\n",
      "1/1 [==============================] - 0s 23ms/step\n",
      "1/1 [==============================] - 0s 28ms/step\n",
      "새로 태어난 말이 배가 고프다\n"
     ]
    }
   ],
   "source": [
    "print(sentence_generation(model, t, '새로', 4)) # 4번 예측"
   ]
  },
  {
   "cell_type": "code",
   "execution_count": null,
   "metadata": {},
   "outputs": [],
   "source": []
  }
 ],
 "metadata": {
  "kernelspec": {
   "display_name": "Python 3.9.7 ('base')",
   "language": "python",
   "name": "python3"
  },
  "language_info": {
   "codemirror_mode": {
    "name": "ipython",
    "version": 3
   },
   "file_extension": ".py",
   "mimetype": "text/x-python",
   "name": "python",
   "nbconvert_exporter": "python",
   "pygments_lexer": "ipython3",
   "version": "3.9.7"
  },
  "orig_nbformat": 4,
  "vscode": {
   "interpreter": {
    "hash": "ff4f85d6e04298634172ac5d8264e7e9b556b95639fe52ebb9425c4d4cba0c9c"
   }
  }
 },
 "nbformat": 4,
 "nbformat_minor": 2
}
