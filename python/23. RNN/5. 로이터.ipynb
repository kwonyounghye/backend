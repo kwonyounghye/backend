{
 "cells": [
  {
   "cell_type": "code",
   "execution_count": 1,
   "metadata": {},
   "outputs": [],
   "source": [
    "from keras.datasets import reuters\n",
    "# 로이터 뉴스 데이터 로딩, num_words 사용할 상위 단어수, maxlen 상위 1000개 단어\n",
    "(X_train, y_train), (X_test, y_test) = reuters.load_data(num_words=1000, test_split=0.2)\n"
   ]
  },
  {
   "cell_type": "code",
   "execution_count": 2,
   "metadata": {},
   "outputs": [],
   "source": [
    "from unittest.util import _MAX_LENGTH\n",
    "from tensorflow.keras.preprocessing import sequence\n",
    "# 가장 긴 길이를 기준으로 사이즈를 맞추고 남는 부분을 0으로 채움\n",
    "X_train = sequence.pad_sequences(X_train, maxlen=50) \n",
    "X_test = sequence.pad_sequences(X_test, maxlen=50)"
   ]
  },
  {
   "cell_type": "code",
   "execution_count": 3,
   "metadata": {},
   "outputs": [],
   "source": [
    "from keras.utils import np_utils\n",
    "# 원핫인코딩\n",
    "y_train = np_utils.to_categorical(y_train)\n",
    "y_test = np_utils.to_categorical(y_test)"
   ]
  },
  {
   "cell_type": "code",
   "execution_count": 4,
   "metadata": {},
   "outputs": [],
   "source": [
    "from tensorflow.keras.models import Sequential\n",
    "from tensorflow.keras.layers import Dense, LSTM, Embedding\n",
    "model = Sequential()\n",
    "# 임베딩 레이어 Embedding(단어의개수, 벡터크기, 입력사이즈)\n",
    "model.add(Embedding(1000,100)) #1000개의 단어가 입력되어 100차원으로 출력\n",
    "# 문장을 단어들의 시퀀스로 간주하고 순환 레이어의 입력으로, 출력노드수 100\n",
    "model.add(LSTM(100)) # Long Short-Term Memory\n",
    "model.add(Dense(46, activation='softmax')) # 46개의 뉴스 카테고리\n",
    "model.compile(loss='categorical_crossentropy', optimizer='adam', metrics=['accuracy'])"
   ]
  },
  {
   "cell_type": "code",
   "execution_count": 5,
   "metadata": {},
   "outputs": [
    {
     "name": "stdout",
     "output_type": "stream",
     "text": [
      "Model: \"sequential\"\n",
      "_________________________________________________________________\n",
      " Layer (type)                Output Shape              Param #   \n",
      "=================================================================\n",
      " embedding (Embedding)       (None, None, 100)         100000    \n",
      "                                                                 \n",
      " lstm (LSTM)                 (None, 100)               80400     \n",
      "                                                                 \n",
      " dense (Dense)               (None, 46)                4646      \n",
      "                                                                 \n",
      "=================================================================\n",
      "Total params: 185,046\n",
      "Trainable params: 185,046\n",
      "Non-trainable params: 0\n",
      "_________________________________________________________________\n"
     ]
    }
   ],
   "source": [
    "model.summary()"
   ]
  },
  {
   "cell_type": "code",
   "execution_count": 6,
   "metadata": {},
   "outputs": [
    {
     "name": "stdout",
     "output_type": "stream",
     "text": [
      "Epoch 1/100\n",
      "57/57 [==============================] - 4s 24ms/step - loss: 2.7434 - accuracy: 0.3370 - val_loss: 2.4050 - val_accuracy: 0.3450\n",
      "Epoch 2/100\n",
      "57/57 [==============================] - 1s 13ms/step - loss: 2.3075 - accuracy: 0.4003 - val_loss: 2.0988 - val_accuracy: 0.4925\n",
      "Epoch 3/100\n",
      "57/57 [==============================] - 1s 13ms/step - loss: 2.0527 - accuracy: 0.4930 - val_loss: 2.0212 - val_accuracy: 0.4986\n",
      "Epoch 4/100\n",
      "57/57 [==============================] - 1s 13ms/step - loss: 1.9526 - accuracy: 0.5155 - val_loss: 1.9203 - val_accuracy: 0.5125\n",
      "Epoch 5/100\n",
      "57/57 [==============================] - 1s 13ms/step - loss: 1.8093 - accuracy: 0.5393 - val_loss: 1.7620 - val_accuracy: 0.5531\n",
      "Epoch 6/100\n",
      "57/57 [==============================] - 1s 13ms/step - loss: 1.6585 - accuracy: 0.5791 - val_loss: 1.6482 - val_accuracy: 0.5776\n",
      "Epoch 7/100\n",
      "57/57 [==============================] - 1s 13ms/step - loss: 1.5517 - accuracy: 0.6035 - val_loss: 1.5818 - val_accuracy: 0.5982\n",
      "Epoch 8/100\n",
      "57/57 [==============================] - 1s 13ms/step - loss: 1.4672 - accuracy: 0.6263 - val_loss: 1.5388 - val_accuracy: 0.6021\n",
      "Epoch 9/100\n",
      "57/57 [==============================] - 1s 13ms/step - loss: 1.3962 - accuracy: 0.6429 - val_loss: 1.5454 - val_accuracy: 0.6138\n",
      "Epoch 10/100\n",
      "57/57 [==============================] - 1s 13ms/step - loss: 1.3223 - accuracy: 0.6589 - val_loss: 1.4849 - val_accuracy: 0.6260\n",
      "Epoch 11/100\n",
      "57/57 [==============================] - 1s 13ms/step - loss: 1.2748 - accuracy: 0.6746 - val_loss: 1.4505 - val_accuracy: 0.6394\n",
      "Epoch 12/100\n",
      "57/57 [==============================] - 1s 13ms/step - loss: 1.2352 - accuracy: 0.6863 - val_loss: 1.4643 - val_accuracy: 0.6405\n",
      "Epoch 13/100\n",
      "57/57 [==============================] - 1s 13ms/step - loss: 1.1634 - accuracy: 0.7065 - val_loss: 1.4390 - val_accuracy: 0.6511\n",
      "Epoch 14/100\n",
      "57/57 [==============================] - 1s 13ms/step - loss: 1.1152 - accuracy: 0.7158 - val_loss: 1.4466 - val_accuracy: 0.6522\n",
      "Epoch 15/100\n",
      "57/57 [==============================] - 1s 13ms/step - loss: 1.0752 - accuracy: 0.7317 - val_loss: 1.4749 - val_accuracy: 0.6344\n",
      "Epoch 16/100\n",
      "57/57 [==============================] - 1s 14ms/step - loss: 1.0467 - accuracy: 0.7381 - val_loss: 1.4255 - val_accuracy: 0.6628\n",
      "Epoch 17/100\n",
      "57/57 [==============================] - 1s 13ms/step - loss: 0.9837 - accuracy: 0.7560 - val_loss: 1.4617 - val_accuracy: 0.6500\n",
      "Epoch 18/100\n",
      "57/57 [==============================] - 1s 13ms/step - loss: 0.9464 - accuracy: 0.7621 - val_loss: 1.4850 - val_accuracy: 0.6489\n",
      "Epoch 19/100\n",
      "57/57 [==============================] - 1s 13ms/step - loss: 0.9181 - accuracy: 0.7648 - val_loss: 1.4421 - val_accuracy: 0.6516\n"
     ]
    }
   ],
   "source": [
    "from tensorflow.keras.callbacks import EarlyStopping\n",
    "early_stopping=EarlyStopping(patience=3) # 조기학습종료 조건 / validation_split=0.2 학습용 중 20%로 파라미터 튜닝\n",
    "hist=model.fit(X_train,y_train,batch_size=128,epochs=100,validation_split=0.2,callbacks=[early_stopping])\n"
   ]
  },
  {
   "cell_type": "code",
   "execution_count": 7,
   "metadata": {},
   "outputs": [
    {
     "name": "stdout",
     "output_type": "stream",
     "text": [
      "71/71 [==============================] - 0s 5ms/step - loss: 1.5154 - accuracy: 0.6349\n"
     ]
    },
    {
     "data": {
      "text/plain": [
       "[1.5153518915176392, 0.6349064707756042]"
      ]
     },
     "execution_count": 7,
     "metadata": {},
     "output_type": "execute_result"
    }
   ],
   "source": [
    "model.evaluate(X_test, y_test, verbose=1)"
   ]
  },
  {
   "cell_type": "code",
   "execution_count": 8,
   "metadata": {},
   "outputs": [
    {
     "data": {
      "image/png": "[encoded data removed]",
      "text/plain": [
       "<Figure size 432x288 with 1 Axes>"
      ]
     },
     "metadata": {
      "needs_background": "light"
     },
     "output_type": "display_data"
    }
   ],
   "source": [
    "import matplotlib.pyplot as plt\n",
    "plt.plot(hist.history['loss'])\n",
    "plt.plot(hist.history['val_loss'])\n",
    "plt.plot(hist.history['accuracy'])\n",
    "plt.plot(hist.history['val_accuracy'])\n",
    "plt.legend(['loss','val_loss','accuracy','val_accuracy'])\n",
    "plt.grid()\n",
    "plt.show()\n"
   ]
  },
  {
   "cell_type": "code",
   "execution_count": 9,
   "metadata": {},
   "outputs": [
    {
     "name": "stdout",
     "output_type": "stream",
     "text": [
      "1/1 [==============================] - 0s 427ms/step\n"
     ]
    },
    {
     "data": {
      "text/plain": [
       "10"
      ]
     },
     "execution_count": 9,
     "metadata": {},
     "output_type": "execute_result"
    }
   ],
   "source": [
    "import numpy as np\n",
    "pred=model.predict(X_test[12].reshape(-1,50))\n",
    "np.argmax(pred[0])\n"
   ]
  },
  {
   "cell_type": "code",
   "execution_count": 10,
   "metadata": {},
   "outputs": [
    {
     "data": {
      "text/plain": [
       "1"
      ]
     },
     "execution_count": 10,
     "metadata": {},
     "output_type": "execute_result"
    }
   ],
   "source": [
    "np.argmax(y_test[12])"
   ]
  },
  {
   "cell_type": "code",
   "execution_count": 18,
   "metadata": {},
   "outputs": [
    {
     "data": {
      "text/plain": [
       "array([[722,  12,  20, ..., 510,  17,  12],\n",
       "       [  7,  48,   2, ..., 760,  17,  12],\n",
       "       [389, 410,   4, ...,   8,  17,  12],\n",
       "       ...,\n",
       "       [  0,   1,   2, ...,  11,  17,  12],\n",
       "       [  7, 378, 104, ...,   8,  17,  12],\n",
       "       [  6, 127, 122, ...,   2,  17,  12]])"
      ]
     },
     "execution_count": 18,
     "metadata": {},
     "output_type": "execute_result"
    }
   ],
   "source": [
    "X_test"
   ]
  },
  {
   "cell_type": "code",
   "execution_count": 12,
   "metadata": {},
   "outputs": [
    {
     "name": "stdout",
     "output_type": "stream",
     "text": [
      "71/71 [==============================] - 0s 4ms/step\n",
      "[7.6842350e-03 8.6166483e-01 9.1642328e-03 2.7478833e-03 1.0130986e-02\n",
      " 1.6644137e-02 4.3394300e-03 3.0102614e-05 3.4443193e-04 3.3712368e-03\n",
      " 1.9735793e-02 1.7580911e-04 1.6808772e-05 9.4949231e-03 3.3810232e-03\n",
      " 3.3346722e-03 1.3511877e-03 2.5660731e-04 2.6445901e-05 1.0283559e-03\n",
      " 1.4376818e-04 3.7053484e-05 3.6316540e-03 2.1653266e-03 1.5254100e-02\n",
      " 6.0772989e-04 1.5632380e-03 3.9725925e-04 8.9294007e-03 2.8287854e-05\n",
      " 2.7509512e-05 2.7204007e-03 2.4919000e-03 8.0004084e-04 1.8925539e-05\n",
      " 2.6908385e-05 3.6590027e-05 7.8604993e-04 2.5795766e-03 2.2536585e-04\n",
      " 5.9560163e-05 1.8533344e-03 1.8632879e-04 3.7667298e-05 9.1914102e-05\n",
      " 3.7695043e-04]\n",
      "1\n",
      "1\n"
     ]
    }
   ],
   "source": [
    "# 2차원으로 변형\n",
    "# X_test(샘플 수 상관없음, 2차원으로 변경)\n",
    "pred = model.predict(X_test)\n",
    "# pred = model.predict(X_test[12].reshape(-1, 500))\n",
    "print(pred[10])\n",
    "print(np.argmax(pred[10]))\n",
    "print(np.argmax(y_test[12]))"
   ]
  },
  {
   "cell_type": "code",
   "execution_count": null,
   "metadata": {},
   "outputs": [],
   "source": []
  }
 ],
 "metadata": {
  "kernelspec": {
   "display_name": "Python 3.9.7 ('base')",
   "language": "python",
   "name": "python3"
  },
  "language_info": {
   "codemirror_mode": {
    "name": "ipython",
    "version": 3
   },
   "file_extension": ".py",
   "mimetype": "text/x-python",
   "name": "python",
   "nbconvert_exporter": "python",
   "pygments_lexer": "ipython3",
   "version": "3.9.7"
  },
  "orig_nbformat": 4,
  "vscode": {
   "interpreter": {
    "hash": "ff4f85d6e04298634172ac5d8264e7e9b556b95639fe52ebb9425c4d4cba0c9c"
   }
  }
 },
 "nbformat": 4,
 "nbformat_minor": 2
}
