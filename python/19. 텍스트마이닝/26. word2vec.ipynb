{
 "cells": [
  {
   "cell_type": "code",
   "execution_count": 10,
   "metadata": {},
   "outputs": [
    {
     "data": {
      "text/plain": [
       "100"
      ]
     },
     "execution_count": 10,
     "metadata": {},
     "output_type": "execute_result"
    }
   ],
   "source": [
    "import glob\n",
    "pos_review=(glob.glob(\"c:/data/imdb/train/pos/*.txt\"))[:100]\n",
    "lines_pos=[]\n",
    "for i in pos_review:\n",
    "    try:\n",
    "        f = open(i)\n",
    "        temp = f.readlines()[0]\n",
    "        lines_pos.append(temp)\n",
    "        f.close()\n",
    "    except Exception as e:\n",
    "        continue\n",
    "len(lines_pos)"
   ]
  },
  {
   "cell_type": "code",
   "execution_count": 11,
   "metadata": {},
   "outputs": [
    {
     "data": {
      "text/plain": [
       "0.9575266"
      ]
     },
     "execution_count": 11,
     "metadata": {},
     "output_type": "execute_result"
    }
   ],
   "source": [
    "from nltk.corpus import stopwords\n",
    "from gensim.models.word2vec import Word2Vec\n",
    "from nltk.tokenize import RegexpTokenizer\n",
    "# 영어 단어, 불용어 제거\n",
    "stop_words = stopwords.words('english')\n",
    "tokenizer = RegexpTokenizer('[\\w]+')\n",
    "# 단어 추출\n",
    "text=[]\n",
    "for line in lines_pos:\n",
    "    words = line.lower()\n",
    "    tokens = tokenizer.tokenize(words)\n",
    "    stopped_tokens = [i for i in list(set(tokens)) if i not in stop_words+[\"br\"]]\n",
    "    stopped_tokens2 = [i for i in stopped_tokens if len(i)>1] # 한글자인 단어 제거\n",
    "    text.append(stopped_tokens2)\n",
    "# word2vec 모형 생성, sg=1 skip-gram을 적용, window=2 중심 단어로부터 좌우 2개의 단어까지 학습에 적용\n",
    "# min_count= 3 최소 3 회 이상 출현한 단어들을 대상으로 학습\n",
    "# vector_size=10: 단어 하나를 10개의 숫자로 표현/ sg=1: skip gram 알고리즘 사용, 중심단어로 주변단어 예측 \n",
    "model = Word2Vec(text, vector_size=10, sg=1, window=2, min_count=3)\n",
    "# 두 단어의 유사도 계산\n",
    "model.wv.similarity('film', 'movie')"
   ]
  },
  {
   "cell_type": "code",
   "execution_count": 3,
   "metadata": {},
   "outputs": [
    {
     "data": {
      "text/plain": [
       "[('dramatic', 0.9229932427406311),\n",
       " ('actors', 0.9070170521736145),\n",
       " ('character', 0.9032984375953674),\n",
       " ('someone', 0.9025757312774658),\n",
       " ('performance', 0.9010740518569946)]"
      ]
     },
     "execution_count": 3,
     "metadata": {},
     "output_type": "execute_result"
    }
   ],
   "source": [
    "# good과 가장 유사한 단어 5개\n",
    "model.wv.most_similar(\"good\",topn =5)"
   ]
  },
  {
   "cell_type": "code",
   "execution_count": 4,
   "metadata": {},
   "outputs": [
    {
     "data": {
      "text/plain": [
       "895"
      ]
     },
     "execution_count": 4,
     "metadata": {},
     "output_type": "execute_result"
    }
   ],
   "source": [
    "# 모델에 저장된 단어의 갯수\n",
    "\n",
    "len(model.wv.index_to_key)"
   ]
  },
  {
   "cell_type": "code",
   "execution_count": 9,
   "metadata": {},
   "outputs": [
    {
     "data": {
      "text/plain": [
       "'movie'"
      ]
     },
     "execution_count": 9,
     "metadata": {},
     "output_type": "execute_result"
    }
   ],
   "source": [
    "# 모델에 저장된 단어 목록\n",
    "model.wv.index_to_key[0]"
   ]
  },
  {
   "cell_type": "code",
   "execution_count": 8,
   "metadata": {},
   "outputs": [
    {
     "data": {
      "text/plain": [
       "array([ 0.21444583, -0.1547824 ,  0.29766992,  0.07759119,  0.12126566,\n",
       "       -0.13544966,  0.28009847,  0.3502572 , -0.30400997, -0.21675467],\n",
       "      dtype=float32)"
      ]
     },
     "execution_count": 8,
     "metadata": {},
     "output_type": "execute_result"
    }
   ],
   "source": [
    "model.wv.vectors[0] # 단어의 벡터값"
   ]
  },
  {
   "cell_type": "code",
   "execution_count": null,
   "metadata": {},
   "outputs": [],
   "source": []
  }
 ],
 "metadata": {
  "kernelspec": {
   "display_name": "Python 3.9.7 ('base')",
   "language": "python",
   "name": "python3"
  },
  "language_info": {
   "codemirror_mode": {
    "name": "ipython",
    "version": 3
   },
   "file_extension": ".py",
   "mimetype": "text/x-python",
   "name": "python",
   "nbconvert_exporter": "python",
   "pygments_lexer": "ipython3",
   "version": "3.9.7"
  },
  "orig_nbformat": 4,
  "vscode": {
   "interpreter": {
    "hash": "ff4f85d6e04298634172ac5d8264e7e9b556b95639fe52ebb9425c4d4cba0c9c"
   }
  }
 },
 "nbformat": 4,
 "nbformat_minor": 2
}
