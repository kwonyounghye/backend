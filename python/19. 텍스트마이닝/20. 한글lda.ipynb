{
 "cells": [
  {
   "cell_type": "code",
   "execution_count": 2,
   "metadata": {},
   "outputs": [],
   "source": [
    "import tomotopy as tp\n",
    "import re\n",
    "from konlpy.tag import Hannanum\n",
    "han = Hannanum()\n",
    "# LDAModel 생성\n",
    "# LDA(Latent Dirichlet allocation, 잠재 디리클레 할당)\n",
    "# 주어진 문서에 대하여 각 문서에 어떤 주제들이 존재하는지를 서술하는 확률적 토픽 모델 기법\n",
    "# 토픽의 개수(k) 10개 2회 미만 등장한 단어들은 제거\n",
    "model = tp.LDAModel(k=10, min_cf=2)\n",
    "# 파일에서 한 줄씩 읽어와서 model에 추가\n",
    "for i, line in enumerate(open('c:/data/text/news1.txt', encoding='utf-8')):\n",
    "    sentence =re.sub('[^가-힣ㄱ-ㅎㅏ-ㅣa-zA-Z]', ' ', line)\n",
    "    #명사만 추출\n",
    "    a=sentence.strip()\n",
    "    n=han.nouns(a)\n",
    "    n2=[x for x in n if len(x)>1]\n",
    "    if len(n2)>0:\n",
    "        model.add_doc(n2) # 공백 기준으로 단어를 나누어 model에 추가\n",
    "    # train(0) : 0회 학습, model의 num_words, num_vocabs 값을 확인하기 위해"
   ]
  },
  {
   "cell_type": "code",
   "execution_count": 4,
   "metadata": {},
   "outputs": [
    {
     "name": "stdout",
     "output_type": "stream",
     "text": [
      "Total docs: 10\n",
      "Total words: 84\n"
     ]
    }
   ],
   "source": [
    "# 실제로 학습은 하지 않고 학습 준비만 하는 상태\n",
    "model.train(0)\n",
    "print('Total docs:', len(model.docs))\n",
    "print('Total words:', model.num_words)\n"
   ]
  },
  {
   "cell_type": "code",
   "execution_count": 7,
   "metadata": {},
   "outputs": [
    {
     "name": "stdout",
     "output_type": "stream",
     "text": [
      "Topic #0\t골든스테이트, 커리\n",
      "Topic #1\t골든스테이트, 스틸\n",
      "Topic #2\t리바운드, 시리즈\n",
      "Topic #3\t골든스테이트, 이번\n",
      "Topic #4\t경기, 시리즈\n",
      "Topic #5\t어시스트, 보스턴\n",
      "Topic #6\t커리, 부상\n",
      "Topic #7\t골든스테이트, 커리\n",
      "Topic #8\t골든스테이트, 커리\n",
      "Topic #9\t차전, 하루\n"
     ]
    }
   ],
   "source": [
    "#200회 학습\n",
    "model.train(200)\n",
    "# 학습된 토픽들을 출력\n",
    "for i in range(model.k):\n",
    "    # 토픽별 상위 단어 10개 추출\n",
    "    res = model.get_topic_words(i, top_n=2)\n",
    "    print('Topic #{0}'.format(i), end='\\t')\n",
    "    print(', '.join(w for w, p in res))"
   ]
  },
  {
   "cell_type": "code",
   "execution_count": null,
   "metadata": {},
   "outputs": [],
   "source": []
  }
 ],
 "metadata": {
  "kernelspec": {
   "display_name": "Python 3.9.7 ('base')",
   "language": "python",
   "name": "python3"
  },
  "language_info": {
   "codemirror_mode": {
    "name": "ipython",
    "version": 3
   },
   "file_extension": ".py",
   "mimetype": "text/x-python",
   "name": "python",
   "nbconvert_exporter": "python",
   "pygments_lexer": "ipython3",
   "version": "3.9.7"
  },
  "orig_nbformat": 4,
  "vscode": {
   "interpreter": {
    "hash": "ff4f85d6e04298634172ac5d8264e7e9b556b95639fe52ebb9425c4d4cba0c9c"
   }
  }
 },
 "nbformat": 4,
 "nbformat_minor": 2
}
