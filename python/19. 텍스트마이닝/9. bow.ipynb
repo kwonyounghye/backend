{
 "cells": [
  {
   "cell_type": "code",
   "execution_count": 1,
   "metadata": {},
   "outputs": [
    {
     "name": "stdout",
     "output_type": "stream",
     "text": [
      "{'비': 0, '가': 1, '오니': 2, '마음': 3, '이': 4, '차분해지네요': 5, '요즘': 6, '너무': 7, '더웠어요': 8, '기쁘네요': 9}\n",
      "[2, 2, 2, 2, 2, 1, 1, 1, 1, 1]\n"
     ]
    }
   ],
   "source": [
    "from konlpy.tag import Okt\n",
    "import re\n",
    "okt=Okt()\n",
    "token=re.sub(\"[.!#~]\",\"\", '비가 오니 마음이 차분해지네요. 요즘 너무 더웠어요. 비가 오니 마음이 기쁘네요.')\n",
    "# 형태소 분석\n",
    "token=okt.morphs(token)\n",
    "word2index={} # 단어 사전(단어와 숫자 인덱스)\n",
    "bow=[] # 단어 가방(단어와 출현 횟수)\n",
    "for voca in token:\n",
    "    #사전에 없는 단어 추가\n",
    "    if voca not in word2index.keys(): # 새로운 단어\n",
    "        word2index[voca]=len(word2index)\n",
    "        # 단어의 인덱스와 출현횟수 (기본값:1)\n",
    "        bow.insert(len(word2index)-1,1)\n",
    "    else:\n",
    "        #재등장하는 단어의 인덱스\n",
    "        index=word2index.get(voca)\n",
    "        #단어 카운트 증가\n",
    "        bow[index]=bow[index]+1\n",
    "print(word2index)\n",
    "#단어의 출현 횟수\n",
    "print(bow)"
   ]
  },
  {
   "cell_type": "code",
   "execution_count": 2,
   "metadata": {},
   "outputs": [
    {
     "name": "stdout",
     "output_type": "stream",
     "text": [
      "{'모처럼': 1, '전국에': 4, '비가': 2, '내리고': 0, '있습니다': 3}\n",
      "[[0 0 1 0 1]]\n"
     ]
    }
   ],
   "source": [
    "from sklearn.feature_extraction.text import CountVectorizer\n",
    "# 문서 집합에서 단어 토큰을 생성하고 각 단어의 수를 세어 BOW 인코딩한 벡터를 만드는 클래스\n",
    "corpus=[' 모처럼 전국에 비가 내리고 있습니다.'] \n",
    "line=['전국에 비가']\n",
    "vector = CountVectorizer()\n",
    "vector.fit(corpus)\n",
    "print(vector.vocabulary_)\n",
    "print(vector.transform(line).toarray()) #단어의 출현횟수"
   ]
  },
  {
   "cell_type": "code",
   "execution_count": 4,
   "metadata": {},
   "outputs": [
    {
     "data": {
      "text/plain": [
       "['지역 근로자 평균 급여 액 이상 차이 나 것 민주당 김회재 의원 국세청 광역 자치 단체 별 근로 소득 연말정산 신고 현황 주소지 기준 서울 평균 급여 액 전국 평균 개 시도 가운데 두 번 수준 평균 급여 액 가장 지역 공무원 공공기관 종사 행정도시 세종 제조업 도시 울산 은 세종 서울 위 기록 나머지 개 시도 모두 급여 액 못 제주 의 급여 액 가장 전북 인천 강원 대구 부산 순이 또 경북 경남 충북 각각 전남 광주 각각 원 대전 충남 경기 등 세종 제주 급여 액 격차 달 과세 대상 근로 소득 가운데 서울 경기 인천 발생 근로 소득 수도권 집중 년 포인트 서울 거주 자의 급여 액 은 강원 의 배 수준 김 의원 기업 인프라 구직 인구 모두 수도권 지역 소멸 위기 처 수도권 전쟁 경쟁 며 국토 불균형 가장 원인 양질 일자리 지적 양질 일자리 만들기 위해 지역 사제 추진 지역 중소기업 대한 지원 고 강조']"
      ]
     },
     "execution_count": 4,
     "metadata": {},
     "output_type": "execute_result"
    }
   ],
   "source": [
    "f=open('c:/data/text/news1.txt')\n",
    "corpus=f.read()\n",
    "txt=okt.nouns(corpus)\n",
    "txt2=[' '.join(txt)]\n",
    "txt2"
   ]
  },
  {
   "cell_type": "code",
   "execution_count": 5,
   "metadata": {},
   "outputs": [
    {
     "name": "stderr",
     "output_type": "stream",
     "text": [
      "c:\\anaconda3\\lib\\site-packages\\sklearn\\utils\\deprecation.py:87: FutureWarning: Function get_feature_names is deprecated; get_feature_names is deprecated in 1.0 and will be removed in 1.2. Please use get_feature_names_out instead.\n",
      "  warnings.warn(msg, category=FutureWarning)\n"
     ]
    },
    {
     "data": {
      "image/png": "[encoded data removed]",
      "text/plain": [
       "<Figure size 432x288 with 1 Axes>"
      ]
     },
     "metadata": {
      "needs_background": "light"
     },
     "output_type": "display_data"
    }
   ],
   "source": [
    "import numpy as np\n",
    "import matplotlib.pyplot as plt\n",
    "vect = CountVectorizer().fit(txt2)\n",
    "#bow의 출현횟수 합계\n",
    "count = vect.transform(txt2).toarray().sum(axis=0)\n",
    "idx = np.argsort(-count) #카운트 내림차순 정렬\n",
    "count = count[idx]\n",
    "# x축의 단어이름\n",
    "feature_name = np.array(vect.get_feature_names())[idx]\n",
    "plt.bar(range(len(count)), count)\n",
    "plt.show()\n",
    "\n",
    "\n"
   ]
  },
  {
   "cell_type": "code",
   "execution_count": 6,
   "metadata": {},
   "outputs": [
    {
     "data": {
      "text/plain": [
       "[('급여', 7),\n",
       " ('지역', 5),\n",
       " ('서울', 4),\n",
       " ('평균', 4),\n",
       " ('세종', 3),\n",
       " ('소득', 3),\n",
       " ('수도권', 3),\n",
       " ('근로', 3),\n",
       " ('가장', 3),\n",
       " ('인천', 2),\n",
       " ('시도', 2),\n",
       " ('수준', 2),\n",
       " ('일자리', 2),\n",
       " ('제주', 2),\n",
       " ('모두', 2),\n",
       " ('의원', 2),\n",
       " ('양질', 2),\n",
       " ('가운데', 2),\n",
       " ('각각', 2),\n",
       " ('경기', 2),\n",
       " ('강원', 2),\n",
       " ('국토', 1),\n",
       " ('위기', 1),\n",
       " ('위해', 1),\n",
       " ('이상', 1),\n",
       " ('인구', 1),\n",
       " ('격차', 1),\n",
       " ('인프라', 1),\n",
       " ('거주', 1),\n",
       " ('자의', 1),\n",
       " ('자치', 1),\n",
       " ('전국', 1),\n",
       " ('전남', 1),\n",
       " ('전북', 1),\n",
       " ('제조업', 1),\n",
       " ('원인', 1),\n",
       " ('강조', 1),\n",
       " ('종사', 1),\n",
       " ('주소지', 1),\n",
       " ('중소기업', 1),\n",
       " ('지원', 1),\n",
       " ('지적', 1),\n",
       " ('집중', 1),\n",
       " ('차이', 1),\n",
       " ('추진', 1),\n",
       " ('충남', 1),\n",
       " ('충북', 1),\n",
       " ('포인트', 1),\n",
       " ('전쟁', 1),\n",
       " ('울산', 1),\n",
       " ('연말정산', 1),\n",
       " ('경남', 1),\n",
       " ('구직', 1),\n",
       " ('근로자', 1),\n",
       " ('광주', 1),\n",
       " ('기록', 1),\n",
       " ('기업', 1),\n",
       " ('기준', 1),\n",
       " ('김회재', 1),\n",
       " ('나머지', 1),\n",
       " ('단체', 1),\n",
       " ('대구', 1),\n",
       " ('대상', 1),\n",
       " ('대전', 1),\n",
       " ('대한', 1),\n",
       " ('도시', 1),\n",
       " ('국세청', 1),\n",
       " ('만들기', 1),\n",
       " ('민주당', 1),\n",
       " ('발생', 1),\n",
       " ('부산', 1),\n",
       " ('불균형', 1),\n",
       " ('사제', 1),\n",
       " ('과세', 1),\n",
       " ('행정도시', 1),\n",
       " ('공무원', 1),\n",
       " ('소멸', 1),\n",
       " ('공공기관', 1),\n",
       " ('경쟁', 1),\n",
       " ('순이', 1),\n",
       " ('경북', 1),\n",
       " ('신고', 1),\n",
       " ('광역', 1),\n",
       " ('현황', 1)]"
      ]
     },
     "execution_count": 6,
     "metadata": {},
     "output_type": "execute_result"
    }
   ],
   "source": [
    "list(zip(feature_name, count))"
   ]
  },
  {
   "cell_type": "code",
   "execution_count": 7,
   "metadata": {},
   "outputs": [
    {
     "name": "stdout",
     "output_type": "stream",
     "text": [
      "[[2 3 2 2 1 1 1 2 1 1 1 1 1 1 1 1 1 1 1 3 1 7 1 1 1 1 1 1 1 1 1 1 1 1 2 1\n",
      "  1 1 1 1 4 3 3 1 3 2 1 2 1 2 1 1 1 1 1 2 1 1 2 1 2 1 1 1 1 1 1 1 2 1 1 1\n",
      "  5 1 1 1 1 1 1 1 4 1 1 1]]\n",
      "{'지역': 72, '근로자': 20, '평균': 80, '급여': 21, '이상': 56, '차이': 76, '민주당': 35, '김회재': 25, '의원': 55, '국세청': 17, '광역': 14, '자치': 62, '단체': 27, '근로': 19, '소득': 42, '연말정산': 50, '신고': 48, '현황': 83, '주소지': 70, '기준': 24, '서울': 40, '전국': 63, '시도': 47, '가운데': 0, '수준': 45, '가장': 1, '공무원': 12, '공공기관': 11, '종사': 69, '행정도시': 82, '세종': 41, '제조업': 67, '도시': 32, '울산': 51, '기록': 22, '나머지': 26, '모두': 34, '제주': 68, '전북': 65, '인천': 58, '강원': 3, '대구': 28, '부산': 37, '순이': 46, '경북': 9, '경남': 8, '충북': 79, '각각': 2, '전남': 64, '광주': 15, '대전': 30, '충남': 78, '경기': 7, '격차': 6, '과세': 13, '대상': 29, '발생': 36, '수도권': 44, '집중': 75, '포인트': 81, '거주': 5, '자의': 61, '기업': 23, '인프라': 59, '구직': 16, '인구': 57, '소멸': 43, '위기': 53, '전쟁': 66, '경쟁': 10, '국토': 18, '불균형': 38, '원인': 52, '양질': 49, '일자리': 60, '지적': 74, '만들기': 33, '위해': 54, '사제': 39, '추진': 77, '중소기업': 71, '대한': 31, '지원': 73, '강조': 4}\n"
     ]
    }
   ],
   "source": [
    "# 불용어 추가\n",
    "vector = CountVectorizer(stop_words=['더'])\n",
    "print(vector.fit_transform(txt2).toarray()) \n",
    "print(vector.vocabulary_)"
   ]
  },
  {
   "cell_type": "code",
   "execution_count": null,
   "metadata": {},
   "outputs": [],
   "source": []
  },
  {
   "cell_type": "code",
   "execution_count": null,
   "metadata": {},
   "outputs": [],
   "source": []
  }
 ],
 "metadata": {
  "interpreter": {
   "hash": "ff4f85d6e04298634172ac5d8264e7e9b556b95639fe52ebb9425c4d4cba0c9c"
  },
  "kernelspec": {
   "display_name": "Python 3.9.7 ('base')",
   "language": "python",
   "name": "python3"
  },
  "language_info": {
   "codemirror_mode": {
    "name": "ipython",
    "version": 3
   },
   "file_extension": ".py",
   "mimetype": "text/x-python",
   "name": "python",
   "nbconvert_exporter": "python",
   "pygments_lexer": "ipython3",
   "version": "3.9.7"
  },
  "orig_nbformat": 4
 },
 "nbformat": 4,
 "nbformat_minor": 2
}
