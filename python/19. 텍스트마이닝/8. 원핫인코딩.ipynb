{
 "cells": [
  {
   "cell_type": "code",
   "execution_count": 1,
   "metadata": {},
   "outputs": [
    {
     "name": "stdout",
     "output_type": "stream",
     "text": [
      "['나', '는', '학교', '에', '간다', '나', '는', '집', '에', '간다']\n"
     ]
    }
   ],
   "source": [
    "from konlpy.tag import Okt\n",
    "okt=Okt()\n",
    "#토근화\n",
    "token=okt.morphs(\"나는 학교에 간다 나는 집에 간다\") \n",
    "print(token)"
   ]
  },
  {
   "cell_type": "code",
   "execution_count": 2,
   "metadata": {},
   "outputs": [
    {
     "name": "stdout",
     "output_type": "stream",
     "text": [
      "{'나': 0, '는': 1, '학교': 2, '에': 3, '간다': 4, '집': 5}\n"
     ]
    }
   ],
   "source": [
    "# 중복된 단어는 제외하고 단어를 key로 고유한 숫자 인덱스 부여\n",
    "word2index={}\n",
    "for idx,voca in enumerate(token):\n",
    "    if voca not in word2index.keys():\n",
    "        word2index[voca]=len(word2index)\n",
    "print(word2index)\n"
   ]
  },
  {
   "cell_type": "code",
   "execution_count": 3,
   "metadata": {},
   "outputs": [],
   "source": [
    "#원핫인코딩 함수\n",
    "def one_hot_encoding(word, word2index):\n",
    "    # 전체 단어 갯수만큼 0으로 채운 리스트\n",
    "    one_hot_vector = [0]*(len(word2index))\n",
    "    # 해당하는 단어의 인덱스를 찾아서\n",
    "    index=word2index[word]\n",
    "    # 1로 설정 (나머지는 0)\n",
    "    one_hot_vector[index]=1\n",
    "    return one_hot_vector"
   ]
  },
  {
   "cell_type": "code",
   "execution_count": 4,
   "metadata": {},
   "outputs": [
    {
     "name": "stdout",
     "output_type": "stream",
     "text": [
      "dict_keys(['나', '는', '학교', '에', '간다', '집'])\n",
      "나 [1, 0, 0, 0, 0, 0]\n",
      "는 [0, 1, 0, 0, 0, 0]\n",
      "학교 [0, 0, 1, 0, 0, 0]\n",
      "에 [0, 0, 0, 1, 0, 0]\n",
      "간다 [0, 0, 0, 0, 1, 0]\n",
      "집 [0, 0, 0, 0, 0, 1]\n"
     ]
    }
   ],
   "source": [
    "key_list=word2index.keys()\n",
    "print(key_list)\n",
    "for key in key_list:\n",
    "    print(key, one_hot_encoding(key,word2index))"
   ]
  },
  {
   "cell_type": "code",
   "execution_count": null,
   "metadata": {},
   "outputs": [],
   "source": []
  }
 ],
 "metadata": {
  "interpreter": {
   "hash": "ff4f85d6e04298634172ac5d8264e7e9b556b95639fe52ebb9425c4d4cba0c9c"
  },
  "kernelspec": {
   "display_name": "Python 3.9.7 ('base')",
   "language": "python",
   "name": "python3"
  },
  "language_info": {
   "codemirror_mode": {
    "name": "ipython",
    "version": 3
   },
   "file_extension": ".py",
   "mimetype": "text/x-python",
   "name": "python",
   "nbconvert_exporter": "python",
   "pygments_lexer": "ipython3",
   "version": "3.9.7"
  },
  "orig_nbformat": 4
 },
 "nbformat": 4,
 "nbformat_minor": 2
}
