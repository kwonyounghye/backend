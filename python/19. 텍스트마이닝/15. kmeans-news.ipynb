{
 "cells": [
  {
   "cell_type": "code",
   "execution_count": 1,
   "metadata": {},
   "outputs": [],
   "source": [
    "import pandas as pd\n",
    "df = pd.read_csv('c:/data/news/news.csv')"
   ]
  },
  {
   "cell_type": "code",
   "execution_count": 2,
   "metadata": {},
   "outputs": [
    {
     "data": {
      "text/html": [
       "<div>\n",
       "<style scoped>\n",
       "    .dataframe tbody tr th:only-of-type {\n",
       "        vertical-align: middle;\n",
       "    }\n",
       "\n",
       "    .dataframe tbody tr th {\n",
       "        vertical-align: top;\n",
       "    }\n",
       "\n",
       "    .dataframe thead th {\n",
       "        text-align: right;\n",
       "    }\n",
       "</style>\n",
       "<table border=\"1\" class=\"dataframe\">\n",
       "  <thead>\n",
       "    <tr style=\"text-align: right;\">\n",
       "      <th></th>\n",
       "      <th>category</th>\n",
       "      <th>content</th>\n",
       "      <th>date</th>\n",
       "      <th>hate</th>\n",
       "      <th>id</th>\n",
       "      <th>image</th>\n",
       "      <th>keyword</th>\n",
       "      <th>like</th>\n",
       "      <th>rate</th>\n",
       "      <th>skip</th>\n",
       "      <th>sub_category</th>\n",
       "      <th>title</th>\n",
       "      <th>update_date</th>\n",
       "      <th>url</th>\n",
       "      <th>view_count</th>\n",
       "    </tr>\n",
       "  </thead>\n",
       "  <tbody>\n",
       "    <tr>\n",
       "      <th>0</th>\n",
       "      <td>1</td>\n",
       "      <td>“2028학년도에 수시·정시를 통합하겠다는 방안은 수능을 무력화해 대입제도를 학생부...</td>\n",
       "      <td>2019-02-15 02:42:56.000000</td>\n",
       "      <td>0</td>\n",
       "      <td>4</td>\n",
       "      <td>https://pds.joins.com/news/component/htmlphoto...</td>\n",
       "      <td>대입,교수,수능,시기,학년도</td>\n",
       "      <td>0</td>\n",
       "      <td>0</td>\n",
       "      <td>0</td>\n",
       "      <td>0</td>\n",
       "      <td>“수시·정시 통합해야” vs “수능 무력화 의도”…2028 대입 두고 논란</td>\n",
       "      <td>2019-02-16 17:50:04.872868</td>\n",
       "      <td>https://news.joins.com/article/23373597</td>\n",
       "      <td>0</td>\n",
       "    </tr>\n",
       "    <tr>\n",
       "      <th>1</th>\n",
       "      <td>1</td>\n",
       "      <td>최근 열린 삼보국가대표 선발전에서 1위를 한 뒤. 신재용 씨 제공\\n\\n고교 국가대...</td>\n",
       "      <td>2019-02-16 05:00:00.000000</td>\n",
       "      <td>1</td>\n",
       "      <td>5</td>\n",
       "      <td>http://dimg.donga.com/a/600/0/90/5/wps/NEWS/IM...</td>\n",
       "      <td>공부,운동,유도,때,대회</td>\n",
       "      <td>0</td>\n",
       "      <td>-2</td>\n",
       "      <td>0</td>\n",
       "      <td>0</td>\n",
       "      <td>“공부하겠다는 내게 감독님이 열쇠 주셔” 서울대 가서도 유도-삼보로 꿈 키워 [양종...</td>\n",
       "      <td>2019-02-16 17:50:05.303722</td>\n",
       "      <td>http://news.donga.com/3/all/20190216/94152869/1</td>\n",
       "      <td>1</td>\n",
       "    </tr>\n",
       "    <tr>\n",
       "      <th>2</th>\n",
       "      <td>1</td>\n",
       "      <td>/첨부용/연세대 수험생 대나무숲\\n\\n우체국 전산 오류로 등록금을 못 내 연세대 합...</td>\n",
       "      <td>2019-02-13 15:00:00.000000</td>\n",
       "      <td>0</td>\n",
       "      <td>6</td>\n",
       "      <td>http://image.chosun.com/sitedata/image/201902/...</td>\n",
       "      <td>수험,우체국,등록금,글,해당</td>\n",
       "      <td>0</td>\n",
       "      <td>0</td>\n",
       "      <td>0</td>\n",
       "      <td>0</td>\n",
       "      <td>\"등록금 전산 오류로 연대 합격 취소\" 책임 갑론을박</td>\n",
       "      <td>2019-02-16 17:50:05.412111</td>\n",
       "      <td>http://news.chosun.com/site/data/html_dir/2019...</td>\n",
       "      <td>0</td>\n",
       "    </tr>\n",
       "    <tr>\n",
       "      <th>3</th>\n",
       "      <td>1</td>\n",
       "      <td>교육당국, 갑자기 통과 기준 점수 대폭 올려… 폐지 논란 재점화\\n\\n자사고聯, 교...</td>\n",
       "      <td>2019-02-15 15:00:00.000000</td>\n",
       "      <td>0</td>\n",
       "      <td>7</td>\n",
       "      <td>http://image.chosun.com/sitedata/image/201902/...</td>\n",
       "      <td>자사고,평가,기준,지표,교육부</td>\n",
       "      <td>2</td>\n",
       "      <td>4</td>\n",
       "      <td>0</td>\n",
       "      <td>0</td>\n",
       "      <td>\"또 자사고 죽이기냐\" 再지정 문턱 높이자 폭발한 학교들</td>\n",
       "      <td>2019-02-16 17:50:05.495572</td>\n",
       "      <td>http://news.chosun.com/site/data/html_dir/2019...</td>\n",
       "      <td>2</td>\n",
       "    </tr>\n",
       "    <tr>\n",
       "      <th>4</th>\n",
       "      <td>1</td>\n",
       "      <td>[베리타스알파=권수진 기자] 14일 오후9시 마감한 상위9개대학(고려대 동국대 서강...</td>\n",
       "      <td>2019-02-15 07:37:32.000000</td>\n",
       "      <td>0</td>\n",
       "      <td>8</td>\n",
       "      <td>http://cds.veritas-a.com/news/photo/201902/144...</td>\n",
       "      <td>충원,모집,추합,과,교육</td>\n",
       "      <td>0</td>\n",
       "      <td>0</td>\n",
       "      <td>0</td>\n",
       "      <td>0</td>\n",
       "      <td>[2019정시충원율] 상위9개대학 57.9%.. ‘상승’.. 추합 4159명</td>\n",
       "      <td>2019-02-16 17:50:06.153964</td>\n",
       "      <td>http://www.veritas-a.com/news/articleView.html...</td>\n",
       "      <td>0</td>\n",
       "    </tr>\n",
       "  </tbody>\n",
       "</table>\n",
       "</div>"
      ],
      "text/plain": [
       "   category                                            content  \\\n",
       "0         1  “2028학년도에 수시·정시를 통합하겠다는 방안은 수능을 무력화해 대입제도를 학생부...   \n",
       "1         1  최근 열린 삼보국가대표 선발전에서 1위를 한 뒤. 신재용 씨 제공\\n\\n고교 국가대...   \n",
       "2         1  /첨부용/연세대 수험생 대나무숲\\n\\n우체국 전산 오류로 등록금을 못 내 연세대 합...   \n",
       "3         1  교육당국, 갑자기 통과 기준 점수 대폭 올려… 폐지 논란 재점화\\n\\n자사고聯, 교...   \n",
       "4         1  [베리타스알파=권수진 기자] 14일 오후9시 마감한 상위9개대학(고려대 동국대 서강...   \n",
       "\n",
       "                         date  hate  id  \\\n",
       "0  2019-02-15 02:42:56.000000     0   4   \n",
       "1  2019-02-16 05:00:00.000000     1   5   \n",
       "2  2019-02-13 15:00:00.000000     0   6   \n",
       "3  2019-02-15 15:00:00.000000     0   7   \n",
       "4  2019-02-15 07:37:32.000000     0   8   \n",
       "\n",
       "                                               image           keyword  like  \\\n",
       "0  https://pds.joins.com/news/component/htmlphoto...   대입,교수,수능,시기,학년도     0   \n",
       "1  http://dimg.donga.com/a/600/0/90/5/wps/NEWS/IM...     공부,운동,유도,때,대회     0   \n",
       "2  http://image.chosun.com/sitedata/image/201902/...   수험,우체국,등록금,글,해당     0   \n",
       "3  http://image.chosun.com/sitedata/image/201902/...  자사고,평가,기준,지표,교육부     2   \n",
       "4  http://cds.veritas-a.com/news/photo/201902/144...     충원,모집,추합,과,교육     0   \n",
       "\n",
       "   rate  skip  sub_category  \\\n",
       "0     0     0             0   \n",
       "1    -2     0             0   \n",
       "2     0     0             0   \n",
       "3     4     0             0   \n",
       "4     0     0             0   \n",
       "\n",
       "                                               title  \\\n",
       "0          “수시·정시 통합해야” vs “수능 무력화 의도”…2028 대입 두고 논란   \n",
       "1  “공부하겠다는 내게 감독님이 열쇠 주셔” 서울대 가서도 유도-삼보로 꿈 키워 [양종...   \n",
       "2                      \"등록금 전산 오류로 연대 합격 취소\" 책임 갑론을박   \n",
       "3                    \"또 자사고 죽이기냐\" 再지정 문턱 높이자 폭발한 학교들   \n",
       "4         [2019정시충원율] 상위9개대학 57.9%.. ‘상승’.. 추합 4159명   \n",
       "\n",
       "                  update_date  \\\n",
       "0  2019-02-16 17:50:04.872868   \n",
       "1  2019-02-16 17:50:05.303722   \n",
       "2  2019-02-16 17:50:05.412111   \n",
       "3  2019-02-16 17:50:05.495572   \n",
       "4  2019-02-16 17:50:06.153964   \n",
       "\n",
       "                                                 url  view_count  \n",
       "0            https://news.joins.com/article/23373597           0  \n",
       "1    http://news.donga.com/3/all/20190216/94152869/1           1  \n",
       "2  http://news.chosun.com/site/data/html_dir/2019...           0  \n",
       "3  http://news.chosun.com/site/data/html_dir/2019...           2  \n",
       "4  http://www.veritas-a.com/news/articleView.html...           0  "
      ]
     },
     "execution_count": 2,
     "metadata": {},
     "output_type": "execute_result"
    }
   ],
   "source": [
    "df.head()"
   ]
  },
  {
   "cell_type": "code",
   "execution_count": 3,
   "metadata": {},
   "outputs": [
    {
     "data": {
      "text/html": [
       "<div>\n",
       "<style scoped>\n",
       "    .dataframe tbody tr th:only-of-type {\n",
       "        vertical-align: middle;\n",
       "    }\n",
       "\n",
       "    .dataframe tbody tr th {\n",
       "        vertical-align: top;\n",
       "    }\n",
       "\n",
       "    .dataframe thead th {\n",
       "        text-align: right;\n",
       "    }\n",
       "</style>\n",
       "<table border=\"1\" class=\"dataframe\">\n",
       "  <thead>\n",
       "    <tr style=\"text-align: right;\">\n",
       "      <th></th>\n",
       "      <th>category</th>\n",
       "      <th>content</th>\n",
       "      <th>date</th>\n",
       "      <th>hate</th>\n",
       "      <th>id</th>\n",
       "      <th>image</th>\n",
       "      <th>keyword</th>\n",
       "      <th>like</th>\n",
       "      <th>rate</th>\n",
       "      <th>skip</th>\n",
       "      <th>sub_category</th>\n",
       "      <th>title</th>\n",
       "      <th>update_date</th>\n",
       "      <th>url</th>\n",
       "      <th>view_count</th>\n",
       "    </tr>\n",
       "  </thead>\n",
       "  <tbody>\n",
       "    <tr>\n",
       "      <th>9670</th>\n",
       "      <td>2</td>\n",
       "      <td>[美北 하노이 회담 결렬 후 뉴스 보도]\\n\\n\"김정은, 능수능란한 외교적 언사… ...</td>\n",
       "      <td>2019-03-04 15:00:00.000000</td>\n",
       "      <td>0</td>\n",
       "      <td>9674</td>\n",
       "      <td>http://image.chosun.com/sitedata/image/201903/...</td>\n",
       "      <td>회담,트럼프,결렬,보도,협상</td>\n",
       "      <td>0</td>\n",
       "      <td>0</td>\n",
       "      <td>0</td>\n",
       "      <td>0</td>\n",
       "      <td>'트럼프는 오만, 김정은은 노련'하다는 지상파</td>\n",
       "      <td>2019-03-05 00:50:48.177623</td>\n",
       "      <td>http://news.chosun.com/site/data/html_dir/2019...</td>\n",
       "      <td>0</td>\n",
       "    </tr>\n",
       "    <tr>\n",
       "      <th>9671</th>\n",
       "      <td>2</td>\n",
       "      <td>북한이 하노이 2차 북미정상회담이 진행되고 있는 중에도 우라늄농축시설을 가동하고 있...</td>\n",
       "      <td>2019-03-04 15:00:00.000000</td>\n",
       "      <td>0</td>\n",
       "      <td>9675</td>\n",
       "      <td>http://image.chosun.com/facebook/newson.png</td>\n",
       "      <td>농축,시설,생산,우라늄,가동</td>\n",
       "      <td>0</td>\n",
       "      <td>0</td>\n",
       "      <td>0</td>\n",
       "      <td>0</td>\n",
       "      <td>\"北, 하노이 회담 중에도 영변 우라늄 고농축 시설 가동\" IAEA</td>\n",
       "      <td>2019-03-05 00:50:49.001492</td>\n",
       "      <td>http://news.chosun.com/site/data/html_dir/2019...</td>\n",
       "      <td>0</td>\n",
       "    </tr>\n",
       "    <tr>\n",
       "      <th>9672</th>\n",
       "      <td>3</td>\n",
       "      <td>그룹 빅뱅 멤버 승리가 경찰 출신 변호사를 선임한 것으로 전해졌다.\\n\\n법조계에 ...</td>\n",
       "      <td>2019-03-05 08:55:35.000000</td>\n",
       "      <td>0</td>\n",
       "      <td>9676</td>\n",
       "      <td>http://newsimg.hankookilbo.com/2019/03/05/2019...</td>\n",
       "      <td>승리,경찰,의혹,지난달,성접대</td>\n",
       "      <td>0</td>\n",
       "      <td>0</td>\n",
       "      <td>0</td>\n",
       "      <td>0</td>\n",
       "      <td>승리, 경찰 출신 변호사 선임…권익위, 성접대 의혹 카톡 확보</td>\n",
       "      <td>2019-03-05 00:50:49.977485</td>\n",
       "      <td>http://www.hankookilbo.com/News/Read/201903050...</td>\n",
       "      <td>0</td>\n",
       "    </tr>\n",
       "    <tr>\n",
       "      <th>9673</th>\n",
       "      <td>3</td>\n",
       "      <td>그룹 인피니트 장동우가 데뷔 때 소속사에서 정한 목표가 동방신기였다고 밝혔다.장동우...</td>\n",
       "      <td>2019-03-05 00:50:50.000000</td>\n",
       "      <td>0</td>\n",
       "      <td>9677</td>\n",
       "      <td>http://pds.joins.com/news/component/htmlphoto_...</td>\n",
       "      <td>앨범,보컬,인피니트,데뷔,동방</td>\n",
       "      <td>0</td>\n",
       "      <td>0</td>\n",
       "      <td>0</td>\n",
       "      <td>0</td>\n",
       "      <td>인피니트 장동우, ”인피니트 데뷔 때 목표, 동방신기”</td>\n",
       "      <td>2019-03-05 00:50:50.437183</td>\n",
       "      <td>http://isplus.joins.com/article/160/23401160.h...</td>\n",
       "      <td>0</td>\n",
       "    </tr>\n",
       "    <tr>\n",
       "      <th>9674</th>\n",
       "      <td>3</td>\n",
       "      <td>스티븐 스필버그가 넷플릭스의 아카데미 시상식 참여에 제동을 걸었다. 넷플릭스 작품은...</td>\n",
       "      <td>2019-03-04 02:15:41.000000</td>\n",
       "      <td>0</td>\n",
       "      <td>9678</td>\n",
       "      <td>https://img.huffingtonpost.com/asset/5c7c89f82...</td>\n",
       "      <td>아카데미,시상식,영화,작품,이사회</td>\n",
       "      <td>0</td>\n",
       "      <td>0</td>\n",
       "      <td>0</td>\n",
       "      <td>0</td>\n",
       "      <td>스티븐 스필버그는 여전히 넷플릭스 작품은 아카데미 후보 자격이 없다고 생각한다</td>\n",
       "      <td>2019-03-05 00:51:09.847226</td>\n",
       "      <td>https://www.huffingtonpost.kr/entry/story_kr_5...</td>\n",
       "      <td>0</td>\n",
       "    </tr>\n",
       "  </tbody>\n",
       "</table>\n",
       "</div>"
      ],
      "text/plain": [
       "      category                                            content  \\\n",
       "9670         2  [美北 하노이 회담 결렬 후 뉴스 보도]\\n\\n\"김정은, 능수능란한 외교적 언사… ...   \n",
       "9671         2  북한이 하노이 2차 북미정상회담이 진행되고 있는 중에도 우라늄농축시설을 가동하고 있...   \n",
       "9672         3  그룹 빅뱅 멤버 승리가 경찰 출신 변호사를 선임한 것으로 전해졌다.\\n\\n법조계에 ...   \n",
       "9673         3  그룹 인피니트 장동우가 데뷔 때 소속사에서 정한 목표가 동방신기였다고 밝혔다.장동우...   \n",
       "9674         3  스티븐 스필버그가 넷플릭스의 아카데미 시상식 참여에 제동을 걸었다. 넷플릭스 작품은...   \n",
       "\n",
       "                            date  hate    id  \\\n",
       "9670  2019-03-04 15:00:00.000000     0  9674   \n",
       "9671  2019-03-04 15:00:00.000000     0  9675   \n",
       "9672  2019-03-05 08:55:35.000000     0  9676   \n",
       "9673  2019-03-05 00:50:50.000000     0  9677   \n",
       "9674  2019-03-04 02:15:41.000000     0  9678   \n",
       "\n",
       "                                                  image             keyword  \\\n",
       "9670  http://image.chosun.com/sitedata/image/201903/...     회담,트럼프,결렬,보도,협상   \n",
       "9671        http://image.chosun.com/facebook/newson.png     농축,시설,생산,우라늄,가동   \n",
       "9672  http://newsimg.hankookilbo.com/2019/03/05/2019...    승리,경찰,의혹,지난달,성접대   \n",
       "9673  http://pds.joins.com/news/component/htmlphoto_...    앨범,보컬,인피니트,데뷔,동방   \n",
       "9674  https://img.huffingtonpost.com/asset/5c7c89f82...  아카데미,시상식,영화,작품,이사회   \n",
       "\n",
       "      like  rate  skip  sub_category  \\\n",
       "9670     0     0     0             0   \n",
       "9671     0     0     0             0   \n",
       "9672     0     0     0             0   \n",
       "9673     0     0     0             0   \n",
       "9674     0     0     0             0   \n",
       "\n",
       "                                            title                 update_date  \\\n",
       "9670                    '트럼프는 오만, 김정은은 노련'하다는 지상파  2019-03-05 00:50:48.177623   \n",
       "9671        \"北, 하노이 회담 중에도 영변 우라늄 고농축 시설 가동\" IAEA  2019-03-05 00:50:49.001492   \n",
       "9672           승리, 경찰 출신 변호사 선임…권익위, 성접대 의혹 카톡 확보  2019-03-05 00:50:49.977485   \n",
       "9673               인피니트 장동우, ”인피니트 데뷔 때 목표, 동방신기”  2019-03-05 00:50:50.437183   \n",
       "9674  스티븐 스필버그는 여전히 넷플릭스 작품은 아카데미 후보 자격이 없다고 생각한다  2019-03-05 00:51:09.847226   \n",
       "\n",
       "                                                    url  view_count  \n",
       "9670  http://news.chosun.com/site/data/html_dir/2019...           0  \n",
       "9671  http://news.chosun.com/site/data/html_dir/2019...           0  \n",
       "9672  http://www.hankookilbo.com/News/Read/201903050...           0  \n",
       "9673  http://isplus.joins.com/article/160/23401160.h...           0  \n",
       "9674  https://www.huffingtonpost.kr/entry/story_kr_5...           0  "
      ]
     },
     "execution_count": 3,
     "metadata": {},
     "output_type": "execute_result"
    }
   ],
   "source": [
    "df.tail()"
   ]
  },
  {
   "cell_type": "code",
   "execution_count": 4,
   "metadata": {},
   "outputs": [
    {
     "data": {
      "text/plain": [
       "Index(['category', 'content', 'date', 'hate', 'id', 'image', 'keyword', 'like',\n",
       "       'rate', 'skip', 'sub_category', 'title', 'update_date', 'url',\n",
       "       'view_count'],\n",
       "      dtype='object')"
      ]
     },
     "execution_count": 4,
     "metadata": {},
     "output_type": "execute_result"
    }
   ],
   "source": [
    "df.columns"
   ]
  },
  {
   "cell_type": "code",
   "execution_count": 5,
   "metadata": {},
   "outputs": [
    {
     "data": {
      "text/plain": [
       "2    4682\n",
       "1    2872\n",
       "3    2121\n",
       "Name: category, dtype: int64"
      ]
     },
     "execution_count": 5,
     "metadata": {},
     "output_type": "execute_result"
    }
   ],
   "source": [
    "#클래스별 샘플 갯수\n",
    "df[\"category\"].value_counts()"
   ]
  },
  {
   "cell_type": "code",
   "execution_count": 6,
   "metadata": {},
   "outputs": [],
   "source": [
    "# 카테고리가 1인 뉴스만 선택 (교육관련 기사)\n",
    "#df = df[df['category']==1]\n",
    "#df.head()"
   ]
  },
  {
   "cell_type": "code",
   "execution_count": 7,
   "metadata": {},
   "outputs": [],
   "source": [
    "import re\n",
    "# ^[ ] start, [^ ] not , 한글/영문자만 허용\n",
    "def preprocessing(sentence):\n",
    "    sentence =re.sub('[^가-힣ㄱ-ㅎㅏ-ㅣa-zA-Z]', ' ', sentence)\n",
    "    return sentence\n",
    "#content 필드에 preprocessing 함수 적용\n",
    "df['content_cleaned'] = df['content'].apply(preprocessing)\n",
    "content = df['content_cleaned'].tolist()"
   ]
  },
  {
   "cell_type": "code",
   "execution_count": 15,
   "metadata": {},
   "outputs": [],
   "source": [
    "from sklearn.feature_extraction.text import CountVectorizer\n",
    "# 문서 집합에서 단어 토큰을 생성하고 각 단어의 수를 세어 인코딩한 벡터를 생성\n",
    "vectorizer = CountVectorizer(max_features=1000)\n",
    "X = vectorizer.fit_transform(content)\n",
    "# 단어 출현 빈도 계산"
   ]
  },
  {
   "cell_type": "code",
   "execution_count": 16,
   "metadata": {},
   "outputs": [],
   "source": [
    "from sklearn.preprocessing import normalize\n",
    "# l2 정규화\n",
    "# 아주 큰 값이나 아주 작은 값을 가지는 outlier에 대해 0에 가까운 값으로 만드는 방식\n",
    "X = normalize(X)"
   ]
  },
  {
   "cell_type": "code",
   "execution_count": 17,
   "metadata": {},
   "outputs": [],
   "source": [
    "from sklearn.cluster import KMeans\n",
    "# k-means 알고리즘 적용\n",
    "kmeans = KMeans(n_clusters=3,random_state=10).fit(X) #오래 걸림"
   ]
  },
  {
   "cell_type": "code",
   "execution_count": 18,
   "metadata": {},
   "outputs": [],
   "source": [
    "# X_toarray()\n",
    "# 희소행렬\n",
    "# 밀집행렬"
   ]
  },
  {
   "cell_type": "code",
   "execution_count": 20,
   "metadata": {},
   "outputs": [
    {
     "data": {
      "image/png": "[encoded data removed]",
      "text/plain": [
       "<Figure size 432x288 with 1 Axes>"
      ]
     },
     "metadata": {
      "needs_background": "light"
     },
     "output_type": "display_data"
    }
   ],
   "source": [
    "from sklearn.decomposition import PCA\n",
    "import matplotlib.pyplot as plt\n",
    "# 플로팅을 위하여 ca 기법( 주성분분석 )으로 차원을 2차원으로 축소\n",
    "pca = PCA(n_components=2,random_state=10)\n",
    "components = pca.fit_transform(X.toarray())\n",
    "df3 = pd.DataFrame(data = components, columns = ['component 1', 'component 2'])\n",
    "df3.index=df['category'] \n",
    "# x축 : first, y축 : second 번호로 나타낸 후 시각화\n",
    "plt.scatter(df3.iloc[kmeans.labels_ == 0, 0], df3.iloc[kmeans.labels_ == 0, 1], s = 10, c = 'red', label = 'cluster1')\n",
    "plt.scatter(df3.iloc[kmeans.labels_ == 1, 0], df3.iloc[kmeans.labels_ == 1, 1], s = 10, c = 'blue', label = 'cluster2')\n",
    "plt.scatter(df3.iloc[kmeans.labels_ == 2, 0], df3.iloc[kmeans.labels_ == 2, 1], s = 10, c = 'green', label = 'cluster3')\n",
    "plt.legend()\n",
    "plt.show()"
   ]
  },
  {
   "cell_type": "code",
   "execution_count": 21,
   "metadata": {},
   "outputs": [
    {
     "name": "stdout",
     "output_type": "stream",
     "text": [
      "[0 0 0 ... 1 1 0]\n"
     ]
    }
   ],
   "source": [
    "# labels에 merge\n",
    "#df['labels'] = kmeans.labels_\n",
    "print(kmeans.labels_)"
   ]
  },
  {
   "cell_type": "code",
   "execution_count": null,
   "metadata": {},
   "outputs": [],
   "source": []
  }
 ],
 "metadata": {
  "interpreter": {
   "hash": "ff4f85d6e04298634172ac5d8264e7e9b556b95639fe52ebb9425c4d4cba0c9c"
  },
  "kernelspec": {
   "display_name": "Python 3.9.7 ('base')",
   "language": "python",
   "name": "python3"
  },
  "language_info": {
   "codemirror_mode": {
    "name": "ipython",
    "version": 3
   },
   "file_extension": ".py",
   "mimetype": "text/x-python",
   "name": "python",
   "nbconvert_exporter": "python",
   "pygments_lexer": "ipython3",
   "version": "3.9.7"
  },
  "orig_nbformat": 4
 },
 "nbformat": 4,
 "nbformat_minor": 2
}
