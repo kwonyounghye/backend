{
 "cells": [
  {
   "cell_type": "code",
   "execution_count": 8,
   "metadata": {},
   "outputs": [],
   "source": [
    "from nltk.stem.porter import PorterStemmer\n",
    "from nltk.corpus import stopwords\n",
    "from nltk.tokenize import word_tokenize\n",
    "import re\n",
    "# 영어 단어의 어근만 추출\n",
    "stm = PorterStemmer()\n",
    "# 영어 단어의 불용어 집합\n",
    "stopwords = set(stopwords.words('english'))\n",
    "# 특수문자를 제거하기 위한 정규식\n",
    "# 첫글자는 알파벳으로 시작하고 그 뒤에 영문자 대소문자, 숫자, -,_, .만 허용\n",
    "# * 0회 이상 매칭, +1회 이상 매칭\n",
    "pattern = re.compile('[a-zA-Z][-_a-zA-Z0-9.]*')\n",
    "# 문장을 단어 단위로 분리하고 불용어 및 특수문자 제거 후 어근만 추출하여 list로 반환\n",
    "def tokenize(sentence):\n",
    "    def stem(w):\n",
    "        try: return stm.stem(w)\n",
    "        except: return w\n",
    "    # 소문자로 바꾼 후 단어 구분, 불용어 제거, 패턴에 맞는 단어만 선택\n",
    "    return [stem(w) for w in word_tokenize(sentence.lower()) if w not in stopwords and pattern.match(w)]"
   ]
  },
  {
   "cell_type": "code",
   "execution_count": 3,
   "metadata": {},
   "outputs": [
    {
     "name": "stdout",
     "output_type": "stream",
     "text": [
      "Total docs: 1\n",
      "Total words: 162\n",
      "Topic #0\tpresid, great, america, american, nation, countri, peopl, one, everi, protect\n",
      "Topic #1\tcountri, across, god, america, american, nation, peopl, one, everi, protect\n",
      "Topic #2\tnew, america, american, nation, countri, peopl, one, everi, protect, world\n",
      "Topic #3\tnever, right, god, america, american, nation, countri, peopl, one, everi\n",
      "Topic #4\tamerica, american, nation, countri, peopl, one, everi, protect, world, great\n",
      "Topic #5\tamerica, american, nation, countri, peopl, one, everi, protect, world, great\n",
      "Topic #6\tmake, america, american, nation, countri, peopl, one, everi, protect, world\n",
      "Topic #7\tamerica, american, nation, countri, peopl, one, everi, protect, world, great\n",
      "Topic #8\tamerica, american, nation, countri, peopl, one, everi, protect, world, great\n",
      "Topic #9\tnation, america, american, countri, peopl, one, everi, protect, world, great\n",
      "Topic #10\tmani, today, protect, america, american, nation, countri, peopl, one, everi\n",
      "Topic #11\tamerica, american, nation, countri, peopl, one, everi, protect, world, great\n",
      "Topic #12\tamerica, american, nation, countri, peopl, one, everi, protect, world, great\n",
      "Topic #13\tamerica, american, nation, countri, peopl, one, everi, protect, world, great\n",
      "Topic #14\tdream, america, american, nation, countri, peopl, one, everi, protect, world\n",
      "Topic #15\tone, back, great, america, american, nation, countri, peopl, everi, protect\n",
      "Topic #16\tamerican, peopl, america, nation, countri, one, everi, protect, world, great\n",
      "Topic #17\tamerica, american, nation, countri, peopl, one, everi, protect, world, great\n",
      "Topic #18\tworld, protect, peopl, never, america, american, nation, countri, one, everi\n",
      "Topic #19\tamerica, everi, american, nation, countri, peopl, one, protect, world, great\n"
     ]
    }
   ],
   "source": [
    "import tomotopy as tp\n",
    "# LDAModel 생성\n",
    "# LDA(Latent Dirichlet allocation, 잠재 디리클레 할당)\n",
    "# 주어진 문서에 대하여 각 문서에 어떤 주제들이 존재하는지를 서술하는 확률적 토픽 모델 기법\n",
    "# 토픽의 개수(k) 20개, 5회 미만 등장한 단어들은 제거\n",
    "model = tp.LDAModel(k=20, min_cf=5)\n",
    "# 파일에서 한 줄씩 읽어와서 model에 추가\n",
    "for i, line in enumerate(open('c:/data/text/trumph.txt', encoding='ms949')):\n",
    "    model.add_doc(tokenize(line)) # 공백 기준으로 단어를 나누어 에 추가 model\n",
    "# train(0) : 0회 학습, model의 num_words, num_vocabs 값을 확인하기 위해\n",
    "# 실제로 학습은 하지 않고 학습 준비만 하는 상태\n",
    "model.train(0)\n",
    "print('Total docs:', len(model.docs))\n",
    "print('Total words:', model.num_words)\n",
    "#200회 학습\n",
    "model.train(200)\n",
    "# 학습된 토픽들을 출력\n",
    "for i in range(model.k):\n",
    "    # 0~19번 토픽별 상위 단어 10개 추출\n",
    "    res = model.get_topic_words(i, top_n=10)\n",
    "    print('Topic #{0}'.format(i), end='\\t')\n",
    "    print(', '.join(w for w, p in res))"
   ]
  },
  {
   "cell_type": "code",
   "execution_count": 4,
   "metadata": {},
   "outputs": [],
   "source": [
    "import nltk\n",
    "emma_raw=nltk.corpus.gutenberg.raw('austen-emma.txt')"
   ]
  },
  {
   "cell_type": "code",
   "execution_count": 5,
   "metadata": {},
   "outputs": [
    {
     "data": {
      "text/plain": [
       "['emma',\n",
       " 'jane',\n",
       " 'austen',\n",
       " 'volum',\n",
       " 'chapter',\n",
       " 'emma',\n",
       " 'woodhous',\n",
       " 'handsom',\n",
       " 'clever',\n",
       " 'rich',\n",
       " 'comfort',\n",
       " 'home',\n",
       " 'happi',\n",
       " 'disposit',\n",
       " 'seem',\n",
       " 'unit',\n",
       " 'best',\n",
       " 'bless',\n",
       " 'exist',\n",
       " 'live',\n",
       " 'nearli',\n",
       " 'twenty-on',\n",
       " 'year',\n",
       " 'world',\n",
       " 'littl',\n",
       " 'distress',\n",
       " 'vex',\n",
       " 'youngest',\n",
       " 'two',\n",
       " 'daughter',\n",
       " 'affection',\n",
       " 'indulg',\n",
       " 'father',\n",
       " 'consequ',\n",
       " 'sister',\n",
       " 'marriag',\n",
       " 'mistress',\n",
       " 'hous',\n",
       " 'earli',\n",
       " 'period',\n",
       " 'mother',\n",
       " 'die',\n",
       " 'long',\n",
       " 'ago',\n",
       " 'indistinct',\n",
       " 'remembr',\n",
       " 'caress',\n",
       " 'place',\n",
       " 'suppli',\n",
       " 'excel',\n",
       " 'woman',\n",
       " 'gover',\n",
       " 'fallen',\n",
       " 'littl',\n",
       " 'short',\n",
       " 'mother',\n",
       " 'affect',\n",
       " 'sixteen',\n",
       " 'year',\n",
       " 'miss',\n",
       " 'taylor',\n",
       " 'mr.',\n",
       " 'woodhous',\n",
       " 'famili',\n",
       " 'less',\n",
       " 'gover',\n",
       " 'friend',\n",
       " 'fond',\n",
       " 'daughter',\n",
       " 'particularli',\n",
       " 'emma',\n",
       " 'intimaci',\n",
       " 'sister',\n",
       " 'even',\n",
       " 'miss',\n",
       " 'taylor',\n",
       " 'ceas',\n",
       " 'hold',\n",
       " 'nomin',\n",
       " 'offic',\n",
       " 'gover',\n",
       " 'mild',\n",
       " 'temper',\n",
       " 'hardli',\n",
       " 'allow',\n",
       " 'impos',\n",
       " 'restraint',\n",
       " 'shadow',\n",
       " 'author',\n",
       " 'long',\n",
       " 'pass',\n",
       " 'away',\n",
       " 'live',\n",
       " 'togeth',\n",
       " 'friend',\n",
       " 'friend',\n",
       " 'mutual',\n",
       " 'attach',\n",
       " 'emma',\n",
       " 'like']"
      ]
     },
     "execution_count": 5,
     "metadata": {},
     "output_type": "execute_result"
    }
   ],
   "source": [
    "tokenize(emma_raw)[:100]"
   ]
  },
  {
   "cell_type": "code",
   "execution_count": 6,
   "metadata": {},
   "outputs": [
    {
     "name": "stdout",
     "output_type": "stream",
     "text": [
      "Total docs: 1\n",
      "Total words: 67165\n"
     ]
    }
   ],
   "source": [
    "model=tp.LDAModel(k=5, min_cf=5) # 토픽모델링 함수\n",
    "model.add_doc(tokenize(emma_raw)) # 단어별로 나누고 모형에 추가\n",
    "model.train(0) # 0 학습횟수, 아직 학습이 시작된 상태가 아님\n",
    "print('Total docs:',len(model.docs))\n",
    "print('Total words:',model.num_words)\n"
   ]
  },
  {
   "cell_type": "code",
   "execution_count": 9,
   "metadata": {},
   "outputs": [
    {
     "name": "stdout",
     "output_type": "stream",
     "text": [
      "[('emma', 0.06093399599194527), ('elton', 0.028436245396733284), ('good', 0.02280615270137787), ('time', 0.021594613790512085), ('jane', 0.021167011931538582)]\n",
      "Topic #0\temma, elton, good, time, jane\n",
      "[('one', 0.03940762206912041), ('knightley', 0.027437059208750725), ('like', 0.025427401065826416), ('see', 0.0241167563945055), ('alway', 0.020796451717615128)]\n",
      "Topic #1\tone, knightley, like, see, alway\n",
      "[('mr.', 0.06927525997161865), ('would', 0.06513471901416779), ('thing', 0.03631016984581947), ('littl', 0.028825344517827034), ('woodhous', 0.024844052270054817)]\n",
      "Topic #2\tmr., would, thing, littl, woodhous\n",
      "[('could', 0.04641277343034744), ('much', 0.030234109610319138), ('said', 0.029546985402703285), ('harriet', 0.02917218953371048), ('think', 0.02910972386598587)]\n",
      "Topic #3\tcould, much, said, harriet, think\n",
      "[('mrs.', 0.028767408803105354), ('must', 0.025058025494217873), ('never', 0.021802851930260658), ('come', 0.02134864218533039), ('noth', 0.019077589735388756)]\n",
      "Topic #4\tmrs., must, never, come, noth\n"
     ]
    }
   ],
   "source": [
    "model.train(100) # 100회 학습\n",
    "for i in range(model.k):\n",
    "    res=model.get_topic_words(i,top_n=5) # 토픽의 상위단어 2개\n",
    "    print(res)\n",
    "    print('Topic #{0}'.format(i),end='\\t')\n",
    "    print(', '.join(w for w,p in res))"
   ]
  },
  {
   "cell_type": "code",
   "execution_count": null,
   "metadata": {},
   "outputs": [],
   "source": []
  }
 ],
 "metadata": {
  "kernelspec": {
   "display_name": "Python 3.9.7 ('base')",
   "language": "python",
   "name": "python3"
  },
  "language_info": {
   "codemirror_mode": {
    "name": "ipython",
    "version": 3
   },
   "file_extension": ".py",
   "mimetype": "text/x-python",
   "name": "python",
   "nbconvert_exporter": "python",
   "pygments_lexer": "ipython3",
   "version": "3.9.7"
  },
  "orig_nbformat": 4,
  "vscode": {
   "interpreter": {
    "hash": "ff4f85d6e04298634172ac5d8264e7e9b556b95639fe52ebb9425c4d4cba0c9c"
   }
  }
 },
 "nbformat": 4,
 "nbformat_minor": 2
}
