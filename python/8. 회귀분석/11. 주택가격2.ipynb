{
 "cells": [
  {
   "cell_type": "code",
   "execution_count": 1,
   "metadata": {},
   "outputs": [],
   "source": [
    "import pandas as pd\n",
    "import numpy as np\n",
    "%matplotlib inline\n",
    "import seaborn as sns\n",
    "import matplotlib.pyplot as plt"
   ]
  },
  {
   "cell_type": "code",
   "execution_count": 2,
   "metadata": {},
   "outputs": [],
   "source": [
    "df = pd.read_csv(\"c:/data/house_regress/data.csv\")\n"
   ]
  },
  {
   "cell_type": "code",
   "execution_count": 3,
   "metadata": {},
   "outputs": [
    {
     "data": {
      "text/html": [
       "<div>\n",
       "<style scoped>\n",
       "    .dataframe tbody tr th:only-of-type {\n",
       "        vertical-align: middle;\n",
       "    }\n",
       "\n",
       "    .dataframe tbody tr th {\n",
       "        vertical-align: top;\n",
       "    }\n",
       "\n",
       "    .dataframe thead th {\n",
       "        text-align: right;\n",
       "    }\n",
       "</style>\n",
       "<table border=\"1\" class=\"dataframe\">\n",
       "  <thead>\n",
       "    <tr style=\"text-align: right;\">\n",
       "      <th></th>\n",
       "      <th>Suburb</th>\n",
       "      <th>Address</th>\n",
       "      <th>Rooms</th>\n",
       "      <th>Type</th>\n",
       "      <th>Price</th>\n",
       "      <th>Method</th>\n",
       "      <th>SellerG</th>\n",
       "      <th>Date</th>\n",
       "      <th>Distance</th>\n",
       "      <th>Postcode</th>\n",
       "      <th>...</th>\n",
       "      <th>Bathroom</th>\n",
       "      <th>Car</th>\n",
       "      <th>Landsize</th>\n",
       "      <th>BuildingArea</th>\n",
       "      <th>YearBuilt</th>\n",
       "      <th>CouncilArea</th>\n",
       "      <th>Lattitude</th>\n",
       "      <th>Longtitude</th>\n",
       "      <th>Regionname</th>\n",
       "      <th>Propertycount</th>\n",
       "    </tr>\n",
       "  </thead>\n",
       "  <tbody>\n",
       "    <tr>\n",
       "      <th>0</th>\n",
       "      <td>Abbotsford</td>\n",
       "      <td>68 Studley St</td>\n",
       "      <td>2</td>\n",
       "      <td>h</td>\n",
       "      <td>NaN</td>\n",
       "      <td>SS</td>\n",
       "      <td>Jellis</td>\n",
       "      <td>3/09/2016</td>\n",
       "      <td>2.5</td>\n",
       "      <td>3067.0</td>\n",
       "      <td>...</td>\n",
       "      <td>1.0</td>\n",
       "      <td>1.0</td>\n",
       "      <td>126.0</td>\n",
       "      <td>NaN</td>\n",
       "      <td>NaN</td>\n",
       "      <td>Yarra</td>\n",
       "      <td>-37.8014</td>\n",
       "      <td>144.9958</td>\n",
       "      <td>Northern Metropolitan</td>\n",
       "      <td>4019.0</td>\n",
       "    </tr>\n",
       "    <tr>\n",
       "      <th>1</th>\n",
       "      <td>Abbotsford</td>\n",
       "      <td>85 Turner St</td>\n",
       "      <td>2</td>\n",
       "      <td>h</td>\n",
       "      <td>1480000.0</td>\n",
       "      <td>S</td>\n",
       "      <td>Biggin</td>\n",
       "      <td>3/12/2016</td>\n",
       "      <td>2.5</td>\n",
       "      <td>3067.0</td>\n",
       "      <td>...</td>\n",
       "      <td>1.0</td>\n",
       "      <td>1.0</td>\n",
       "      <td>202.0</td>\n",
       "      <td>NaN</td>\n",
       "      <td>NaN</td>\n",
       "      <td>Yarra</td>\n",
       "      <td>-37.7996</td>\n",
       "      <td>144.9984</td>\n",
       "      <td>Northern Metropolitan</td>\n",
       "      <td>4019.0</td>\n",
       "    </tr>\n",
       "    <tr>\n",
       "      <th>2</th>\n",
       "      <td>Abbotsford</td>\n",
       "      <td>25 Bloomburg St</td>\n",
       "      <td>2</td>\n",
       "      <td>h</td>\n",
       "      <td>1035000.0</td>\n",
       "      <td>S</td>\n",
       "      <td>Biggin</td>\n",
       "      <td>4/02/2016</td>\n",
       "      <td>2.5</td>\n",
       "      <td>3067.0</td>\n",
       "      <td>...</td>\n",
       "      <td>1.0</td>\n",
       "      <td>0.0</td>\n",
       "      <td>156.0</td>\n",
       "      <td>79.0</td>\n",
       "      <td>1900.0</td>\n",
       "      <td>Yarra</td>\n",
       "      <td>-37.8079</td>\n",
       "      <td>144.9934</td>\n",
       "      <td>Northern Metropolitan</td>\n",
       "      <td>4019.0</td>\n",
       "    </tr>\n",
       "    <tr>\n",
       "      <th>3</th>\n",
       "      <td>Abbotsford</td>\n",
       "      <td>18/659 Victoria St</td>\n",
       "      <td>3</td>\n",
       "      <td>u</td>\n",
       "      <td>NaN</td>\n",
       "      <td>VB</td>\n",
       "      <td>Rounds</td>\n",
       "      <td>4/02/2016</td>\n",
       "      <td>2.5</td>\n",
       "      <td>3067.0</td>\n",
       "      <td>...</td>\n",
       "      <td>2.0</td>\n",
       "      <td>1.0</td>\n",
       "      <td>0.0</td>\n",
       "      <td>NaN</td>\n",
       "      <td>NaN</td>\n",
       "      <td>Yarra</td>\n",
       "      <td>-37.8114</td>\n",
       "      <td>145.0116</td>\n",
       "      <td>Northern Metropolitan</td>\n",
       "      <td>4019.0</td>\n",
       "    </tr>\n",
       "    <tr>\n",
       "      <th>4</th>\n",
       "      <td>Abbotsford</td>\n",
       "      <td>5 Charles St</td>\n",
       "      <td>3</td>\n",
       "      <td>h</td>\n",
       "      <td>1465000.0</td>\n",
       "      <td>SP</td>\n",
       "      <td>Biggin</td>\n",
       "      <td>4/03/2017</td>\n",
       "      <td>2.5</td>\n",
       "      <td>3067.0</td>\n",
       "      <td>...</td>\n",
       "      <td>2.0</td>\n",
       "      <td>0.0</td>\n",
       "      <td>134.0</td>\n",
       "      <td>150.0</td>\n",
       "      <td>1900.0</td>\n",
       "      <td>Yarra</td>\n",
       "      <td>-37.8093</td>\n",
       "      <td>144.9944</td>\n",
       "      <td>Northern Metropolitan</td>\n",
       "      <td>4019.0</td>\n",
       "    </tr>\n",
       "  </tbody>\n",
       "</table>\n",
       "<p>5 rows × 21 columns</p>\n",
       "</div>"
      ],
      "text/plain": [
       "       Suburb             Address  Rooms Type      Price Method SellerG  \\\n",
       "0  Abbotsford       68 Studley St      2    h        NaN     SS  Jellis   \n",
       "1  Abbotsford        85 Turner St      2    h  1480000.0      S  Biggin   \n",
       "2  Abbotsford     25 Bloomburg St      2    h  1035000.0      S  Biggin   \n",
       "3  Abbotsford  18/659 Victoria St      3    u        NaN     VB  Rounds   \n",
       "4  Abbotsford        5 Charles St      3    h  1465000.0     SP  Biggin   \n",
       "\n",
       "        Date  Distance  Postcode  ...  Bathroom  Car  Landsize  BuildingArea  \\\n",
       "0  3/09/2016       2.5    3067.0  ...       1.0  1.0     126.0           NaN   \n",
       "1  3/12/2016       2.5    3067.0  ...       1.0  1.0     202.0           NaN   \n",
       "2  4/02/2016       2.5    3067.0  ...       1.0  0.0     156.0          79.0   \n",
       "3  4/02/2016       2.5    3067.0  ...       2.0  1.0       0.0           NaN   \n",
       "4  4/03/2017       2.5    3067.0  ...       2.0  0.0     134.0         150.0   \n",
       "\n",
       "   YearBuilt  CouncilArea Lattitude  Longtitude             Regionname  \\\n",
       "0        NaN        Yarra  -37.8014    144.9958  Northern Metropolitan   \n",
       "1        NaN        Yarra  -37.7996    144.9984  Northern Metropolitan   \n",
       "2     1900.0        Yarra  -37.8079    144.9934  Northern Metropolitan   \n",
       "3        NaN        Yarra  -37.8114    145.0116  Northern Metropolitan   \n",
       "4     1900.0        Yarra  -37.8093    144.9944  Northern Metropolitan   \n",
       "\n",
       "  Propertycount  \n",
       "0        4019.0  \n",
       "1        4019.0  \n",
       "2        4019.0  \n",
       "3        4019.0  \n",
       "4        4019.0  \n",
       "\n",
       "[5 rows x 21 columns]"
      ]
     },
     "execution_count": 3,
     "metadata": {},
     "output_type": "execute_result"
    }
   ],
   "source": [
    "df.head()\n"
   ]
  },
  {
   "cell_type": "code",
   "execution_count": 4,
   "metadata": {},
   "outputs": [
    {
     "data": {
      "text/plain": [
       "(19740, 21)"
      ]
     },
     "execution_count": 4,
     "metadata": {},
     "output_type": "execute_result"
    }
   ],
   "source": [
    "df.shape\n"
   ]
  },
  {
   "cell_type": "code",
   "execution_count": 5,
   "metadata": {},
   "outputs": [
    {
     "data": {
      "text/plain": [
       "Index(['Suburb', 'Address', 'Rooms', 'Type', 'Price', 'Method', 'SellerG',\n",
       "       'Date', 'Distance', 'Postcode', 'Bedroom2', 'Bathroom', 'Car',\n",
       "       'Landsize', 'BuildingArea', 'YearBuilt', 'CouncilArea', 'Lattitude',\n",
       "       'Longtitude', 'Regionname', 'Propertycount'],\n",
       "      dtype='object')"
      ]
     },
     "execution_count": 5,
     "metadata": {},
     "output_type": "execute_result"
    }
   ],
   "source": [
    "df.columns\n"
   ]
  },
  {
   "cell_type": "code",
   "execution_count": 6,
   "metadata": {},
   "outputs": [],
   "source": [
    "X= df.loc[ : , ['Rooms', 'Distance', 'Bedroom2','Bathroom', 'Car', 'Landsize', 'BuildingArea', 'Propertycount']]\n",
    "y = df[\"Price\"]\n",
    "df2=pd.concat([X,y],axis=1)\n"
   ]
  },
  {
   "cell_type": "code",
   "execution_count": 7,
   "metadata": {},
   "outputs": [],
   "source": [
    "from sklearn.impute import SimpleImputer\n",
    "imputer = SimpleImputer(strategy=\"mean\") # 평균으로 채우는 전략\n",
    "df3 = pd.DataFrame(imputer.fit_transform(df2), columns=df2.columns)\n",
    "df3\n",
    "cols=df3.columns[:-1]\n",
    "X=df3[cols]\n",
    "y=df3['Price']"
   ]
  },
  {
   "cell_type": "code",
   "execution_count": 8,
   "metadata": {},
   "outputs": [
    {
     "name": "stdout",
     "output_type": "stream",
     "text": [
      " 회귀계수\n",
      " Rooms            294371.005153\n",
      "Distance         -23496.988924\n",
      "Bedroom2           9619.034190\n",
      "Bathroom         153450.013874\n",
      "Car               45814.483818\n",
      "Landsize              0.670134\n",
      "BuildingArea         19.118400\n",
      "Propertycount         7.495786\n",
      "dtype: float64\n",
      "R-squared\n",
      " 0.8320357616277432\n",
      "P values\n",
      " Rooms             0.000000e+00\n",
      "Distance         3.070252e-284\n",
      "Bedroom2          1.150098e-01\n",
      "Bathroom         1.468789e-106\n",
      "Car               2.508850e-24\n",
      "Landsize          5.287350e-01\n",
      "BuildingArea      4.347287e-02\n",
      "Propertycount     8.631029e-27\n",
      "dtype: float64\n",
      "                                 OLS Regression Results                                \n",
      "=======================================================================================\n",
      "Dep. Variable:                  Price   R-squared (uncentered):                   0.832\n",
      "Model:                            OLS   Adj. R-squared (uncentered):              0.832\n",
      "Method:                 Least Squares   F-statistic:                          1.222e+04\n",
      "Date:                Mon, 23 May 2022   Prob (F-statistic):                        0.00\n",
      "Time:                        15:12:55   Log-Likelihood:                     -2.8670e+05\n",
      "No. Observations:               19740   AIC:                                  5.734e+05\n",
      "Df Residuals:                   19732   BIC:                                  5.735e+05\n",
      "Df Model:                           8                                                  \n",
      "Covariance Type:            nonrobust                                                  \n",
      "=================================================================================\n",
      "                    coef    std err          t      P>|t|      [0.025      0.975]\n",
      "---------------------------------------------------------------------------------\n",
      "Rooms          2.944e+05   5116.944     57.529      0.000    2.84e+05    3.04e+05\n",
      "Distance       -2.35e+04    641.486    -36.629      0.000   -2.48e+04   -2.22e+04\n",
      "Bedroom2       9619.0342   6102.909      1.576      0.115   -2343.181    2.16e+04\n",
      "Bathroom       1.535e+05   6955.878     22.060      0.000     1.4e+05    1.67e+05\n",
      "Car            4.581e+04   4495.752     10.191      0.000     3.7e+04    5.46e+04\n",
      "Landsize          0.6701      1.064      0.630      0.529      -1.415       2.755\n",
      "BuildingArea     19.1184      9.468      2.019      0.043       0.560      37.676\n",
      "Propertycount     7.4958      0.699     10.731      0.000       6.127       8.865\n",
      "==============================================================================\n",
      "Omnibus:                    10727.056   Durbin-Watson:                   1.653\n",
      "Prob(Omnibus):                  0.000   Jarque-Bera (JB):           199988.120\n",
      "Skew:                           2.207   Prob(JB):                         0.00\n",
      "Kurtosis:                      17.955   Cond. No.                     2.02e+04\n",
      "==============================================================================\n",
      "\n",
      "Notes:\n",
      "[1] R² is computed without centering (uncentered) since the model does not contain a constant.\n",
      "[2] Standard Errors assume that the covariance matrix of the errors is correctly specified.\n",
      "[3] The condition number is large, 2.02e+04. This might indicate that there are\n",
      "strong multicollinearity or other numerical problems.\n"
     ]
    }
   ],
   "source": [
    "#다중 회귀분석\n",
    "import statsmodels.api as sm\n",
    "model = sm.OLS(y, X)\n",
    "result = model.fit()\n",
    "print(\" 회귀계수\\n\",result.params) \n",
    "print(\"R-squared\\n\",result.rsquared)\n",
    "print(\"P values\\n\",result.pvalues)\n",
    "#요약 결과 출력\n",
    "print(result.summary())"
   ]
  },
  {
   "cell_type": "code",
   "execution_count": 9,
   "metadata": {},
   "outputs": [],
   "source": [
    "# 가장 유의하지 않은 Landsize 제외\n",
    "X= df3.loc[ : , ['Rooms', 'Price','Car','Distance', 'Bedroom2', 'Bathroom', 'BuildingArea', 'Propertycount']] \n",
    "y = df3[\"Price\"]\n"
   ]
  },
  {
   "cell_type": "code",
   "execution_count": 10,
   "metadata": {},
   "outputs": [
    {
     "name": "stdout",
     "output_type": "stream",
     "text": [
      " 회귀계수\n",
      " Rooms           -6.493792e-10\n",
      "Price            1.000000e+00\n",
      "Car             -2.910383e-11\n",
      "Distance         4.365575e-11\n",
      "Bedroom2         7.639755e-11\n",
      "Bathroom        -6.548362e-11\n",
      "BuildingArea    -9.947598e-14\n",
      "Propertycount   -1.776357e-15\n",
      "dtype: float64\n",
      "R-squared\n",
      " 1.0\n",
      "P values\n",
      " Rooms            0.000000e+00\n",
      "Price            0.000000e+00\n",
      "Car              7.655881e-06\n",
      "Distance         0.000000e+00\n",
      "Bedroom2         4.369703e-18\n",
      "Bathroom         1.158624e-10\n",
      "BuildingArea     3.395286e-13\n",
      "Propertycount    7.877546e-02\n",
      "dtype: float64\n",
      "                                 OLS Regression Results                                \n",
      "=======================================================================================\n",
      "Dep. Variable:                  Price   R-squared (uncentered):                   1.000\n",
      "Model:                            OLS   Adj. R-squared (uncentered):              1.000\n",
      "Method:                 Least Squares   F-statistic:                          7.056e+33\n",
      "Date:                Mon, 23 May 2022   Prob (F-statistic):                        0.00\n",
      "Time:                        15:12:56   Log-Likelihood:                      3.8786e+05\n",
      "No. Observations:               19740   AIC:                                 -7.757e+05\n",
      "Df Residuals:                   19732   BIC:                                 -7.756e+05\n",
      "Df Model:                           8                                                  \n",
      "Covariance Type:            nonrobust                                                  \n",
      "=================================================================================\n",
      "                    coef    std err          t      P>|t|      [0.025      0.975]\n",
      "---------------------------------------------------------------------------------\n",
      "Rooms         -6.494e-10   7.98e-12    -81.408      0.000   -6.65e-10   -6.34e-10\n",
      "Price             1.0000   1.03e-17   9.74e+16      0.000       1.000       1.000\n",
      "Car            -2.91e-11    6.5e-12     -4.476      0.000   -4.18e-11   -1.64e-11\n",
      "Distance       4.366e-11   9.56e-13     45.677      0.000    4.18e-11    4.55e-11\n",
      "Bedroom2        7.64e-11    8.8e-12      8.677      0.000    5.91e-11    9.37e-11\n",
      "Bathroom      -6.548e-11   1.02e-11     -6.448      0.000   -8.54e-11   -4.56e-11\n",
      "BuildingArea  -9.948e-14   1.37e-14     -7.283      0.000   -1.26e-13   -7.27e-14\n",
      "Propertycount -1.776e-15   1.01e-15     -1.758      0.079   -3.76e-15    2.04e-16\n",
      "==============================================================================\n",
      "Omnibus:                     6630.263   Durbin-Watson:                   1.688\n",
      "Prob(Omnibus):                  0.000   Jarque-Bera (JB):            60696.936\n",
      "Skew:                          -1.351   Prob(JB):                         0.00\n",
      "Kurtosis:                      11.154   Cond. No.                     2.81e+06\n",
      "==============================================================================\n",
      "\n",
      "Notes:\n",
      "[1] R² is computed without centering (uncentered) since the model does not contain a constant.\n",
      "[2] Standard Errors assume that the covariance matrix of the errors is correctly specified.\n",
      "[3] The condition number is large, 2.81e+06. This might indicate that there are\n",
      "strong multicollinearity or other numerical problems.\n"
     ]
    }
   ],
   "source": [
    "model = sm.OLS(y, X)\n",
    "result = model.fit()\n",
    "print(\" 회귀계수\\n\",result.params)\n",
    "print(\"R-squared\\n\",result.rsquared) # 100% 회귀모델의 설명력\n",
    "print(\"P values\\n\",result.pvalues)\n",
    "#요약 결과 출력\n",
    "print(result.summary())"
   ]
  },
  {
   "cell_type": "code",
   "execution_count": 11,
   "metadata": {},
   "outputs": [],
   "source": [
    "from sklearn.model_selection import train_test_split\n",
    "from sklearn.linear_model import LinearRegression\n",
    "# 데이터셋을 나눔 ( 학습용 : 검증용 = 8:2)\n",
    "#random_state : 난수 발생을 위한 seed의 인자값\n",
    "X_train, X_test, y_train, y_test = train_test_split( X, y, test_size=0.2, random_state=10)\n",
    "model = LinearRegression().fit(X_train, y_train)\n"
   ]
  },
  {
   "cell_type": "code",
   "execution_count": 12,
   "metadata": {},
   "outputs": [
    {
     "name": "stdout",
     "output_type": "stream",
     "text": [
      " 학습용 : 1.0\n",
      " 검증용 : 1.0\n"
     ]
    }
   ],
   "source": [
    "print(\" 학습용 :\",model.score(X_train, y_train))\n",
    "print(\" 검증용 :\",model.score(X_test, y_test)) "
   ]
  },
  {
   "cell_type": "code",
   "execution_count": 13,
   "metadata": {},
   "outputs": [
    {
     "data": {
      "text/plain": [
       "14983    6.635000e+05\n",
       "12630    7.900000e+05\n",
       "10512    1.054957e+06\n",
       "15550    1.054957e+06\n",
       "11215    1.300000e+06\n",
       "             ...     \n",
       "12672    1.054957e+06\n",
       "999      1.912000e+06\n",
       "12815    1.375000e+06\n",
       "12714    4.400000e+05\n",
       "4053     6.500000e+05\n",
       "Name: Price, Length: 3948, dtype: float64"
      ]
     },
     "execution_count": 13,
     "metadata": {},
     "output_type": "execute_result"
    }
   ],
   "source": [
    "y_test"
   ]
  },
  {
   "cell_type": "code",
   "execution_count": 16,
   "metadata": {},
   "outputs": [
    {
     "name": "stdout",
     "output_type": "stream",
     "text": [
      "[ 663500.          790000.         1054957.35658613 1054957.35658613\n",
      " 1300000.        ]\n",
      "14983    6.635000e+05\n",
      "12630    7.900000e+05\n",
      "10512    1.054957e+06\n",
      "15550    1.054957e+06\n",
      "11215    1.300000e+06\n",
      "Name: Price, dtype: float64\n",
      "MAE:  3.507276954508661e-10\n",
      "MSE:  2.027324442456822e-19\n",
      "RMSE:  4.5025819731092315e-10\n"
     ]
    }
   ],
   "source": [
    "from sklearn import metrics\n",
    "import numpy as np\n",
    "pred=model.predict(X_test)\n",
    "print(pred[:5])\n",
    "print(y_test[:5])\n",
    "print(\"MAE: \", metrics.mean_absolute_error(y_test, pred))\n",
    "print(\"MSE: \", metrics.mean_squared_error(y_test, pred))\n",
    "print(\"RMSE: \", np.sqrt(metrics.mean_squared_error(y_test, pred)))"
   ]
  },
  {
   "cell_type": "code",
   "execution_count": null,
   "metadata": {},
   "outputs": [],
   "source": []
  },
  {
   "cell_type": "code",
   "execution_count": null,
   "metadata": {},
   "outputs": [],
   "source": []
  }
 ],
 "metadata": {
  "interpreter": {
   "hash": "ff4f85d6e04298634172ac5d8264e7e9b556b95639fe52ebb9425c4d4cba0c9c"
  },
  "kernelspec": {
   "display_name": "Python 3.9.7 ('base')",
   "language": "python",
   "name": "python3"
  },
  "language_info": {
   "codemirror_mode": {
    "name": "ipython",
    "version": 3
   },
   "file_extension": ".py",
   "mimetype": "text/x-python",
   "name": "python",
   "nbconvert_exporter": "python",
   "pygments_lexer": "ipython3",
   "version": "3.9.7"
  },
  "orig_nbformat": 4
 },
 "nbformat": 4,
 "nbformat_minor": 2
}
