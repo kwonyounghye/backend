{
 "cells": [
  {
   "cell_type": "code",
   "execution_count": 10,
   "metadata": {},
   "outputs": [],
   "source": [
    "from math import sqrt\n",
    "from numpy import mean\n",
    "from scipy.stats import sem, t\n",
    "\n",
    "def independent_ttest(data1, data2):\n",
    "    mean1, mean2=mean(data1), mean(data2)\n",
    "    # 표준오차(표본평균의 표준편차) 계산\n",
    "    se1, se2=sem(data1), sem(data2)\n",
    "    sed=sqrt(se1**2 +se2**2)\n",
    "    # t통계량\n",
    "    t_stat=(mean1-mean2)/sed\n",
    "    # 자유도(샘플수-1)\n",
    "    df=len(data1)+len(data2)-2\n",
    "    p=(1.0-t.cdf(abs(t_stat), df)) * 2.0\n",
    "    return t_stat, p"
   ]
  },
  {
   "cell_type": "code",
   "execution_count": 13,
   "metadata": {},
   "outputs": [
    {
     "name": "stdout",
     "output_type": "stream",
     "text": [
      "t=4.393, p-value=0.000254\n",
      "귀무가설 채택, 대립가설 기각\n"
     ]
    }
   ],
   "source": [
    "X=[3.52, 2.58, 3.31, 4.07, 4.62, 4.29, 4.83, 3.71, 4.61, 3.9, 3.2]\n",
    "y=[2.48, 2.27, 2.47, 2.77, 2.98, 3.05, 3.18, 3.46, 3.03, 3.25, 2.67, 2.53]\n",
    "#95% 신뢰수준\n",
    "alpha = 0.05\n",
    "t_stat, p = independent_ttest(X, y)\n",
    "print('t=%.3f, p-value=%f' % (t_stat, p))\n",
    "if p > alpha:\n",
    "    print('귀무가설 채택 , 대립가설 기각') \n",
    "else:\n",
    "    print('귀무가설 채택, 대립가설 기각')"
   ]
  },
  {
   "cell_type": "code",
   "execution_count": 14,
   "metadata": {},
   "outputs": [
    {
     "name": "stdout",
     "output_type": "stream",
     "text": [
      "[-8.         -7.83838384 -7.67676768 -7.51515152 -7.35353535]\n",
      "[3.39767312e-06 4.95353201e-06 7.17671574e-06 1.03327820e-05\n",
      " 1.47840373e-05]\n"
     ]
    },
    {
     "data": {
      "image/png": "[encoded data removed]",
      "text/plain": [
       "<Figure size 432x288 with 1 Axes>"
      ]
     },
     "metadata": {
      "needs_background": "light"
     },
     "output_type": "display_data"
    }
   ],
   "source": [
    "#참고\n",
    "# 확률분포: 어떤 사건에 어느 정도의 확률이 할당되었는지를 묘사한 것\n",
    "# (cumulative distribution function)) 누적분포함수\n",
    "# 모든 사건에 대해 구간을 정의하기가 어려우므로 시작점을 마이너스무한대로 설정하고\n",
    "# ~ -1, ~ 0, ~ 1 마이너스무한대 마이너스무한대 마이너스무한대식으로 구간을 정의하는 방법\n",
    "%matplotlib inline\n",
    "import matplotlib.pyplot as plt\n",
    "import numpy as np\n",
    "import scipy as sp\n",
    "xx = np.linspace(-8, 8, 100)\n",
    "#print(xx)\n",
    "# , loc , scale 정규분포 생성 분포의 기대값 분포의 표준편차\n",
    "rv = sp.stats.norm(loc=1, scale=2)\n",
    "#누적분포함수\n",
    "cdf = rv.cdf(xx)\n",
    "# ( ) 확률밀도함수 누적분포함수를 미분한 함수\n",
    "pdf = rv.pdf(xx)\n",
    "print(xx[:5])\n",
    "print(cdf[:5])\n",
    "plt.plot(xx, pdf)\n",
    "plt.plot(xx, cdf)\n",
    "plt.show()"
   ]
  },
  {
   "cell_type": "code",
   "execution_count": null,
   "metadata": {},
   "outputs": [],
   "source": []
  }
 ],
 "metadata": {
  "interpreter": {
   "hash": "ff4f85d6e04298634172ac5d8264e7e9b556b95639fe52ebb9425c4d4cba0c9c"
  },
  "kernelspec": {
   "display_name": "Python 3.9.7 ('base')",
   "language": "python",
   "name": "python3"
  },
  "language_info": {
   "codemirror_mode": {
    "name": "ipython",
    "version": 3
   },
   "file_extension": ".py",
   "mimetype": "text/x-python",
   "name": "python",
   "nbconvert_exporter": "python",
   "pygments_lexer": "ipython3",
   "version": "3.9.7"
  },
  "orig_nbformat": 4
 },
 "nbformat": 4,
 "nbformat_minor": 2
}
