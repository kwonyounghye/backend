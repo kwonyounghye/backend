{
 "cells": [
  {
   "cell_type": "code",
   "execution_count": 1,
   "metadata": {},
   "outputs": [],
   "source": [
    "%matplotlib inline\n",
    "import matplotlib.pyplot as plt\n",
    "import numpy as np\n",
    "from scipy import stats\n",
    "from matplotlib import font_manager, rc\n",
    "#한글 처리를 위해 폰트 설정\n",
    "font_name = font_manager.FontProperties(fname=\"c:/Windows/Fonts/malgun.ttf\").get_name()\n",
    "rc('font', family=font_name)"
   ]
  },
  {
   "cell_type": "code",
   "execution_count": 2,
   "metadata": {},
   "outputs": [
    {
     "data": {
      "text/plain": [
       "LinregressResult(slope=0.4956032360182905, intercept=0.9195814280689418, rvalue=0.8929235125385305, pvalue=9.238421943157891e-05, stderr=0.07901935226531728, intercept_stderr=0.3110591892275586)"
      ]
     },
     "execution_count": 2,
     "metadata": {},
     "output_type": "execute_result"
    }
   ],
   "source": [
    "\n",
    "# 독립변수 (전기생산량) 종속변수 (전기소비량)\n",
    "# 독립변수가 1개이므로 단순회귀분석 (선형회귀분석) 사용\n",
    "# 귀무가설: 전기생산량과 전기소비량 간에 상관관계가 없다\n",
    "# 대립가설: 전기생산량과 전기소비량 간에 상관관계가 있다\n",
    "# 월별 전기생산금액 (억원)\n",
    "X =[3.52,2.58,3.31,4.07,4.62,3.98,4.29, 4.83, 3.71, 4.61, 3.90, 3.20]\n",
    "# ( kwh) 월별 전기 사용량 백만\n",
    "y =[2.48,2.27,2.47,2.77,2.98,3.05,3.18, 3.46, 3.03, 3.25,2.67,2.53]\n",
    "# (slope), (intercept), 기울기 절편\n",
    "# (rvalue), pvalue( ) 상관계수 예측 불확실성의 정도를 나타내는 값\n",
    "# (stderr) - 에러의 표준편차 실제값과 예측값의 평균적인 차이\n",
    "#p-value 0.05 는 미만일 때 통계학적으로 유의미\n",
    "# linregress( , ) 독립변수 종속변수 선형회귀분석, 회귀분석 함수\n",
    "result=stats.linregress(X, y)\n",
    "result\n",
    "#p_value : 9.238421943157891e-05 0.05 으로 보다 작으므로 통계적으로 유의미함\n",
    "# . 귀무가설을 기각하고 대립가설을 채택한다\n",
    "# : . 결론 전기생산량과 전기소비량 간에 상관관계가 있다\n",
    "# : 상관분석 두 변수 간에 어떤 선형적 관계가 있는지 분석\n",
    "# (rvalue) : ( -1 1 상관계수 상관관계의 정도를 파악하는 값 에서 사이)"
   ]
  },
  {
   "cell_type": "code",
   "execution_count": 3,
   "metadata": {},
   "outputs": [
    {
     "data": {
      "text/plain": [
       "Text(0, 0.5, ' 전기사용량')"
      ]
     },
     "execution_count": 3,
     "metadata": {},
     "output_type": "execute_result"
    },
    {
     "data": {
      "image/png": "[encoded data removed]",
      "text/plain": [
       "<Figure size 432x288 with 1 Axes>"
      ]
     },
     "metadata": {
      "needs_background": "light"
     },
     "output_type": "display_data"
    }
   ],
   "source": [
    "slope, intercept, r_value, p_value, stderr = stats.linregress(X, y)\n",
    "x1 = np.array(X) #넘파이배열로 바꾸고\n",
    "#산점도 그리기\n",
    "plt.scatter(X,y) \n",
    "#회귀선 그리기\n",
    "plt.plot(x1, slope*x1 +intercept, c=\"red\")\n",
    "plt.xlabel(\"전기생산량\")\n",
    "plt.ylabel(\" 전기사용량\")"
   ]
  },
  {
   "cell_type": "code",
   "execution_count": 4,
   "metadata": {},
   "outputs": [
    {
     "data": {
      "text/plain": [
       "2.901994372142104"
      ]
     },
     "execution_count": 4,
     "metadata": {},
     "output_type": "execute_result"
    }
   ],
   "source": [
    "# 생산량이 4일 때 전기사용량 예측\n",
    "4 * slope + intercept"
   ]
  },
  {
   "cell_type": "code",
   "execution_count": null,
   "metadata": {},
   "outputs": [],
   "source": []
  }
 ],
 "metadata": {
  "interpreter": {
   "hash": "ff4f85d6e04298634172ac5d8264e7e9b556b95639fe52ebb9425c4d4cba0c9c"
  },
  "kernelspec": {
   "display_name": "Python 3.9.7 ('base')",
   "language": "python",
   "name": "python3"
  },
  "language_info": {
   "codemirror_mode": {
    "name": "ipython",
    "version": 3
   },
   "file_extension": ".py",
   "mimetype": "text/x-python",
   "name": "python",
   "nbconvert_exporter": "python",
   "pygments_lexer": "ipython3",
   "version": "3.9.7"
  },
  "orig_nbformat": 4
 },
 "nbformat": 4,
 "nbformat_minor": 2
}
