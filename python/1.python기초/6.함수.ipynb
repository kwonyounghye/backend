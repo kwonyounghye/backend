{
 "cells": [
  {
   "cell_type": "code",
   "execution_count": 16,
   "metadata": {},
   "outputs": [
    {
     "name": "stdout",
     "output_type": "stream",
     "text": [
      "0 10\n",
      "1 20\n",
      "2 30\n",
      "3 40\n",
      "4 50\n"
     ]
    }
   ],
   "source": [
    "#index, value\n",
    "for i, num in enumerate([10,20,30,40,50]):\n",
    "    print(i, num)"
   ]
  },
  {
   "cell_type": "code",
   "execution_count": 17,
   "metadata": {},
   "outputs": [
    {
     "name": "stdout",
     "output_type": "stream",
     "text": [
      "사과,배,수박,바나나,포도\n"
     ]
    }
   ],
   "source": [
    "fruits=['사과','배','수박','바나나','포도']\n",
    "#리스트의 아이템 사이에 구분자를 추가하여 하나의 문자열로 변환\n",
    "print(','.join(fruits))"
   ]
  },
  {
   "cell_type": "code",
   "execution_count": 18,
   "metadata": {},
   "outputs": [
    {
     "name": "stdout",
     "output_type": "stream",
     "text": [
      "6\n",
      "3\n",
      "2\n"
     ]
    }
   ],
   "source": [
    "a=len('python') #글자수\n",
    "print(a)\n",
    "b=len([1,2,3])\n",
    "print(b)\n",
    "c=len((1,'a'))\n",
    "print(c)"
   ]
  },
  {
   "cell_type": "code",
   "execution_count": 19,
   "metadata": {},
   "outputs": [
    {
     "data": {
      "text/plain": [
       "['사과', '배', '수박', '바나나', '포도']"
      ]
     },
     "execution_count": 19,
     "metadata": {},
     "output_type": "execute_result"
    }
   ],
   "source": [
    "a='사과,배,수박,바나나,포도'\n",
    "#구분자로 나누어 리스트로 만들려면?\n",
    "b=a.split(',') #리스트를 컴머 단위로 끊어서 리스트로 전환\n",
    "b"
   ]
  },
  {
   "cell_type": "code",
   "execution_count": 20,
   "metadata": {},
   "outputs": [
    {
     "name": "stdout",
     "output_type": "stream",
     "text": [
      "사과,배,수박,바나나,포도\n",
      "사과/배/수박/바나나/포도\n",
      "사과\n",
      "배\n",
      "수박\n",
      "바나나\n",
      "포도\n"
     ]
    }
   ],
   "source": [
    "fruits=['사과','배','수박','바나나','포도']\n",
    "print(','.join(fruits))\n",
    "print('/'.join(fruits))\n",
    "print('\\n'.join(fruits))"
   ]
  },
  {
   "cell_type": "code",
   "execution_count": 14,
   "metadata": {},
   "outputs": [
    {
     "data": {
      "text/plain": [
       "[2, 4, 6, 8]"
      ]
     },
     "execution_count": 14,
     "metadata": {},
     "output_type": "execute_result"
    }
   ],
   "source": [
    "#def 함수이름(전달값)\n",
    "def calc(x):\n",
    "    return x*2\n",
    "#map(함수이름, 전달할 값)\n",
    "list(map(calc, [1,2,3,4])) #함수가 반복적으로 호출됨"
   ]
  },
  {
   "cell_type": "code",
   "execution_count": 23,
   "metadata": {},
   "outputs": [
    {
     "data": {
      "text/plain": [
       "[2, 4, 6, 8]"
      ]
     },
     "execution_count": 23,
     "metadata": {},
     "output_type": "execute_result"
    }
   ],
   "source": [
    "\n",
    "#map(함수이름, 전달할 값)\n",
    "list(map(calc, [1,2,3,4])) #함수가 반복적으로 호출됨"
   ]
  },
  {
   "cell_type": "code",
   "execution_count": 29,
   "metadata": {},
   "outputs": [
    {
     "data": {
      "text/plain": [
       "[2, 3, 4, 5, 6]"
      ]
     },
     "execution_count": 29,
     "metadata": {},
     "output_type": "execute_result"
    }
   ],
   "source": [
    "def plus(x):\n",
    "    return x+1\n",
    "a=[]\n",
    "for i in range(1,6):\n",
    "    a.append(plus(i))\n",
    "a"
   ]
  },
  {
   "cell_type": "code",
   "execution_count": 25,
   "metadata": {},
   "outputs": [
    {
     "data": {
      "text/plain": [
       "[2, 3, 4, 5, 6]"
      ]
     },
     "execution_count": 25,
     "metadata": {},
     "output_type": "execute_result"
    }
   ],
   "source": [
    "list(map(plus, [1,2,3,4,5]))"
   ]
  },
  {
   "cell_type": "code",
   "execution_count": 39,
   "metadata": {},
   "outputs": [
    {
     "data": {
      "text/plain": [
       "5050"
      ]
     },
     "execution_count": 39,
     "metadata": {},
     "output_type": "execute_result"
    }
   ],
   "source": [
    "def mysum(x):\n",
    "    #합계 계산, 리턴\n",
    "    a=0\n",
    "    for i in range(1,x+1):\n",
    "        a+=i\n",
    "    return a\n",
    "mysum(100)"
   ]
  },
  {
   "cell_type": "code",
   "execution_count": 42,
   "metadata": {},
   "outputs": [
    {
     "data": {
      "text/plain": [
       "[5050, 20100, 45150, 80200, 125250]"
      ]
     },
     "execution_count": 42,
     "metadata": {},
     "output_type": "execute_result"
    }
   ],
   "source": [
    "a=[]\n",
    "for i in [100,200,300,400,500]:\n",
    "    a.append(mysum(i))\n",
    "a"
   ]
  },
  {
   "cell_type": "code",
   "execution_count": 43,
   "metadata": {},
   "outputs": [
    {
     "data": {
      "text/plain": [
       "[5050, 20100, 45150, 80200, 125250]"
      ]
     },
     "execution_count": 43,
     "metadata": {},
     "output_type": "execute_result"
    }
   ],
   "source": [
    "list(map(mysum, [100,200,300,400, 500]))"
   ]
  },
  {
   "cell_type": "code",
   "execution_count": 45,
   "metadata": {},
   "outputs": [
    {
     "data": {
      "text/plain": [
       "[('김철수', 100), ('박철호', 80), ('최정호', 70), ('이철수', 60), ('홍찬수', 90)]"
      ]
     },
     "execution_count": 45,
     "metadata": {},
     "output_type": "execute_result"
    }
   ],
   "source": [
    "names=['김철수','박철호', '최정호', '이철수', '홍찬수']\n",
    "points=[100,80,70,60,90]\n",
    "#같은 인덱스끼리 조합\n",
    "list(zip(names, points))"
   ]
  },
  {
   "cell_type": "code",
   "execution_count": 49,
   "metadata": {},
   "outputs": [
    {
     "name": "stdout",
     "output_type": "stream",
     "text": [
      "이름: 김철수 , 점수:  100\n",
      "이름: 박철호 , 점수:  80\n",
      "이름: 최정호 , 점수:  70\n",
      "이름: 이철수 , 점수:  60\n",
      "이름: 홍찬수 , 점수:  90\n"
     ]
    }
   ],
   "source": [
    "names=['김철수','박철호', '최정호', '이철수', '홍찬수']\n",
    "points=[100,80,70,60,90]\n",
    "#같은 인덱스끼리 조합\n",
    "for (names, points) in list(zip(names, points)):\n",
    "    print('이름:', names, ', 점수: ', points)\n"
   ]
  },
  {
   "cell_type": "code",
   "execution_count": 50,
   "metadata": {},
   "outputs": [
    {
     "name": "stdout",
     "output_type": "stream",
     "text": [
      "Hi\n"
     ]
    }
   ],
   "source": [
    "def say():\n",
    "    print('Hi')\n",
    "say() #함수호출"
   ]
  },
  {
   "cell_type": "code",
   "execution_count": 51,
   "metadata": {},
   "outputs": [
    {
     "name": "stdout",
     "output_type": "stream",
     "text": [
      "hello,  kim\n",
      "hello,  kim\n",
      "None\n"
     ]
    }
   ],
   "source": [
    "def hello(name):\n",
    "    print('hello, ', name)\n",
    "hello('kim')\n",
    "a=hello('kim') #리턴값이 없음\n",
    "print(a) #변수가 가리키는 값이 없는 경우 None"
   ]
  },
  {
   "cell_type": "code",
   "execution_count": 53,
   "metadata": {},
   "outputs": [
    {
     "data": {
      "text/plain": [
       "7"
      ]
     },
     "execution_count": 53,
     "metadata": {},
     "output_type": "execute_result"
    }
   ],
   "source": [
    "def mysum(a,b):\n",
    "    return a+b #리턴\n",
    "a=3\n",
    "b=4\n",
    "mysum(a,b) #함수에 2개의 값 전달"
   ]
  },
  {
   "cell_type": "code",
   "execution_count": 1,
   "metadata": {},
   "outputs": [
    {
     "data": {
      "text/plain": [
       "(1, 2, 3, 4, 5)"
      ]
     },
     "execution_count": 1,
     "metadata": {},
     "output_type": "execute_result"
    }
   ],
   "source": [
    "def a():\n",
    "    return 1,2,3,4,5 #여러개가 아닌 1개의 튜플로 리턴됨/소괄호:튜블(생략됨)\n",
    "a()"
   ]
  },
  {
   "cell_type": "code",
   "execution_count": 2,
   "metadata": {},
   "outputs": [
    {
     "data": {
      "text/plain": [
       "(1, 2, 3, 4, 5)"
      ]
     },
     "execution_count": 2,
     "metadata": {},
     "output_type": "execute_result"
    }
   ],
   "source": [
    "#좌변의 변수가 여러개가 아닌 1개의 튜플\n",
    "a,b,c,d,e=a()\n",
    "a,b,c,d,e"
   ]
  },
  {
   "cell_type": "code",
   "execution_count": 6,
   "metadata": {},
   "outputs": [],
   "source": [
    "#함수로 딕셔너리 반환\n",
    "def set_person(name, job, age=''): #변수=기본값(전달값이 없는 경우에 사용됨)\n",
    "    person={'name': name, 'job': job}\n",
    "    if age: #빈값이 아니면\n",
    "        person['age']=age #딕셔너리에 변수 추가\n",
    "    #딕셔너리를 리턴\n",
    "    return person"
   ]
  },
  {
   "cell_type": "code",
   "execution_count": 7,
   "metadata": {},
   "outputs": [
    {
     "data": {
      "text/plain": [
       "{'name': '김철수', 'job': '작가'}"
      ]
     },
     "execution_count": 7,
     "metadata": {},
     "output_type": "execute_result"
    }
   ],
   "source": [
    "set_person('김철수', '작가')"
   ]
  },
  {
   "cell_type": "code",
   "execution_count": 8,
   "metadata": {},
   "outputs": [
    {
     "data": {
      "text/plain": [
       "{'name': '김철수', 'job': '작가', 'age': 30}"
      ]
     },
     "execution_count": 8,
     "metadata": {},
     "output_type": "execute_result"
    }
   ],
   "source": [
    "set_person('김철수', '작가', 30)"
   ]
  },
  {
   "cell_type": "code",
   "execution_count": 11,
   "metadata": {},
   "outputs": [],
   "source": [
    "def greet(n): #n:리스트를 가리키는 변수\n",
    "    for name in n:\n",
    "        msg=name+'님 환영합니다.'\n",
    "        print(msg)"
   ]
  },
  {
   "cell_type": "code",
   "execution_count": 12,
   "metadata": {},
   "outputs": [
    {
     "name": "stdout",
     "output_type": "stream",
     "text": [
      "김철호님 환영합니다.\n",
      "나철호님 환영합니다.\n",
      "송철호님 환영합니다.\n"
     ]
    }
   ],
   "source": [
    "names = ['김철호', '나철호', '송철호']\n",
    "greet(names) #함수에 리스트 전달"
   ]
  },
  {
   "cell_type": "code",
   "execution_count": 13,
   "metadata": {},
   "outputs": [
    {
     "name": "stdout",
     "output_type": "stream",
     "text": [
      "1\n"
     ]
    }
   ],
   "source": [
    "a=1 #전역변수\n",
    "def test(a): \n",
    "    a+=1 #지역변수\n",
    "    \n",
    "test(a)\n",
    "print(a)"
   ]
  },
  {
   "cell_type": "code",
   "execution_count": 15,
   "metadata": {},
   "outputs": [
    {
     "name": "stdout",
     "output_type": "stream",
     "text": [
      "2\n"
     ]
    }
   ],
   "source": [
    "a=1\n",
    "def test():\n",
    "    global a #전역변수를 사용하는 옵션\n",
    "    a+=1\n",
    "test()\n",
    "print(a)"
   ]
  },
  {
   "cell_type": "code",
   "execution_count": 17,
   "metadata": {},
   "outputs": [
    {
     "name": "stdout",
     "output_type": "stream",
     "text": [
      "\n",
      "이름:김철수\n",
      "기본급: 300\n",
      "보너스:  900\n",
      "총액: 4,500\n",
      "세액:135\n",
      "실수령액: 4,365\n",
      "\n"
     ]
    }
   ],
   "source": [
    "name=input('이름을 입력하세요: ')\n",
    "basic=int(input('기본급을 입력하세요: '))\n",
    "bonus=basic*3\n",
    "total=basic*12+bonus\n",
    "tax=int(total*0.03)\n",
    "money=total-tax\n",
    "print(f'''\n",
    "이름:{name}\\n기본급:{basic: ,}\\n보너스: {bonus: ,}\\n총액: {total:,}\\n세액:{tax:,}\\n실수령액: {money:,}\n",
    "''')"
   ]
  },
  {
   "cell_type": "code",
   "execution_count": null,
   "metadata": {},
   "outputs": [],
   "source": [
    "\n"
   ]
  }
 ],
 "metadata": {
  "interpreter": {
   "hash": "cef9e06bb236b2a8629b07e87a04b187b952a0f661eff5533360a155783f0c33"
  },
  "kernelspec": {
   "display_name": "Python 3.9.7 ('base')",
   "language": "python",
   "name": "python3"
  },
  "language_info": {
   "codemirror_mode": {
    "name": "ipython",
    "version": 3
   },
   "file_extension": ".py",
   "mimetype": "text/x-python",
   "name": "python",
   "nbconvert_exporter": "python",
   "pygments_lexer": "ipython3",
   "version": "3.9.7"
  },
  "orig_nbformat": 4
 },
 "nbformat": 4,
 "nbformat_minor": 2
}
