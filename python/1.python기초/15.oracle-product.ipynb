{
 "cells": [
  {
   "cell_type": "code",
   "execution_count": 1,
   "metadata": {},
   "outputs": [],
   "source": [
    "import cx_Oracle"
   ]
  },
  {
   "cell_type": "code",
   "execution_count": 2,
   "metadata": {},
   "outputs": [],
   "source": [
    "import cx_Oracle\n",
    "conn = cx_Oracle.connect('hr/hr@localhost:1521/xe')\n",
    "cursor=conn.cursor()\n",
    "sql='delete from product'\n",
    "cursor.execute(sql)\n",
    "conn.commit()\n"
   ]
  },
  {
   "cell_type": "code",
   "execution_count": 3,
   "metadata": {},
   "outputs": [],
   "source": [
    "items = [\n",
    "    (1,'레몬',1500,'레몬에 포함된 구연산은 피로회복에 좋습니다. 비타민 C도 풍부합니다.','lemon.jpg'), \n",
    "    (2,'오렌지',2000,'비타민 C가 풍부합니다. 생과일 주스로 마시면 좋습니다.','orange.jpg'),\n",
    "    (3,'키위',3000,'비타민 C가 매우 풍부합니다. 다이어트나 미용에 좋습니다.','kiwi.jpg'), \n",
    "    (4,'포도',5000,'폴리페놀을 다량 함유하고 있어 항산화 작용을 합니다.','grape.jpg'),\n",
    "    (5,'딸기',8000,'비타민 C나 플라보노이드를 다량 함유하고 있습니다.','strawberry.jpg'),\n",
    "    (6,'귤',7000,'시네피린을 함유하고 있어 감기 예방에 좋다고 합니다.','tangerine.jpg')\n",
    "]"
   ]
  },
  {
   "cell_type": "code",
   "execution_count": 4,
   "metadata": {},
   "outputs": [
    {
     "name": "stdout",
     "output_type": "stream",
     "text": [
      "상품개수:  6\n"
     ]
    }
   ],
   "source": [
    "for row in items:\n",
    "                                        #파라미터 쓸 때 :\n",
    "    sql = 'insert into product values (:1, :2, :3, :4, :5)'\n",
    "    cursor.execute(sql, row)\n",
    "conn.commit()\n",
    "sql = \"select count(*) from product\"    \n",
    "cursor.execute(sql)\n",
    "cnt=cursor.fetchone() #레코드 1개\n",
    "print('상품개수: ', cnt[0])"
   ]
  },
  {
   "cell_type": "code",
   "execution_count": 5,
   "metadata": {},
   "outputs": [
    {
     "name": "stdout",
     "output_type": "stream",
     "text": [
      "(1, '레몬', 1500, <cx_Oracle.LOB object at 0x0000023637EF1FC0>, 'lemon.jpg')\n",
      "레몬에 포함된 구연산은 피로회복에 좋습니다. 비타민 C도 풍부합니다.\n",
      "(2, '오렌지', 2000, <cx_Oracle.LOB object at 0x0000023638F37300>, 'orange.jpg')\n",
      "비타민 C가 풍부합니다. 생과일 주스로 마시면 좋습니다.\n",
      "(3, '키위', 3000, <cx_Oracle.LOB object at 0x0000023638F37240>, 'kiwi.jpg')\n",
      "비타민 C가 매우 풍부합니다. 다이어트나 미용에 좋습니다.\n",
      "(4, '포도', 5000, <cx_Oracle.LOB object at 0x0000023638F374B0>, 'grape.jpg')\n",
      "폴리페놀을 다량 함유하고 있어 항산화 작용을 합니다.\n",
      "(5, '딸기', 8000, <cx_Oracle.LOB object at 0x0000023638F37690>, 'strawberry.jpg')\n",
      "비타민 C나 플라보노이드를 다량 함유하고 있습니다.\n",
      "(6, '귤', 7000, <cx_Oracle.LOB object at 0x0000023638F375D0>, 'tangerine.jpg')\n",
      "시네피린을 함유하고 있어 감기 예방에 좋다고 합니다.\n"
     ]
    }
   ],
   "source": [
    "sql='select * from product'\n",
    "cursor.execute(sql)\n",
    "for row in cursor:\n",
    "    description=row[3].read()\n",
    "    print(row)\n",
    "    print(description)"
   ]
  },
  {
   "cell_type": "code",
   "execution_count": 6,
   "metadata": {},
   "outputs": [],
   "source": [
    "sql='delete from product where product_id=6'\n",
    "cursor.execute(sql)\n",
    "sql='delete from product'\n",
    "cursor.execute(sql)"
   ]
  },
  {
   "cell_type": "code",
   "execution_count": 7,
   "metadata": {},
   "outputs": [],
   "source": [
    "sql='delete from product'\n",
    "cursor.execute(sql)"
   ]
  },
  {
   "cell_type": "code",
   "execution_count": 8,
   "metadata": {},
   "outputs": [],
   "source": [
    "sql='insert into product values (:1, :2, :3, :4, :5)'\n",
    "cursor.executemany(sql, items)"
   ]
  },
  {
   "cell_type": "code",
   "execution_count": 9,
   "metadata": {},
   "outputs": [
    {
     "name": "stdout",
     "output_type": "stream",
     "text": [
      "\n",
      "레코드셋: [(1, '레몬', 1500, <cx_Oracle.LOB object at 0x0000023637F236C0>, 'lemon.jpg'), (2, '오렌지', 2000, <cx_Oracle.LOB object at 0x0000023637FF0C00>, 'orange.jpg'), (3, '키위', 3000, <cx_Oracle.LOB object at 0x0000023637FF0630>, 'kiwi.jpg'), (4, '포도', 5000, <cx_Oracle.LOB object at 0x0000023637FF05A0>, 'grape.jpg'), (5, '딸기', 8000, <cx_Oracle.LOB object at 0x0000023638F374E0>, 'strawberry.jpg'), (6, '귤', 7000, <cx_Oracle.LOB object at 0x0000023638F378A0>, 'tangerine.jpg')]\n",
      "(1, '레몬', 1500, <cx_Oracle.LOB object at 0x0000023637F236C0>, 'lemon.jpg')\n",
      "(2, '오렌지', 2000, <cx_Oracle.LOB object at 0x0000023637FF0C00>, 'orange.jpg')\n",
      "(3, '키위', 3000, <cx_Oracle.LOB object at 0x0000023637FF0630>, 'kiwi.jpg')\n",
      "(4, '포도', 5000, <cx_Oracle.LOB object at 0x0000023637FF05A0>, 'grape.jpg')\n",
      "(5, '딸기', 8000, <cx_Oracle.LOB object at 0x0000023638F374E0>, 'strawberry.jpg')\n",
      "(6, '귤', 7000, <cx_Oracle.LOB object at 0x0000023638F378A0>, 'tangerine.jpg')\n"
     ]
    }
   ],
   "source": [
    "\n",
    "sql='select * from product'\n",
    "cursor.execute(sql)\n",
    "rs=cursor.fetchall()\n",
    "print('\\n레코드셋:', rs)\n",
    "for row in rs:\n",
    "    print(row)\n",
    "\n",
    "conn.commit()\n",
    "cursor.close()\n",
    "conn.close()"
   ]
  },
  {
   "cell_type": "code",
   "execution_count": null,
   "metadata": {},
   "outputs": [],
   "source": []
  }
 ],
 "metadata": {
  "interpreter": {
   "hash": "ff4f85d6e04298634172ac5d8264e7e9b556b95639fe52ebb9425c4d4cba0c9c"
  },
  "kernelspec": {
   "display_name": "Python 3.9.7 ('base')",
   "language": "python",
   "name": "python3"
  },
  "language_info": {
   "codemirror_mode": {
    "name": "ipython",
    "version": 3
   },
   "file_extension": ".py",
   "mimetype": "text/x-python",
   "name": "python",
   "nbconvert_exporter": "python",
   "pygments_lexer": "ipython3",
   "version": "3.9.7"
  },
  "orig_nbformat": 4
 },
 "nbformat": 4,
 "nbformat_minor": 2
}
