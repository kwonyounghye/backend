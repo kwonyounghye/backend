{
 "cells": [
  {
   "cell_type": "code",
   "execution_count": 2,
   "metadata": {},
   "outputs": [
    {
     "name": "stdout",
     "output_type": "stream",
     "text": [
      "(2008, 1, 3, 4, 2003, 1955, 2211, 2225, 'WN', 335, 'N712SW', 128, 150, 116, -14, 8, 'IAD', 'TPA', 810, 4, 8, 0, '', '0', 'NA', 'NA', 'NA', 'NA', 'NA')\n",
      "(2008, 1, 3, 4, 754, 735, 1002, 1000, 'WN', 3231, 'N772SW', 128, 145, 113, 2, 19, 'IAD', 'TPA', 810, 5, 10, 0, '', '0', 'NA', 'NA', 'NA', 'NA', 'NA')\n",
      "(2008, 1, 3, 4, 628, 620, 804, 750, 'WN', 448, 'N428WN', 96, 90, 76, 14, 8, 'IND', 'BWI', 515, 3, 17, 0, '', '0', 'NA', 'NA', 'NA', 'NA', 'NA')\n",
      "(2008, 1, 3, 4, 926, 930, 1054, 1100, 'WN', 1746, 'N612SW', 88, 90, 78, -6, -4, 'IND', 'BWI', 515, 3, 7, 0, '', '0', 'NA', 'NA', 'NA', 'NA', 'NA')\n",
      "(2008, 1, 3, 4, 1829, 1755, 1959, 1925, 'WN', 3920, 'N464WN', 90, 90, 77, 34, 34, 'IND', 'BWI', 515, 3, 10, 0, '', '0', 2, 0, 0, 0, 32)\n"
     ]
    }
   ],
   "source": [
    "import sqlite3\n",
    "conn=sqlite3.connect('c:/data/db/ontime.db') #db에 접속\n",
    "cursor=conn.cursor() #커서 생성\n",
    "cursor.execute('select*from ontime limit 5') #레코드 5개 조회\n",
    "rows = cursor.fetchall() #모든 레코드셋을 리스트로 저장\n",
    "for row in rows:\n",
    "    print(row)\n",
    "conn.close() #db 접속 종료"
   ]
  },
  {
   "cell_type": "code",
   "execution_count": 4,
   "metadata": {},
   "outputs": [
    {
     "name": "stdout",
     "output_type": "stream",
     "text": [
      "(1, 265256)\n",
      "(2, 273361)\n",
      "(3, 288152)\n",
      "(4, 231219)\n",
      "(5, 226843)\n",
      "(6, 281945)\n",
      "(7, 264230)\n",
      "(8, 241184)\n",
      "(9, 156974)\n",
      "(10, 165590)\n",
      "(11, 161485)\n",
      "(12, 280981)\n"
     ]
    }
   ],
   "source": [
    "import sqlite3\n",
    "conn=sqlite3.connect('c:/data/db/ontime.db') #db에 접속\n",
    "cursor=conn.cursor() #커서 생성\n",
    "cursor.execute('''\n",
    "select month, count(*)\n",
    "from ontime\n",
    "where year=2008 and depdelay>0\n",
    "group by month\n",
    "''') #레코드 5개 조회\n",
    "rows = cursor.fetchall() #모든 레코드셋을 리스트로 저장\n",
    "for row in rows:\n",
    "    print(row)\n",
    "conn.close() #db 접속 종료"
   ]
  },
  {
   "cell_type": "code",
   "execution_count": 5,
   "metadata": {},
   "outputs": [
    {
     "name": "stdout",
     "output_type": "stream",
     "text": [
      "[1, 2, 3, 4, 5, 6, 7, 8, 9, 10, 11, 12]\n",
      "[265256, 273361, 288152, 231219, 226843, 281945, 264230, 241184, 156974, 165590, 161485, 280981]\n"
     ]
    }
   ],
   "source": [
    "x=list(range(1,13))\n",
    "y=[]\n",
    "for row in rows:\n",
    "    y.append(row[1])\n",
    "print(x)\n",
    "print(y)"
   ]
  },
  {
   "cell_type": "code",
   "execution_count": 6,
   "metadata": {},
   "outputs": [
    {
     "data": {
      "image/png": "[encoded data removed]",
      "text/plain": [
       "<Figure size 432x288 with 1 Axes>"
      ]
     },
     "metadata": {
      "needs_background": "light"
     },
     "output_type": "display_data"
    }
   ],
   "source": [
    "import matplotlib.pyplot as plt #시각화 패키지\n",
    "plt.plot(x,y) #선그래프\n",
    "plt.bar(x,y) #막대그래프\n",
    "plt.show() #그래프 출력"
   ]
  },
  {
   "cell_type": "code",
   "execution_count": null,
   "metadata": {},
   "outputs": [],
   "source": []
  }
 ],
 "metadata": {
  "interpreter": {
   "hash": "cef9e06bb236b2a8629b07e87a04b187b952a0f661eff5533360a155783f0c33"
  },
  "kernelspec": {
   "display_name": "Python 3.9.7 ('base')",
   "language": "python",
   "name": "python3"
  },
  "language_info": {
   "codemirror_mode": {
    "name": "ipython",
    "version": 3
   },
   "file_extension": ".py",
   "mimetype": "text/x-python",
   "name": "python",
   "nbconvert_exporter": "python",
   "pygments_lexer": "ipython3",
   "version": "3.9.7"
  },
  "orig_nbformat": 4
 },
 "nbformat": 4,
 "nbformat_minor": 2
}
