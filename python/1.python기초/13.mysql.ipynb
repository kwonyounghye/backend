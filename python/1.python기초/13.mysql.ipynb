{
 "cells": [
  {
   "cell_type": "code",
   "execution_count": 3,
   "metadata": {},
   "outputs": [
    {
     "name": "stdout",
     "output_type": "stream",
     "text": [
      "['A', '001-1001', '2341', '500000', '2014-01-20']\n",
      "['A', '001-1001', '2341', '500000', '2014-01-20']\n",
      "['A', '001-1001', '5467', '750000', '2014-01-20']\n",
      "['A', '001-1001', '5467', '750000', '2014-01-20']\n",
      "['B', '50-9501', '7009', '250000', '2018-01-30']\n",
      "['B', '50-9501', '7009', '250000', '2018-01-30']\n",
      "['B', '50-9505', '6650', '125000', '2017-02-03']\n",
      "['B', '50-9505', '6650', '125000', '2017-02-03']\n",
      "['C', '920-4803', '3321', '615000', '2017-02-03']\n",
      "['C', '920-4804', '3321', '615000', '2017-02-10']\n",
      "['C', '920-4805', '3321', '615000', '2017-02-17']\n",
      "['C', '920-4806', '3321', '615000', '2017-02-24']\n",
      "['A', '001-1001', '2341', '500000.0', '2014-01-20']\n",
      "['A', '001-1001', '2341', '500000.0', '2014-01-20']\n",
      "['A', '001-1001', '5467', '750000.0', '2014-01-20']\n",
      "['A', '001-1001', '5467', '750000.0', '2014-01-20']\n",
      "['B', '50-9501', '7009', '250000.0', '2018-01-30']\n",
      "['B', '50-9501', '7009', '250000.0', '2018-01-30']\n",
      "['B', '50-9505', '6650', '125000.0', '2017-02-03']\n",
      "['B', '50-9505', '6650', '125000.0', '2017-02-03']\n",
      "['C', '920-4803', '3321', '615000.0', '2017-02-03']\n",
      "['C', '920-4804', '3321', '615000.0', '2017-02-10']\n",
      "['C', '920-4805', '3321', '615000.0', '2017-02-17']\n",
      "['C', '920-4806', '3321', '615000.0', '2017-02-24']\n"
     ]
    }
   ],
   "source": [
    "import csv\n",
    "import MySQLdb\n",
    "input_file = 'c:/data/db/input.csv'\n",
    "conn=MySQLdb.connect(host='localhost', port=3306, db='my_suppliers', user='web', passwd='1234', charset='utf8')\n",
    "cursor=conn.cursor()\n",
    "sql='delete from suppliers'\n",
    "cursor.execute(sql)\n",
    "conn.commit() #레코드 추가, 수정, 삭제는 commit 해야 함\n",
    "#csv 파일 읽기\n",
    "file_reader = csv.reader(open(input_file, 'r'), delimiter=',')\n",
    "#한 라인을 읽음, 첫행 header\n",
    "header=next(file_reader)\n",
    "for row in file_reader:\n",
    "    data=[] #빈 리스트\n",
    "                     #필드 수\n",
    "    for idx in range(len(header)):\n",
    "        data.append(row[idx]) #리스트에 추가\n",
    "    print(data)\n",
    "    cursor.execute('insert into suppliers values (%s, %s, %s, %s, %s)', data) #레코드 추가\n",
    "conn.commit()\n",
    "cursor.execute('select * from suppliers')\n",
    "rows = cursor.fetchall()\n",
    "for row in rows:\n",
    "    output = []\n",
    "    for idx in range(len(row)):\n",
    "        output.append(str(row[idx]))\n",
    "    print(output)"
   ]
  },
  {
   "cell_type": "code",
   "execution_count": 11,
   "metadata": {},
   "outputs": [
    {
     "name": "stdout",
     "output_type": "stream",
     "text": [
      "(('A', '001-1001', '5467', 750000.0, datetime.date(2014, 1, 20)), ('A', '001-1001', '5467', 750000.0, datetime.date(2014, 1, 20)), ('C', '920-4803', '3321', 615000.0, datetime.date(2017, 2, 3)), ('C', '920-4804', '3321', 615000.0, datetime.date(2017, 2, 10)), ('C', '920-4805', '3321', 615000.0, datetime.date(2017, 2, 17)), ('C', '920-4806', '3321', 615000.0, datetime.date(2017, 2, 24)))\n"
     ]
    }
   ],
   "source": [
    "\n",
    "output_file = \"c:/data/db/mysql_output.csv\"\n",
    "#conn = MySQLdb.connect(host='localhost', port=3306, db='my_suppliers', user='web', passwd='1234', charse='utf8')\n",
    "#cursor=conn.cursor()\n",
    "filewriter=csv.writer(open(output_file, 'w', newline=''), delimiter=',')\n",
    "header=['supplier name', 'invice number', 'part number', 'cost', 'purchase date']\n",
    "filewriter.writerow(header)\n",
    "cursor.execute('select * from suppliers where cost>500000')\n",
    "rows=cursor.fetchall()\n",
    "print(rows)\n",
    "for row in rows:\n",
    "    filewriter.writerow(row)\n"
   ]
  },
  {
   "cell_type": "code",
   "execution_count": null,
   "metadata": {},
   "outputs": [],
   "source": []
  }
 ],
 "metadata": {
  "interpreter": {
   "hash": "ff4f85d6e04298634172ac5d8264e7e9b556b95639fe52ebb9425c4d4cba0c9c"
  },
  "kernelspec": {
   "display_name": "Python 3.9.7 ('base')",
   "language": "python",
   "name": "python3"
  },
  "language_info": {
   "codemirror_mode": {
    "name": "ipython",
    "version": 3
   },
   "file_extension": ".py",
   "mimetype": "text/x-python",
   "name": "python",
   "nbconvert_exporter": "python",
   "pygments_lexer": "ipython3",
   "version": "3.9.7"
  },
  "orig_nbformat": 4
 },
 "nbformat": 4,
 "nbformat_minor": 2
}
