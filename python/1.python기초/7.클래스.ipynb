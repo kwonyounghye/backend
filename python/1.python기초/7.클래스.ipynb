{
 "cells": [
  {
   "cell_type": "code",
   "execution_count": 3,
   "metadata": {},
   "outputs": [],
   "source": [
    "import math\n",
    "class MyCircle:\n",
    "    def set_r(self,r): #첫번째 매개변수 자리에 self, 인스턴스의 시작번지값을 가리킴\n",
    "        self.r=r #프로퍼티 변수 r 생성\n",
    "    def length(self):\n",
    "        self.a=2*math.pi*self.r\n",
    "    def area(self):\n",
    "        self.b=math.pi*self.r*self.r\n",
    "    def disp(self):\n",
    "        print(f'반지름:{self.r}, 둘레:{self.a:.2f}, 넓이:{self.b:.2f}')\n"
   ]
  },
  {
   "cell_type": "code",
   "execution_count": 4,
   "metadata": {},
   "outputs": [
    {
     "name": "stdout",
     "output_type": "stream",
     "text": [
      "반지름:50, 둘레:314.16, 넓이:7853.98\n"
     ]
    }
   ],
   "source": [
    "a=MyCircle() #클래스이름() 인스턴스 생성\n",
    "a.set_r(50)\n",
    "a.length()\n",
    "a.area()\n",
    "a.disp()"
   ]
  },
  {
   "cell_type": "code",
   "execution_count": 5,
   "metadata": {},
   "outputs": [],
   "source": [
    "class Person:\n",
    "    #프로퍼티 변수\n",
    "    name=''\n",
    "    age=0\n",
    "    height=0\n"
   ]
  },
  {
   "cell_type": "code",
   "execution_count": 6,
   "metadata": {},
   "outputs": [
    {
     "name": "stdout",
     "output_type": "stream",
     "text": [
      "이름:김철수, 나이:20, 키:187.7\n"
     ]
    }
   ],
   "source": [
    "p1=Person() #인스턴스 생성\n",
    "p1.name='김철수' #참조변수.프로퍼티\n",
    "p1.age=20\n",
    "p1.height=187.7\n",
    "print(f'이름:{p1.name}, 나이:{p1.age}, 키:{p1.height}')"
   ]
  },
  {
   "cell_type": "code",
   "execution_count": 7,
   "metadata": {},
   "outputs": [],
   "source": [
    "class Person:\n",
    "    #프로퍼티 변수\n",
    "    name=''\n",
    "    age=0\n",
    "    height=0\n",
    "    #함수 추가\n",
    "    def disp(self): #첫번째 매개변수 자리에 self\n",
    "        print(f'이름:{self.name}, 나이:{self.age}, 키:{self.height}')\n"
   ]
  },
  {
   "cell_type": "code",
   "execution_count": 8,
   "metadata": {},
   "outputs": [
    {
     "name": "stdout",
     "output_type": "stream",
     "text": [
      "이름:김철수, 나이:20, 키:187.7\n"
     ]
    }
   ],
   "source": [
    "p2=Person() #인스턴스 생성\n",
    "p2.name='김철수' #참조변수.프로퍼티\n",
    "p2.age=20\n",
    "p2.height=187.7\n",
    "p2.disp()"
   ]
  },
  {
   "cell_type": "code",
   "execution_count": 1,
   "metadata": {},
   "outputs": [],
   "source": [
    "class Person:\n",
    "    #프로퍼티 변수\n",
    "    name=''\n",
    "    age=0\n",
    "    height=0\n",
    "    #함수 추가\n",
    "    def set_age(self, age):\n",
    "        if age>100 or age<0:\n",
    "            self.age=int(input('나이를 정확히 입력하세요:'))\n",
    "        else:\n",
    "            self.age=age\n",
    "    def disp(self): #첫번째 매개변수 자리에 self\n",
    "        print(f'이름:{self.name}, 나이:{self.age}, 키:{self.height}')\n"
   ]
  },
  {
   "cell_type": "code",
   "execution_count": 5,
   "metadata": {},
   "outputs": [
    {
     "name": "stdout",
     "output_type": "stream",
     "text": [
      "이름:김철수, 나이:20, 키:187.7\n"
     ]
    }
   ],
   "source": [
    "p2=Person() #인스턴스 생성\n",
    "p2.name='김철수' #참조변수.프로퍼티\n",
    "p2.set_age(20)\n",
    "p2.height=187.7\n",
    "p2.disp()"
   ]
  },
  {
   "cell_type": "code",
   "execution_count": 6,
   "metadata": {},
   "outputs": [],
   "source": [
    "class Emp:\n",
    "    name=''\n",
    "    salary=0\n",
    "    bonus=0\n",
    "    money=0\n",
    "\n",
    "    def __init__(self,name,salary,bonus): #초기화함수\n",
    "        self.name=name\n",
    "        self.salary=salary\n",
    "        self.bonus=bonus\n",
    "    def calc(self):\n",
    "        self.money=self.salary*12+self.bonus\n",
    "    def disp(self):\n",
    "        print(f'이름:{self.name}, 월급:{self.salary}, 보너스:{self.bonus}, 연봉: {self.money}')"
   ]
  },
  {
   "cell_type": "code",
   "execution_count": 7,
   "metadata": {},
   "outputs": [
    {
     "name": "stdout",
     "output_type": "stream",
     "text": [
      "이름:김철수, 월급:500, 보너스:700, 연봉: 6700\n"
     ]
    }
   ],
   "source": [
    "e2=Emp('김철수', 500,700)\n",
    "e2.calc()\n",
    "e2.disp()"
   ]
  },
  {
   "cell_type": "code",
   "execution_count": 12,
   "metadata": {},
   "outputs": [],
   "source": [
    "class Point:\n",
    "    name=''\n",
    "    kor=0\n",
    "    eng=0\n",
    "    mat=0\n",
    "    tot=0\n",
    "    avg=0\n",
    "    grade=''\n",
    "    def __init__(self,name,kor,eng,mat):\n",
    "        self.name=name\n",
    "        self.kor=kor\n",
    "        self.eng=eng\n",
    "        self.mat=mat\n",
    "    def calc(self):\n",
    "        self.tot=self.kor+self.eng+self.mat\n",
    "        self.avg=self.tot/3\n",
    "        if 90<= self.avg <= 100:\n",
    "            self.grade='A'\n",
    "        elif 80<=self.avg < 90:\n",
    "            self.grade='B'\n",
    "        elif 70<=self.avg<80:\n",
    "            self.grade='C'\n",
    "        elif 60<=self.avg<70:\n",
    "            self.grade=\"D\"\n",
    "        else:\n",
    "            self.grade='F'\n",
    "    def disp(self):\n",
    "        print('이름\\t국어\\t영어\\t수학\\t총점\\t평균\\t등급')\n",
    "        print(f'{self.name}\\t{self.kor}\\t{self.eng}\\t{self.mat}\\t{self.tot}\\t{self.avg:.1f}\\t{self.grade}')"
   ]
  },
  {
   "cell_type": "code",
   "execution_count": 13,
   "metadata": {},
   "outputs": [
    {
     "name": "stdout",
     "output_type": "stream",
     "text": [
      "이름\t국어\t영어\t수학\t총점\t평균\t등급\n",
      "김철수\t88\t99\t100\t287\t95.7\tA\n"
     ]
    }
   ],
   "source": [
    "p4=Point('김철수',88,99,100) #인스턴스 생성\n",
    "p4.calc()\n",
    "p4.disp()"
   ]
  },
  {
   "cell_type": "code",
   "execution_count": null,
   "metadata": {},
   "outputs": [],
   "source": []
  }
 ],
 "metadata": {
  "interpreter": {
   "hash": "cef9e06bb236b2a8629b07e87a04b187b952a0f661eff5533360a155783f0c33"
  },
  "kernelspec": {
   "display_name": "Python 3.9.7 ('base')",
   "language": "python",
   "name": "python3"
  },
  "language_info": {
   "codemirror_mode": {
    "name": "ipython",
    "version": 3
   },
   "file_extension": ".py",
   "mimetype": "text/x-python",
   "name": "python",
   "nbconvert_exporter": "python",
   "pygments_lexer": "ipython3",
   "version": "3.9.7"
  },
  "orig_nbformat": 4
 },
 "nbformat": 4,
 "nbformat_minor": 2
}
