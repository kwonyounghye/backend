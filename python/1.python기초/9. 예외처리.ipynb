{
 "cells": [
  {
   "cell_type": "code",
   "execution_count": 7,
   "metadata": {},
   "outputs": [
    {
     "name": "stdout",
     "output_type": "stream",
     "text": [
      "0으로 나눌 수 없습니다.\n"
     ]
    }
   ],
   "source": [
    "try:\n",
    "    4/0 #검사할 코드\n",
    "except: #예외가 발생할 경우\n",
    "    print('0으로 나눌 수 없습니다.')"
   ]
  },
  {
   "cell_type": "code",
   "execution_count": 8,
   "metadata": {},
   "outputs": [
    {
     "name": "stdout",
     "output_type": "stream",
     "text": [
      "division by zero\n"
     ]
    }
   ],
   "source": [
    "try:\n",
    "    4/0\n",
    "except ZeroDivisionError as e: #세부적인 처리\n",
    "    print(e) #에러메시지 출력"
   ]
  },
  {
   "cell_type": "code",
   "execution_count": 9,
   "metadata": {},
   "outputs": [
    {
     "name": "stdout",
     "output_type": "stream",
     "text": [
      "종료하려면 q를 입력하세요.\n",
      "분모에 0이 올 수 없습니다.\n",
      "종료\n"
     ]
    }
   ],
   "source": [
    "print(\"종료하려면 q를 입력하세요.\")\n",
    "while True:\n",
    "    num1=input('\\n분자:')\n",
    "    if num1=='q':\n",
    "        break\n",
    "    num2=input('분모:')\n",
    "    try:\n",
    "        result=int(num1)/int(num2)\n",
    "    except:\n",
    "        print('분모에 0이 올 수 없습니다.')\n",
    "    else:\n",
    "        print(result)\n",
    "print('종료')"
   ]
  },
  {
   "cell_type": "code",
   "execution_count": 6,
   "metadata": {},
   "outputs": [
    {
     "name": "stdout",
     "output_type": "stream",
     "text": [
      "111\n",
      "222\n",
      "333\n",
      "444\n",
      "555"
     ]
    }
   ],
   "source": [
    "try:\n",
    "    f=open('c:/python/temp/test.txt') #파일 오픈\n",
    "except FileNotFoundError as e: #파일이 존재하지 않을 경우\n",
    "    print(e)\n",
    "else: #파일이 존재하면\n",
    "    while True:\n",
    "        line=f.readline() #한 라인을 읽음\n",
    "        if not line: #내용이 없으면 반복문 종료\n",
    "            break #내용이 없으면 반복문 종료\n",
    "        print(line, end='') #출력 후 줄바꿈하지 않음\n",
    "    f.close() #파일 닫기"
   ]
  },
  {
   "cell_type": "code",
   "execution_count": 10,
   "metadata": {},
   "outputs": [
    {
     "name": "stdout",
     "output_type": "stream",
     "text": [
      "파일이름:c:/data/text/alice.txt, 단어수: 29461\n"
     ]
    }
   ],
   "source": [
    "#예외 처리가 되지 않았으므로 파일 경로가 잘못될 경우 예외가 발생합니다.\n",
    "filename = 'c:/data/text/alice.txt'\n",
    "try:\n",
    "    with open(filename) as file: #파일 오픈( with - close하지 않아도됨)\n",
    "        contents = file.read() #전체 내용을 변수 1개에 저장\n",
    "except FileNotFoundError as e:\n",
    "    print(e)\n",
    "    msg='파일을 찾을 수 없습니다.'\n",
    "    print(msg)\n",
    "else:\n",
    "    words = contents.split() #공백 단위로 나눔\n",
    "    num = len(words) #단어수\n",
    "    print(f'파일이름:{filename}, 단어수: {num}')"
   ]
  },
  {
   "cell_type": "code",
   "execution_count": 11,
   "metadata": {},
   "outputs": [],
   "source": [
    "f=open('c:/python/temp/test.txt') #utf-8\n",
    "f=open('c:/python/temp/test.txt', encoding='ms949')\n"
   ]
  },
  {
   "cell_type": "code",
   "execution_count": 2,
   "metadata": {},
   "outputs": [
    {
     "name": "stdout",
     "output_type": "stream",
     "text": [
      "파일명: alice.txt, 단어수: 29461\n",
      "파일명: moby_dick.txt, 단어수: 215136\n",
      "파일명: little_women.txt, 단어수: 189079\n"
     ]
    }
   ],
   "source": [
    "#여러 파일 다루기\n",
    "def count_words(filename):\n",
    "    try:\n",
    "        with open('c:/data/text/'+filename) as f:\n",
    "            contents=f.read()\n",
    "    except:\n",
    "        print('파일이 존재하지 않습니다.')\n",
    "        pass #블록에 아무 내용이 없을 때 \n",
    "    else:\n",
    "        words=contents.split() #공백 단위로 나눔\n",
    "        num_words=len(words) #단어 수\n",
    "        print(f'파일명: {filename}, 단어수: {num_words}')\n",
    "filenames = ['alice.txt', 'moby_dick.txt', 'little_women.txt']\n",
    "for filename in filenames:\n",
    "    count_words(filename)"
   ]
  },
  {
   "cell_type": "code",
   "execution_count": null,
   "metadata": {},
   "outputs": [],
   "source": []
  }
 ],
 "metadata": {
  "interpreter": {
   "hash": "cef9e06bb236b2a8629b07e87a04b187b952a0f661eff5533360a155783f0c33"
  },
  "kernelspec": {
   "display_name": "Python 3.9.7 ('base')",
   "language": "python",
   "name": "python3"
  },
  "language_info": {
   "codemirror_mode": {
    "name": "ipython",
    "version": 3
   },
   "file_extension": ".py",
   "mimetype": "text/x-python",
   "name": "python",
   "nbconvert_exporter": "python",
   "pygments_lexer": "ipython3",
   "version": "3.9.7"
  },
  "orig_nbformat": 4
 },
 "nbformat": 4,
 "nbformat_minor": 2
}
