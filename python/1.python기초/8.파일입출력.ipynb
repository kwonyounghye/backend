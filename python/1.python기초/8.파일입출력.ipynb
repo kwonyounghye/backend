{
 "cells": [
  {
   "cell_type": "code",
   "execution_count": 5,
   "metadata": {},
   "outputs": [],
   "source": [
    "f=open('c:/python/source/file3.txt','w')\n",
    "for i in range(1,11):\n",
    "    data=f'{i}번째 줄입니다.\\n'\n",
    "    f.write(data)\n",
    "\n",
    "f.close()"
   ]
  },
  {
   "cell_type": "code",
   "execution_count": 7,
   "metadata": {},
   "outputs": [
    {
     "name": "stdout",
     "output_type": "stream",
     "text": [
      "1번째 줄입니다.\n",
      "2번째 줄입니다.\n",
      "3번째 줄입니다.\n",
      "4번째 줄입니다.\n",
      "5번째 줄입니다.\n",
      "6번째 줄입니다.\n",
      "7번째 줄입니다.\n",
      "8번째 줄입니다.\n",
      "9번째 줄입니다.\n",
      "10번째 줄입니다.\n"
     ]
    }
   ],
   "source": [
    "f=open('c:/python/source/file3.txt', 'r')\n",
    "while True:\n",
    "    line=f.readline() #한 라인을 읽음\n",
    "    if not line: break\n",
    "    print(line,end='')\n",
    "f.close()"
   ]
  },
  {
   "cell_type": "code",
   "execution_count": 22,
   "metadata": {},
   "outputs": [
    {
     "name": "stdout",
     "output_type": "stream",
     "text": [
      "[0, 1, 2, 3, 4, 5, 6, 7, 8, 9]\n",
      "저장되었습니다.\n"
     ]
    }
   ],
   "source": [
    "nums=list(range(10)) #0~9를 리스트로 생성\n",
    "print(nums)\n",
    "cnt=len(nums) #len() 데이터 개수\n",
    "output_file='c:/python/source/result.csv'\n",
    "f=open(output_file,'w') #append 끝에 추가\n",
    "for idx in range(cnt):\n",
    "    if idx<(cnt-1): #마지막 필드가 아니면 컴머 추가\n",
    "        f.write(str(nums[idx])+',')  #숫자+문자열 에러 방지를 위해 str() 사용\n",
    "    else: #마지막 필드이면 \\n 추가\n",
    "        f.write(str(nums[idx])+'\\n')\n",
    "f.close()\n",
    "print('저장되었습니다.')"
   ]
  },
  {
   "cell_type": "code",
   "execution_count": 23,
   "metadata": {},
   "outputs": [
    {
     "name": "stdout",
     "output_type": "stream",
     "text": [
      "0,1,2,3,4,5,6,7,8,9\n"
     ]
    }
   ],
   "source": [
    "f=open('c:/python/source/result.csv') #r 읽기모드로 파일 오픈\n",
    "while True:\n",
    "    line=f.readline() #한 라인을 읽음\n",
    "    if not line: break #빈값이면 반복문 종료\n",
    "    print(line, end='') #end='' 줄바꿈 문자를 사용하지 않음\n",
    "f.close()"
   ]
  },
  {
   "cell_type": "code",
   "execution_count": 28,
   "metadata": {},
   "outputs": [
    {
     "name": "stdout",
     "output_type": "stream",
     "text": [
      "['1번째 줄입니다.\\n', '2번째 줄입니다.\\n', '3번째 줄입니다.\\n', '4번째 줄입니다.\\n', '5번째 줄입니다.\\n', '6번째 줄입니다.\\n', '7번째 줄입니다.\\n', '8번째 줄입니다.\\n', '9번째 줄입니다.\\n', '10번째 줄입니다.\\n']\n",
      "1번째 줄입니다.\n",
      "2번째 줄입니다.\n",
      "3번째 줄입니다.\n",
      "4번째 줄입니다.\n",
      "5번째 줄입니다.\n",
      "6번째 줄입니다.\n",
      "7번째 줄입니다.\n",
      "8번째 줄입니다.\n",
      "9번째 줄입니다.\n",
      "10번째 줄입니다.\n"
     ]
    }
   ],
   "source": [
    "f=open('c:/python/source/file3.txt')\n",
    "lines=f.readlines() #모든 라인들을 리스트로 저장\n",
    "print(lines)\n",
    "for line in lines:\n",
    "                #줄바꿈 문자 안나오게 함\n",
    "    print(line, end='')\n",
    "f.close()"
   ]
  },
  {
   "cell_type": "code",
   "execution_count": 27,
   "metadata": {},
   "outputs": [
    {
     "name": "stdout",
     "output_type": "stream",
     "text": [
      "1번째 줄입니다.\n",
      "2번째 줄입니다.\n",
      "3번째 줄입니다.\n",
      "4번째 줄입니다.\n",
      "5번째 줄입니다.\n",
      "6번째 줄입니다.\n",
      "7번째 줄입니다.\n",
      "8번째 줄입니다.\n",
      "9번째 줄입니다.\n",
      "10번째 줄입니다.\n",
      "\n"
     ]
    }
   ],
   "source": [
    "f=open('c:/python/source/file3.txt')\n",
    "data=f.read() #파일 전체 내용을 변수 1개로 저장\n",
    "print(data)\n",
    "f.close()"
   ]
  },
  {
   "cell_type": "code",
   "execution_count": 29,
   "metadata": {},
   "outputs": [
    {
     "name": "stdout",
     "output_type": "stream",
     "text": [
      "1번째 줄입니다.\n",
      "2번째 줄입니다.\n",
      "3번째 줄입니다.\n",
      "4번째 줄입니다.\n",
      "5번째 줄입니다.\n",
      "6번째 줄입니다.\n",
      "7번째 줄입니다.\n",
      "8번째 줄입니다.\n",
      "9번째 줄입니다.\n",
      "10번째 줄입니다.\n"
     ]
    }
   ],
   "source": [
    "#파일 내용 읽기(간단한 방법)\n",
    "f=open('c:/python/source/file3.txt')\n",
    "#f 파일 참조 변수(파일포인터)\n",
    "for line in f: #파일 참조변수가 가리키는 주소 기준으로 한줄을 읽음\n",
    "    print(line, end='')\n",
    "f.close() #파일 닫기"
   ]
  },
  {
   "cell_type": "code",
   "execution_count": 31,
   "metadata": {},
   "outputs": [],
   "source": [
    "#with블록이 끝나면 파일이 자동으로 닫힘\n",
    "with open('c:/python/source/file4.txt', 'w') as f:\n",
    "    f.write('hello python')"
   ]
  },
  {
   "cell_type": "code",
   "execution_count": 32,
   "metadata": {},
   "outputs": [
    {
     "name": "stdout",
     "output_type": "stream",
     "text": [
      "1번째 줄입니다.\n",
      "2번째 줄입니다.\n",
      "3번째 줄입니다.\n",
      "4번째 줄입니다.\n",
      "5번째 줄입니다.\n",
      "6번째 줄입니다.\n",
      "7번째 줄입니다.\n",
      "8번째 줄입니다.\n",
      "9번째 줄입니다.\n",
      "10번째 줄입니다.\n"
     ]
    }
   ],
   "source": [
    "#파일 내용 읽기(간단한 방법)\n",
    "with open('c:/python/source/file3.txt') as f:\n",
    "#f 파일 참조 변수(파일포인터)\n",
    "    for line in f: #파일 참조변수가 가리키는 주소 기준으로 한줄을 읽음\n",
    "        print(line, end='')"
   ]
  },
  {
   "cell_type": "code",
   "execution_count": null,
   "metadata": {},
   "outputs": [],
   "source": [
    "filename = 'c:/data/text/pi_million_digits.txt'\n",
    "with open(filename) as f1:\n",
    "    lines=f1.readlines()\n",
    "\n",
    "for line in lines:\n",
    "    print(line, end='')"
   ]
  },
  {
   "cell_type": "code",
   "execution_count": 34,
   "metadata": {},
   "outputs": [
    {
     "name": "stdout",
     "output_type": "stream",
     "text": [
      "총페이지뷰: 305\n"
     ]
    }
   ],
   "source": [
    "pageviews=0\n",
    "\n",
    "with open('c:/data/text/access_log') as f: #읽기 모드로 오픈\n",
    "    logs=f.readlines() #전체 라인을 리스트로 저장\n",
    "    for log in logs: #한 라인씩 읽음\n",
    "        log=log.split() #스페이스 단위로 끊어서 리스트 생성\n",
    "        status=log[8] #배열의 인덱스 8번\n",
    "        if status=='200': #상태코드가 200이면\n",
    "            pageviews+=1 #카운트 증가 처리\n",
    "print(f'총페이지뷰: {pageviews}')"
   ]
  },
  {
   "cell_type": "code",
   "execution_count": null,
   "metadata": {},
   "outputs": [],
   "source": []
  }
 ],
 "metadata": {
  "interpreter": {
   "hash": "cef9e06bb236b2a8629b07e87a04b187b952a0f661eff5533360a155783f0c33"
  },
  "kernelspec": {
   "display_name": "Python 3.9.7 ('base')",
   "language": "python",
   "name": "python3"
  },
  "language_info": {
   "codemirror_mode": {
    "name": "ipython",
    "version": 3
   },
   "file_extension": ".py",
   "mimetype": "text/x-python",
   "name": "python",
   "nbconvert_exporter": "python",
   "pygments_lexer": "ipython3",
   "version": "3.9.7"
  },
  "orig_nbformat": 4
 },
 "nbformat": 4,
 "nbformat_minor": 2
}
