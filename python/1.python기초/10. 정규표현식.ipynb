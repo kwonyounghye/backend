{
 "cells": [
  {
   "cell_type": "code",
   "execution_count": 18,
   "metadata": {},
   "outputs": [
    {
     "name": "stdout",
     "output_type": "stream",
     "text": [
      "합계: 3\n"
     ]
    }
   ],
   "source": [
    "try:\n",
    "    n=int(input('숫자를 입력하세요:'))\n",
    "    result=0\n",
    "    for i in range(1, n+1):\n",
    "        result+=i\n",
    "    print('합계:', result)\n",
    "except:\n",
    "    print('입력값에 오류가 있습니다.')\n",
    "    \n"
   ]
  },
  {
   "cell_type": "code",
   "execution_count": 19,
   "metadata": {},
   "outputs": [
    {
     "name": "stdout",
     "output_type": "stream",
     "text": [
      "[]\n",
      "['kim']\n",
      "['m', 'm']\n"
     ]
    }
   ],
   "source": [
    "#정규표현식 모듈 불러오기\n",
    "import re\n",
    "s='My id number is kim0902'\n",
    "a=re.findall('a',s) #findall(패턴, 문자열) 모든 패턴 검색\n",
    "print(a)\n",
    "b=re.findall('kim', s)\n",
    "print(b)\n",
    "c=re.findall('m', s)\n",
    "print(c)"
   ]
  },
  {
   "cell_type": "code",
   "execution_count": 20,
   "metadata": {},
   "outputs": [
    {
     "name": "stdout",
     "output_type": "stream",
     "text": [
      "['y', 'i', 'd', 'n', 'u', 'm', 'b', 'e', 'r', 'i', 's', 'k', 'i', 'm']\n",
      "['y', 'id', 'number', 'is', 'kim']\n",
      "['M']\n",
      "['0', '9', '0', '2']\n",
      "['0902']\n"
     ]
    }
   ],
   "source": [
    "s='My id number is kim0902'\n",
    "a=re.findall('[a-z]', s) #소문자 - 문자단위\n",
    "print(a)\n",
    "b=re.findall('[a-z]+', s) # + 단어 단위\n",
    "print(b)\n",
    "c=re.findall('[A-Z]', s)\n",
    "print(c)\n",
    "d=re.findall('[0-9]', s)\n",
    "print(d)\n",
    "e=re.findall('[0-9]+', s)\n",
    "print(e)"
   ]
  },
  {
   "cell_type": "code",
   "execution_count": 21,
   "metadata": {},
   "outputs": [
    {
     "name": "stdout",
     "output_type": "stream",
     "text": [
      "['M', 'y', 'i', 'd', 'n', 'u', 'm', 'b', 'e', 'r', 'i', 's', 'k', 'i', 'm', '0', '9', '0', '2']\n",
      "['My', 'id', 'number', 'is', 'kim', '0902']\n",
      "['안', '녕', '하', '세', '요', ' ', ' ', ' ', ' ', ' ', '_', '$', '%', '😊', '😊']\n",
      "['안', '녕', '하', '세', '요', 'M', 'y', 'i', 'd', 'n', 'u', 'm', 'b', 'e', 'r', 'i', 's', 'k', 'i', 'm', '_', '0', '9', '0', '2']\n",
      "['안녕하세요', 'My', 'id', 'number', 'is', 'kim_0902']\n",
      "['안녕하세요', 'My', 'id', 'number', 'is', 'kim_0902']\n"
     ]
    }
   ],
   "source": [
    "s='안녕하세요 My id number is kim_0902$%😊😊'\n",
    "a=re.findall('[a-zA-Z0-9]', s) #소문자, 대문자, 숫자\n",
    "print(a)\n",
    "b=re.findall('[a-zA-Z0-9]+', s)\n",
    "print(b)\n",
    "c=re.findall('[^a-zA-Z0-9]', s) #[^] not\n",
    "print(c)\n",
    "d=re.findall('[\\w]', s) #한글, 영문자, 숫자, _\n",
    "print(d)\n",
    "e=re.findall('[\\w]+', s)\n",
    "print(e)\n",
    "f=re.findall('[\\w]+', s) #영문자, 숫자, _가 아닌 값들\n",
    "print(f)"
   ]
  },
  {
   "cell_type": "code",
   "execution_count": 22,
   "metadata": {},
   "outputs": [],
   "source": [
    "def pwd_check(pwd):\n",
    "    if len(pwd)<6 or len(pwd)>12:\n",
    "        print(pwd, '의 길이가 적당하지 않습니다.')\n",
    "        return\n",
    "    if re.findall('[a-zA-Z0-9]+', pwd)[0] != pwd:\n",
    "        print(pwd, '=>숫자와 영문자로만 구성되어야 합니다.')\n",
    "        return\n",
    "    if len(re.findall('a-z', pwd)) == 0 or len(re.findall('[A-Z]', pwd))==0:\n",
    "        print(pwd, ':대문자와 소문자가 모두 필요합니다.')\n",
    "        return\n",
    "    print(pwd, ':올바른 비밀번호입니다.')"
   ]
  },
  {
   "cell_type": "code",
   "execution_count": 23,
   "metadata": {},
   "outputs": [
    {
     "name": "stdout",
     "output_type": "stream",
     "text": [
      "12abc 의 길이가 적당하지 않습니다.\n",
      "123abc :대문자와 소문자가 모두 필요합니다.\n",
      "123abc% =>숫자와 영문자로만 구성되어야 합니다.\n",
      "123Abc :대문자와 소문자가 모두 필요합니다.\n"
     ]
    }
   ],
   "source": [
    "pwd_check('12abc')\n",
    "pwd_check('123abc')\n",
    "pwd_check('123abc%')\n",
    "pwd_check('123Abc')\n"
   ]
  },
  {
   "cell_type": "code",
   "execution_count": 24,
   "metadata": {},
   "outputs": [
    {
     "data": {
      "text/plain": [
       "True"
      ]
     },
     "execution_count": 24,
     "metadata": {},
     "output_type": "execute_result"
    }
   ],
   "source": [
    "len(re.findall('[A-Z]', '123abc'))==0"
   ]
  },
  {
   "cell_type": "code",
   "execution_count": 26,
   "metadata": {},
   "outputs": [],
   "source": [
    "import re\n",
    "def email_check(email):\n",
    "    exp=re.findall('^[a-z0-9] {2, }@[a-z0-9]{2,}.[a-z]{2,}$', email)\n",
    "    if len(exp)==0:\n",
    "        print(email,': 이메일 규칙에 맞지 않습니다.')\n",
    "        return False\n",
    "    print(email, ':올바른 이메일 주소 입니다.')\n",
    "    return True"
   ]
  },
  {
   "cell_type": "code",
   "execution_count": 27,
   "metadata": {},
   "outputs": [
    {
     "name": "stdout",
     "output_type": "stream",
     "text": [
      "kim@naver : 이메일 규칙에 맞지 않습니다.\n",
      "kim_naver.com : 이메일 규칙에 맞지 않습니다.\n",
      "kim : 이메일 규칙에 맞지 않습니다.\n",
      "kim@naver.com : 이메일 규칙에 맞지 않습니다.\n"
     ]
    },
    {
     "data": {
      "text/plain": [
       "False"
      ]
     },
     "execution_count": 27,
     "metadata": {},
     "output_type": "execute_result"
    }
   ],
   "source": [
    "email_check('kim@naver')\n",
    "email_check('kim_naver.com')\n",
    "email_check('kim')\n",
    "email_check('kim@naver.com')"
   ]
  },
  {
   "cell_type": "code",
   "execution_count": 28,
   "metadata": {},
   "outputs": [
    {
     "name": "stdout",
     "output_type": "stream",
     "text": [
      "kim@naver.com : 이메일 규칙에 맞지 않습니다.\n",
      "이메일 주소 \n"
     ]
    }
   ],
   "source": []
  },
  {
   "cell_type": "code",
   "execution_count": 29,
   "metadata": {},
   "outputs": [
    {
     "name": "stdout",
     "output_type": "stream",
     "text": [
      "kim : 이메일 규칙에 맞지 않습니다.\n",
      "이메일 규칙에 맞지 않습니다.\n"
     ]
    }
   ],
   "source": [
    "a=input('이메일 주소를 입력하세요:')\n",
    "if email_check(a):\n",
    "    print('올바른 이메일 주소입니다.')\n",
    "else:\n",
    "    print('이메일 규칙에 맞지 않습니다.')"
   ]
  },
  {
   "cell_type": "code",
   "execution_count": null,
   "metadata": {},
   "outputs": [],
   "source": []
  }
 ],
 "metadata": {
  "interpreter": {
   "hash": "cef9e06bb236b2a8629b07e87a04b187b952a0f661eff5533360a155783f0c33"
  },
  "kernelspec": {
   "display_name": "Python 3.9.7 ('base')",
   "language": "python",
   "name": "python3"
  },
  "language_info": {
   "codemirror_mode": {
    "name": "ipython",
    "version": 3
   },
   "file_extension": ".py",
   "mimetype": "text/x-python",
   "name": "python",
   "nbconvert_exporter": "python",
   "pygments_lexer": "ipython3",
   "version": "3.9.7"
  },
  "orig_nbformat": 4
 },
 "nbformat": 4,
 "nbformat_minor": 2
}
