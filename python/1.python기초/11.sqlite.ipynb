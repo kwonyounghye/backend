{
 "cells": [
  {
   "cell_type": "code",
   "execution_count": 1,
   "metadata": {},
   "outputs": [
    {
     "name": "stdout",
     "output_type": "stream",
     "text": [
      "2.6.0\n",
      "3.36.0\n"
     ]
    }
   ],
   "source": [
    "import sqlite3\n",
    "print(sqlite3.version)\n",
    "print(sqlite3.sqlite_version)"
   ]
  },
  {
   "cell_type": "code",
   "execution_count": 2,
   "metadata": {},
   "outputs": [],
   "source": [
    "def create():\n",
    "    conn = sqlite3.connect('books.db') #파일이 없으면 생성, 있으면 불러옴\n",
    "    cursor=conn.cursor() #커서: sql 명령어를 실행시키는 객체\n",
    "    cursor.execute('''\n",
    "    create table if not exists books (\n",
    "        title text,\n",
    "        publish_date text,\n",
    "        publisher text,\n",
    "        pages integer,\n",
    "        recommend integer\n",
    "        )\n",
    "    ''') #sql 명령어 실행, 테이블이 없으면 만들어짐\n",
    "    conn.close() #커넥션 닫기\n",
    "    "
   ]
  },
  {
   "cell_type": "code",
   "execution_count": 3,
   "metadata": {},
   "outputs": [],
   "source": [
    "create()"
   ]
  },
  {
   "cell_type": "code",
   "execution_count": 4,
   "metadata": {},
   "outputs": [],
   "source": [
    "def insert():\n",
    "    conn = sqlite3.connect('books.db')\n",
    "    cursor=conn.cursor()\n",
    "    cursor.execute(\"insert into books values ('java', '2022-01-01', '길벗', 500, 10)\")\n",
    "    sql='insert into books values (?,?,?,?,?)' #파라미터를 사용하는 방법\n",
    "    cursor.execute(sql, ('python', '2022-03-04','한빛', 584, 20))\n",
    "    items=[\n",
    "        ('빅데이터', '2022-0702', '삼성', 296,11),\n",
    "    ('안드로이드', '2022-08-02', '영진', 526, 20), \n",
    "    ('스프링', '2022-09-02', '에이콘', 248,15)\n",
    "    ]\n",
    "    cursor.executemany(sql, items) #리스트로 전달하는 방법\n",
    "    conn.commit() #DDL의 변경사항 확정\n",
    "    conn.close()"
   ]
  },
  {
   "cell_type": "code",
   "execution_count": 5,
   "metadata": {},
   "outputs": [],
   "source": [
    "insert()"
   ]
  },
  {
   "cell_type": "code",
   "execution_count": 7,
   "metadata": {},
   "outputs": [],
   "source": [
    "def list():\n",
    "    conn=sqlite3.connect('books.db')\n",
    "    cursor=conn.cursor()\n",
    "    cursor.execute('select*from books')\n",
    "    books=cursor.fetchall() #커서가 \n",
    "    for book in books:\n",
    "        print(book)\n",
    "    conn.close()"
   ]
  },
  {
   "cell_type": "code",
   "execution_count": 8,
   "metadata": {},
   "outputs": [],
   "source": [
    "def update():\n",
    "    conn=sqlite3.connect('books.db')\n",
    "    cursor=conn.cursor()\n",
    "    sql='update books set recommend=? where title=?'\n",
    "    cursor.execute(sql, (100, 'java'))\n",
    "    conn.commit()\n",
    "    conn.close()"
   ]
  },
  {
   "cell_type": "code",
   "execution_count": 9,
   "metadata": {},
   "outputs": [
    {
     "name": "stdout",
     "output_type": "stream",
     "text": [
      "('java', '2022-01-01', '길벗', 500, 100)\n",
      "('python', '2022-03-04', '한빛', 584, 20)\n",
      "('빅데이터', '2022-0702', '삼성', 296, 11)\n",
      "('안드로이드', '2022-08-02', '영진', 526, 20)\n",
      "('스프링', '2022-09-02', '에이콘', 248, 15)\n"
     ]
    }
   ],
   "source": [
    "update()\n",
    "list()"
   ]
  },
  {
   "cell_type": "code",
   "execution_count": 10,
   "metadata": {},
   "outputs": [],
   "source": [
    "def delete():\n",
    "    conn=sqlite3.connect('books.db')\n",
    "    cursor=conn.cursor()\n",
    "    #sql=\"delete from books where publisher='삼성'\"\n",
    "    sql='delete from books'\n",
    "    cursor.execute(sql)\n",
    "    conn.commit()\n",
    "    conn.close()"
   ]
  },
  {
   "cell_type": "code",
   "execution_count": 11,
   "metadata": {},
   "outputs": [
    {
     "name": "stdout",
     "output_type": "stream",
     "text": [
      "('java', '2022-01-01', '길벗', 500, 100)\n",
      "('python', '2022-03-04', '한빛', 584, 20)\n",
      "('빅데이터', '2022-0702', '삼성', 296, 11)\n",
      "('안드로이드', '2022-08-02', '영진', 526, 20)\n",
      "('스프링', '2022-09-02', '에이콘', 248, 15)\n",
      "==================================================\n"
     ]
    }
   ],
   "source": [
    "list()\n",
    "delete()\n",
    "print('='*50)\n",
    "list()"
   ]
  },
  {
   "cell_type": "code",
   "execution_count": null,
   "metadata": {},
   "outputs": [],
   "source": []
  }
 ],
 "metadata": {
  "interpreter": {
   "hash": "cef9e06bb236b2a8629b07e87a04b187b952a0f661eff5533360a155783f0c33"
  },
  "kernelspec": {
   "display_name": "Python 3.9.7 ('base')",
   "language": "python",
   "name": "python3"
  },
  "language_info": {
   "codemirror_mode": {
    "name": "ipython",
    "version": 3
   },
   "file_extension": ".py",
   "mimetype": "text/x-python",
   "name": "python",
   "nbconvert_exporter": "python",
   "pygments_lexer": "ipython3",
   "version": "3.9.7"
  },
  "orig_nbformat": 4
 },
 "nbformat": 4,
 "nbformat_minor": 2
}
