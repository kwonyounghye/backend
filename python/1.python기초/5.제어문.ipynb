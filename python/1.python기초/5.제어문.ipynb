{
 "cells": [
  {
   "cell_type": "code",
   "execution_count": 17,
   "metadata": {},
   "outputs": [
    {
     "name": "stdout",
     "output_type": "stream",
     "text": [
      "기다리세요\n"
     ]
    }
   ],
   "source": [
    "color=input('색상을 입력하세요: ')\n",
    "if color=='blue':\n",
    "    print('건너가세요')\n",
    "elif color=='yellow':\n",
    "    print('서두르세요')\n",
    "else:\n",
    "    print('기다리세요')"
   ]
  },
  {
   "cell_type": "code",
   "execution_count": 20,
   "metadata": {},
   "outputs": [
    {
     "name": "stdout",
     "output_type": "stream",
     "text": [
      "홀수입니다.\n"
     ]
    }
   ],
   "source": [
    "num=int(input('숫자를 입력하세요:'))\n",
    "if num%2==0:\n",
    "    print('짝수입니다.')\n",
    "else:\n",
    "    print('홀수입니다.')"
   ]
  },
  {
   "cell_type": "code",
   "execution_count": 21,
   "metadata": {},
   "outputs": [
    {
     "name": "stdout",
     "output_type": "stream",
     "text": [
      "1\n",
      "2\n",
      "3\n",
      "4\n",
      "5\n"
     ]
    }
   ],
   "source": [
    "numbers=[1,2,3,4,5] #대괄호: 리스트\n",
    "#for 개별값 in 집합\n",
    "for i in numbers:\n",
    "    print(i)"
   ]
  },
  {
   "cell_type": "code",
   "execution_count": 24,
   "metadata": {},
   "outputs": [
    {
     "name": "stdout",
     "output_type": "stream",
     "text": [
      "1\n",
      "2\n",
      "3\n",
      "4\n",
      "5\n",
      "합계: 15\n"
     ]
    }
   ],
   "source": [
    "numbers = [1,2,3,4,5]\n",
    "a = 0\n",
    "for i in numbers:\n",
    "    a=a+i\n",
    "    print(i)\n",
    "print('합계:', a)"
   ]
  },
  {
   "cell_type": "code",
   "execution_count": 27,
   "metadata": {},
   "outputs": [
    {
     "name": "stdout",
     "output_type": "stream",
     "text": [
      "55\n"
     ]
    }
   ],
   "source": [
    "#1~10의 합계\n",
    "a=0\n",
    "for i in range(1,11): #1~10\n",
    "    a+=i\n",
    "print(a)"
   ]
  },
  {
   "cell_type": "code",
   "execution_count": 30,
   "metadata": {},
   "outputs": [
    {
     "name": "stdout",
     "output_type": "stream",
     "text": [
      "55\n"
     ]
    }
   ],
   "source": [
    "#1~10의 합계\n",
    "a=0\n",
    "n=int(input('숫자를 입력하세요: '))\n",
    "for i in range(1,n+1): \n",
    "    a+=i\n",
    "print(a)"
   ]
  },
  {
   "cell_type": "code",
   "execution_count": 31,
   "metadata": {},
   "outputs": [
    {
     "name": "stdout",
     "output_type": "stream",
     "text": [
      "1+2=3\n",
      "3+4=7\n",
      "5+6=11\n"
     ]
    }
   ],
   "source": [
    "a=[(1,2), (3,4), (5,6)]\n",
    "for(first, last) in a:\n",
    "    print(f'{first}+{last}={first+last}')"
   ]
  },
  {
   "cell_type": "code",
   "execution_count": 37,
   "metadata": {},
   "outputs": [
    {
     "name": "stdout",
     "output_type": "stream",
     "text": [
      "합계:  307\n",
      "평균:  61.4\n",
      "1번 학생: 90점, 합격입니다.\n",
      "2번 학생: 25점, 불합격입니다.\n",
      "3번 학생: 67점, 합격입니다.\n",
      "4번 학생: 45점, 불합격입니다.\n",
      "5번 학생: 80점, 합격입니다.\n",
      "총점:  307\n",
      "평균:  61.4\n"
     ]
    }
   ],
   "source": [
    "points = [90,25,67,45,80]\n",
    "number=0\n",
    "a=0 #총점\n",
    "\n",
    "print('합계: ',sum(points))\n",
    "print('평균: ', sum(points)/len(points))\n",
    "for point in points:\n",
    "    number=number+1\n",
    "    a+=point\n",
    "    if point>=60:\n",
    "        result='합격'\n",
    "    else:\n",
    "        result='불합격'\n",
    "    print(f'{number}번 학생: {point}점, {result}입니다.')\n",
    "print('총점: ', a)\n",
    "print('평균: ', a/number)"
   ]
  },
  {
   "cell_type": "code",
   "execution_count": 38,
   "metadata": {},
   "outputs": [
    {
     "name": "stdout",
     "output_type": "stream",
     "text": [
      "{2: 4, 4: 16, 6: 36}\n"
     ]
    }
   ],
   "source": [
    "#딕셔너리 내부에 for 반복문 사용\n",
    "a={x: x**2 for x in (2,4,6)}\n",
    "print(a)"
   ]
  },
  {
   "cell_type": "code",
   "execution_count": 44,
   "metadata": {},
   "outputs": [
    {
     "ename": "TypeError",
     "evalue": "not all arguments converted during string formatting",
     "output_type": "error",
     "traceback": [
      "\u001b[1;31m---------------------------------------------------------------------------\u001b[0m",
      "\u001b[1;31mTypeError\u001b[0m                                 Traceback (most recent call last)",
      "\u001b[1;32m~\\AppData\\Local\\Temp/ipykernel_12348/2896885706.py\u001b[0m in \u001b[0;36m<module>\u001b[1;34m\u001b[0m\n\u001b[0;32m      4\u001b[0m     \u001b[0mcoffee\u001b[0m \u001b[1;33m=\u001b[0m \u001b[0mcoffee\u001b[0m\u001b[1;33m-\u001b[0m\u001b[1;36m1\u001b[0m\u001b[1;33m\u001b[0m\u001b[1;33m\u001b[0m\u001b[0m\n\u001b[0;32m      5\u001b[0m     \u001b[0mmoney\u001b[0m\u001b[1;33m=\u001b[0m\u001b[0mmoney\u001b[0m\u001b[1;33m-\u001b[0m\u001b[1;36m3000\u001b[0m\u001b[1;33m\u001b[0m\u001b[1;33m\u001b[0m\u001b[0m\n\u001b[1;32m----> 6\u001b[1;33m     \u001b[0mprint\u001b[0m\u001b[1;33m(\u001b[0m\u001b[1;34m'남은 커피: %d개, 잔액: {money}원'\u001b[0m \u001b[1;33m%\u001b[0m \u001b[1;33m(\u001b[0m\u001b[0mcoffee\u001b[0m\u001b[1;33m,\u001b[0m \u001b[0mmoney\u001b[0m\u001b[1;33m)\u001b[0m\u001b[1;33m)\u001b[0m\u001b[1;33m\u001b[0m\u001b[1;33m\u001b[0m\u001b[0m\n\u001b[0m\u001b[0;32m      7\u001b[0m     \u001b[1;32mif\u001b[0m \u001b[1;32mnot\u001b[0m \u001b[0mcoffee\u001b[0m\u001b[1;33m:\u001b[0m\u001b[1;33m\u001b[0m\u001b[1;33m\u001b[0m\u001b[0m\n\u001b[0;32m      8\u001b[0m         \u001b[0mprint\u001b[0m\u001b[1;33m(\u001b[0m\u001b[1;34m'품절'\u001b[0m\u001b[1;33m)\u001b[0m\u001b[1;33m\u001b[0m\u001b[1;33m\u001b[0m\u001b[0m\n",
      "\u001b[1;31mTypeError\u001b[0m: not all arguments converted during string formatting"
     ]
    }
   ],
   "source": [
    "coffee = 5\n",
    "money=30000\n",
    "while money:\n",
    "    coffee = coffee-1\n",
    "    money=money-3000\n",
    "    print('남은 커피: %d개, 잔액: %d원' % (coffee, money))\n",
    "    if not coffee:\n",
    "        print('품절')\n",
    "        break"
   ]
  },
  {
   "cell_type": "code",
   "execution_count": 41,
   "metadata": {},
   "outputs": [
    {
     "data": {
      "text/plain": [
       "[1,\n",
       " 2,\n",
       " 3,\n",
       " 4,\n",
       " 5,\n",
       " 6,\n",
       " 7,\n",
       " 8,\n",
       " 9,\n",
       " 10,\n",
       " 11,\n",
       " 12,\n",
       " 13,\n",
       " 14,\n",
       " 15,\n",
       " 16,\n",
       " 17,\n",
       " 18,\n",
       " 19,\n",
       " 20,\n",
       " 21,\n",
       " 22,\n",
       " 23,\n",
       " 24,\n",
       " 25,\n",
       " 26,\n",
       " 27,\n",
       " 28,\n",
       " 29,\n",
       " 30,\n",
       " 31,\n",
       " 32,\n",
       " 33,\n",
       " 34,\n",
       " 35,\n",
       " 36,\n",
       " 37,\n",
       " 38,\n",
       " 39,\n",
       " 40,\n",
       " 41,\n",
       " 42,\n",
       " 43,\n",
       " 44,\n",
       " 45,\n",
       " 46,\n",
       " 47,\n",
       " 48,\n",
       " 49,\n",
       " 50,\n",
       " 51,\n",
       " 52,\n",
       " 53,\n",
       " 54,\n",
       " 55,\n",
       " 56,\n",
       " 57,\n",
       " 58,\n",
       " 59,\n",
       " 60,\n",
       " 61,\n",
       " 62,\n",
       " 63,\n",
       " 64,\n",
       " 65,\n",
       " 66,\n",
       " 67,\n",
       " 68,\n",
       " 69,\n",
       " 70,\n",
       " 71,\n",
       " 72,\n",
       " 73,\n",
       " 74,\n",
       " 75,\n",
       " 76,\n",
       " 77,\n",
       " 78,\n",
       " 79,\n",
       " 80,\n",
       " 81,\n",
       " 82,\n",
       " 83,\n",
       " 84,\n",
       " 85,\n",
       " 86,\n",
       " 87,\n",
       " 88,\n",
       " 89,\n",
       " 90,\n",
       " 91,\n",
       " 92,\n",
       " 93,\n",
       " 94,\n",
       " 95,\n",
       " 96,\n",
       " 97,\n",
       " 98,\n",
       " 99,\n",
       " 100]"
      ]
     },
     "execution_count": 41,
     "metadata": {},
     "output_type": "execute_result"
    }
   ],
   "source": [
    "list(range(1,101))"
   ]
  },
  {
   "cell_type": "code",
   "execution_count": 42,
   "metadata": {},
   "outputs": [
    {
     "data": {
      "text/plain": [
       "5050"
      ]
     },
     "execution_count": 42,
     "metadata": {},
     "output_type": "execute_result"
    }
   ],
   "source": [
    "sum(range(1,101))"
   ]
  },
  {
   "cell_type": "code",
   "execution_count": 48,
   "metadata": {},
   "outputs": [
    {
     "name": "stdout",
     "output_type": "stream",
     "text": [
      "남은 커피: 4개, 잔액: 27000원\n",
      "남은 커피: 3개, 잔액: 24000원\n",
      "남은 커피: 2개, 잔액: 21000원\n",
      "남은 커피: 1개, 잔액: 18000원\n",
      "남은 커피: 0개, 잔액: 15000원\n",
      "품절\n"
     ]
    }
   ],
   "source": [
    "coffee = 5\n",
    "money=30000\n",
    "while money:\n",
    "    coffee = coffee-1\n",
    "    money=money-3000\n",
    "    print(f'남은 커피: {coffee}개, 잔액: {money}원')\n",
    "    if not coffee:\n",
    "        print('품절')\n",
    "        break"
   ]
  },
  {
   "cell_type": "code",
   "execution_count": 62,
   "metadata": {},
   "outputs": [
    {
     "name": "stdout",
     "output_type": "stream",
     "text": [
      "447\n",
      "100128\n"
     ]
    }
   ],
   "source": [
    "x=1\n",
    "total=0\n",
    "while 1: #0이 아니면 True\n",
    "    total=total+x\n",
    "    if total>100000:\n",
    "        print(x)\n",
    "        print(total)\n",
    "        break #while문 벗어남\n",
    "    x=x+1"
   ]
  },
  {
   "cell_type": "code",
   "execution_count": 69,
   "metadata": {},
   "outputs": [
    {
     "name": "stdout",
     "output_type": "stream",
     "text": [
      "0.7773566427005639\n",
      "0.6698255595592497\n",
      "0.09913960392481702\n",
      "0.35297051119014544\n",
      "0.4679077429008419\n"
     ]
    }
   ],
   "source": [
    "import random\n",
    "random.seed(1000) #랜덤시드를 고정하면 값이 변경되지 않음(재현성)\n",
    "for i in range(5):\n",
    "    print(random.random()) #0.0~1.0 실수 난수"
   ]
  },
  {
   "cell_type": "code",
   "execution_count": 66,
   "metadata": {},
   "outputs": [
    {
     "name": "stdout",
     "output_type": "stream",
     "text": [
      "7\n",
      "9\n",
      "2\n",
      "9\n",
      "2\n"
     ]
    }
   ],
   "source": [
    "for i in range(5):\n",
    "    print(random.randint(1,10)) #1~10 정수 난수"
   ]
  },
  {
   "cell_type": "code",
   "execution_count": 52,
   "metadata": {},
   "outputs": [
    {
     "name": "stdout",
     "output_type": "stream",
     "text": [
      "8\n",
      "10\n",
      "3\n",
      "2\n",
      "7\n"
     ]
    }
   ],
   "source": [
    "for i in range(5):\n",
    "    print(random.randint(1,10))"
   ]
  },
  {
   "cell_type": "code",
   "execution_count": 53,
   "metadata": {},
   "outputs": [
    {
     "name": "stdout",
     "output_type": "stream",
     "text": [
      "93.82421136182944\n",
      "23.92330165586947\n",
      "6.798296043851289\n",
      "55.7043730033587\n",
      "88.76807089521093\n"
     ]
    }
   ],
   "source": [
    "for i in range(5):\n",
    "    print(random.uniform(1,100)) #1~100 실수난수"
   ]
  },
  {
   "cell_type": "code",
   "execution_count": 70,
   "metadata": {},
   "outputs": [
    {
     "name": "stdout",
     "output_type": "stream",
     "text": [
      "군만두\n"
     ]
    }
   ],
   "source": [
    "food = ['짜장','짬뽕','탕수육','군만두']\n",
    "f=random.choice(food) #무작위 선택\n",
    "print(f)"
   ]
  },
  {
   "cell_type": "code",
   "execution_count": 71,
   "metadata": {},
   "outputs": [
    {
     "data": {
      "text/plain": [
       "['군만두', '탕수육', '짜장', '짬뽕']"
      ]
     },
     "execution_count": 71,
     "metadata": {},
     "output_type": "execute_result"
    }
   ],
   "source": [
    "random.shuffle(food) #무작위로 섞음\n",
    "food"
   ]
  },
  {
   "cell_type": "code",
   "execution_count": 72,
   "metadata": {},
   "outputs": [
    {
     "data": {
      "text/plain": [
       "['짜장', '짬뽕']"
      ]
     },
     "execution_count": 72,
     "metadata": {},
     "output_type": "execute_result"
    }
   ],
   "source": [
    "random.sample(food,2) #2개 무작위 선택"
   ]
  },
  {
   "cell_type": "code",
   "execution_count": null,
   "metadata": {},
   "outputs": [],
   "source": []
  }
 ],
 "metadata": {
  "interpreter": {
   "hash": "cef9e06bb236b2a8629b07e87a04b187b952a0f661eff5533360a155783f0c33"
  },
  "kernelspec": {
   "display_name": "Python 3.9.7 ('base')",
   "language": "python",
   "name": "python3"
  },
  "language_info": {
   "codemirror_mode": {
    "name": "ipython",
    "version": 3
   },
   "file_extension": ".py",
   "mimetype": "text/x-python",
   "name": "python",
   "nbconvert_exporter": "python",
   "pygments_lexer": "ipython3",
   "version": "3.9.7"
  },
  "orig_nbformat": 4
 },
 "nbformat": 4,
 "nbformat_minor": 2
}
