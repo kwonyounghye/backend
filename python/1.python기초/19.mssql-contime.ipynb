{
 "cells": [
  {
   "cell_type": "code",
   "execution_count": 1,
   "metadata": {},
   "outputs": [
    {
     "name": "stdout",
     "output_type": "stream",
     "text": [
      "B6\t12\n",
      "AA\t12\n",
      "UA\t13\n",
      "CO\t13\n",
      "HA\t0\n",
      "XE\t11\n",
      "YV\t11\n",
      "MQ\t10\n",
      "OH\t11\n",
      "9E\t6\n",
      "OO\t7\n",
      "DL\t7\n",
      "US\t5\n",
      "F9\t5\n",
      "AS\t6\n",
      "FL\t9\n",
      "NW\t6\n",
      "WN\t10\n",
      "EV\t11\n",
      "AQ\t-1\n"
     ]
    }
   ],
   "source": [
    "import pymssql\n",
    "#SQL Server에 접속(MSSQL 접속)\n",
    "conn=pymssql.connect(host=r'(local)', database='web', user='sa', password='1234', charset='utf8')\n",
    "#Connection으로부터 Cursor 생성\n",
    "cursor=conn.cursor() #sql 실행을 위한 커서 생성\n",
    "cursor.execute('''\n",
    "select uniquecarrier, avg(cast(depdelay as int)) from ontime group by uniquecarrier\n",
    "''') #sql 실행\n",
    "rows = cursor.fetchall()#전체 레코드셋을 리스트로 저장\n",
    "for row in rows:\n",
    "    print(f'{row[0]}\\t{row[1]}')\n",
    "#연결 끊기\n",
    "conn.close() #커넥션 닫기"
   ]
  },
  {
   "cell_type": "code",
   "execution_count": null,
   "metadata": {},
   "outputs": [],
   "source": []
  }
 ],
 "metadata": {
  "interpreter": {
   "hash": "ff4f85d6e04298634172ac5d8264e7e9b556b95639fe52ebb9425c4d4cba0c9c"
  },
  "kernelspec": {
   "display_name": "Python 3.9.7 ('base')",
   "language": "python",
   "name": "python3"
  },
  "language_info": {
   "codemirror_mode": {
    "name": "ipython",
    "version": 3
   },
   "file_extension": ".py",
   "mimetype": "text/x-python",
   "name": "python",
   "nbconvert_exporter": "python",
   "pygments_lexer": "ipython3",
   "version": "3.9.7"
  },
  "orig_nbformat": 4
 },
 "nbformat": 4,
 "nbformat_minor": 2
}
