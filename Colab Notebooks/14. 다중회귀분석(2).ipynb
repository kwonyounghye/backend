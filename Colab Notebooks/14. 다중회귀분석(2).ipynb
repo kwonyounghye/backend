{
 "cells": [
  {
   "cell_type": "code",
   "execution_count": 1,
   "metadata": {},
   "outputs": [
    {
     "data": {
      "text/html": [
       "<div>\n",
       "<style scoped>\n",
       "    .dataframe tbody tr th:only-of-type {\n",
       "        vertical-align: middle;\n",
       "    }\n",
       "\n",
       "    .dataframe tbody tr th {\n",
       "        vertical-align: top;\n",
       "    }\n",
       "\n",
       "    .dataframe thead th {\n",
       "        text-align: right;\n",
       "    }\n",
       "</style>\n",
       "<table border=\"1\" class=\"dataframe\">\n",
       "  <thead>\n",
       "    <tr style=\"text-align: right;\">\n",
       "      <th></th>\n",
       "      <th>name</th>\n",
       "      <th>rating</th>\n",
       "      <th>genre</th>\n",
       "      <th>year</th>\n",
       "      <th>released</th>\n",
       "      <th>score</th>\n",
       "      <th>votes</th>\n",
       "      <th>director</th>\n",
       "      <th>writer</th>\n",
       "      <th>star</th>\n",
       "      <th>country</th>\n",
       "      <th>company</th>\n",
       "      <th>runtime</th>\n",
       "      <th>gross</th>\n",
       "    </tr>\n",
       "  </thead>\n",
       "  <tbody>\n",
       "    <tr>\n",
       "      <th>0</th>\n",
       "      <td>Raise the Titanic</td>\n",
       "      <td>PG</td>\n",
       "      <td>Action</td>\n",
       "      <td>1980</td>\n",
       "      <td>August 1, 1980 (United States)</td>\n",
       "      <td>5.0</td>\n",
       "      <td>4100</td>\n",
       "      <td>Jerry Jameson</td>\n",
       "      <td>Adam Kennedy</td>\n",
       "      <td>Jason Robards</td>\n",
       "      <td>United Kingdom</td>\n",
       "      <td>ITC Films</td>\n",
       "      <td>115</td>\n",
       "      <td>7000000.0</td>\n",
       "    </tr>\n",
       "    <tr>\n",
       "      <th>1</th>\n",
       "      <td>Breaker Morant</td>\n",
       "      <td>PG</td>\n",
       "      <td>Drama</td>\n",
       "      <td>1980</td>\n",
       "      <td>July 3, 1980 (Australia)</td>\n",
       "      <td>7.9</td>\n",
       "      <td>13000</td>\n",
       "      <td>Bruce Beresford</td>\n",
       "      <td>Jonathan Hardy</td>\n",
       "      <td>Edward Woodward</td>\n",
       "      <td>Australia</td>\n",
       "      <td>The South Australian Film Corporation</td>\n",
       "      <td>107</td>\n",
       "      <td>47000000.0</td>\n",
       "    </tr>\n",
       "    <tr>\n",
       "      <th>2</th>\n",
       "      <td>The Boogey Man</td>\n",
       "      <td>R</td>\n",
       "      <td>Horror</td>\n",
       "      <td>1980</td>\n",
       "      <td>November 7, 1980 (United States)</td>\n",
       "      <td>4.6</td>\n",
       "      <td>3900</td>\n",
       "      <td>Ulli Lommel</td>\n",
       "      <td>Ulli Lommel</td>\n",
       "      <td>Suzanna Love</td>\n",
       "      <td>United States</td>\n",
       "      <td>The Jerry Gross Organization</td>\n",
       "      <td>82</td>\n",
       "      <td>35000000.0</td>\n",
       "    </tr>\n",
       "    <tr>\n",
       "      <th>3</th>\n",
       "      <td>Lion of the Desert</td>\n",
       "      <td>PG</td>\n",
       "      <td>Biography</td>\n",
       "      <td>1980</td>\n",
       "      <td>May 16, 1981 (Japan)</td>\n",
       "      <td>8.3</td>\n",
       "      <td>15000</td>\n",
       "      <td>Moustapha Akkad</td>\n",
       "      <td>David Butler</td>\n",
       "      <td>Anthony Quinn</td>\n",
       "      <td>Libya</td>\n",
       "      <td>Falcon International Productions</td>\n",
       "      <td>173</td>\n",
       "      <td>1000000.0</td>\n",
       "    </tr>\n",
       "    <tr>\n",
       "      <th>4</th>\n",
       "      <td>Can't Stop the Music</td>\n",
       "      <td>PG</td>\n",
       "      <td>Biography</td>\n",
       "      <td>1980</td>\n",
       "      <td>June 20, 1980 (United States)</td>\n",
       "      <td>4.2</td>\n",
       "      <td>3700</td>\n",
       "      <td>Nancy Walker</td>\n",
       "      <td>Bronte Woodard</td>\n",
       "      <td>Ray Simpson</td>\n",
       "      <td>United States</td>\n",
       "      <td>EMI Films</td>\n",
       "      <td>124</td>\n",
       "      <td>2000000.0</td>\n",
       "    </tr>\n",
       "  </tbody>\n",
       "</table>\n",
       "</div>"
      ],
      "text/plain": [
       "                   name rating      genre  year  \\\n",
       "0     Raise the Titanic     PG     Action  1980   \n",
       "1        Breaker Morant     PG      Drama  1980   \n",
       "2        The Boogey Man      R     Horror  1980   \n",
       "3    Lion of the Desert     PG  Biography  1980   \n",
       "4  Can't Stop the Music     PG  Biography  1980   \n",
       "\n",
       "                           released  score  votes         director  \\\n",
       "0    August 1, 1980 (United States)    5.0   4100    Jerry Jameson   \n",
       "1          July 3, 1980 (Australia)    7.9  13000  Bruce Beresford   \n",
       "2  November 7, 1980 (United States)    4.6   3900      Ulli Lommel   \n",
       "3              May 16, 1981 (Japan)    8.3  15000  Moustapha Akkad   \n",
       "4     June 20, 1980 (United States)    4.2   3700     Nancy Walker   \n",
       "\n",
       "           writer             star         country  \\\n",
       "0    Adam Kennedy    Jason Robards  United Kingdom   \n",
       "1  Jonathan Hardy  Edward Woodward       Australia   \n",
       "2     Ulli Lommel     Suzanna Love   United States   \n",
       "3    David Butler    Anthony Quinn           Libya   \n",
       "4  Bronte Woodard      Ray Simpson   United States   \n",
       "\n",
       "                                 company  runtime       gross  \n",
       "0                              ITC Films      115   7000000.0  \n",
       "1  The South Australian Film Corporation      107  47000000.0  \n",
       "2           The Jerry Gross Organization       82  35000000.0  \n",
       "3       Falcon International Productions      173   1000000.0  \n",
       "4                              EMI Films      124   2000000.0  "
      ]
     },
     "execution_count": 1,
     "metadata": {},
     "output_type": "execute_result"
    }
   ],
   "source": [
    "import pandas as pd\n",
    "df=pd.read_csv('c:/project/movie/movies.csv')\n",
    "df.head()"
   ]
  },
  {
   "cell_type": "code",
   "execution_count": 2,
   "metadata": {},
   "outputs": [],
   "source": [
    "# 점수별 총수입 / 투표수별 총수입 / 연도별 총 수입 / 상영시간별 총 수입\n",
    "# 독립변수: 점수\n",
    "# 종속변수: 총수입\n",
    "# 가설 설정 - 귀무가설: 투표수와 총수입은 상관관계가 없다.\n",
    "# - 대립가설: 투표수와 총수입은 상관관계가 있다.\n",
    "# p-value가 0.05보다 작으면 대립가설 채택, 결정계수(R2)가 0~1 사이의 값을 가지며 0.65~0.7 이상이어야 좋은 회귀모형이라고 할 수 있음\n",
    "# cols=df.columns[:-1]\n",
    "# X=df[cols]\n",
    "# y=df[\"gross\"]\n",
    "X=df[\"votes\"].values\n",
    "y=df[\"gross\"].values"
   ]
  },
  {
   "cell_type": "code",
   "execution_count": 3,
   "metadata": {},
   "outputs": [
    {
     "data": {
      "text/plain": [
       "array([ 4100, 13000,  3900, ...,    14,    36,     7], dtype=int64)"
      ]
     },
     "execution_count": 3,
     "metadata": {},
     "output_type": "execute_result"
    }
   ],
   "source": [
    "X"
   ]
  },
  {
   "cell_type": "code",
   "execution_count": 4,
   "metadata": {},
   "outputs": [],
   "source": [
    "# from sqlalchemy import column\n",
    "# import pandas as pd\n",
    "\n",
    "# X1=pd.DataFrame(df['genre_Action', 'genre_Animation', 'genre_Biography', 'genre_Comedy', 'genre_Drama', 'genre_Fantasy', 'genre_Horror'], columns=1)"
   ]
  },
  {
   "cell_type": "code",
   "execution_count": 5,
   "metadata": {},
   "outputs": [
    {
     "data": {
      "text/plain": [
       "array([7.0000e+06, 4.7000e+07, 3.5000e+07, ..., 3.3562e+04, 2.0000e+04,\n",
       "       2.0000e+01])"
      ]
     },
     "execution_count": 5,
     "metadata": {},
     "output_type": "execute_result"
    }
   ],
   "source": [
    "y"
   ]
  },
  {
   "cell_type": "code",
   "execution_count": 6,
   "metadata": {},
   "outputs": [
    {
     "data": {
      "text/plain": [
       "LinregressResult(slope=635.7179248705479, intercept=20722621.796430245, rvalue=0.6326185038794695, pvalue=0.0, stderr=8.898590718910269, intercept_stderr=1652746.9848761435)"
      ]
     },
     "execution_count": 6,
     "metadata": {},
     "output_type": "execute_result"
    }
   ],
   "source": [
    "import matplotlib.pyplot as plt\n",
    "from scipy import stats\n",
    "result = stats.linregress(X,y)\n",
    "result\n",
    "# 모형 적합도: R2값이 0.63 - 63%의 설명력이 있음 \n",
    "# 사회과학에서는 어떤 현상을 100% 설명하는 것은 현실적으로 불가능하고 절대 가능할 수도 없는 것임을 감안해서 결정계수가 0.3이상이면 의미가 있다고 본다.\n",
    "# p-value: 0.05보다 작으므로 통계적으로 유의함\n",
    "# 따라서 귀무가설을 기각하고 대립가설을 채택함\n",
    "# 결론: 투표수와 총수입은 상관관계가 있다."
   ]
  },
  {
   "cell_type": "code",
   "execution_count": 7,
   "metadata": {},
   "outputs": [
    {
     "data": {
      "text/plain": [
       "Text(0, 0.5, 'gross')"
      ]
     },
     "execution_count": 7,
     "metadata": {},
     "output_type": "execute_result"
    },
    {
     "data": {
      "image/png": "[encoded data removed]",
      "text/plain": [
       "<Figure size 432x288 with 1 Axes>"
      ]
     },
     "metadata": {
      "needs_background": "light"
     },
     "output_type": "display_data"
    }
   ],
   "source": [
    "slope, intercept, r_value, p_value, stderr = stats.linregress(X, y)\n",
    "# 산점도 그리기\n",
    "plt.scatter(X,y)\n",
    "# 회귀선 그리기\n",
    "plt.plot(X, slope*X +intercept, c=\"red\")\n",
    "plt.xlabel(\"votes\")\n",
    "plt.ylabel(\"gross\")"
   ]
  },
  {
   "cell_type": "code",
   "execution_count": 8,
   "metadata": {},
   "outputs": [],
   "source": [
    "# 기울기(slope), 절편(intercept), 상관계수(rvalue), p-value(예측 불확실성의 정도를 나타내는 값), 에러의 표준편차(stderr)\n"
   ]
  },
  {
   "cell_type": "code",
   "execution_count": 9,
   "metadata": {},
   "outputs": [],
   "source": [
    "X1=df[\"score\"].values\n",
    "y=df[\"gross\"].values"
   ]
  },
  {
   "cell_type": "code",
   "execution_count": 10,
   "metadata": {},
   "outputs": [
    {
     "data": {
      "text/plain": [
       "LinregressResult(slope=31584251.257231742, intercept=-125038844.75610624, rvalue=0.18614743301551967, pvalue=1.3008551164126095e-60, stderr=1906133.9176835818, intercept_stderr=12321643.38819433)"
      ]
     },
     "execution_count": 10,
     "metadata": {},
     "output_type": "execute_result"
    }
   ],
   "source": [
    "import matplotlib.pyplot as plt\n",
    "from scipy import stats\n",
    "result = stats.linregress(X1,y)\n",
    "result"
   ]
  },
  {
   "cell_type": "code",
   "execution_count": 11,
   "metadata": {},
   "outputs": [],
   "source": [
    "X2=df[\"year\"].values\n",
    "y=df[\"gross\"].values"
   ]
  },
  {
   "cell_type": "code",
   "execution_count": 12,
   "metadata": {},
   "outputs": [
    {
     "data": {
      "text/plain": [
       "LinregressResult(slope=3868638.666609235, intercept=-7661987804.774045, rvalue=0.26252072146935984, pvalue=8.631597483203759e-121, stderr=162587.2244133806, intercept_stderr=325244097.12637514)"
      ]
     },
     "execution_count": 12,
     "metadata": {},
     "output_type": "execute_result"
    }
   ],
   "source": [
    "import matplotlib.pyplot as plt\n",
    "from scipy import stats\n",
    "result = stats.linregress(X2,y)\n",
    "result"
   ]
  },
  {
   "cell_type": "code",
   "execution_count": 13,
   "metadata": {},
   "outputs": [],
   "source": [
    "X3=df[\"runtime\"].values\n",
    "y=df[\"gross\"].values"
   ]
  },
  {
   "cell_type": "code",
   "execution_count": 14,
   "metadata": {},
   "outputs": [
    {
     "data": {
      "text/plain": [
       "LinregressResult(slope=2165920.661554119, intercept=-155508591.59725726, rvalue=0.24504664494917922, pvalue=5.16297823583198e-105, stderr=97981.55417287267, intercept_stderr=10666842.386156298)"
      ]
     },
     "execution_count": 14,
     "metadata": {},
     "output_type": "execute_result"
    }
   ],
   "source": [
    "import matplotlib.pyplot as plt\n",
    "from scipy import stats\n",
    "result = stats.linregress(X3,y)\n",
    "result"
   ]
  },
  {
   "cell_type": "code",
   "execution_count": null,
   "metadata": {},
   "outputs": [],
   "source": []
  }
 ],
 "metadata": {
  "kernelspec": {
   "display_name": "Python 3.9.7 ('base')",
   "language": "python",
   "name": "python3"
  },
  "language_info": {
   "codemirror_mode": {
    "name": "ipython",
    "version": 3
   },
   "file_extension": ".py",
   "mimetype": "text/x-python",
   "name": "python",
   "nbconvert_exporter": "python",
   "pygments_lexer": "ipython3",
   "version": "3.9.7"
  },
  "orig_nbformat": 4,
  "vscode": {
   "interpreter": {
    "hash": "ff4f85d6e04298634172ac5d8264e7e9b556b95639fe52ebb9425c4d4cba0c9c"
   }
  }
 },
 "nbformat": 4,
 "nbformat_minor": 2
}
