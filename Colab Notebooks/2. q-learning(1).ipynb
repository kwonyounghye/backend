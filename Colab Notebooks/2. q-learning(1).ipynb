{
 "cells": [
  {
   "cell_type": "code",
   "execution_count": 8,
   "metadata": {},
   "outputs": [],
   "source": [
    "# Q러닝 방법\n",
    "import gym\n",
    "import numpy as np\n",
    "# 환경 생성\n",
    "env = gym.make('FrozenLake-v1')"
   ]
  },
  {
   "cell_type": "code",
   "execution_count": 9,
   "metadata": {},
   "outputs": [
    {
     "data": {
      "text/plain": [
       "array([[0., 0., 0., 0.],\n",
       "       [0., 0., 0., 0.],\n",
       "       [0., 0., 0., 0.],\n",
       "       [0., 0., 0., 0.],\n",
       "       [0., 0., 0., 0.],\n",
       "       [0., 0., 0., 0.],\n",
       "       [0., 0., 0., 0.],\n",
       "       [0., 0., 0., 0.],\n",
       "       [0., 0., 0., 0.],\n",
       "       [0., 0., 0., 0.],\n",
       "       [0., 0., 0., 0.],\n",
       "       [0., 0., 0., 0.],\n",
       "       [0., 0., 0., 0.],\n",
       "       [0., 0., 0., 0.],\n",
       "       [0., 0., 0., 0.],\n",
       "       [0., 0., 0., 0.]])"
      ]
     },
     "execution_count": 9,
     "metadata": {},
     "output_type": "execute_result"
    }
   ],
   "source": [
    "# Q값을 저장할 테이블을 초기화\n",
    "# rows: cell의 수\n",
    "# cols: 이동할 수 있는 방향의 수\n",
    "q_func = np.zeros((16, 4))\n",
    "q_func"
   ]
  },
  {
   "cell_type": "code",
   "execution_count": 10,
   "metadata": {},
   "outputs": [],
   "source": [
    "# 총 보상\n",
    "total_reward = 0.0\n",
    "# 게임 시작\n",
    "for i_episode in range(10000):\n",
    "    # 초기화\n",
    "    observation = env.reset()\n",
    "    # 현재 게임의 보상\n",
    "    episode_reward = 0.0\n",
    "    for t in range(100):\n",
    "        # 1턴 실행 후의 위치를 현재 위치로 설정\n",
    "        current_state = observation\n",
    "        # 랜덤값이 0.1미만이면\n",
    "        if np.random.rand() < 0.1:\n",
    "            # 무작위로 행동을 선택함\n",
    "            action = env.action_space.sample()\n",
    "        else:\n",
    "            # Q값이 최대가 되는 행동을 선택함\n",
    "            action = np.argmax(q_func[current_state])\n",
    "        # 1턴 실행\n",
    "        # observatoin: , reward : 에어전트의 위치 행동의 결과로 받은 보상 게임 종료 여부 , done: ,\n",
    "        # info: 행동을 취할 확률\n",
    "        observation, reward, done, info = env.step(action)\n",
    "        # Q ( 0.3, 0.99) 값 업데이트 학습률 할인율\n",
    "        # Q 할인율을 곱하고 보상을 더한 값으로 를 업데이트\n",
    "        q_func[current_state,action] += 0.3 * (reward + 0.99 * np.max(q_func[observation,:]) - q_func[current_state,action])\n",
    "        # 종료\n",
    "        if done:\n",
    "            # 현재 게임 보상 누적 계산\n",
    "            episode_reward += reward\n",
    "    # 총 보상 누적 계산\n",
    "    total_reward += episode_reward"
   ]
  },
  {
   "cell_type": "code",
   "execution_count": 4,
   "metadata": {},
   "outputs": [
    {
     "name": "stdout",
     "output_type": "stream",
     "text": [
      "968.0\n",
      "0.0968\n"
     ]
    }
   ],
   "source": [
    "# 총 보상 출력\n",
    "print(total_reward)\n",
    "# 게임당 평균 보상 출력\n",
    "print(total_reward/10000)\n"
   ]
  },
  {
   "cell_type": "code",
   "execution_count": 5,
   "metadata": {},
   "outputs": [
    {
     "data": {
      "text/plain": [
       "array([[0.53687312, 0.4890148 , 0.4872166 , 0.48361278],\n",
       "       [0.39252569, 0.22260873, 0.24037382, 0.51040718],\n",
       "       [0.30824966, 0.3400532 , 0.33739418, 0.40451411],\n",
       "       [0.20190506, 0.18581204, 0.20854168, 0.3857852 ],\n",
       "       [0.55033609, 0.11302538, 0.42437856, 0.20598142],\n",
       "       [0.        , 0.        , 0.        , 0.        ],\n",
       "       [0.09875416, 0.08029963, 0.21454134, 0.0672383 ],\n",
       "       [0.        , 0.        , 0.        , 0.        ],\n",
       "       [0.55472922, 0.23810214, 0.46339872, 0.59804893],\n",
       "       [0.47519019, 0.58143048, 0.23951782, 0.34798809],\n",
       "       [0.51570156, 0.38469489, 0.20301165, 0.21821902],\n",
       "       [0.        , 0.        , 0.        , 0.        ],\n",
       "       [0.        , 0.        , 0.        , 0.        ],\n",
       "       [0.35114907, 0.23629807, 0.86966949, 0.44538531],\n",
       "       [0.64391007, 0.93797992, 0.70626254, 0.69355819],\n",
       "       [0.        , 0.        , 0.        , 0.        ]])"
      ]
     },
     "execution_count": 5,
     "metadata": {},
     "output_type": "execute_result"
    }
   ],
   "source": [
    "# 학습된 Q값을 출력\n",
    "q_func\n"
   ]
  },
  {
   "cell_type": "code",
   "execution_count": 6,
   "metadata": {},
   "outputs": [],
   "source": [
    "# 학습된 Q값을 사용하여 게임 진행\n",
    "# 총 보상\n",
    "total_reward = 0.0\n",
    "# 게임 시작\n",
    "for i_episode in range(1000):\n",
    "    # 초기화\n",
    "    observation = env.reset()\n",
    "    # 현재 게임의 보상\n",
    "    episode_reward = 0.0\n",
    "    for t in range(100):\n",
    "        # 1턴 실행 후의 위치를 현재 위치로 삼음\n",
    "        current_state = observation\n",
    "        # Q값이 최대가 되는 행동을 선택함\n",
    "        action = np.argmax(q_func[current_state])\n",
    "        # 1턴 실행\n",
    "        observation, reward, done, info = env.step(action)\n",
    "        # 종료\n",
    "        if done:\n",
    "            # 현재 게임 보상 누적 계산\n",
    "            episode_reward += reward\n",
    "        # 총 보상 누적 계산\n",
    "        total_reward += episode_reward"
   ]
  },
  {
   "cell_type": "code",
   "execution_count": 7,
   "metadata": {},
   "outputs": [
    {
     "name": "stdout",
     "output_type": "stream",
     "text": [
      "46569.0\n",
      "46.569\n"
     ]
    }
   ],
   "source": [
    "# 총 보상 출력\n",
    "print(total_reward)\n",
    "# 게임당 평균 보상 출력\n",
    "print(total_reward/1000)"
   ]
  },
  {
   "cell_type": "code",
   "execution_count": null,
   "metadata": {},
   "outputs": [],
   "source": []
  }
 ],
 "metadata": {
  "kernelspec": {
   "display_name": "Python 3.9.7 ('base')",
   "language": "python",
   "name": "python3"
  },
  "language_info": {
   "codemirror_mode": {
    "name": "ipython",
    "version": 3
   },
   "file_extension": ".py",
   "mimetype": "text/x-python",
   "name": "python",
   "nbconvert_exporter": "python",
   "pygments_lexer": "ipython3",
   "version": "3.9.7"
  },
  "orig_nbformat": 4,
  "vscode": {
   "interpreter": {
    "hash": "ff4f85d6e04298634172ac5d8264e7e9b556b95639fe52ebb9425c4d4cba0c9c"
   }
  }
 },
 "nbformat": 4,
 "nbformat_minor": 2
}
